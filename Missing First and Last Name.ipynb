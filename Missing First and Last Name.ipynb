{
 "metadata": {
  "name": "",
  "signature": "sha256:805e147c9d3ee4617cb49465ad4d33a410d69f7a7a8847bcc36e1cace8e5d77d"
 },
 "nbformat": 3,
 "nbformat_minor": 0,
 "worksheets": [
  {
   "cells": [
    {
     "cell_type": "code",
     "collapsed": false,
     "input": [
      "from django.contrib.auth.models import User\n",
      "from users.models import UserProfile\n",
      "\n",
      "u = User.objects.get(username='Aaron Burles')\n",
      "print u\"User.first: {}\".format(u.first_name)\n",
      "print u\"User.last: {}\".format(u.last_name)\n",
      "\n",
      "print u\"UserProfile.first: {}\".format(u.profile.first)\n",
      "print u\"UserProfile.last: {}\".format(u.profile.last)\n",
      "print u.profile.created_with\n",
      "\n"
     ],
     "language": "python",
     "metadata": {},
     "outputs": [
      {
       "output_type": "stream",
       "stream": "stdout",
       "text": [
        "User.first: \n",
        "User.last: \n",
        "UserProfile.first: Aaron "
       ]
      },
      {
       "output_type": "stream",
       "stream": "stdout",
       "text": [
        "\n",
        "UserProfile.last: Burles\n"
       ]
      }
     ],
     "prompt_number": 15
    },
    {
     "cell_type": "code",
     "collapsed": false,
     "input": [
      "u = User.objects.get(username='Aaron Bouplon')\n",
      "print u\"User.first: {}\".format(u.first_name)\n",
      "print u\"User.last: {}\".format(u.last_name)\n",
      "\n",
      "print u\"UserProfile.first: {}\".format(u.profile.first)\n",
      "print u\"UserProfile.last: {}\".format(u.profile.last)\n",
      "print u.profile.created_with\n",
      "\n"
     ],
     "language": "python",
     "metadata": {},
     "outputs": [
      {
       "output_type": "stream",
       "stream": "stdout",
       "text": [
        "User.first: Aaron\n",
        "User.last: Bouplon\n",
        "UserProfile.first: Aaron"
       ]
      },
      {
       "output_type": "stream",
       "stream": "stdout",
       "text": [
        "\n",
        "UserProfile.last: Bouplon\n",
        "Strava=79592\n"
       ]
      }
     ],
     "prompt_number": 17
    },
    {
     "cell_type": "code",
     "collapsed": false,
     "input": [
      "def CheckForMissingNames():\n",
      "    uu = User.objects.filter(first_name__exact='',last_name__exact='')\n",
      "    print uu.count()\n",
      "#     print uu\n",
      "    i = 0\n",
      "    for u in uu:\n",
      "        i += 1\n",
      "#         print u.username\n",
      "#         up = UserProfile.objects.get(u.username)\n",
      "        print u.username, u.profile.first, i, u.first_name\n",
      "        if i >= 15:\n",
      "            break\n",
      "        \n",
      "        \n",
      "    \n",
      "    print uu.count\n",
      "#     print u\"User.first: {}\".format(u.first_name)\n",
      "#     print u\"User.last: {}\".format(u.last_name)\n",
      "\n",
      "#     print u\"UserProfile.first: {}\".format(u.profile.first)\n",
      "#     print u\"UserProfile.last: {}\".format(u.profile.last)\n",
      "    \n",
      "CheckForMissingNames()    "
     ],
     "language": "python",
     "metadata": {},
     "outputs": [
      {
       "output_type": "stream",
       "stream": "stdout",
       "text": [
        "1260\n",
        "J-Cycle"
       ]
      },
      {
       "output_type": "stream",
       "stream": "stdout",
       "text": [
        " Jamison 1 \n",
        "ccase "
       ]
      },
      {
       "output_type": "stream",
       "stream": "stdout",
       "text": [
        "Chris 2 \n",
        "davefitz4 "
       ]
      },
      {
       "output_type": "stream",
       "stream": "stdout",
       "text": [
        "david 3 \n",
        "steve.gibson  "
       ]
      },
      {
       "output_type": "stream",
       "stream": "stdout",
       "text": [
        "steve 4 \n",
        "daletriley "
       ]
      },
      {
       "output_type": "stream",
       "stream": "stdout",
       "text": [
        "Dale 5 \n",
        "ERay "
       ]
      },
      {
       "output_type": "stream",
       "stream": "stdout",
       "text": [
        "Eric 6 \n",
        "kellawj "
       ]
      },
      {
       "output_type": "stream",
       "stream": "stdout",
       "text": [
        "Bill 7 \n",
        "ericmbudd "
       ]
      },
      {
       "output_type": "stream",
       "stream": "stdout",
       "text": [
        "Eric 8 \n",
        "cmuth "
       ]
      },
      {
       "output_type": "stream",
       "stream": "stdout",
       "text": [
        "Chris 9 \n",
        "eae "
       ]
      },
      {
       "output_type": "stream",
       "stream": "stdout",
       "text": [
        "eae-dev 10 \n",
        "Ejbrand "
       ]
      },
      {
       "output_type": "stream",
       "stream": "stdout",
       "text": [
        "Erika 11 \n",
        "bikerider "
       ]
      },
      {
       "output_type": "stream",
       "stream": "stdout",
       "text": [
        "johanne 12 \n",
        "dmastroi "
       ]
      },
      {
       "output_type": "stream",
       "stream": "stdout",
       "text": [
        "David 13 \n",
        "Brian Hannon "
       ]
      },
      {
       "output_type": "stream",
       "stream": "stdout",
       "text": [
        "Brian 14 \n",
        "Greg A "
       ]
      },
      {
       "output_type": "stream",
       "stream": "stdout",
       "text": [
        "Greg 15 \n",
        "<bound method QuerySet.count of [<User: J-Cycle>, <User: ccase>, <User: davefitz4>, <User: steve.gibson >, <User: daletriley>, <User: ERay>, <User: kellawj>, <User: ericmbudd>, <User: cmuth>, <User: eae>, <User: Ejbrand>, <User: bikerider>, <User: dmastroi>, <User: Brian Hannon>, <User: Greg A>, <User: kris303>, <User: mikhaine>, <User: bob bannon>, <User: patf1engineer>, <User: sqwk77>, '...(remaining elements truncated)...']>\n"
       ]
      }
     ],
     "prompt_number": 56
    },
    {
     "cell_type": "code",
     "collapsed": false,
     "input": [
      "u = User.objects.filter(first_name='')\n",
      "print u.count"
     ],
     "language": "python",
     "metadata": {},
     "outputs": [
      {
       "output_type": "stream",
       "stream": "stdout",
       "text": [
        "<bound method QuerySet.count of [<User: J-Cycle>, <User: ccase>, <User: davefitz4>, <User: steve.gibson >, <User: daletriley>, <User: ERay>, <User: kellawj>, <User: ericmbudd>, <User: cmuth>, <User: eae>, <User: Ejbrand>, <User: bikerider>, <User: dmastroi>, <User: Brian Hannon>, <User: Greg A>, <User: kris303>, <User: mikhaine>, <User: bob bannon>, <User: patf1engineer>, <User: sqwk77>, '...(remaining elements truncated)...']>\n"
       ]
      }
     ],
     "prompt_number": 39
    },
    {
     "cell_type": "code",
     "collapsed": false,
     "input": [],
     "language": "python",
     "metadata": {},
     "outputs": []
    }
   ],
   "metadata": {}
  }
 ]
}