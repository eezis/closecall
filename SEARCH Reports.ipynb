{
 "metadata": {
  "name": "",
  "signature": "sha256:0f34efd1eac0dddaeb70d4f1f5d60988b84e73ebdd025453d4c10df3604b498f"
 },
 "nbformat": 3,
 "nbformat_minor": 0,
 "worksheets": [
  {
   "cells": [
    {
     "cell_type": "code",
     "collapsed": false,
     "input": [
      "Incidents = Incident.objects.filter(what__contains='coal')\n",
      "\n",
      "for i in Incidents:\n",
      "    print \"\\n\\n{}\\t{}\\n{}\\n\".format(i.id, i.address, i.what,)"
     ],
     "language": "python",
     "metadata": {},
     "outputs": [
      {
       "output_type": "stream",
       "stream": "stdout",
       "text": [
        "\n",
        "\n",
        "300\t2393-2429 Flag Marsh Road, Mount Airy, MD 21771, USA\n",
        "<p>I was riding west bound on Flag Marsh Rd, when the driver of a red ford F350 4x4 pickup truck, Maryland plate 360 38FT rolled coal on me and my riding partner. &nbsp;We were part of a larger group of riders that were strung out on the route, and riders in the other groups reported that this pickup truck also \"rolled coal\" on them as well.</p><p>This occurred at 6:46 PM on 7/30/2015. &nbsp; The vehicle is registered to an address in Mt. Airy, MD and was driven by a young white woman.</p><p>Carroll County police were contacted and did talk with the young woman driving the truck at the time, but no other action was taken.</p>\r\n",
        "\r\n",
        "    <p>The incident was captured on a <a href=\"https://cycliq.com/product/fly6\" target=\"_blank\">Fly6 video camera</a>. Watch it below or on <a href=\"https://youtu.be/h8k8bhGrXIo\" target=\"_blank\">You Tube</a>.</p>\r\n",
        "    <p>\r\n",
        "    \r\n",
        "      <div class=\"responsive-embed-16by9-iframe-youtube\">\r\n",
        "        <div class=\"embed-responsive embed-responsive-16by9\">\r\n",
        "          <iframe class=\"embed-responsive-item\" src=\"//www.youtube.com/embed/h8k8bhGrXIo?rel=0\" allowfullscreen></iframe>\r\n",
        "        </div>\r\n",
        "      </div>\r\n",
        "    </p>\r\n",
        "    \n",
        "\n",
        "\n",
        "\n",
        "32\t870-898 South Stage Coach Lane, Fallbrook, CA 92028, USA\n",
        "<p>Charcoal Gray pickup (Ford?) CA license plate 6RPF679, mid December.</p><p>Driver passed too closely upon leaving traffic light at Reche Rd. &nbsp;I tapped on the side of truck with my left hand to indicate to him that I was there and he was too close. &nbsp;He quickly came to a stop, blocking my path and began yelling and screaming about me touching his truck and what was going to happen to me if I ever did that again. &nbsp;If he would have given me the 3 foot spacing, I would not have been able to touch his truck. &nbsp;After his tirade, he jumped back in his truck and drove off.</p><p>I reported the incident to the County Sheriff who referred me to the Highway Patrol. &nbsp;They took the information but stated there was nothing they could do without witnesses, vehicle damage, or physical assault.</p>\n",
        "\n"
       ]
      }
     ],
     "prompt_number": 1
    },
    {
     "cell_type": "code",
     "collapsed": false,
     "input": [],
     "language": "python",
     "metadata": {},
     "outputs": []
    }
   ],
   "metadata": {}
  }
 ]
}