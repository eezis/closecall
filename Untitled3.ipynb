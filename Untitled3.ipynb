{
 "metadata": {
  "name": "",
  "signature": "sha256:7e0817c9caf6f7c39d5ef63e02adb9c0be6c4bf491d8364669652a63fe06e91b"
 },
 "nbformat": 3,
 "nbformat_minor": 0,
 "worksheets": [
  {
   "cells": [
    {
     "cell_type": "code",
     "collapsed": false,
     "input": [],
     "language": "python",
     "metadata": {},
     "outputs": []
    }
   ],
   "metadata": {}
  }
 ]
}