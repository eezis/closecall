{
 "metadata": {
  "name": "",
  "signature": "sha256:d2fa67132c75df7b4426e025a6bb4b26c022f7b901f33d69089a2becfe962ba8"
 },
 "nbformat": 3,
 "nbformat_minor": 0,
 "worksheets": [
  {
   "cells": [
    {
     "cell_type": "code",
     "collapsed": false,
     "input": [
      "I = Incident.objects.get(id=351)\n",
      "\n",
      "print I\n",
      "print I.user\n",
      "print I.user.last_name\n",
      "print I.user.email\n"
     ],
     "language": "python",
     "metadata": {},
     "outputs": [
      {
       "output_type": "stream",
       "stream": "stdout",
       "text": [
        "Philip McGraw <p>Motorist issued loud profanity and threats as he passed us, then stopped to block our way. &nbsp;\n",
        "Philip McGraw\n",
        "McGraw pmcgraw@pobox.com\n"
       ]
      }
     ],
     "prompt_number": 34
    },
    {
     "cell_type": "code",
     "collapsed": false,
     "input": [
      "I = Incident.objects.filter(user__last_name='Lawless')\n",
      "\n",
      "for i in I:\n",
      "    print i.id, i.user"
     ],
     "language": "python",
     "metadata": {},
     "outputs": [
      {
       "output_type": "stream",
       "stream": "stdout",
       "text": [
        "375 "
       ]
      },
      {
       "output_type": "stream",
       "stream": "stdout",
       "text": [
        "Michael Lawless\n"
       ]
      }
     ],
     "prompt_number": 27
    },
    {
     "cell_type": "code",
     "collapsed": false,
     "input": [
      "I = Incident.objects.filter(user__last_name='Lawless')\n",
      "\n",
      "for i in I:\n",
      "    print i.id, i.user.profile.first"
     ],
     "language": "python",
     "metadata": {},
     "outputs": [
      {
       "output_type": "stream",
       "stream": "stdout",
       "text": [
        " 375 "
       ]
      },
      {
       "output_type": "stream",
       "stream": "stdout",
       "text": [
        "Michael\n"
       ]
      }
     ],
     "prompt_number": 29
    },
    {
     "cell_type": "code",
     "collapsed": false,
     "input": [
      "I = Incident.objects.all().order_by('user')\n",
      "\n",
      "for i in I:\n",
      "    print i.id, i.user.profile.last"
     ],
     "language": "python",
     "metadata": {},
     "outputs": [
      {
       "output_type": "stream",
       "stream": "stdout",
       "text": [
        "7 "
       ]
      },
      {
       "output_type": "stream",
       "stream": "stdout",
       "text": [
        "Ezis\n",
        "8 "
       ]
      },
      {
       "output_type": "stream",
       "stream": "stdout",
       "text": [
        "Ezis\n",
        "5 "
       ]
      },
      {
       "output_type": "stream",
       "stream": "stdout",
       "text": [
        "Ezis\n",
        "263 "
       ]
      },
      {
       "output_type": "stream",
       "stream": "stdout",
       "text": [
        "ezis\n",
        "360 "
       ]
      },
      {
       "output_type": "stream",
       "stream": "stdout",
       "text": [
        "ezis\n",
        "309 "
       ]
      },
      {
       "output_type": "stream",
       "stream": "stdout",
       "text": [
        "ezis\n",
        "328 "
       ]
      },
      {
       "output_type": "stream",
       "stream": "stdout",
       "text": [
        "ezis\n",
        "271 "
       ]
      },
      {
       "output_type": "stream",
       "stream": "stdout",
       "text": [
        "ezis\n",
        "226 "
       ]
      },
      {
       "output_type": "stream",
       "stream": "stdout",
       "text": [
        "ezis\n",
        "219 "
       ]
      },
      {
       "output_type": "stream",
       "stream": "stdout",
       "text": [
        "brooks\n",
        "68 "
       ]
      },
      {
       "output_type": "stream",
       "stream": "stdout",
       "text": [
        "Ezis\n",
        "321 "
       ]
      },
      {
       "output_type": "stream",
       "stream": "stdout",
       "text": [
        "Trencheny\n",
        "98 "
       ]
      },
      {
       "output_type": "stream",
       "stream": "stdout",
       "text": [
        "Bobbish\n",
        "144 "
       ]
      },
      {
       "output_type": "stream",
       "stream": "stdout",
       "text": [
        "Bobbish\n",
        "11 "
       ]
      },
      {
       "output_type": "stream",
       "stream": "stdout",
       "text": [
        "B\n",
        "115 "
       ]
      },
      {
       "output_type": "stream",
       "stream": "stdout",
       "text": [
        "Scott\n",
        "306 "
       ]
      },
      {
       "output_type": "stream",
       "stream": "stdout",
       "text": [
        "Scott\n",
        "27 "
       ]
      },
      {
       "output_type": "stream",
       "stream": "stdout",
       "text": [
        "Johns\n",
        "70 "
       ]
      },
      {
       "output_type": "stream",
       "stream": "stdout",
       "text": [
        "Peterson\n",
        "73 "
       ]
      },
      {
       "output_type": "stream",
       "stream": "stdout",
       "text": [
        "Hammond\n",
        "125 "
       ]
      },
      {
       "output_type": "stream",
       "stream": "stdout",
       "text": [
        "Cortez\n",
        "13 "
       ]
      },
      {
       "output_type": "stream",
       "stream": "stdout",
       "text": [
        "Strauss\n",
        "12 "
       ]
      },
      {
       "output_type": "stream",
       "stream": "stdout",
       "text": [
        "Cote-Nolin\n",
        "14 "
       ]
      },
      {
       "output_type": "stream",
       "stream": "stdout",
       "text": [
        "Solot\n",
        "15 "
       ]
      },
      {
       "output_type": "stream",
       "stream": "stdout",
       "text": [
        "McIntyre\n",
        "16 "
       ]
      },
      {
       "output_type": "stream",
       "stream": "stdout",
       "text": [
        "Jones\n",
        "92 "
       ]
      },
      {
       "output_type": "stream",
       "stream": "stdout",
       "text": [
        "Smith\n",
        "72 "
       ]
      },
      {
       "output_type": "stream",
       "stream": "stdout",
       "text": [
        "Gutgesell\n",
        "26 "
       ]
      },
      {
       "output_type": "stream",
       "stream": "stdout",
       "text": [
        "Wilson\n",
        "162 "
       ]
      },
      {
       "output_type": "stream",
       "stream": "stdout",
       "text": [
        "Ofsevit\n",
        "243 "
       ]
      },
      {
       "output_type": "stream",
       "stream": "stdout",
       "text": [
        "Salit\n",
        "19 "
       ]
      },
      {
       "output_type": "stream",
       "stream": "stdout",
       "text": [
        "Adair\n",
        "17 "
       ]
      },
      {
       "output_type": "stream",
       "stream": "stdout",
       "text": [
        "Werner\n",
        "24 "
       ]
      },
      {
       "output_type": "stream",
       "stream": "stdout",
       "text": [
        "Torgersen Peterson\n",
        "18 "
       ]
      },
      {
       "output_type": "stream",
       "stream": "stdout",
       "text": [
        "Phetiam\n",
        "329 "
       ]
      },
      {
       "output_type": "stream",
       "stream": "stdout",
       "text": [
        "F\n",
        "56 "
       ]
      },
      {
       "output_type": "stream",
       "stream": "stdout",
       "text": [
        "Crandall\n",
        "289 "
       ]
      },
      {
       "output_type": "stream",
       "stream": "stdout",
       "text": [
        "Leonard\n",
        "285 "
       ]
      },
      {
       "output_type": "stream",
       "stream": "stdout",
       "text": [
        "Nelson\n",
        "20 "
       ]
      },
      {
       "output_type": "stream",
       "stream": "stdout",
       "text": [
        "Podolski\n",
        "217 "
       ]
      },
      {
       "output_type": "stream",
       "stream": "stdout",
       "text": [
        "Timothee\n",
        "105 "
       ]
      },
      {
       "output_type": "stream",
       "stream": "stdout",
       "text": [
        "c\n",
        "196 "
       ]
      },
      {
       "output_type": "stream",
       "stream": "stdout",
       "text": [
        "c\n",
        "21 "
       ]
      },
      {
       "output_type": "stream",
       "stream": "stdout",
       "text": [
        "Boxx\n",
        "22 "
       ]
      },
      {
       "output_type": "stream",
       "stream": "stdout",
       "text": [
        "Boxx\n",
        "25 "
       ]
      },
      {
       "output_type": "stream",
       "stream": "stdout",
       "text": [
        "Carpenter\n",
        "149 "
       ]
      },
      {
       "output_type": "stream",
       "stream": "stdout",
       "text": [
        "Gilbert\n",
        "320 "
       ]
      },
      {
       "output_type": "stream",
       "stream": "stdout",
       "text": [
        "Arkin\n",
        "274 "
       ]
      },
      {
       "output_type": "stream",
       "stream": "stdout",
       "text": [
        "Robohm\n",
        "28 "
       ]
      },
      {
       "output_type": "stream",
       "stream": "stdout",
       "text": [
        "Rapmund\n",
        "64 "
       ]
      },
      {
       "output_type": "stream",
       "stream": "stdout",
       "text": [
        "Smith\n",
        "29 "
       ]
      },
      {
       "output_type": "stream",
       "stream": "stdout",
       "text": [
        "OQuinn\n",
        "30 "
       ]
      },
      {
       "output_type": "stream",
       "stream": "stdout",
       "text": [
        "McKeithen\n",
        "31 "
       ]
      },
      {
       "output_type": "stream",
       "stream": "stdout",
       "text": [
        "Coyle\n",
        "237 "
       ]
      },
      {
       "output_type": "stream",
       "stream": "stdout",
       "text": [
        "Salzer\n",
        "32 "
       ]
      },
      {
       "output_type": "stream",
       "stream": "stdout",
       "text": [
        "Johnson\n",
        "383 "
       ]
      },
      {
       "output_type": "stream",
       "stream": "stdout",
       "text": [
        "Cycle\n",
        "370 "
       ]
      },
      {
       "output_type": "stream",
       "stream": "stdout",
       "text": [
        "Cycle\n",
        "183 "
       ]
      },
      {
       "output_type": "stream",
       "stream": "stdout",
       "text": [
        "Cairncross\n",
        "141 "
       ]
      },
      {
       "output_type": "stream",
       "stream": "stdout",
       "text": [
        "Cairncross\n",
        "368 "
       ]
      },
      {
       "output_type": "stream",
       "stream": "stdout",
       "text": [
        "Cairncross\n",
        "33 "
       ]
      },
      {
       "output_type": "stream",
       "stream": "stdout",
       "text": [
        "Lambert\n",
        "34 "
       ]
      },
      {
       "output_type": "stream",
       "stream": "stdout",
       "text": [
        "Webster\n",
        "218 "
       ]
      },
      {
       "output_type": "stream",
       "stream": "stdout",
       "text": [
        "Christopher\n",
        "35 "
       ]
      },
      {
       "output_type": "stream",
       "stream": "stdout",
       "text": [
        "Anon\n",
        "36 "
       ]
      },
      {
       "output_type": "stream",
       "stream": "stdout",
       "text": [
        "E\n",
        "249 "
       ]
      },
      {
       "output_type": "stream",
       "stream": "stdout",
       "text": [
        "Fitzsimmons\n",
        "45 "
       ]
      },
      {
       "output_type": "stream",
       "stream": "stdout",
       "text": [
        "Banister\n",
        "131 "
       ]
      },
      {
       "output_type": "stream",
       "stream": "stdout",
       "text": [
        "Tonetti\n",
        "283 "
       ]
      },
      {
       "output_type": "stream",
       "stream": "stdout",
       "text": [
        "Estrella\n",
        "38 "
       ]
      },
      {
       "output_type": "stream",
       "stream": "stdout",
       "text": [
        "Estrella\n",
        "281 "
       ]
      },
      {
       "output_type": "stream",
       "stream": "stdout",
       "text": [
        "Estrella\n",
        "39 "
       ]
      },
      {
       "output_type": "stream",
       "stream": "stdout",
       "text": [
        "Young\n",
        "185 "
       ]
      },
      {
       "output_type": "stream",
       "stream": "stdout",
       "text": [
        "Young\n",
        "83 "
       ]
      },
      {
       "output_type": "stream",
       "stream": "stdout",
       "text": [
        "Kaempfer\n",
        "58 "
       ]
      },
      {
       "output_type": "stream",
       "stream": "stdout",
       "text": [
        "Cyclist\n",
        "175 "
       ]
      },
      {
       "output_type": "stream",
       "stream": "stdout",
       "text": [
        "Mullen\n",
        "44 "
       ]
      },
      {
       "output_type": "stream",
       "stream": "stdout",
       "text": [
        "Nishimuta\n",
        "40 "
       ]
      },
      {
       "output_type": "stream",
       "stream": "stdout",
       "text": [
        "Johnstone\n",
        "41 "
       ]
      },
      {
       "output_type": "stream",
       "stream": "stdout",
       "text": [
        "Taylor\n",
        "42 "
       ]
      },
      {
       "output_type": "stream",
       "stream": "stdout",
       "text": [
        "Little\n",
        "345 "
       ]
      },
      {
       "output_type": "stream",
       "stream": "stdout",
       "text": [
        "Blume\n",
        "252 "
       ]
      },
      {
       "output_type": "stream",
       "stream": "stdout",
       "text": [
        "Seymour\n",
        "93 "
       ]
      },
      {
       "output_type": "stream",
       "stream": "stdout",
       "text": [
        "Gurov\n",
        "47 "
       ]
      },
      {
       "output_type": "stream",
       "stream": "stdout",
       "text": [
        "Kelly\n",
        "46 "
       ]
      },
      {
       "output_type": "stream",
       "stream": "stdout",
       "text": [
        "Kelly\n",
        "123 "
       ]
      },
      {
       "output_type": "stream",
       "stream": "stdout",
       "text": [
        "Williams\n",
        "48 "
       ]
      },
      {
       "output_type": "stream",
       "stream": "stdout",
       "text": [
        "Slaughter\n",
        "85 "
       ]
      },
      {
       "output_type": "stream",
       "stream": "stdout",
       "text": [
        "Skalnik\n",
        "109 "
       ]
      },
      {
       "output_type": "stream",
       "stream": "stdout",
       "text": [
        "Floyd\n",
        "178 "
       ]
      },
      {
       "output_type": "stream",
       "stream": "stdout",
       "text": [
        "Chopping\n",
        "150 "
       ]
      },
      {
       "output_type": "stream",
       "stream": "stdout",
       "text": [
        "Chopping\n",
        "49 "
       ]
      },
      {
       "output_type": "stream",
       "stream": "stdout",
       "text": [
        "Kellagher\n",
        "257 "
       ]
      },
      {
       "output_type": "stream",
       "stream": "stdout",
       "text": [
        "Mahoney\n",
        "65 "
       ]
      },
      {
       "output_type": "stream",
       "stream": "stdout",
       "text": [
        "Sportsman\n",
        "62 "
       ]
      },
      {
       "output_type": "stream",
       "stream": "stdout",
       "text": [
        "M.D.\n",
        "50 "
       ]
      },
      {
       "output_type": "stream",
       "stream": "stdout",
       "text": [
        "VDB\n",
        "296 "
       ]
      },
      {
       "output_type": "stream",
       "stream": "stdout",
       "text": [
        "Thompson\n",
        "107 "
       ]
      },
      {
       "output_type": "stream",
       "stream": "stdout",
       "text": [
        "Thompson\n",
        "51 "
       ]
      },
      {
       "output_type": "stream",
       "stream": "stdout",
       "text": [
        "Caborn\n",
        "52 "
       ]
      },
      {
       "output_type": "stream",
       "stream": "stdout",
       "text": [
        "Inkster\n",
        "53 "
       ]
      },
      {
       "output_type": "stream",
       "stream": "stdout",
       "text": [
        "Clark\n",
        "106 "
       ]
      },
      {
       "output_type": "stream",
       "stream": "stdout",
       "text": [
        "Clark\n",
        "54 "
       ]
      },
      {
       "output_type": "stream",
       "stream": "stdout",
       "text": [
        "Brewer\n",
        "376 "
       ]
      },
      {
       "output_type": "stream",
       "stream": "stdout",
       "text": [
        "Jones\n",
        "55 "
       ]
      },
      {
       "output_type": "stream",
       "stream": "stdout",
       "text": [
        "McColl\n",
        "116 "
       ]
      },
      {
       "output_type": "stream",
       "stream": "stdout",
       "text": [
        "Bolen\n",
        "57 "
       ]
      },
      {
       "output_type": "stream",
       "stream": "stdout",
       "text": [
        "Hancock\n",
        "59 "
       ]
      },
      {
       "output_type": "stream",
       "stream": "stdout",
       "text": [
        "McNary\n",
        "75 "
       ]
      },
      {
       "output_type": "stream",
       "stream": "stdout",
       "text": [
        "Frery\n",
        "86 "
       ]
      },
      {
       "output_type": "stream",
       "stream": "stdout",
       "text": [
        "Wilson\n",
        "311 "
       ]
      },
      {
       "output_type": "stream",
       "stream": "stdout",
       "text": [
        "cable\n",
        "164 "
       ]
      },
      {
       "output_type": "stream",
       "stream": "stdout",
       "text": [
        "Bailey\n",
        "61 "
       ]
      },
      {
       "output_type": "stream",
       "stream": "stdout",
       "text": [
        "Bailey\n",
        "60 "
       ]
      },
      {
       "output_type": "stream",
       "stream": "stdout",
       "text": [
        "Terwoord\n",
        "212 "
       ]
      },
      {
       "output_type": "stream",
       "stream": "stdout",
       "text": [
        "Stratton\n",
        "63 "
       ]
      },
      {
       "output_type": "stream",
       "stream": "stdout",
       "text": [
        "Stratton\n",
        "385 "
       ]
      },
      {
       "output_type": "stream",
       "stream": "stdout",
       "text": [
        "Stratton\n",
        "319 "
       ]
      },
      {
       "output_type": "stream",
       "stream": "stdout",
       "text": [
        "Stratton\n",
        "66 "
       ]
      },
      {
       "output_type": "stream",
       "stream": "stdout",
       "text": [
        "Drew\n",
        "267 "
       ]
      },
      {
       "output_type": "stream",
       "stream": "stdout",
       "text": [
        "Tourigny\n",
        "67 "
       ]
      },
      {
       "output_type": "stream",
       "stream": "stdout",
       "text": [
        "Tourigny\n",
        "204 "
       ]
      },
      {
       "output_type": "stream",
       "stream": "stdout",
       "text": [
        "Tourigny\n",
        "380 "
       ]
      },
      {
       "output_type": "stream",
       "stream": "stdout",
       "text": [
        "Tourigny\n",
        "223 "
       ]
      },
      {
       "output_type": "stream",
       "stream": "stdout",
       "text": [
        "Tourigny\n",
        "69 "
       ]
      },
      {
       "output_type": "stream",
       "stream": "stdout",
       "text": [
        "Hickes\n",
        "81 "
       ]
      },
      {
       "output_type": "stream",
       "stream": "stdout",
       "text": [
        "Balcomb\n",
        "118 "
       ]
      },
      {
       "output_type": "stream",
       "stream": "stdout",
       "text": [
        "Hofert\n",
        "77 "
       ]
      },
      {
       "output_type": "stream",
       "stream": "stdout",
       "text": [
        "Reed\n",
        "71 "
       ]
      },
      {
       "output_type": "stream",
       "stream": "stdout",
       "text": [
        "Reed\n",
        "74 "
       ]
      },
      {
       "output_type": "stream",
       "stream": "stdout",
       "text": [
        "Carter\n",
        "76 "
       ]
      },
      {
       "output_type": "stream",
       "stream": "stdout",
       "text": [
        "Mullervy\n",
        "78 "
       ]
      },
      {
       "output_type": "stream",
       "stream": "stdout",
       "text": [
        "Toney\n",
        "79 "
       ]
      },
      {
       "output_type": "stream",
       "stream": "stdout",
       "text": [
        "Reijnen\n",
        "80 "
       ]
      },
      {
       "output_type": "stream",
       "stream": "stdout",
       "text": [
        "Youngblood\n",
        "82 "
       ]
      },
      {
       "output_type": "stream",
       "stream": "stdout",
       "text": [
        "Nicholson\n",
        "84 "
       ]
      },
      {
       "output_type": "stream",
       "stream": "stdout",
       "text": [
        "martinez garcia\n",
        "87 "
       ]
      },
      {
       "output_type": "stream",
       "stream": "stdout",
       "text": [
        "Sherman\n",
        "88 "
       ]
      },
      {
       "output_type": "stream",
       "stream": "stdout",
       "text": [
        "Eff\n",
        "89 "
       ]
      },
      {
       "output_type": "stream",
       "stream": "stdout",
       "text": [
        "Eff\n",
        "90 "
       ]
      },
      {
       "output_type": "stream",
       "stream": "stdout",
       "text": [
        "Carson\n",
        "91 "
       ]
      },
      {
       "output_type": "stream",
       "stream": "stdout",
       "text": [
        "Fern\u00e1ndez Long\n",
        "94 "
       ]
      },
      {
       "output_type": "stream",
       "stream": "stdout",
       "text": [
        "Monczka \n",
        "95 "
       ]
      },
      {
       "output_type": "stream",
       "stream": "stdout",
       "text": [
        "Vining\n",
        "96 "
       ]
      },
      {
       "output_type": "stream",
       "stream": "stdout",
       "text": [
        "Hinman\n",
        "97 "
       ]
      },
      {
       "output_type": "stream",
       "stream": "stdout",
       "text": [
        "Bax\n",
        "100 "
       ]
      },
      {
       "output_type": "stream",
       "stream": "stdout",
       "text": [
        "Wilson\n",
        "99 "
       ]
      },
      {
       "output_type": "stream",
       "stream": "stdout",
       "text": [
        "Satori\n",
        "101 "
       ]
      },
      {
       "output_type": "stream",
       "stream": "stdout",
       "text": [
        "Palmeri\n",
        "102 "
       ]
      },
      {
       "output_type": "stream",
       "stream": "stdout",
       "text": [
        "Cuthbertson\n",
        "103 "
       ]
      },
      {
       "output_type": "stream",
       "stream": "stdout",
       "text": [
        "Corven\n",
        "104 "
       ]
      },
      {
       "output_type": "stream",
       "stream": "stdout",
       "text": [
        "Harris\n",
        "108 "
       ]
      },
      {
       "output_type": "stream",
       "stream": "stdout",
       "text": [
        "Wilger\n",
        "110 "
       ]
      },
      {
       "output_type": "stream",
       "stream": "stdout",
       "text": [
        "Vellucci\n",
        "111 "
       ]
      },
      {
       "output_type": "stream",
       "stream": "stdout",
       "text": [
        "Horn\n",
        "235 "
       ]
      },
      {
       "output_type": "stream",
       "stream": "stdout",
       "text": [
        "Jones\n",
        "112 "
       ]
      },
      {
       "output_type": "stream",
       "stream": "stdout",
       "text": [
        "Anhold\n",
        "113 "
       ]
      },
      {
       "output_type": "stream",
       "stream": "stdout",
       "text": [
        "Cycle\n",
        "114 "
       ]
      },
      {
       "output_type": "stream",
       "stream": "stdout",
       "text": [
        "Jarocki\n",
        "117 "
       ]
      },
      {
       "output_type": "stream",
       "stream": "stdout",
       "text": [
        "Plakus\n",
        "120 "
       ]
      },
      {
       "output_type": "stream",
       "stream": "stdout",
       "text": [
        "Davis\n",
        "119 "
       ]
      },
      {
       "output_type": "stream",
       "stream": "stdout",
       "text": [
        "Rambo\n",
        "122 "
       ]
      },
      {
       "output_type": "stream",
       "stream": "stdout",
       "text": [
        "Hamilton\n",
        "124 "
       ]
      },
      {
       "output_type": "stream",
       "stream": "stdout",
       "text": [
        "Lowden\n",
        "126 "
       ]
      },
      {
       "output_type": "stream",
       "stream": "stdout",
       "text": [
        "Van Stratum\n",
        "127 "
       ]
      },
      {
       "output_type": "stream",
       "stream": "stdout",
       "text": [
        "Murdock\n",
        "128 "
       ]
      },
      {
       "output_type": "stream",
       "stream": "stdout",
       "text": [
        "Sandberg\n",
        "129 "
       ]
      },
      {
       "output_type": "stream",
       "stream": "stdout",
       "text": [
        "Holland\n",
        "132 "
       ]
      },
      {
       "output_type": "stream",
       "stream": "stdout",
       "text": [
        "Dunlap\n",
        "133 "
       ]
      },
      {
       "output_type": "stream",
       "stream": "stdout",
       "text": [
        "Markham\n",
        "134 "
       ]
      },
      {
       "output_type": "stream",
       "stream": "stdout",
       "text": [
        "chen\n",
        "135 "
       ]
      },
      {
       "output_type": "stream",
       "stream": "stdout",
       "text": [
        "Lopez Jr \n",
        "136 "
       ]
      },
      {
       "output_type": "stream",
       "stream": "stdout",
       "text": [
        "Lee\n",
        "139 "
       ]
      },
      {
       "output_type": "stream",
       "stream": "stdout",
       "text": [
        "Crocker\n",
        "148 "
       ]
      },
      {
       "output_type": "stream",
       "stream": "stdout",
       "text": [
        "Church\n",
        "362 "
       ]
      },
      {
       "output_type": "stream",
       "stream": "stdout",
       "text": [
        "Ridout\n",
        "241 "
       ]
      },
      {
       "output_type": "stream",
       "stream": "stdout",
       "text": [
        "Rasmusson\n",
        "151 "
       ]
      },
      {
       "output_type": "stream",
       "stream": "stdout",
       "text": [
        "H.\n",
        "152 "
       ]
      },
      {
       "output_type": "stream",
       "stream": "stdout",
       "text": [
        "Annatar\n",
        "153 "
       ]
      },
      {
       "output_type": "stream",
       "stream": "stdout",
       "text": [
        "Soto\n",
        "232 "
       ]
      },
      {
       "output_type": "stream",
       "stream": "stdout",
       "text": [
        "Scholl\n",
        "254 "
       ]
      },
      {
       "output_type": "stream",
       "stream": "stdout",
       "text": [
        "Gomes\n",
        "154 "
       ]
      },
      {
       "output_type": "stream",
       "stream": "stdout",
       "text": [
        "C\n",
        "344 "
       ]
      },
      {
       "output_type": "stream",
       "stream": "stdout",
       "text": [
        "Theobald\n",
        "155 "
       ]
      },
      {
       "output_type": "stream",
       "stream": "stdout",
       "text": [
        "Boom\n",
        "156 "
       ]
      },
      {
       "output_type": "stream",
       "stream": "stdout",
       "text": [
        "Moore\n",
        "157 "
       ]
      },
      {
       "output_type": "stream",
       "stream": "stdout",
       "text": [
        "Harding\n",
        "158 "
       ]
      },
      {
       "output_type": "stream",
       "stream": "stdout",
       "text": [
        "Harding\n",
        "159 "
       ]
      },
      {
       "output_type": "stream",
       "stream": "stdout",
       "text": [
        "Harding\n",
        "160 "
       ]
      },
      {
       "output_type": "stream",
       "stream": "stdout",
       "text": [
        "Davis\n",
        "161 "
       ]
      },
      {
       "output_type": "stream",
       "stream": "stdout",
       "text": [
        "Borman\n",
        "174 "
       ]
      },
      {
       "output_type": "stream",
       "stream": "stdout",
       "text": [
        "Jones\n",
        "165 "
       ]
      },
      {
       "output_type": "stream",
       "stream": "stdout",
       "text": [
        "Beighe\n",
        "163 "
       ]
      },
      {
       "output_type": "stream",
       "stream": "stdout",
       "text": [
        "San Luis\n",
        "166 "
       ]
      },
      {
       "output_type": "stream",
       "stream": "stdout",
       "text": [
        "Willard\n",
        "304 "
       ]
      },
      {
       "output_type": "stream",
       "stream": "stdout",
       "text": [
        "Hall\n",
        "167 "
       ]
      },
      {
       "output_type": "stream",
       "stream": "stdout",
       "text": [
        "Persico\n",
        "168 "
       ]
      },
      {
       "output_type": "stream",
       "stream": "stdout",
       "text": [
        "Eskola\n",
        "169 "
       ]
      },
      {
       "output_type": "stream",
       "stream": "stdout",
       "text": [
        "Eskola\n",
        "186 "
       ]
      },
      {
       "output_type": "stream",
       "stream": "stdout",
       "text": [
        "Nisley\n",
        "170 "
       ]
      },
      {
       "output_type": "stream",
       "stream": "stdout",
       "text": [
        "Hawkins\n",
        "349 "
       ]
      },
      {
       "output_type": "stream",
       "stream": "stdout",
       "text": [
        "Barth\n",
        "171 "
       ]
      },
      {
       "output_type": "stream",
       "stream": "stdout",
       "text": [
        "Woloschin\n",
        "172 "
       ]
      },
      {
       "output_type": "stream",
       "stream": "stdout",
       "text": [
        "pro\n",
        "173 "
       ]
      },
      {
       "output_type": "stream",
       "stream": "stdout",
       "text": [
        "Hellman\n",
        "176 "
       ]
      },
      {
       "output_type": "stream",
       "stream": "stdout",
       "text": [
        "S\n",
        "198 "
       ]
      },
      {
       "output_type": "stream",
       "stream": "stdout",
       "text": [
        "Newland\n",
        "177 "
       ]
      },
      {
       "output_type": "stream",
       "stream": "stdout",
       "text": [
        "Wallmeier\n",
        "182 "
       ]
      },
      {
       "output_type": "stream",
       "stream": "stdout",
       "text": [
        "Wallmeier\n",
        "228 "
       ]
      },
      {
       "output_type": "stream",
       "stream": "stdout",
       "text": [
        "Laidlaw\n",
        "258 "
       ]
      },
      {
       "output_type": "stream",
       "stream": "stdout",
       "text": [
        "Laidlaw\n",
        "377 "
       ]
      },
      {
       "output_type": "stream",
       "stream": "stdout",
       "text": [
        "Laidlaw\n",
        "200 "
       ]
      },
      {
       "output_type": "stream",
       "stream": "stdout",
       "text": [
        "Laidlaw\n",
        "386 "
       ]
      },
      {
       "output_type": "stream",
       "stream": "stdout",
       "text": [
        "Laidlaw\n",
        "179 "
       ]
      },
      {
       "output_type": "stream",
       "stream": "stdout",
       "text": [
        "Bushnell\n",
        "180 "
       ]
      },
      {
       "output_type": "stream",
       "stream": "stdout",
       "text": [
        "La Mura\n",
        "216 "
       ]
      },
      {
       "output_type": "stream",
       "stream": "stdout",
       "text": [
        "Prossi\n",
        "181 "
       ]
      },
      {
       "output_type": "stream",
       "stream": "stdout",
       "text": [
        "Farquhar\n",
        "184 "
       ]
      },
      {
       "output_type": "stream",
       "stream": "stdout",
       "text": [
        "H\n",
        "187 "
       ]
      },
      {
       "output_type": "stream",
       "stream": "stdout",
       "text": [
        "Bacon\n",
        "295 "
       ]
      },
      {
       "output_type": "stream",
       "stream": "stdout",
       "text": [
        "Cyr\n",
        "242 "
       ]
      },
      {
       "output_type": "stream",
       "stream": "stdout",
       "text": [
        "Wang\n",
        "229 "
       ]
      },
      {
       "output_type": "stream",
       "stream": "stdout",
       "text": [
        "Colburn\n",
        "215 "
       ]
      },
      {
       "output_type": "stream",
       "stream": "stdout",
       "text": [
        "Colburn\n",
        "202 "
       ]
      },
      {
       "output_type": "stream",
       "stream": "stdout",
       "text": [
        "Colburn\n",
        "188 "
       ]
      },
      {
       "output_type": "stream",
       "stream": "stdout",
       "text": [
        "Taylor\n",
        "190 "
       ]
      },
      {
       "output_type": "stream",
       "stream": "stdout",
       "text": [
        "Slater\n",
        "191 "
       ]
      },
      {
       "output_type": "stream",
       "stream": "stdout",
       "text": [
        "McAnally\n",
        "192 "
       ]
      },
      {
       "output_type": "stream",
       "stream": "stdout",
       "text": [
        "Wallingford\n",
        "193 "
       ]
      },
      {
       "output_type": "stream",
       "stream": "stdout",
       "text": [
        "Nichols\n",
        "233 "
       ]
      },
      {
       "output_type": "stream",
       "stream": "stdout",
       "text": [
        "Bast\n",
        "194 "
       ]
      },
      {
       "output_type": "stream",
       "stream": "stdout",
       "text": [
        "Singson\n",
        "195 "
       ]
      },
      {
       "output_type": "stream",
       "stream": "stdout",
       "text": [
        "Kreider\n",
        "356 "
       ]
      },
      {
       "output_type": "stream",
       "stream": "stdout",
       "text": [
        "Kreider\n",
        "197 "
       ]
      },
      {
       "output_type": "stream",
       "stream": "stdout",
       "text": [
        "Kapple\n",
        "199 "
       ]
      },
      {
       "output_type": "stream",
       "stream": "stdout",
       "text": [
        "Gvillo\n",
        "201 "
       ]
      },
      {
       "output_type": "stream",
       "stream": "stdout",
       "text": [
        "Bouvet\n",
        "203 "
       ]
      },
      {
       "output_type": "stream",
       "stream": "stdout",
       "text": [
        "rafael\n",
        "205 "
       ]
      },
      {
       "output_type": "stream",
       "stream": "stdout",
       "text": [
        "rigles\n",
        "206 "
       ]
      },
      {
       "output_type": "stream",
       "stream": "stdout",
       "text": [
        "Cyclist\n",
        "207 "
       ]
      },
      {
       "output_type": "stream",
       "stream": "stdout",
       "text": [
        "Adamson\n",
        "208 "
       ]
      },
      {
       "output_type": "stream",
       "stream": "stdout",
       "text": [
        "Legg\n",
        "209 "
       ]
      },
      {
       "output_type": "stream",
       "stream": "stdout",
       "text": [
        "Higgins\n",
        "210 "
       ]
      },
      {
       "output_type": "stream",
       "stream": "stdout",
       "text": [
        "Montgomery\n",
        "211 "
       ]
      },
      {
       "output_type": "stream",
       "stream": "stdout",
       "text": [
        "Grace\n",
        "214 "
       ]
      },
      {
       "output_type": "stream",
       "stream": "stdout",
       "text": [
        "Gosner\n",
        "213 "
       ]
      },
      {
       "output_type": "stream",
       "stream": "stdout",
       "text": [
        "Klein\n",
        "220 "
       ]
      },
      {
       "output_type": "stream",
       "stream": "stdout",
       "text": [
        "Ratajczak\n",
        "221 "
       ]
      },
      {
       "output_type": "stream",
       "stream": "stdout",
       "text": [
        "Kraychy\n",
        "222 "
       ]
      },
      {
       "output_type": "stream",
       "stream": "stdout",
       "text": [
        "Waldman\n",
        "224 "
       ]
      },
      {
       "output_type": "stream",
       "stream": "stdout",
       "text": [
        "Braidman\n",
        "373 "
       ]
      },
      {
       "output_type": "stream",
       "stream": "stdout",
       "text": [
        "Ralph\n",
        "225 "
       ]
      },
      {
       "output_type": "stream",
       "stream": "stdout",
       "text": [
        "Ralph\n",
        "227 "
       ]
      },
      {
       "output_type": "stream",
       "stream": "stdout",
       "text": [
        "B\n",
        "230 "
       ]
      },
      {
       "output_type": "stream",
       "stream": "stdout",
       "text": [
        "Klasmeier\n",
        "231 "
       ]
      },
      {
       "output_type": "stream",
       "stream": "stdout",
       "text": [
        "S\n",
        "234 "
       ]
      },
      {
       "output_type": "stream",
       "stream": "stdout",
       "text": [
        "walter\n",
        "261 "
       ]
      },
      {
       "output_type": "stream",
       "stream": "stdout",
       "text": [
        "McLarnan\n",
        "236 "
       ]
      },
      {
       "output_type": "stream",
       "stream": "stdout",
       "text": [
        "Parmelee\n",
        "239 "
       ]
      },
      {
       "output_type": "stream",
       "stream": "stdout",
       "text": [
        "Bull\n",
        "238 "
       ]
      },
      {
       "output_type": "stream",
       "stream": "stdout",
       "text": [
        "Hoff\n",
        "240 "
       ]
      },
      {
       "output_type": "stream",
       "stream": "stdout",
       "text": [
        "Kopiec\n",
        "270 "
       ]
      },
      {
       "output_type": "stream",
       "stream": "stdout",
       "text": [
        "Sutherland\n",
        "245 "
       ]
      },
      {
       "output_type": "stream",
       "stream": "stdout",
       "text": [
        "Norviel\n",
        "244 "
       ]
      },
      {
       "output_type": "stream",
       "stream": "stdout",
       "text": [
        "Norviel\n",
        "246 "
       ]
      },
      {
       "output_type": "stream",
       "stream": "stdout",
       "text": [
        "Cotton\n",
        "247 "
       ]
      },
      {
       "output_type": "stream",
       "stream": "stdout",
       "text": [
        "Smith\n",
        "248 "
       ]
      },
      {
       "output_type": "stream",
       "stream": "stdout",
       "text": [
        "Johnston\n",
        "250 "
       ]
      },
      {
       "output_type": "stream",
       "stream": "stdout",
       "text": [
        "Healy\n",
        "251 "
       ]
      },
      {
       "output_type": "stream",
       "stream": "stdout",
       "text": [
        "chen\n",
        "253 "
       ]
      },
      {
       "output_type": "stream",
       "stream": "stdout",
       "text": [
        "Burns\n",
        "255 "
       ]
      },
      {
       "output_type": "stream",
       "stream": "stdout",
       "text": [
        "Manizza\n",
        "256 "
       ]
      },
      {
       "output_type": "stream",
       "stream": "stdout",
       "text": [
        "Mills\n",
        "259 "
       ]
      },
      {
       "output_type": "stream",
       "stream": "stdout",
       "text": [
        "Lalumiere II\n",
        "260 "
       ]
      },
      {
       "output_type": "stream",
       "stream": "stdout",
       "text": [
        "McIntire\n",
        "266 "
       ]
      },
      {
       "output_type": "stream",
       "stream": "stdout",
       "text": [
        "Widney\n",
        "292 "
       ]
      },
      {
       "output_type": "stream",
       "stream": "stdout",
       "text": [
        "Widney\n",
        "265 "
       ]
      },
      {
       "output_type": "stream",
       "stream": "stdout",
       "text": [
        "Widney\n",
        "276 "
       ]
      },
      {
       "output_type": "stream",
       "stream": "stdout",
       "text": [
        "Liu\n",
        "262 "
       ]
      },
      {
       "output_type": "stream",
       "stream": "stdout",
       "text": [
        "Doing\n",
        "382 "
       ]
      },
      {
       "output_type": "stream",
       "stream": "stdout",
       "text": [
        "Gibons\n",
        "264 "
       ]
      },
      {
       "output_type": "stream",
       "stream": "stdout",
       "text": [
        "Harney\n",
        "268 "
       ]
      },
      {
       "output_type": "stream",
       "stream": "stdout",
       "text": [
        "Mohin\n",
        "269 "
       ]
      },
      {
       "output_type": "stream",
       "stream": "stdout",
       "text": [
        "Mohin\n",
        "331 "
       ]
      },
      {
       "output_type": "stream",
       "stream": "stdout",
       "text": [
        "Yoder\n",
        "279 "
       ]
      },
      {
       "output_type": "stream",
       "stream": "stdout",
       "text": [
        "Kiefert\n",
        "272 "
       ]
      },
      {
       "output_type": "stream",
       "stream": "stdout",
       "text": [
        "Hughes\n",
        "273 "
       ]
      },
      {
       "output_type": "stream",
       "stream": "stdout",
       "text": [
        "Vallender\n",
        "302 "
       ]
      },
      {
       "output_type": "stream",
       "stream": "stdout",
       "text": [
        "Vallender\n",
        "317 "
       ]
      },
      {
       "output_type": "stream",
       "stream": "stdout",
       "text": [
        "Vallender\n",
        "275 "
       ]
      },
      {
       "output_type": "stream",
       "stream": "stdout",
       "text": [
        "Oldham\n",
        "277 "
       ]
      },
      {
       "output_type": "stream",
       "stream": "stdout",
       "text": [
        "Hardy\n",
        "278 "
       ]
      },
      {
       "output_type": "stream",
       "stream": "stdout",
       "text": [
        "Scales\n",
        "280 "
       ]
      },
      {
       "output_type": "stream",
       "stream": "stdout",
       "text": [
        "Ashcroft\n",
        "288 "
       ]
      },
      {
       "output_type": "stream",
       "stream": "stdout",
       "text": [
        "Nicolai\n",
        "286 "
       ]
      },
      {
       "output_type": "stream",
       "stream": "stdout",
       "text": [
        "Miller\n",
        "282 "
       ]
      },
      {
       "output_type": "stream",
       "stream": "stdout",
       "text": [
        "Elliott\n",
        "284 "
       ]
      },
      {
       "output_type": "stream",
       "stream": "stdout",
       "text": [
        "Wilcox\n",
        "325 "
       ]
      },
      {
       "output_type": "stream",
       "stream": "stdout",
       "text": [
        "Zych\n",
        "287 "
       ]
      },
      {
       "output_type": "stream",
       "stream": "stdout",
       "text": [
        "Dion\n",
        "290 "
       ]
      },
      {
       "output_type": "stream",
       "stream": "stdout",
       "text": [
        "Mundie\n",
        "348 "
       ]
      },
      {
       "output_type": "stream",
       "stream": "stdout",
       "text": [
        "Powers\n",
        "332 "
       ]
      },
      {
       "output_type": "stream",
       "stream": "stdout",
       "text": [
        "Close\n",
        "291 "
       ]
      },
      {
       "output_type": "stream",
       "stream": "stdout",
       "text": [
        "Preston\n",
        "293 "
       ]
      },
      {
       "output_type": "stream",
       "stream": "stdout",
       "text": [
        "Gibson\n",
        "294 "
       ]
      },
      {
       "output_type": "stream",
       "stream": "stdout",
       "text": [
        "Tilford\n",
        "298 "
       ]
      },
      {
       "output_type": "stream",
       "stream": "stdout",
       "text": [
        "Nelson\n",
        "297 "
       ]
      },
      {
       "output_type": "stream",
       "stream": "stdout",
       "text": [
        "Nelson\n",
        "299 "
       ]
      },
      {
       "output_type": "stream",
       "stream": "stdout",
       "text": [
        "Bundy\n",
        "353 "
       ]
      },
      {
       "output_type": "stream",
       "stream": "stdout",
       "text": [
        "Roberson\n",
        "300 "
       ]
      },
      {
       "output_type": "stream",
       "stream": "stdout",
       "text": [
        "Lamb\n",
        "301 "
       ]
      },
      {
       "output_type": "stream",
       "stream": "stdout",
       "text": [
        "Hummel\n",
        "303 "
       ]
      },
      {
       "output_type": "stream",
       "stream": "stdout",
       "text": [
        "hans\n",
        "305 "
       ]
      },
      {
       "output_type": "stream",
       "stream": "stdout",
       "text": [
        "Charles\n",
        "355 "
       ]
      },
      {
       "output_type": "stream",
       "stream": "stdout",
       "text": [
        "Clabbers\n",
        "307 "
       ]
      },
      {
       "output_type": "stream",
       "stream": "stdout",
       "text": [
        "Schroeder\n",
        "330 "
       ]
      },
      {
       "output_type": "stream",
       "stream": "stdout",
       "text": [
        "Beitler\n",
        "308 "
       ]
      },
      {
       "output_type": "stream",
       "stream": "stdout",
       "text": [
        "Edinger\n",
        "366 "
       ]
      },
      {
       "output_type": "stream",
       "stream": "stdout",
       "text": [
        "Szibler\n",
        "310 "
       ]
      },
      {
       "output_type": "stream",
       "stream": "stdout",
       "text": [
        "Jones\n",
        "313 "
       ]
      },
      {
       "output_type": "stream",
       "stream": "stdout",
       "text": [
        "Leathem\n",
        "314 "
       ]
      },
      {
       "output_type": "stream",
       "stream": "stdout",
       "text": [
        "Desrosiers\n",
        "315 "
       ]
      },
      {
       "output_type": "stream",
       "stream": "stdout",
       "text": [
        "Rhodes\n",
        "322 "
       ]
      },
      {
       "output_type": "stream",
       "stream": "stdout",
       "text": [
        "Smith\n",
        "316 "
       ]
      },
      {
       "output_type": "stream",
       "stream": "stdout",
       "text": [
        "Fittipaldi \n",
        "318 "
       ]
      },
      {
       "output_type": "stream",
       "stream": "stdout",
       "text": [
        "Divenyi\n",
        "323 "
       ]
      },
      {
       "output_type": "stream",
       "stream": "stdout",
       "text": [
        "Shin\n",
        "324 "
       ]
      },
      {
       "output_type": "stream",
       "stream": "stdout",
       "text": [
        "Jozefowski\n",
        "327 "
       ]
      },
      {
       "output_type": "stream",
       "stream": "stdout",
       "text": [
        "smith\n",
        "326 "
       ]
      },
      {
       "output_type": "stream",
       "stream": "stdout",
       "text": [
        "smith\n",
        "333 "
       ]
      },
      {
       "output_type": "stream",
       "stream": "stdout",
       "text": [
        "McKinney\n",
        "334 "
       ]
      },
      {
       "output_type": "stream",
       "stream": "stdout",
       "text": [
        "Anderson\n",
        "335 "
       ]
      },
      {
       "output_type": "stream",
       "stream": "stdout",
       "text": [
        "Morgan\n",
        "336 "
       ]
      },
      {
       "output_type": "stream",
       "stream": "stdout",
       "text": [
        "Crone\n",
        "337 "
       ]
      },
      {
       "output_type": "stream",
       "stream": "stdout",
       "text": [
        "Pofahl\n",
        "338 "
       ]
      },
      {
       "output_type": "stream",
       "stream": "stdout",
       "text": [
        "Cummings\n",
        "351 "
       ]
      },
      {
       "output_type": "stream",
       "stream": "stdout",
       "text": [
        "McGraw\n",
        "339 "
       ]
      },
      {
       "output_type": "stream",
       "stream": "stdout",
       "text": [
        "Lent\n",
        "340 "
       ]
      },
      {
       "output_type": "stream",
       "stream": "stdout",
       "text": [
        "McKenzie\n",
        "341 "
       ]
      },
      {
       "output_type": "stream",
       "stream": "stdout",
       "text": [
        "Salameh\n",
        "342 "
       ]
      },
      {
       "output_type": "stream",
       "stream": "stdout",
       "text": [
        "Behroozi\n",
        "343 "
       ]
      },
      {
       "output_type": "stream",
       "stream": "stdout",
       "text": [
        "Dubas\n",
        "387 "
       ]
      },
      {
       "output_type": "stream",
       "stream": "stdout",
       "text": [
        "Dubas\n",
        "346 "
       ]
      },
      {
       "output_type": "stream",
       "stream": "stdout",
       "text": [
        "Huntzinger\n",
        "347 "
       ]
      },
      {
       "output_type": "stream",
       "stream": "stdout",
       "text": [
        "Clarkson\n",
        "350 "
       ]
      },
      {
       "output_type": "stream",
       "stream": "stdout",
       "text": [
        "Graif\n",
        "352 "
       ]
      },
      {
       "output_type": "stream",
       "stream": "stdout",
       "text": [
        "Skelton\n",
        "354 "
       ]
      },
      {
       "output_type": "stream",
       "stream": "stdout",
       "text": [
        "Martin\n",
        "357 "
       ]
      },
      {
       "output_type": "stream",
       "stream": "stdout",
       "text": [
        "Sherry\n",
        "358 "
       ]
      },
      {
       "output_type": "stream",
       "stream": "stdout",
       "text": [
        "Zdunich\n",
        "359 "
       ]
      },
      {
       "output_type": "stream",
       "stream": "stdout",
       "text": [
        "Bane\n",
        "361 "
       ]
      },
      {
       "output_type": "stream",
       "stream": "stdout",
       "text": [
        "Weissert\n",
        "363 "
       ]
      },
      {
       "output_type": "stream",
       "stream": "stdout",
       "text": [
        "Westphalen\n",
        "364 "
       ]
      },
      {
       "output_type": "stream",
       "stream": "stdout",
       "text": [
        "Chwalisz\n",
        "365 "
       ]
      },
      {
       "output_type": "stream",
       "stream": "stdout",
       "text": [
        "R\n",
        "369 "
       ]
      },
      {
       "output_type": "stream",
       "stream": "stdout",
       "text": [
        "Burkhard\n",
        "371 "
       ]
      },
      {
       "output_type": "stream",
       "stream": "stdout",
       "text": [
        "Orcutt\n",
        "374 "
       ]
      },
      {
       "output_type": "stream",
       "stream": "stdout",
       "text": [
        "jenkins\n",
        "375 "
       ]
      },
      {
       "output_type": "stream",
       "stream": "stdout",
       "text": [
        "Lawless\n",
        "378 "
       ]
      },
      {
       "output_type": "stream",
       "stream": "stdout",
       "text": [
        "Hritz\n",
        "379 "
       ]
      },
      {
       "output_type": "stream",
       "stream": "stdout",
       "text": [
        "White\n",
        "384 "
       ]
      },
      {
       "output_type": "stream",
       "stream": "stdout",
       "text": [
        "Bloom\n"
       ]
      }
     ],
     "prompt_number": 32
    },
    {
     "cell_type": "code",
     "collapsed": false,
     "input": [
      "I = Incident.objects.all().order_by('user')\n",
      "\n",
      "for i in I:\n",
      "    if i.user.profile.last == 'stout':\n",
      "        print i.id, i.user.profile.last"
     ],
     "language": "python",
     "metadata": {},
     "outputs": [
      {
       "output_type": "stream",
       "stream": "stdout",
       "text": [
        "388 stout\n"
       ]
      }
     ],
     "prompt_number": 33
    },
    {
     "cell_type": "code",
     "collapsed": false,
     "input": [],
     "language": "python",
     "metadata": {},
     "outputs": []
    }
   ],
   "metadata": {}
  }
 ]
}