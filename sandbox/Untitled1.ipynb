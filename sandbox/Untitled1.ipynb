{
 "metadata": {
  "name": "",
  "signature": "sha256:c2c4019a9f7ab6babcf2c2d1d4d07b6ce330a04c703c074ddefb39a0e8c4f89b"
 },
 "nbformat": 3,
 "nbformat_minor": 0,
 "worksheets": []
}