{
 "metadata": {
  "name": "",
  "signature": "sha256:4b5ad416a8c95aa4b907bdf2aaa371187b0d85c6462369f34ffcb22363d60743"
 },
 "nbformat": 3,
 "nbformat_minor": 0,
 "worksheets": [
  {
   "cells": [
    {
     "cell_type": "code",
     "collapsed": false,
     "input": [
      "if 1==1:\n",
      "    created_username = 'Sam Thomas'\n",
      "    email = 'sthomas1990@gmail.com'\n",
      "\n",
      "if 1==1:    \n",
      "    created_username = 'samthom1'\n",
      "    email = 'samthom1@gmail.com'\n",
      "\n",
      "user = User.objects.get(username=created_username, email=email)\n",
      "\n",
      "# user.profile.created_with = ''\n",
      "\n",
      "print user.email\n",
      "print user.profile.state\n",
      "if user.profile.created_with is not None:\n",
      "    print user.profile.created_with.split('=')[1]\n",
      "    \n",
      "# try:\n",
      "#     print user.profile.created_with.split('=')[1]\n",
      "# except:\n",
      "#     pass\n",
      "\n",
      "if user.profile:\n",
      "    print 'has a profile'"
     ],
     "language": "python",
     "metadata": {},
     "outputs": [
      {
       "output_type": "stream",
       "stream": "stdout",
       "text": [
        "samthom1@gmail.com\n",
        "Il"
       ]
      },
      {
       "output_type": "stream",
       "stream": "stdout",
       "text": [
        "\n",
        "has a profile\n"
       ]
      }
     ],
     "prompt_number": 1
    },
    {
     "cell_type": "code",
     "collapsed": false,
     "input": [
      "\"\"\"\n",
      "Use this to test if a new User is created when it is supposed to be\n",
      "--\n",
      "note: this doesn't yet do the second part, and create the profile?\n",
      "\"\"\"\n",
      "\n",
      "\n",
      "from django.contrib.auth.models import User\n",
      "from core.views import get_or_create_user, user_profile_exists\n",
      "\n",
      "this_user = get_or_create_user('samthom1@gmail.com','Sam Thomas', 'Sam', 'Thomas', '4335065')\n",
      "                    \n",
      "print this_user.id\n",
      "\n",
      "if user_profile_exists(this_user):\n",
      "    safe_print(\"UserProfile exits, so just log this user in!\")\n",
      "else:\n",
      "    city = 'Hoffman Estates'\n",
      "    state = 'IL'\n",
      "    country = 'United States'\n",
      "    fname = 'Sam'\n",
      "    lname = 'Thomas'\n",
      "    oauth_data = \"{u'access_token': u'80858b8493696846e569e67cb31d4a0bff127c92', u'token_type': u'Bearer', u'athlete': {u'friend_count': 39, u'shoes': [], u'updated_at': u'2014-12-22T10:01:30Z', u'sex': u'M', u'badge_type_id': 0, u'follower': None, u'bikes': [{u'resource_state': 2, u'distance': 604769.0, u'id': u'b809876', u'name': u'Sara', u'primary': False}, {u'resource_state': 2, u'distance': 704498.0, u'id': u'b1418809', u'name': u'Silver machine! ', u'primary': True}], u'mutual_friend_count': 0, u'profile_medium': u'http://dgalywyr863hv.cloudfront.net/pictures/athletes/990066/231667/5/medium.jpg', u'id': 990066, u'city': u'Pueblo', u'state': u'CO', u'follower_count': 12, u'email': u'sthomas1990@gmail.com', u'measurement_preference': u'feet', u'profile': u'http://dgalywyr863hv.cloudfront.net/pictures/athletes/990066/231667/5/large.jpg', u'premium': False, u'firstname': u'Sam', u'ftp': None, u'lastname': u'Thomas', u'date_preference': u'%m/%d/%Y', u'country': u'United States', u'created_at': u'2012-08-16T12:56:52Z', u'clubs': [{u'resource_state': 2, u'profile_medium': u'http://dgalywyr863hv.cloudfront.net/pictures/clubs/30910/817736/1/medium.jpg', u'profile': u'http://dgalywyr863hv.cloudfront.net/pictures/clubs/30910/817736/1/large.jpg', u'id': 30910, u'name': u'Great Divide Ski, Bike  Hike'}, {u'resource_state': 2, u'profile_medium': u'http://dgalywyr863hv.cloudfront.net/pictures/clubs/23836/540921/1/medium.jpg', u'profile': u'http://dgalywyr863hv.cloudfront.net/pictures/clubs/23836/540921/1/large.jpg', u'id': 23836, u'name': u'Pueblo Area Cyclist (AKA The PAC)'}, {u'resource_state': 2, u'profile_medium': u'http://dgalywyr863hv.cloudfront.net/pictures/clubs/38013/1033989/2/medium.jpg', u'profile': u'http://dgalywyr863hv.cloudfront.net/pictures/clubs/38013/1033989/2/large.jpg', u'id': 38013, u'name': u'GCN'}, {u'resource_state': 2, u'profile_medium': u'avatar/club/medium.png', u'profile': u'avatar/club/large.png', u'id': 25148, u'name': u'Reddit bikecommuting'}, {u'resource_state': 2, u'profile_medium': u'avatar/club/medium.png', u'profile': u'avatar/club/large.png', u'id': 53864, u'name': u'rVelo'}, {u'resource_state': 2, u'profile_medium': u'http://dgalywyr863hv.cloudfront.net/pictures/clubs/165/576/3/medium.jpg', u'profile': u'http://dgalywyr863hv.cloudfront.net/pictures/clubs/165/576/3/large.jpg', u'id': 165, u'name': u'reddit'}, {u'resource_state': 2, u'profile_medium': u'http://dgalywyr863hv.cloudfront.net/pictures/clubs/5272/67041/2/medium.jpg', u'profile': u'http://dgalywyr863hv.cloudfront.net/pictures/clubs/5272/67041/2/large.jpg', u'id': 5272, u'name': u'Performance Bicycle'}], u'friend': None, u'resource_state': 3}}\"\n",
      "    athlete_id = 4335065\n",
      "    up = UserProfile(user=this_user, first=fname, last=lname, city=city, state=state, country=country,\n",
      "                    created_with=\"Strava=\" + str(athlete_id), oauth_data=oauth_resp)\n",
      "    up.save()\n"
     ],
     "language": "python",
     "metadata": {},
     "outputs": [
      {
       "output_type": "stream",
       "stream": "stdout",
       "text": [
        "Checking to see if this is an existing user\n",
        "Attemptingt to pull Strava ID"
       ]
      },
      {
       "output_type": "stream",
       "stream": "stdout",
       "text": [
        "\n",
        "Existing Strava ID is 990066, authing one is 4335065\n",
        "Registering User has same user name as existing Strava User: Sam Thomas\n",
        "But a different Strave Profile ID.\n",
        "Therefore it is a new user to register\n",
        "Existing_strava_user returned False, go create new user\n",
        "\n",
        "Entering create_new_user \n",
        "\n",
        "generating a strava based password\n",
        "INTEGRITY ERROR: Probably two Strava user with same name, Sam Thomas, attempting to fix by generating unique username"
       ]
      },
      {
       "output_type": "stream",
       "stream": "stdout",
       "text": [
        "\n",
        "created_username is: Sam Thomas-4335065\n",
        "5646"
       ]
      },
      {
       "output_type": "stream",
       "stream": "stdout",
       "text": [
        "\n",
        "Inside user_profile_exists\n",
        "User does  NOT  Profile Exists"
       ]
      },
      {
       "output_type": "stream",
       "stream": "stdout",
       "text": [
        "\n"
       ]
      },
      {
       "ename": "NameError",
       "evalue": "name 'fname' is not defined",
       "output_type": "pyerr",
       "traceback": [
        "\u001b[0;31m---------------------------------------------------------------------------\u001b[0m\n\u001b[0;31mNameError\u001b[0m                                 Traceback (most recent call last)",
        "\u001b[0;32m<ipython-input-2-f80e4c506b15>\u001b[0m in \u001b[0;36m<module>\u001b[0;34m()\u001b[0m\n\u001b[1;32m     20\u001b[0m     \u001b[0mcountry\u001b[0m \u001b[0;34m=\u001b[0m \u001b[0;34m'United States'\u001b[0m\u001b[0;34m\u001b[0m\u001b[0m\n\u001b[1;32m     21\u001b[0m     \u001b[0mathlete_id\u001b[0m \u001b[0;34m=\u001b[0m \u001b[0;36m4335065\u001b[0m\u001b[0;34m\u001b[0m\u001b[0m\n\u001b[0;32m---> 22\u001b[0;31m     up = UserProfile(user=this_user, first=fname, last=lname, city=city, state=state, country=country,\n\u001b[0m\u001b[1;32m     23\u001b[0m                     created_with=\"Strava=\" + str(athlete_id), oauth_data=oauth_resp)\n\u001b[1;32m     24\u001b[0m     \u001b[0mup\u001b[0m\u001b[0;34m.\u001b[0m\u001b[0msave\u001b[0m\u001b[0;34m(\u001b[0m\u001b[0;34m)\u001b[0m\u001b[0;34m\u001b[0m\u001b[0m\n",
        "\u001b[0;31mNameError\u001b[0m: name 'fname' is not defined"
       ]
      }
     ],
     "prompt_number": 2
    },
    {
     "cell_type": "code",
     "collapsed": false,
     "input": [
      "def testing():\n",
      "    if 1==1:    \n",
      "        created_username = 'samthom1'\n",
      "        email = 'samthom1@gmail.com'\n",
      "\n",
      "    user = User.objects.get(username=created_username, email=email)\n",
      "\n",
      "    print user.email\n",
      "    \n",
      "testing()"
     ],
     "language": "python",
     "metadata": {},
     "outputs": [
      {
       "output_type": "stream",
       "stream": "stdout",
       "text": [
        "samthom1@gmail.com\n"
       ]
      }
     ],
     "prompt_number": 2
    },
    {
     "cell_type": "code",
     "collapsed": false,
     "input": [
      "d = 'test'\n",
      "\n",
      "if d not in [None, '']:\n",
      "    print 'found'\n",
      "else:\n",
      "    print d"
     ],
     "language": "python",
     "metadata": {},
     "outputs": [
      {
       "output_type": "stream",
       "stream": "stdout",
       "text": [
        "found\n"
       ]
      }
     ],
     "prompt_number": 30
    },
    {
     "cell_type": "code",
     "collapsed": false,
     "input": [
      "from random import randint\n",
      "print str((randint(1,1000)))\n",
      " "
     ],
     "language": "python",
     "metadata": {},
     "outputs": [
      {
       "output_type": "stream",
       "stream": "stdout",
       "text": [
        "580\n"
       ]
      }
     ],
     "prompt_number": 10
    },
    {
     "cell_type": "code",
     "collapsed": false,
     "input": [
      "P = True\n",
      "def safe_print(msg, print_it=True, email_it=False):\n",
      "    if P and print_it:\n",
      "        try:\n",
      "            print msg\n",
      "        except IOError:\n",
      "            pass\n",
      "        \n",
      "safe_print('test')\n",
      "safe_print('testing - should not see this',False, False)\n",
      "safe_print('Testing still -- should NOT print', print_it=False)\n",
      "safe_print(u'Testing still - should print ', print_it=True)\n"
     ],
     "language": "python",
     "metadata": {},
     "outputs": [
      {
       "output_type": "stream",
       "stream": "stdout",
       "text": [
        "test\n",
        "Testing still - should print \n"
       ]
      }
     ],
     "prompt_number": 4
    },
    {
     "cell_type": "code",
     "collapsed": false,
     "input": [
      "prev_id = '77405'\n",
      "new_id = '77405 '\n",
      "if str(prev_id).strip() == str(new_id).strip():\n",
      "    print \"yep\""
     ],
     "language": "python",
     "metadata": {},
     "outputs": [
      {
       "output_type": "stream",
       "stream": "stdout",
       "text": [
        "yep\n"
       ]
      }
     ],
     "prompt_number": 9
    },
    {
     "cell_type": "code",
     "collapsed": false,
     "input": [],
     "language": "python",
     "metadata": {},
     "outputs": [],
     "prompt_number": 8
    },
    {
     "cell_type": "code",
     "collapsed": false,
     "input": [],
     "language": "python",
     "metadata": {},
     "outputs": []
    }
   ],
   "metadata": {}
  }
 ]
}