{
 "metadata": {
  "name": "",
  "signature": "sha256:806b7960b42f9e9a6f1c726dc642b28ba1399d4902a35247f4f3a7e68062751d"
 },
 "nbformat": 3,
 "nbformat_minor": 0,
 "worksheets": [
  {
   "cells": [
    {
     "cell_type": "code",
     "collapsed": false,
     "input": [
      "if 1==1:\n",
      "    created_username = 'Sam Thomas'\n",
      "    email = 'sthomas1990@gmail.com'\n",
      "\n",
      "if 1==1:    \n",
      "    created_username = 'samthom1'\n",
      "    email = 'samthom1@gmail.com'\n",
      "\n",
      "user = User.objects.get(username=created_username, email=email)\n",
      "\n",
      "# user.profile.created_with = ''\n",
      "\n",
      "print user.email\n",
      "print user.profile.state\n",
      "if user.profile.created_with is not None:\n",
      "    print user.profile.created_with.split('=')[1]\n",
      "    \n",
      "# try:\n",
      "#     print user.profile.created_with.split('=')[1]\n",
      "# except:\n",
      "#     pass\n"
     ],
     "language": "python",
     "metadata": {},
     "outputs": [
      {
       "output_type": "stream",
       "stream": "stdout",
       "text": [
        "samthom1@gmail.com\n",
        "Il"
       ]
      },
      {
       "output_type": "stream",
       "stream": "stdout",
       "text": [
        "\n"
       ]
      }
     ],
     "prompt_number": 23
    },
    {
     "cell_type": "code",
     "collapsed": false,
     "input": [
      "# from django.contrib.auth.models import User\n",
      "# from core.views import get_or_create_user\n",
      "\n",
      "U = get_or_create_user('samthom1@gmail.com','Sam Thomas', 'Sam', 'Thomas', '4335065')\n",
      "                    \n",
      "print u.id"
     ],
     "language": "python",
     "metadata": {},
     "outputs": [
      {
       "ename": "NameError",
       "evalue": "global name 'username' is not defined",
       "output_type": "pyerr",
       "traceback": [
        "\u001b[0;31m---------------------------------------------------------------------------\u001b[0m\n\u001b[0;31mNameError\u001b[0m                                 Traceback (most recent call last)",
        "\u001b[0;32m<ipython-input-24-46e8fb9bb40f>\u001b[0m in \u001b[0;36m<module>\u001b[0;34m()\u001b[0m\n\u001b[1;32m      2\u001b[0m \u001b[0;31m# from core.views import get_or_create_user\u001b[0m\u001b[0;34m\u001b[0m\u001b[0;34m\u001b[0m\u001b[0m\n\u001b[1;32m      3\u001b[0m \u001b[0;34m\u001b[0m\u001b[0m\n\u001b[0;32m----> 4\u001b[0;31m \u001b[0mU\u001b[0m \u001b[0;34m=\u001b[0m \u001b[0mget_or_create_user\u001b[0m\u001b[0;34m(\u001b[0m\u001b[0;34m'samthom1@gmail.com'\u001b[0m\u001b[0;34m,\u001b[0m\u001b[0;34m'Sam Thomas'\u001b[0m\u001b[0;34m,\u001b[0m \u001b[0;34m'Sam'\u001b[0m\u001b[0;34m,\u001b[0m \u001b[0;34m'Thomas'\u001b[0m\u001b[0;34m,\u001b[0m \u001b[0;34m'4335065'\u001b[0m\u001b[0;34m)\u001b[0m\u001b[0;34m\u001b[0m\u001b[0m\n\u001b[0m\u001b[1;32m      5\u001b[0m \u001b[0;34m\u001b[0m\u001b[0m\n\u001b[1;32m      6\u001b[0m \u001b[0;32mprint\u001b[0m \u001b[0mu\u001b[0m\u001b[0;34m.\u001b[0m\u001b[0mid\u001b[0m\u001b[0;34m\u001b[0m\u001b[0m\n",
        "\u001b[0;32m/Users/eae/code/sites/closecall/core/views.py\u001b[0m in \u001b[0;36mget_or_create_user\u001b[0;34m(email, created_username, fname, lname, athlete_id)\u001b[0m\n\u001b[1;32m    216\u001b[0m         \u001b[0;31m# tried to register, the created_username was Sam Thomas, it selected the existing one of course,\u001b[0m\u001b[0;34m\u001b[0m\u001b[0;34m\u001b[0m\u001b[0m\n\u001b[1;32m    217\u001b[0m         \u001b[0;31m# then, worse, it 'updated' the original guy's email with the one passed in here!\u001b[0m\u001b[0;34m\u001b[0m\u001b[0;34m\u001b[0m\u001b[0m\n\u001b[0;32m--> 218\u001b[0;31m         \u001b[0muser\u001b[0m \u001b[0;34m=\u001b[0m \u001b[0mUser\u001b[0m\u001b[0;34m.\u001b[0m\u001b[0mobjects\u001b[0m\u001b[0;34m.\u001b[0m\u001b[0mget\u001b[0m\u001b[0;34m(\u001b[0m\u001b[0musername\u001b[0m\u001b[0;34m=\u001b[0m\u001b[0mcreated_username\u001b[0m\u001b[0;34m,\u001b[0m \u001b[0memail\u001b[0m\u001b[0;34m=\u001b[0m\u001b[0memail\u001b[0m\u001b[0;34m)\u001b[0m\u001b[0;34m\u001b[0m\u001b[0m\n\u001b[0m\u001b[1;32m    219\u001b[0m         \u001b[0;31m# user = User.objects.get(username=created_username)\u001b[0m\u001b[0;34m\u001b[0m\u001b[0;34m\u001b[0m\u001b[0m\n\u001b[1;32m    220\u001b[0m         \u001b[0;32mtry\u001b[0m\u001b[0;34m:\u001b[0m\u001b[0;34m\u001b[0m\u001b[0m\n",
        "\u001b[0;31mNameError\u001b[0m: global name 'username' is not defined"
       ]
      }
     ],
     "prompt_number": 24
    },
    {
     "cell_type": "code",
     "collapsed": false,
     "input": [
      "def testing():\n",
      "    if 1==1:    \n",
      "        created_username = 'samthom1'\n",
      "        email = 'samthom1@gmail.com'\n",
      "\n",
      "    user = User.objects.get(username=created_username, email=email)\n",
      "\n",
      "    print user.email\n",
      "    \n",
      "testing()"
     ],
     "language": "python",
     "metadata": {},
     "outputs": [
      {
       "output_type": "stream",
       "stream": "stdout",
       "text": [
        "samthom1@gmail.com\n"
       ]
      }
     ],
     "prompt_number": 26
    },
    {
     "cell_type": "code",
     "collapsed": false,
     "input": [
      "d = 'test'\n",
      "\n",
      "if d not in [None, '']:\n",
      "    print 'found'\n",
      "else:\n",
      "    print d"
     ],
     "language": "python",
     "metadata": {},
     "outputs": [
      {
       "output_type": "stream",
       "stream": "stdout",
       "text": [
        "found\n"
       ]
      }
     ],
     "prompt_number": 30
    },
    {
     "cell_type": "code",
     "collapsed": false,
     "input": [],
     "language": "python",
     "metadata": {},
     "outputs": []
    }
   ],
   "metadata": {}
  }
 ]
}