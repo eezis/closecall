{
 "metadata": {
  "name": "",
  "signature": "sha256:71903b3ad9f258d4ca3fc7a03bcb2807188b7ac1396a5f7dd3890c4ad46ca426"
 },
 "nbformat": 3,
 "nbformat_minor": 0,
 "worksheets": [
  {
   "cells": [
    {
     "cell_type": "code",
     "collapsed": false,
     "input": [
      "if 1==1:\n",
      "    created_username = 'Sam Thomas'\n",
      "    email = 'sthomas1990@gmail.com'\n",
      "\n",
      "if 1==1:    \n",
      "    created_username = 'samthom1'\n",
      "    email = 'samthom1@gmail.com'\n",
      "\n",
      "user = User.objects.get(username=created_username, email=email)\n",
      "\n",
      "# user.profile.created_with = ''\n",
      "\n",
      "print user.email\n",
      "print user.profile.state\n",
      "if user.profile.created_with is not None:\n",
      "    print user.profile.created_with.split('=')[1]\n",
      "    \n",
      "# try:\n",
      "#     print user.profile.created_with.split('=')[1]\n",
      "# except:\n",
      "#     pass\n"
     ],
     "language": "python",
     "metadata": {},
     "outputs": [
      {
       "output_type": "stream",
       "stream": "stdout",
       "text": [
        "samthom1@gmail.com\n",
        "Il"
       ]
      },
      {
       "output_type": "stream",
       "stream": "stdout",
       "text": [
        "\n"
       ]
      }
     ],
     "prompt_number": 1
    },
    {
     "cell_type": "code",
     "collapsed": false,
     "input": [
      "from django.contrib.auth.models import User\n",
      "from core.views import get_or_create_user\n",
      "\n",
      "U = get_or_create_user('samthom1@gmail.com','Sam Thomas', 'Sam', 'Thomas', '4335065')\n",
      "                    \n",
      "print u.id"
     ],
     "language": "python",
     "metadata": {},
     "outputs": [
      {
       "output_type": "stream",
       "stream": "stdout",
       "text": [
        "The user does not exist, going to create User Object: Sam Thomas\n",
        "create a proxy password\n"
       ]
      },
      {
       "ename": "NameError",
       "evalue": "global name 'athelete_id' is not defined",
       "output_type": "pyerr",
       "traceback": [
        "\u001b[0;31m---------------------------------------------------------------------------\u001b[0m\n\u001b[0;31mNameError\u001b[0m                                 Traceback (most recent call last)",
        "\u001b[0;32m<ipython-input-2-e4bb2c39f209>\u001b[0m in \u001b[0;36m<module>\u001b[0;34m()\u001b[0m\n\u001b[1;32m      2\u001b[0m \u001b[0;32mfrom\u001b[0m \u001b[0mcore\u001b[0m\u001b[0;34m.\u001b[0m\u001b[0mviews\u001b[0m \u001b[0;32mimport\u001b[0m \u001b[0mget_or_create_user\u001b[0m\u001b[0;34m\u001b[0m\u001b[0m\n\u001b[1;32m      3\u001b[0m \u001b[0;34m\u001b[0m\u001b[0m\n\u001b[0;32m----> 4\u001b[0;31m \u001b[0mU\u001b[0m \u001b[0;34m=\u001b[0m \u001b[0mget_or_create_user\u001b[0m\u001b[0;34m(\u001b[0m\u001b[0;34m'samthom1@gmail.com'\u001b[0m\u001b[0;34m,\u001b[0m\u001b[0;34m'Sam Thomas'\u001b[0m\u001b[0;34m,\u001b[0m \u001b[0;34m'Sam'\u001b[0m\u001b[0;34m,\u001b[0m \u001b[0;34m'Thomas'\u001b[0m\u001b[0;34m,\u001b[0m \u001b[0;34m'4335065'\u001b[0m\u001b[0;34m)\u001b[0m\u001b[0;34m\u001b[0m\u001b[0m\n\u001b[0m\u001b[1;32m      5\u001b[0m \u001b[0;34m\u001b[0m\u001b[0m\n\u001b[1;32m      6\u001b[0m \u001b[0;32mprint\u001b[0m \u001b[0mu\u001b[0m\u001b[0;34m.\u001b[0m\u001b[0mid\u001b[0m\u001b[0;34m\u001b[0m\u001b[0m\n",
        "\u001b[0;32m/Users/eae/code/sites/closecall/core/views.py\u001b[0m in \u001b[0;36mget_or_create_user\u001b[0;34m(email, created_username, fname, lname, athlete_id)\u001b[0m\n\u001b[1;32m    285\u001b[0m             \u001b[0;32mpass\u001b[0m\u001b[0;34m\u001b[0m\u001b[0m\n\u001b[1;32m    286\u001b[0m \u001b[0;34m\u001b[0m\u001b[0m\n\u001b[0;32m--> 287\u001b[0;31m         \u001b[0;32mreturn\u001b[0m \u001b[0mcreate_new_user\u001b[0m\u001b[0;34m(\u001b[0m\u001b[0memail\u001b[0m\u001b[0;34m,\u001b[0m \u001b[0mcreated_username\u001b[0m\u001b[0;34m,\u001b[0m \u001b[0mfname\u001b[0m\u001b[0;34m,\u001b[0m \u001b[0mlname\u001b[0m\u001b[0;34m,\u001b[0m \u001b[0mathlete_id\u001b[0m\u001b[0;34m)\u001b[0m\u001b[0;34m\u001b[0m\u001b[0m\n\u001b[0m\u001b[1;32m    288\u001b[0m         \u001b[0;31m# created_password = get_or_create_a_strava_based_password(athlete_id)\u001b[0m\u001b[0;34m\u001b[0m\u001b[0;34m\u001b[0m\u001b[0m\n\u001b[1;32m    289\u001b[0m         \u001b[0;31m# \"\"\" ****************************************************************************************************** \"\"\"\u001b[0m\u001b[0;34m\u001b[0m\u001b[0;34m\u001b[0m\u001b[0m\n",
        "\u001b[0;32m/Users/eae/code/sites/closecall/core/views.py\u001b[0m in \u001b[0;36mcreate_new_user\u001b[0;34m(email, created_username, fname, lname, athlete_id)\u001b[0m\n\u001b[1;32m    209\u001b[0m         \u001b[0;31m# this means we have an instance where there is already on Sam Thomas, and seccond one is trying to join-probably from Strava\u001b[0m\u001b[0;34m\u001b[0m\u001b[0;34m\u001b[0m\u001b[0m\n\u001b[1;32m    210\u001b[0m         \u001b[0;31m# let's try to add the athlete_id or a random number\u001b[0m\u001b[0;34m\u001b[0m\u001b[0;34m\u001b[0m\u001b[0m\n\u001b[0;32m--> 211\u001b[0;31m         \u001b[0;32mif\u001b[0m \u001b[0mathelete_id\u001b[0m \u001b[0;32mis\u001b[0m \u001b[0;32mnot\u001b[0m \u001b[0mNone\u001b[0m\u001b[0;34m:\u001b[0m\u001b[0;34m\u001b[0m\u001b[0m\n\u001b[0m\u001b[1;32m    212\u001b[0m             \u001b[0mcreated_username\u001b[0m \u001b[0;34m=\u001b[0m \u001b[0mcreated_username\u001b[0m \u001b[0;34m+\u001b[0m \u001b[0;34m'-'\u001b[0m \u001b[0;34m+\u001b[0m \u001b[0mathelete_id\u001b[0m\u001b[0;34m\u001b[0m\u001b[0m\n\u001b[1;32m    213\u001b[0m         \u001b[0;32melse\u001b[0m\u001b[0;34m:\u001b[0m\u001b[0;34m\u001b[0m\u001b[0m\n",
        "\u001b[0;31mNameError\u001b[0m: global name 'athelete_id' is not defined"
       ]
      }
     ],
     "prompt_number": 2
    },
    {
     "cell_type": "code",
     "collapsed": false,
     "input": [
      "def testing():\n",
      "    if 1==1:    \n",
      "        created_username = 'samthom1'\n",
      "        email = 'samthom1@gmail.com'\n",
      "\n",
      "    user = User.objects.get(username=created_username, email=email)\n",
      "\n",
      "    print user.email\n",
      "    \n",
      "testing()"
     ],
     "language": "python",
     "metadata": {},
     "outputs": [
      {
       "output_type": "stream",
       "stream": "stdout",
       "text": [
        "samthom1@gmail.com\n"
       ]
      }
     ],
     "prompt_number": 2
    },
    {
     "cell_type": "code",
     "collapsed": false,
     "input": [
      "d = 'test'\n",
      "\n",
      "if d not in [None, '']:\n",
      "    print 'found'\n",
      "else:\n",
      "    print d"
     ],
     "language": "python",
     "metadata": {},
     "outputs": [
      {
       "output_type": "stream",
       "stream": "stdout",
       "text": [
        "found\n"
       ]
      }
     ],
     "prompt_number": 30
    },
    {
     "cell_type": "code",
     "collapsed": false,
     "input": [
      "from random import randint\n",
      "print str((randint(1,1000)))\n",
      " "
     ],
     "language": "python",
     "metadata": {},
     "outputs": [
      {
       "output_type": "stream",
       "stream": "stdout",
       "text": [
        "580\n"
       ]
      }
     ],
     "prompt_number": 10
    },
    {
     "cell_type": "code",
     "collapsed": false,
     "input": [],
     "language": "python",
     "metadata": {},
     "outputs": []
    }
   ],
   "metadata": {}
  }
 ]
}