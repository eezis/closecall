{
 "metadata": {
  "name": "",
  "signature": "sha256:32e3910277f386d932e727561f32428e562974d28e9dc0131e51c623665c9255"
 },
 "nbformat": 3,
 "nbformat_minor": 0,
 "worksheets": [
  {
   "cells": [
    {
     "cell_type": "code",
     "collapsed": false,
     "input": [
      "# ***************************************************************************************************#\n",
      "# ***************************************************************************************************#\n",
      "# \n",
      "#    THIS IS THE KEY METHOD TO USE, EVERYTHING ELSE ON THE PAGE WAS IN SUPPORT OF THIS METHOD        #\n",
      "# \n",
      "# ***************************************************************************************************#\n",
      "# ***************************************************************************************************#\n",
      "\"\"\"\n",
      "Test the UserProfile method \n",
      "\n",
      "    def get_user_incidents(self, miles=60):\n",
      "        ...\n",
      "        \n",
      "        \n",
      "\"\"\"\n",
      "from users.models import UserProfile\n",
      "\n",
      "up = UserProfile.objects.get(user__username='Oliver-Ezis')\n",
      "matches = up.get_user_incidents(35)\n",
      "for m in matches:\n",
      "    print m.what[:50], m.address\n",
      "\n",
      "    \n",
      "    \n",
      "    \n",
      "    \n",
      "# ***************************************************************************************************#\n",
      "# ***************************************************************************************************#\n",
      "# ***************************************************************************************************#"
     ],
     "language": "python",
     "metadata": {},
     "outputs": [
      {
       "output_type": "stream",
       "stream": "stdout",
       "text": [
        "<p>Fake Entry, Brighton CO, just using for local t 16601-16813 East 144th Avenue, Brighton, CO 80601, USA\n",
        "<p>This is a Fake Entry for Oliver Ezis</p> 6151-6649 Hygiene Road, Longmont, CO 80503, USA\n",
        "<p>This is a test entry</p> 6650 Nelson Road, Longmont, CO 80503, USA\n",
        "<p>This is a test entry</p> 6650 Nelson Road, Longmont, CO 80503, USA\n",
        "<p>Lime Green Dump Truck</p> 6650 Nelson Road, Longmont, CO 80503, USA\n",
        "<p>Jackass in a white pickup truck swerved toward  5101-5499 Nelson Road, Longmont, CO 80503, USA\n",
        "<p>I was in a group of five riders, headed east on 6799 Nelson Road, Longmont, CO 80503, USA\n"
       ]
      }
     ],
     "prompt_number": 6
    },
    {
     "cell_type": "code",
     "collapsed": false,
     "input": [
      "from math import sin, cos, sqrt, atan2, radians\n",
      "\n",
      "R = 6373.0 #km\n",
      "RM = 3959\n",
      "\n",
      "lat1 = radians(40.066677)\n",
      "lon1 = radians(-105.288754)\n",
      "lat2 = radians(41.7004784)\n",
      "lon2 = radians(-72.5797328)\n",
      "\n",
      "dlon = lon2 - lon1\n",
      "dlat = lat2 - lat1\n",
      "\n",
      "print dlon, dlat\n",
      "\n",
      "a = (sin(dlat/2))**2 + cos(lat1) * cos(lat2) * (sin(dlon/2))**2\n",
      "c = 2 * atan2(sqrt(a), sqrt(1-a))\n",
      "distance_km = R * c\n",
      "distance_miles = RM *  c\n",
      "\n",
      "print \"Distance in miles: {}\".format(distance_miles)\n",
      "print \"Distance in kilometers: {}\".format(distance_km)\n",
      "\n",
      "\n",
      "print \"Result in miles should be: 1702.18782156\"\n",
      "print \"Result in kilometers should be: 2740.09673827\""
     ],
     "language": "python",
     "metadata": {},
     "outputs": [
      {
       "output_type": "stream",
       "stream": "stdout",
       "text": [
        "0.570880115045 0.0285152137537\n",
        "Distance in miles: 1702.18782156\n",
        "Distance in kilometers: 2740.09673827\n",
        "Result in miles should be: 1702.18782156\n",
        "Result in kilometers should be: 2740.09673827\n"
       ]
      }
     ],
     "prompt_number": 1
    },
    {
     "cell_type": "code",
     "collapsed": false,
     "input": [
      "from math import sin, cos, sqrt, atan2, radians\n",
      "\n",
      "def distance_between_geocoded_points(lat1, lon1, lat2, lon2, units='miles'):\n",
      "    \n",
      "    # all trig functions in python use radians, so convert them here\n",
      "    lat1 = radians(lat1)\n",
      "    lon1 = radians(lon1)\n",
      "    lat2 = radians(lat2)\n",
      "    lon2 = radians(lon2)    \n",
      "    \n",
      "    RK = 6373.0 #radius of earth in kilometers\n",
      "    RM = 3959.0 #radius of earth in miles\n",
      "    \n",
      "    if units == 'miles':\n",
      "        R = RM\n",
      "    elif units == 'kilometers':\n",
      "        R = RK\n",
      "    else:\n",
      "        raise Exception(\"Was expecting 'miles' or 'kilometers' for final function arg, got \" + units + \" instead.\")\n",
      "\n",
      "    dlon = lon2 - lon1\n",
      "    dlat = lat2 - lat1\n",
      "    \n",
      "#     print dlon, dlat\n",
      "    \n",
      "    a = (sin(dlat/2))**2 + cos(lat1) * cos(lat2) * (sin(dlon/2))**2\n",
      "    c = 2 * atan2(sqrt(a), sqrt(1-a))\n",
      "    distance = R * c\n",
      "    return distance\n",
      "\n",
      "\n",
      "# the_moat = distance_between_geocoded_points(40.066677,-105.288754,41.7004784,-72.5797328, 'kilometers')\n",
      "the_moat = distance_between_geocoded_points(40.066677,-105.288754,41.7004784,-72.5797328,)\n",
      "\n",
      "print the_moat\n",
      "\n",
      "\n",
      "#6.11.15 -- this guy was not getting emailed for incident 214\n",
      "#marc leblanc, cary NC (35.7315398, -78.77595589999999)\n",
      "\n",
      "ml_lat = 35.7315398\n",
      "ml_lon = -78.77595589999999\n",
      "    \n",
      "inc214_lat = 35.6488284\n",
      "inc214_lon = -79.04840639999998\n",
      "\n",
      "dis = distance_between_geocoded_points(ml_lat, ml_lon, inc214_lat, inc214_lon)\n",
      "print dis\n"
     ],
     "language": "python",
     "metadata": {},
     "outputs": [
      {
       "output_type": "stream",
       "stream": "stdout",
       "text": [
        "1702.18782156\n",
        "16.3231065587\n"
       ]
      }
     ],
     "prompt_number": 3
    },
    {
     "cell_type": "code",
     "collapsed": false,
     "input": [
      "\"\"\"\n",
      "given a username, this code finds all the incidents that were within 60 miles for that user.\n",
      "\n",
      "\"\"\"\n",
      "\n",
      "\n",
      "from incident.models import Incident\n",
      "from django.contrib.auth.models import User\n",
      "from users.models import UserProfile\n",
      "\n",
      "\n",
      "def find_user_incident_matches(user, incidents, miles=60):\n",
      "    matched_incidents = []\n",
      "    u_lat = user.get_lat()\n",
      "    u_lon = user.get_lon()\n",
      "    for i in incidents:\n",
      "#         if distance_between_geocoded_points(float(u_lat), float(u_lon), i.position.latitude, i.position.longitude) <= miles:\n",
      "        if distance_between_geocoded_points(u_lat, u_lon, i.position.latitude, i.position.longitude) <= miles:\n",
      "            matched_incidents.append(i)\n",
      "    return matched_incidents\n",
      "            \n",
      "\n",
      "    \n",
      "    \n",
      "def incidents_for_user(the_username, miles=60):\n",
      "    \"\"\"\n",
      "    takes a username -- Oliver-Ezis -- and returns a list of incidents within X miles of the city center that\n",
      "    the user provided\n",
      "    \"\"\"\n",
      "    matched_incidents = []\n",
      "    user = User.objects.get(username=the_username)\n",
      "    u_lat = user.position.get_lat()\n",
      "    u_lon = user.position.get_lon()\n",
      "    incidents = Incident.objects.all()\n",
      "    for i in inicidents:\n",
      "        if distance_between_geocoded_points(u_lat, u_lon, i.position.latitude, i.position.longitude) <= miles:\n",
      "            matched_incidents.append(i)\n",
      "    \n",
      "    return matched_incidents\n",
      "    \n",
      "    \n",
      "I = Incident.objects.all()\n",
      "\n",
      "#up = UserProfile.objects.get(user__username='Oliver-Ezis')\n",
      "up = UserProfile.objects.get(user__username='Marc LeBlanc')\n",
      "print up.first, up.last, up.city, up.state\n",
      "\n",
      "\n",
      "print \"\\n\\nmatches\\n\\n\"\n",
      "\n",
      "matches = []\n",
      "matches = find_user_incident_matches(up, I, 214)\n",
      "for m in matches:\n",
      "    print m.what[:50], m.address\n",
      "\n"
     ],
     "language": "python",
     "metadata": {},
     "outputs": [
      {
       "output_type": "stream",
       "stream": "stdout",
       "text": [
        "Marc LeBlanc Cary North Carolina\n",
        "\n",
        "\n",
        "matches\n",
        "\n",
        "\n",
        "<p>\r\n",
        "A light/faded blue step-van passed a group of"
       ]
      },
      {
       "output_type": "stream",
       "stream": "stdout",
       "text": [
        " 2418-2420 Pea Ridge Road, New Hill, NC 27562, USA\n",
        "<p>I was traveling West on Evans Rd. I had just tu 2600 Evans Road, Apex, NC 27502, USA\n",
        "<p>I was travelling east headed toward Beaver Cree 5548-5892 Pea Ridge Road, New Hill, NC 27562, USA\n",
        "<p>Cycling from Zebulon heading toward Lizard Lick 2200 North Carolina 97, Zebulon, NC 27597, USA\n",
        "<p>Light colored SUV made an aggressive pass into  202 West Bessemer Avenue, Greensboro, NC 27401, USA\n",
        "<p>Cyclist was headed southbound in a 2 person gro 6009 Old U.S. 29, Pelham, NC 27311, USA\n",
        "<p>Edward Fornel, 61 y/o resident and business own 12468-12480 Elmont Road, Ashland, VA 23005, USA\n"
       ]
      }
     ],
     "prompt_number": 4
    },
    {
     "cell_type": "code",
     "collapsed": false,
     "input": [],
     "language": "python",
     "metadata": {},
     "outputs": [],
     "prompt_number": 4
    },
    {
     "cell_type": "code",
     "collapsed": false,
     "input": [],
     "language": "python",
     "metadata": {},
     "outputs": []
    },
    {
     "cell_type": "code",
     "collapsed": false,
     "input": [
      "from incident.models import Incident\n",
      "from django.contrib.auth.models import User\n",
      "\n",
      "# should be modified to handle last X months. \n",
      "\n",
      "def get_user_incidents(the_username, miles=60):\n",
      "    \"\"\"\n",
      "    takes a username -- Oliver-Ezis -- and returns a list of incidents within X miles of the city center that\n",
      "    the user provided\n",
      "    \"\"\"\n",
      "    matched_incidents = []\n",
      "    user = User.objects.get(username=the_username)\n",
      "    u_lat = user.profile.get_lat()\n",
      "    u_lon = user.profile.get_lon()\n",
      "    incidents = Incident.objects.all()\n",
      "    for i in incidents:\n",
      "        if distance_between_geocoded_points(u_lat, u_lon, i.position.latitude, i.position.longitude) <= miles:\n",
      "            matched_incidents.append(i)\n",
      "    \n",
      "    return matched_incidents\n",
      "\n",
      "\"\"\"\n",
      "# incident_list = []\n",
      "incident_list = get_user_incidents('Olive-Ezis')\n",
      "\n",
      "\n",
      "\"\"\"\n",
      "\n",
      "\n",
      "# up = UserProfile.objects.get(user__username='Oliver-Ezis')\n",
      "# print up.first, up.last, up.city, up.state\n",
      "\n",
      "\n",
      "print \"\\n\\nmatches\\n\\n\"\n",
      "\n",
      "matches = []\n",
      "#matches = get_user_incidents('Oliver-Ezis', 35)\n",
      "# next line is a test, the user doesn't have a profile!\n",
      "matches = get_user_incidents('Marc LeBlanc', 35)\n",
      "for m in matches:\n",
      "    print u\"{}\\t{}\\t{}\".format(m.id, m.what[:40], m.address)\n",
      "\n"
     ],
     "language": "python",
     "metadata": {},
     "outputs": [
      {
       "output_type": "stream",
       "stream": "stdout",
       "text": [
        "\n",
        "\n",
        "matches\n",
        "\n",
        "\n",
        "214\t<p>\r\n",
        "A light/faded blue step-van passed \t2418-2420 Pea Ridge Road, New Hill, NC 27562, USA"
       ]
      },
      {
       "output_type": "stream",
       "stream": "stdout",
       "text": [
        "\n",
        "209\t<p>I was traveling West on Evans Rd. I h\t2600 Evans Road, Apex, NC 27502, USA\n",
        "211\t<p>I was travelling east headed toward B\t5548-5892 Pea Ridge Road, New Hill, NC 27562, USA\n",
        "191\t<p>Cycling from Zebulon heading toward L\t2200 North Carolina 97, Zebulon, NC 27597, USA\n"
       ]
      }
     ],
     "prompt_number": 7
    },
    {
     "cell_type": "code",
     "collapsed": false,
     "input": [
      "\n",
      "\n",
      "# UserProfile position is stored in a CharField, it looks like this\n",
      "p = '(40.0149856, -105.27054559999999)'\n",
      "\n",
      "# how to get lat, and lon separated\n",
      "geoposition = p.strip('()').split(',')\n",
      "print geoposition\n",
      "lat = geoposition[0]\n",
      "lon = geoposition[1].strip()\n",
      "print lat\n",
      "print lon"
     ],
     "language": "python",
     "metadata": {},
     "outputs": [
      {
       "output_type": "stream",
       "stream": "stdout",
       "text": [
        " ['40.0149856', ' -105.27054559999999']\n",
        "40.0149856\n",
        "-105.27054559999999\n"
       ]
      }
     ],
     "prompt_number": 6
    },
    {
     "cell_type": "code",
     "collapsed": false,
     "input": [
      "from incident.models import Incident\n",
      "\n",
      "latest = Incident.objects.all().order_by('-id')[:5]\n",
      "\n",
      "for l in latest:\n",
      "    print l.what[:30]"
     ],
     "language": "python",
     "metadata": {},
     "outputs": [
      {
       "output_type": "stream",
       "stream": "stdout",
       "text": [
        "<p>Fake Entry, Brighton CO, ju\n",
        "<p>This is a Fake Entry for Ol\n",
        "<p>Testing the new editor</p>\n",
        "This is a test entry\n",
        "This is a test entry\n"
       ]
      }
     ],
     "prompt_number": 11
    },
    {
     "cell_type": "code",
     "collapsed": false,
     "input": [
      "from __future__ import unicode_literals\n",
      "from geoposition.conf import settings\n",
      "from \n",
      "\n",
      "try:\n",
      "    from south.modelsinspector import add_introspection_rules\n",
      "    add_introspection_rules([], [\"^geoposition\\.fields\\.GeopositionField\"])\n",
      "except ImportError:\n",
      "    print \"Error\"\n",
      "    pass\n"
     ],
     "language": "python",
     "metadata": {},
     "outputs": [
      {
       "output_type": "stream",
       "stream": "stdout",
       "text": [
        "Error\n"
       ]
      }
     ],
     "prompt_number": 17
    },
    {
     "cell_type": "code",
     "collapsed": false,
     "input": [
      "from __future__ import unicode_literals\n",
      "from geoposition.widgets import GeopositionWidget\n",
      "from geoposition import geoposition"
     ],
     "language": "python",
     "metadata": {},
     "outputs": [
      {
       "ename": "ImportError",
       "evalue": "cannot import name geoposition",
       "output_type": "pyerr",
       "traceback": [
        "\u001b[0;31m---------------------------------------------------------------------------\u001b[0m\n\u001b[0;31mImportError\u001b[0m                               Traceback (most recent call last)",
        "\u001b[0;32m<ipython-input-21-31d3c051f18c>\u001b[0m in \u001b[0;36m<module>\u001b[0;34m()\u001b[0m\n\u001b[1;32m      1\u001b[0m \u001b[0;32mfrom\u001b[0m \u001b[0m__future__\u001b[0m \u001b[0;32mimport\u001b[0m \u001b[0municode_literals\u001b[0m\u001b[0;34m\u001b[0m\u001b[0m\n\u001b[1;32m      2\u001b[0m \u001b[0;32mfrom\u001b[0m \u001b[0mgeoposition\u001b[0m\u001b[0;34m.\u001b[0m\u001b[0mwidgets\u001b[0m \u001b[0;32mimport\u001b[0m \u001b[0mGeopositionWidget\u001b[0m\u001b[0;34m\u001b[0m\u001b[0m\n\u001b[0;32m----> 3\u001b[0;31m \u001b[0;32mfrom\u001b[0m \u001b[0mgeoposition\u001b[0m \u001b[0;32mimport\u001b[0m \u001b[0mgeoposition\u001b[0m\u001b[0;34m\u001b[0m\u001b[0m\n\u001b[0m",
        "\u001b[0;31mImportError\u001b[0m: cannot import name geoposition"
       ]
      }
     ],
     "prompt_number": 21
    },
    {
     "cell_type": "code",
     "collapsed": false,
     "input": [
      "\"\"\"\n",
      "Find the users that opted out of email alerts \n",
      "\"\"\"\n",
      "from users.models import UserProfile\n",
      "\n",
      "U = UserProfile.objects.filter(email_incidents=False)\n",
      "\n",
      "print len(U)\n",
      "\n",
      "# NOTE on 6.11.15 247 people had opted out of email notifications\n",
      "\n",
      "for u in U:\n",
      "    print u"
     ],
     "language": "python",
     "metadata": {},
     "outputs": [
      {
       "output_type": "stream",
       "stream": "stdout",
       "text": [
        "247\n",
        "Eric Ray :: ERay ==> eric.ray01@gmail.com -- 2014-12-10 23:11 --  Boulder, CO"
       ]
      },
      {
       "output_type": "stream",
       "stream": "stdout",
       "text": [
        "\n",
        "Brian Hannon :: Brian Hannon ==> tistik@hotmail.com -- 2014-12-14 01:34 --  Boulder, CO"
       ]
      },
      {
       "output_type": "stream",
       "stream": "stdout",
       "text": [
        "\n",
        "R.J. Andrasy :: R.J. Andrasy ==> randrasy@gmail.com -- 2014-12-16 15:34 --  Springdale, PA"
       ]
      },
      {
       "output_type": "stream",
       "stream": "stdout",
       "text": [
        "\n",
        "Nigel Ellsay :: Nigel Ellsay ==> nigelellsay@gmail.com -- 2014-12-24 00:22 --  Courtenay, BC"
       ]
      },
      {
       "output_type": "stream",
       "stream": "stdout",
       "text": [
        "\n",
        "Gregg Shanefelt :: Gregg Shanefelt ==> gshanefelt@mac.com -- 2014-12-16 17:48 --  Latrobe, PA"
       ]
      },
      {
       "output_type": "stream",
       "stream": "stdout",
       "text": [
        "\n",
        "Chris Flynn :: Chris Flynn ==> christopher.j.flynn@gmail.com -- 2014-12-18 16:45 --  Reston, VA"
       ]
      },
      {
       "output_type": "stream",
       "stream": "stdout",
       "text": [
        "\n",
        "Justin Prior :: Justin Prior ==> prior@auburn.edu -- 2014-12-20 14:27 --  Madison, Alabama"
       ]
      },
      {
       "output_type": "stream",
       "stream": "stdout",
       "text": [
        "\n",
        "Robert Nelson :: Robert ==> robert@iremote.com -- 2015-04-03 12:37 --  Minneapolis, Minnesota"
       ]
      },
      {
       "output_type": "stream",
       "stream": "stdout",
       "text": [
        "\n",
        "Nicole Mcbride :: Nicolemcb222 ==> nicolemcbride@me.com -- 2015-04-14 08:38 --  Denver, Colorado"
       ]
      },
      {
       "output_type": "stream",
       "stream": "stdout",
       "text": [
        "\n",
        "David Miller :: mllrbyte ==> mllrdave@gmail.com -- 2015-01-11 01:16 --  Ashburn, Virginia"
       ]
      },
      {
       "output_type": "stream",
       "stream": "stdout",
       "text": [
        "\n",
        "Tim Dice :: timothydice ==> timothy_dice@hotmail.com -- 2015-01-11 02:07 --  Seattle, WA"
       ]
      },
      {
       "output_type": "stream",
       "stream": "stdout",
       "text": [
        "\n",
        "Cheryl Goodwin :: cherylg1970 ==> cherylg1970@gmail.com -- 2014-12-19 02:36 --  Birmingham , AL"
       ]
      },
      {
       "output_type": "stream",
       "stream": "stdout",
       "text": [
        "\n",
        "James Johnston :: jaj991 ==> jaj@darkblack.org -- 2015-02-28 10:15 --  Coventry, West Midlands"
       ]
      },
      {
       "output_type": "stream",
       "stream": "stdout",
       "text": [
        "\n",
        "Zachary Repp :: Zachary Repp ==> xczillon@gmail.com -- 2014-12-17 02:45 --  Langhorne, Pennsylvania"
       ]
      },
      {
       "output_type": "stream",
       "stream": "stdout",
       "text": [
        "\n",
        "Jelger Kalmijn :: jkalmijn ==> jkalmijn@yahoo.com -- 2015-01-11 17:15 --  Chula Vista, CA"
       ]
      },
      {
       "output_type": "stream",
       "stream": "stdout",
       "text": [
        "\n",
        "asdf asdf :: ksb86 ==> ksb86@me.com -- 2015-05-18 17:37 --  na, ut"
       ]
      },
      {
       "output_type": "stream",
       "stream": "stdout",
       "text": [
        "\n",
        "Jonathan S :: jrsteele ==> jrsteele@gmail.com -- 2014-12-17 20:12 --  Langhorne, PA"
       ]
      },
      {
       "output_type": "stream",
       "stream": "stdout",
       "text": [
        "\n",
        "Christopher Niebylski :: Christopher Niebylski ==> niebylski+strava@gmail.com -- 2014-12-18 01:40 --  Washington, DC"
       ]
      },
      {
       "output_type": "stream",
       "stream": "stdout",
       "text": [
        "\n",
        "Christopher Joy :: spongeymonkey ==> spongey1@att.net -- 2014-12-18 05:50 --  Huntsville, AL"
       ]
      },
      {
       "output_type": "stream",
       "stream": "stdout",
       "text": [
        "\n",
        "dan hensley :: somecallme_danimal ==> somecallme.danimal@gmail.com -- 2015-01-11 18:11 --  Oakland, CA"
       ]
      },
      {
       "output_type": "stream",
       "stream": "stdout",
       "text": [
        "\n",
        "Joe Wenning :: Joe Wenning ==> joe@bikelinkbham.com -- 2014-12-18 16:03 --  Birmingham, AL"
       ]
      },
      {
       "output_type": "stream",
       "stream": "stdout",
       "text": [
        "\n",
        "Brittany Jones :: Brittany Jones ==> brit.boaski@gmail.com -- 2014-12-20 04:42 --  Denver, CO"
       ]
      },
      {
       "output_type": "stream",
       "stream": "stdout",
       "text": [
        "\n",
        "Mitch Jansen :: BadDriverDatabase ==> support@baddriverdatabase.com -- 2015-01-12 16:00 --  Davenport, Iowa"
       ]
      },
      {
       "output_type": "stream",
       "stream": "stdout",
       "text": [
        "\n",
        "Heavy Boots :: Heavy Boots ==> heavyboots2k@yahoo.com -- 2014-12-21 05:17 --  Tucson, AZ"
       ]
      },
      {
       "output_type": "stream",
       "stream": "stdout",
       "text": [
        "\n",
        "John Oxley :: John Oxley ==> john.oxley@gmail.com -- 2014-12-24 12:39 --  London, London"
       ]
      },
      {
       "output_type": "stream",
       "stream": "stdout",
       "text": [
        "\n",
        "Karl-Henrik Sundberg :: Karl-Henrik Sundberg ==> karlhenriksundberg@gmail.com -- 2014-12-22 06:54 --  Stockholm, Stockholm"
       ]
      },
      {
       "output_type": "stream",
       "stream": "stdout",
       "text": [
        "\n",
        "Jonathan Perrino :: Jonathan Perrino ==> dead8doughnut@gmail.com -- 2014-12-23 15:51 --  Woburn, MA"
       ]
      },
      {
       "output_type": "stream",
       "stream": "stdout",
       "text": [
        "\n",
        "Grzegorz Mucha :: Grzegorz Mucha ==> mucher@gmail.com -- 2014-12-22 08:40 --  Krakow, Lesser Poland Voivodeship"
       ]
      },
      {
       "output_type": "stream",
       "stream": "stdout",
       "text": [
        "\n",
        "Seyit Hasan \u00c7abuk :: Seyit Hasan \u00c7abuk ==> shcabuk@gmail.com -- 2014-12-22 19:19 --  Istanbul, turkey"
       ]
      },
      {
       "output_type": "stream",
       "stream": "stdout",
       "text": [
        "\n",
        "Nick Morrell :: Nick Morrell ==> ni31mo@gmail.com -- 2014-12-22 11:14 --  Geneva, Canton of Geneva"
       ]
      },
      {
       "output_type": "stream",
       "stream": "stdout",
       "text": [
        "\n",
        "Marcus Whitworth :: Marcus RPR ==> hello@marcuswhitworth.com -- 2014-12-22 10:25 --  London, England"
       ]
      },
      {
       "output_type": "stream",
       "stream": "stdout",
       "text": [
        "\n",
        "Burak Mercanc\u0131 :: Burak Mercanc\u0131 ==> burakmercanci@gmail.com -- 2014-12-24 00:41 --  \u0130zmir, \u0130zmir"
       ]
      },
      {
       "output_type": "stream",
       "stream": "stdout",
       "text": [
        "\n",
        "Todd Holland :: thollandpe ==> thollandpe@yahoo.com -- 2015-04-16 01:30 --  Amherst, MA"
       ]
      },
      {
       "output_type": "stream",
       "stream": "stdout",
       "text": [
        "\n",
        "Herbert Grasberger :: Herbert Grasberger ==> herbert.grasberger@gmail.com -- 2014-12-22 11:35 --  Vienna, Vienna"
       ]
      },
      {
       "output_type": "stream",
       "stream": "stdout",
       "text": [
        "\n",
        "Justin Kader :: JustinKader ==> justin.kader@gmail.com -- 2015-01-16 20:00 --  Minneapolis, MN"
       ]
      },
      {
       "output_type": "stream",
       "stream": "stdout",
       "text": [
        "\n",
        "James P :: James P ==> james@epickup.co.uk -- 2014-12-22 13:23 --  Cheltenham, Gloucestershire"
       ]
      },
      {
       "output_type": "stream",
       "stream": "stdout",
       "text": [
        "\n",
        "Mike Smedes :: Mike Smedes ==> mike.d.smedes@gmail.com -- 2014-12-22 14:25 --  New York, NY"
       ]
      },
      {
       "output_type": "stream",
       "stream": "stdout",
       "text": [
        "\n",
        "Tim Frick :: timfrick ==> tim@mightybytes.com -- 2014-12-23 17:41 --  Chicago, IL"
       ]
      },
      {
       "output_type": "stream",
       "stream": "stdout",
       "text": [
        "\n",
        "Jacob Wissum :: Jacob Wissum ==> wissum@gmail.com -- 2014-12-24 02:36 --  Singapore, Singapore"
       ]
      },
      {
       "output_type": "stream",
       "stream": "stdout",
       "text": [
        "\n",
        "Claire Deal :: Claire Deal ==> cdeal@hsc.edu -- 2014-12-29 12:54 --  Hampden-Sydney, VA"
       ]
      },
      {
       "output_type": "stream",
       "stream": "stdout",
       "text": [
        "\n",
        "richard riter :: richard riter ==> richardriter@yahoo.com -- 2014-12-30 22:10 --  Portland, OR"
       ]
      },
      {
       "output_type": "stream",
       "stream": "stdout",
       "text": [
        "\n",
        "Cheesy Cheeserton :: Cheese ==> kristoforkannarr@yahoo.com -- 2014-12-30 16:42 --  Portland, OR"
       ]
      },
      {
       "output_type": "stream",
       "stream": "stdout",
       "text": [
        "\n",
        "Christine Fort :: dog ==> christine.fort@gmail.com -- 2014-12-24 02:45 --  Somerville, MA"
       ]
      },
      {
       "output_type": "stream",
       "stream": "stdout",
       "text": [
        "\n",
        "Steven Lacoursiere :: Steven Lacoursiere ==> steven.lacoursiere@gmail.com -- 2014-12-29 14:29 --  Reston, VA"
       ]
      },
      {
       "output_type": "stream",
       "stream": "stdout",
       "text": [
        "\n",
        "Chelsea Hartmann :: Chelsea Hartmann ==> chelsea.e.hartmann@gmail.com -- 2014-12-29 17:10 --  Portland, OR"
       ]
      },
      {
       "output_type": "stream",
       "stream": "stdout",
       "text": [
        "\n",
        "G W :: gwdgo2 ==> gwdgo2@aol.com -- 2015-05-13 16:29 --  NA, NA"
       ]
      },
      {
       "output_type": "stream",
       "stream": "stdout",
       "text": [
        "\n",
        "Susan Clark :: susanjclark67 ==> susanjclark67@gmail.com -- 2015-05-15 02:12 --  Culpeper, VA"
       ]
      },
      {
       "output_type": "stream",
       "stream": "stdout",
       "text": [
        "\n",
        "Anne Bentley :: placeholder ==> akbentley@hotmail.com -- 2014-12-29 17:33 --  Takoma Park, MD"
       ]
      },
      {
       "output_type": "stream",
       "stream": "stdout",
       "text": [
        "\n",
        "Michelle Dellinger :: MichDew97 ==> michellekdellinger@gmail.com -- 2014-12-29 18:07 --  Portland, OR"
       ]
      },
      {
       "output_type": "stream",
       "stream": "stdout",
       "text": [
        "\n",
        "Kaan Tellio\u011flu :: Kaan Tellio\u011flu ==> kemaza@gmail.com -- 2014-12-22 15:56 --  Istanbul, mr"
       ]
      },
      {
       "output_type": "stream",
       "stream": "stdout",
       "text": [
        "\n",
        "Mark Knowlson :: Mark Knowlson ==> mknowlson@gmail.com -- 2014-12-22 16:54 --  Surrey, BC"
       ]
      },
      {
       "output_type": "stream",
       "stream": "stdout",
       "text": [
        "\n",
        "Robert Gutgesell :: Robert Gutgesell ==> robertgtsl@gmail.com -- 2014-12-22 17:38 --  Dundas, ON"
       ]
      },
      {
       "output_type": "stream",
       "stream": "stdout",
       "text": [
        "\n",
        "atomsmasher . :: atomsmasher . ==> dmorri@hotmail.com -- 2014-12-22 17:54 --  Vancouver, BC"
       ]
      },
      {
       "output_type": "stream",
       "stream": "stdout",
       "text": [
        "\n",
        "Tim Kelley :: Tim Kelley ==> timkelley@timkelley.net -- 2014-12-22 18:06 --  Arlington, VA"
       ]
      },
      {
       "output_type": "stream",
       "stream": "stdout",
       "text": [
        "\n",
        "Sybrand Strauss :: Sybrand Strauss ==> sybrand.strauss@gmail.com -- 2015-01-08 11:35 --  Cape Town, Western Cape"
       ]
      },
      {
       "output_type": "stream",
       "stream": "stdout",
       "text": [
        "\n",
        "Arn Schaeffer :: Arn Schaeffer ==> arnschaeffer@gmail.com -- 2014-12-22 19:47 --  Boulder, CO"
       ]
      },
      {
       "output_type": "stream",
       "stream": "stdout",
       "text": [
        "\n",
        "Colin Neff :: Colin Neff ==> colinneff@live.com -- 2014-12-23 20:39 --  Mountain View, California"
       ]
      },
      {
       "output_type": "stream",
       "stream": "stdout",
       "text": [
        "\n",
        "Tristan  Cowie :: Tristan  Cowie ==> tcowie@trainright.com -- 2014-12-22 19:56 --  Brevard, NC"
       ]
      },
      {
       "output_type": "stream",
       "stream": "stdout",
       "text": [
        "\n",
        "Ban ZaiRu :: Ban ZaiRu ==> paul@westlakegis.com -- 2014-12-24 20:06 --  Westlake Village, CA"
       ]
      },
      {
       "output_type": "stream",
       "stream": "stdout",
       "text": [
        "\n",
        "Ruben Galbraith :: Ruben Galbraith ==> ruben.galbraith@gmail.com -- 2014-12-29 18:37 --  Portland, OR"
       ]
      },
      {
       "output_type": "stream",
       "stream": "stdout",
       "text": [
        "\n",
        "Balu Hollosi :: Balu Hollosi ==> milletclimbet@yahoo.com.au -- 2014-12-22 21:15 --  Vienna, Vienna"
       ]
      },
      {
       "output_type": "stream",
       "stream": "stdout",
       "text": [
        "\n",
        "Matt Pierson :: Matt Pierson ==> matt.pierson@gmail.com -- 2014-12-22 21:23 --  New York, NY"
       ]
      },
      {
       "output_type": "stream",
       "stream": "stdout",
       "text": [
        "\n",
        "Jamie Gilmore :: Jamie Gilmore ==> jamiedgilmore@gmail.com -- 2014-12-22 21:39 --  Denver, CO"
       ]
      },
      {
       "output_type": "stream",
       "stream": "stdout",
       "text": [
        "\n",
        "Chris Fix :: Chris Fix ==> chris_fix@hotmail.com -- 2014-12-24 21:10 --  West Palm Beach, FL"
       ]
      },
      {
       "output_type": "stream",
       "stream": "stdout",
       "text": [
        "\n",
        "Francois Coppex :: Francois Coppex ==> francoiscoppex@gmail.com -- 2014-12-22 22:14 --  Geneva, Geneva"
       ]
      },
      {
       "output_type": "stream",
       "stream": "stdout",
       "text": [
        "\n",
        "Paul Franklin-Bihary :: mrptfb ==> mrptfb@gmail.com -- 2015-01-10 21:05 --  Seattle, WA"
       ]
      },
      {
       "output_type": "stream",
       "stream": "stdout",
       "text": [
        "\n",
        "Robert Shepherd :: Robert Shepherd ==> strava@robertshepherd.com -- 2014-12-22 23:39 --  Melbourne, VIC"
       ]
      },
      {
       "output_type": "stream",
       "stream": "stdout",
       "text": [
        "\n",
        "Jon Thomassee :: Jon Thomassee ==> jht1976@icloud.com -- 2015-01-08 01:52 --  Tucson, AZ"
       ]
      },
      {
       "output_type": "stream",
       "stream": "stdout",
       "text": [
        "\n",
        "Elizabeth Proctor :: alpacasmiles ==> elizabeth.a.proctor@gmail.com -- 2015-05-15 16:21 --  Quincy, MA"
       ]
      },
      {
       "output_type": "stream",
       "stream": "stdout",
       "text": [
        "\n",
        "Paulina Sliwinska :: Paulina Sliwinska ==> psliwinska1@gmail.com -- 2014-12-23 08:09 --  Edinburgh, Scotland"
       ]
      },
      {
       "output_type": "stream",
       "stream": "stdout",
       "text": [
        "\n",
        "Ryan Hawtin :: Ryan Hawtin ==> strava@rphawtin.com -- 2014-12-23 13:30 --  Fazeley, England"
       ]
      },
      {
       "output_type": "stream",
       "stream": "stdout",
       "text": [
        "\n",
        "paul eichner :: paul eichner ==> eichnerpa@hotmail.com -- 2014-12-25 15:51 --  Delmont, PA"
       ]
      },
      {
       "output_type": "stream",
       "stream": "stdout",
       "text": [
        "\n",
        "Dalat Nguyen :: Dalat Nguyen ==> dalatn@gmail.com -- 2015-01-08 02:05 --  Phoenix, AZ"
       ]
      },
      {
       "output_type": "stream",
       "stream": "stdout",
       "text": [
        "\n",
        "Thatcher Wine :: Thatcher Wine ==> thatcherwine@yahoo.com -- 2014-12-26 12:41 --  Boulder, Colorado"
       ]
      },
      {
       "output_type": "stream",
       "stream": "stdout",
       "text": [
        "\n",
        "Matt Otis :: Matt Otis ==> matt.otis@gmail.com -- 2014-12-29 19:46 --  Portland, OR"
       ]
      },
      {
       "output_type": "stream",
       "stream": "stdout",
       "text": [
        "\n",
        "scott barr :: taco ==> velotaco@yahoo.com -- 2015-01-08 15:07 --  Windcrest, TX"
       ]
      },
      {
       "output_type": "stream",
       "stream": "stdout",
       "text": [
        "\n",
        "Deann Garcia :: Deann Garcia ==> deanncgarcia@gmail.com -- 2014-12-29 20:11 --  Portland, OR"
       ]
      },
      {
       "output_type": "stream",
       "stream": "stdout",
       "text": [
        "\n",
        "Jeremy Chapman :: Jeremy Chapman ==> jeremyrchapman@gmail.com -- 2015-01-09 19:15 --  Columbus, IN"
       ]
      },
      {
       "output_type": "stream",
       "stream": "stdout",
       "text": [
        "\n",
        "Ben Saxon :: Ben Saxon ==> ben.a.saxon@gmail.com -- 2015-01-09 13:02 --  Longstanton, England"
       ]
      },
      {
       "output_type": "stream",
       "stream": "stdout",
       "text": [
        "\n",
        "Ryan Sherlock :: Ryan Sherlock ==> house@ryansherlock.com -- 2015-01-03 18:09 --  Dublin, Dublin"
       ]
      },
      {
       "output_type": "stream",
       "stream": "stdout",
       "text": [
        "\n",
        "David G :: fallingrock ==> david@midrange.com -- 2015-01-08 13:55 --  Chicago, IL"
       ]
      },
      {
       "output_type": "stream",
       "stream": "stdout",
       "text": [
        "\n",
        "Brian West :: Brian West ==> brianw12@hotmail.com -- 2015-01-06 06:02 --  Oakland, CA"
       ]
      },
      {
       "output_type": "stream",
       "stream": "stdout",
       "text": [
        "\n",
        "Paul Watkin :: Paul Watkin ==> paul@stcr.co.uk -- 2015-02-16 07:50 --  Melbourne, Victoria"
       ]
      },
      {
       "output_type": "stream",
       "stream": "stdout",
       "text": [
        "\n",
        "Vince Marotte :: Vince Marotte ==> vince.marotte@gmail.com -- 2015-01-08 17:43 --  Austin, TX"
       ]
      },
      {
       "output_type": "stream",
       "stream": "stdout",
       "text": [
        "\n",
        "Holly Martin :: H_Martin ==> geneticgoat@gmail.com -- 2015-01-09 14:42 --  Indianapolis, IN"
       ]
      },
      {
       "output_type": "stream",
       "stream": "stdout",
       "text": [
        "\n",
        "Justin Huff :: Justin Huff ==> huffjw1@gmail.com -- 2015-01-09 13:45 --  Swissvale, PA"
       ]
      },
      {
       "output_type": "stream",
       "stream": "stdout",
       "text": [
        "\n",
        "PROEDGEBIKER.COM . :: PROEDGEBIKER.COM . ==> peb@proedgebiker.com -- 2015-01-09 13:43 --  Tarpon Springs, FL"
       ]
      },
      {
       "output_type": "stream",
       "stream": "stdout",
       "text": [
        "\n",
        "Chase Park :: Chase Park ==> chase_park41@hotmail.com -- 2015-01-09 04:33 --  Irving, TX"
       ]
      },
      {
       "output_type": "stream",
       "stream": "stdout",
       "text": [
        "\n",
        "Steve Christopher :: Steve Christopher ==> smchristopher1@gmail.com -- 2015-01-09 01:38 --  Minneapolis, MN"
       ]
      },
      {
       "output_type": "stream",
       "stream": "stdout",
       "text": [
        "\n",
        "Lew Anon :: Lew ==> dobozban@gmail.com -- 2015-01-09 06:20 --  NA, NA"
       ]
      },
      {
       "output_type": "stream",
       "stream": "stdout",
       "text": [
        "\n",
        "David Casey :: David Casey ==> david.r.casey@gmail.com -- 2015-01-09 05:21 --  Boise, ID"
       ]
      },
      {
       "output_type": "stream",
       "stream": "stdout",
       "text": [
        "\n",
        "Michael Medina :: Michael Medina ==> aiwetir@gmail.com -- 2015-01-09 08:54 --  Portland, OR"
       ]
      },
      {
       "output_type": "stream",
       "stream": "stdout",
       "text": [
        "\n",
        "Zac Chappell :: Zac Chappell ==> zac.chappell@yahoo.com -- 2015-01-09 16:06 --  Akron, OH"
       ]
      },
      {
       "output_type": "stream",
       "stream": "stdout",
       "text": [
        "\n",
        "Andrei Papaz :: Andrei Papaz ==> andrei.papaz@gmail.com -- 2015-01-09 16:11 --  Toronto, ON"
       ]
      },
      {
       "output_type": "stream",
       "stream": "stdout",
       "text": [
        "\n",
        "Kat Buckley :: Kat Buckley ==> katbuckleyis@gmail.com -- 2015-01-09 23:47 --  Philadelphia, Pennsylvania"
       ]
      },
      {
       "output_type": "stream",
       "stream": "stdout",
       "text": [
        "\n",
        "Eric Welsh :: Eric Welsh ==> ewelsh56@hotmail.com -- 2015-01-09 16:56 --  Redwood City, CA"
       ]
      },
      {
       "output_type": "stream",
       "stream": "stdout",
       "text": [
        "\n",
        "Eric Kenney :: Eric Kenney ==> eric_kenney@hotmail.com -- 2015-01-09 17:00 --  Boulder, CO, USA, CO"
       ]
      },
      {
       "output_type": "stream",
       "stream": "stdout",
       "text": [
        "\n",
        "Rosemary Taylor :: cafecyclist ==> rosemary@graphicswrangler.com -- 2015-01-09 21:23 --  Boston, MA"
       ]
      },
      {
       "output_type": "stream",
       "stream": "stdout",
       "text": [
        "\n",
        "E Schufman :: schufman ==> schufman@gmail.com -- 2015-01-11 22:11 --  Minneapolis, Minnesota"
       ]
      },
      {
       "output_type": "stream",
       "stream": "stdout",
       "text": [
        "\n",
        "Ryan Denner :: Ryan Denner ==> ryan.denner@gmail.com -- 2015-01-09 21:29 --  Carlsbad, CA"
       ]
      },
      {
       "output_type": "stream",
       "stream": "stdout",
       "text": [
        "\n",
        "Kiwi Nerd :: kiwinerd ==> k1w1n3rd@gmail.com -- 2015-01-11 07:21 --  Toronto, Ontario"
       ]
      },
      {
       "output_type": "stream",
       "stream": "stdout",
       "text": [
        "\n",
        "Jason Guiles :: Jason Guiles ==> jguiles@gmail.com -- 2015-01-09 21:47 --  San Diego, CA"
       ]
      },
      {
       "output_type": "stream",
       "stream": "stdout",
       "text": [
        "\n",
        "Edward Greway :: Edward Greway ==> edgreway@gmail.com -- 2015-01-10 00:31 --  Summerville, South Carolina"
       ]
      },
      {
       "output_type": "stream",
       "stream": "stdout",
       "text": [
        "\n",
        "Shawn Dooley :: Shawn Dooley ==> sdooley@gmail.com -- 2015-01-09 19:22 --  Phoenix, AZ"
       ]
      },
      {
       "output_type": "stream",
       "stream": "stdout",
       "text": [
        "\n",
        "Jonathan Poole :: Jonathan Poole ==> jonathan.hp.poole@gmail.com -- 2015-01-09 19:38 --  Alexandria, VA"
       ]
      },
      {
       "output_type": "stream",
       "stream": "stdout",
       "text": [
        "\n",
        "Dan Diiulio :: Dan Diiulio ==> checkered.dan@gmail.com -- 2015-01-09 22:15 --  Seattle, Washington"
       ]
      },
      {
       "output_type": "stream",
       "stream": "stdout",
       "text": [
        "\n",
        "Ryan Jones :: Ryan Jones ==> polyrhythm@gmail.com -- 2015-01-10 03:32 --  San Francisco, California"
       ]
      },
      {
       "output_type": "stream",
       "stream": "stdout",
       "text": [
        "\n",
        "Andrew Reusch :: Andrew Reusch ==> areusch@gmail.com -- 2015-01-09 20:01 --  San Francisco, California"
       ]
      },
      {
       "output_type": "stream",
       "stream": "stdout",
       "text": [
        "\n",
        "Noj Akanamay :: Noj Akanamay ==> jonyamanaka@gmail.com -- 2015-02-23 21:43 --  Honolulu, HI"
       ]
      },
      {
       "output_type": "stream",
       "stream": "stdout",
       "text": [
        "\n",
        "Andy Farkas :: Andy Farkas ==> andy.farkas@gmail.com -- 2015-01-10 17:48 --  Tucson, AZ"
       ]
      },
      {
       "output_type": "stream",
       "stream": "stdout",
       "text": [
        "\n",
        "Molly Cameron :: Molly Cameron ==> molly@portlandbicyclestudio.com -- 2015-01-10 18:08 --  Portland, OR"
       ]
      },
      {
       "output_type": "stream",
       "stream": "stdout",
       "text": [
        "\n",
        "Michelle Lee :: Michelle Lee ==> mishmosh@gmail.com -- 2015-01-10 19:31 --  Philadelphia, Pennsylvania"
       ]
      },
      {
       "output_type": "stream",
       "stream": "stdout",
       "text": [
        "\n",
        "Jesse Reddell :: Burl Reddman ==> jesse.reddell@gmail.com -- 2015-01-10 20:35 --  Santa Cruz, CA"
       ]
      },
      {
       "output_type": "stream",
       "stream": "stdout",
       "text": [
        "\n",
        "Rick Caborn :: lrcaborn ==> closecalldatabase.com@lrcaborn.33mail.com -- 2015-01-13 16:18 --  Toronto, ON"
       ]
      },
      {
       "output_type": "stream",
       "stream": "stdout",
       "text": [
        "\n",
        "William Pike :: William Pike ==> pikewb@gmail.com -- 2015-01-11 09:33 --  Minami Ward, Sagamihara, Kanagawa Prefecture"
       ]
      },
      {
       "output_type": "stream",
       "stream": "stdout",
       "text": [
        "\n",
        "Samuel Britton :: Samuel Britton ==> samuelryanbritton@gmail.com -- 2015-01-11 20:03 --  Riverside, CA"
       ]
      },
      {
       "output_type": "stream",
       "stream": "stdout",
       "text": [
        "\n",
        "Geremy van Arkel :: Geremy van Arkel ==> gvanarkel@frontierasset.com -- 2015-01-11 22:02 --  Lake Claire, GA"
       ]
      },
      {
       "output_type": "stream",
       "stream": "stdout",
       "text": [
        "\n",
        "Anne Katherine :: Anne Katherine ==> anne.k.smith5@gmail.com -- 2015-05-14 16:20 --  Nashville , TN"
       ]
      },
      {
       "output_type": "stream",
       "stream": "stdout",
       "text": [
        "\n",
        "Cliff Golz :: Cliff Golz ==> golzy1@gmail.com -- 2015-01-14 21:21 --  Santa Cruz, CA"
       ]
      },
      {
       "output_type": "stream",
       "stream": "stdout",
       "text": [
        "\n",
        "Jeff Dubrule :: Jeff Dubrule ==> igor+closecall@pobox.com -- 2015-02-24 00:23 --  Seattle, WA"
       ]
      },
      {
       "output_type": "stream",
       "stream": "stdout",
       "text": [
        "\n",
        "Dave Hendricks :: Dave Hendricks ==> hendricksdavej@gmail.com -- 2015-01-12 16:09 --  Minneapolis, Minnesota"
       ]
      },
      {
       "output_type": "stream",
       "stream": "stdout",
       "text": [
        "\n",
        "Chris  Critical :: Critical Chris  ==> the.critical.chris@gmail.com -- 2015-01-12 16:10 --  Minneapolis , MN"
       ]
      },
      {
       "output_type": "stream",
       "stream": "stdout",
       "text": [
        "\n",
        "Ellery Keller :: Ellery Keller ==> elleryjk@gmail.com -- 2015-02-21 20:19 --  Tempe, AZ"
       ]
      },
      {
       "output_type": "stream",
       "stream": "stdout",
       "text": [
        "\n",
        "Gone Riding :: Gone Riding ==> elliotashton@gmail.com -- 2015-02-17 03:14 --  Glebe, NSW"
       ]
      },
      {
       "output_type": "stream",
       "stream": "stdout",
       "text": [
        "\n",
        "mara larson :: ectotherm ==> traildiva@fatcyclist.com -- 2015-01-12 18:57 --  Saint Paul, MN"
       ]
      },
      {
       "output_type": "stream",
       "stream": "stdout",
       "text": [
        "\n",
        "Mike Clark :: mgclark ==> mgclark0464@sbcglobal.net -- 2015-01-13 18:55 --  Benton, AR"
       ]
      },
      {
       "output_type": "stream",
       "stream": "stdout",
       "text": [
        "\n",
        "Rachel SteadySpin Ungarten :: Rachel SteadySpin Ungarten ==> r_sodalite@yahoo.com -- 2015-01-13 02:53 --  Fort Lauderdale, FL"
       ]
      },
      {
       "output_type": "stream",
       "stream": "stdout",
       "text": [
        "\n",
        "Michael Enervold :: Michael Enervold ==> michael.enervold@gmail.com -- 2015-01-13 03:57 --  Birmingham, AL"
       ]
      },
      {
       "output_type": "stream",
       "stream": "stdout",
       "text": [
        "\n",
        "Sean Howes :: Sean Howes ==> sean.howes@gmail.com -- 2015-02-25 21:18 --  London, London"
       ]
      },
      {
       "output_type": "stream",
       "stream": "stdout",
       "text": [
        "\n",
        "Blake Owen :: Blake Owen ==> aubiecat@charter.net -- 2015-01-13 14:55 --  Alexander City, AL"
       ]
      },
      {
       "output_type": "stream",
       "stream": "stdout",
       "text": [
        "\n",
        "T J :: T J ==> tracymd@gmail.com -- 2015-01-15 19:07 --  San Francisco, CA"
       ]
      },
      {
       "output_type": "stream",
       "stream": "stdout",
       "text": [
        "\n",
        "Martin Lambert :: Martin Lambert ==> mr.mclambert@gmail.com -- 2015-01-13 21:09 --  Ascot, England"
       ]
      },
      {
       "output_type": "stream",
       "stream": "stdout",
       "text": [
        "\n",
        "David Mullins :: David Mullins ==> bikemechdav@gmail.com -- 2015-01-13 22:41 --  Huntington, WV"
       ]
      },
      {
       "output_type": "stream",
       "stream": "stdout",
       "text": [
        "\n",
        "Kevin Muthuri :: Kevin Muthuri ==> gross50@hotmail.com -- 2015-01-15 04:46 --  Wildwood, MO"
       ]
      },
      {
       "output_type": "stream",
       "stream": "stdout",
       "text": [
        "\n",
        "Poiche Velotaf :: Poiche Velotaf ==> laurent.barel@gmail.com -- 2015-01-16 06:24 --  Tr\u00e8ves, Rhone-Alpes"
       ]
      },
      {
       "output_type": "stream",
       "stream": "stdout",
       "text": [
        "\n",
        "Douglas Goglia :: Douglas Goglia ==> djg@nycap.rr.com -- 2015-05-18 02:34 --  Halfmoon, New York"
       ]
      },
      {
       "output_type": "stream",
       "stream": "stdout",
       "text": [
        "\n",
        "Jason Rock :: Jason Rock ==> jrock08@gmail.com -- 2015-05-16 16:13 --  Urbana, Illinois"
       ]
      },
      {
       "output_type": "stream",
       "stream": "stdout",
       "text": [
        "\n",
        "Daniel Corvin :: Bike-O-HLC-1 ==> codestarva@beingism.org -- 2015-01-18 22:46 --  Minneapolis, Minnesota"
       ]
      },
      {
       "output_type": "stream",
       "stream": "stdout",
       "text": [
        "\n",
        "Sagar Mittal :: sagarm ==> sagar.mittal@gmail.com -- 2015-05-16 16:18 --  San Francisco, California"
       ]
      },
      {
       "output_type": "stream",
       "stream": "stdout",
       "text": [
        "\n",
        "Mark Deaton :: Detour ==> deaton.mark@gmail.com -- 2015-01-26 21:36 --  N/A, NC"
       ]
      },
      {
       "output_type": "stream",
       "stream": "stdout",
       "text": [
        "\n",
        "Abe Bingham :: maharba ==> number8838@gmail.com -- 2015-01-28 02:35 --  San Francisco, CA"
       ]
      },
      {
       "output_type": "stream",
       "stream": "stdout",
       "text": [
        "\n",
        "Kyle Azevedo :: Kyle Azevedo ==> darkesp@gmail.com -- 2015-01-25 18:16 --  Atlanta, GA"
       ]
      },
      {
       "output_type": "stream",
       "stream": "stdout",
       "text": [
        "\n",
        "Mark Lange :: MarkDavid1970 ==> mark.d.lange@gmail.com -- 2015-05-16 16:32 --  Pittsburgh, PA"
       ]
      },
      {
       "output_type": "stream",
       "stream": "stdout",
       "text": [
        "\n",
        "Philippe Bourget :: Philippe Bourget ==> philippebourget99@gmail.com -- 2015-05-22 14:13 --  Lac-Beauport, QC"
       ]
      },
      {
       "output_type": "stream",
       "stream": "stdout",
       "text": [
        "\n",
        "Adam Asnes :: Adam Asnes ==> adam.asnes@gmail.com -- 2015-01-29 05:29 --  Boulder, CO"
       ]
      },
      {
       "output_type": "stream",
       "stream": "stdout",
       "text": [
        "\n",
        "cameron steadyspin k :: cameron steadyspin k ==> lythandrel@gmail.com -- 2015-02-07 22:56 --  Fort Lauderdale, FL"
       ]
      },
      {
       "output_type": "stream",
       "stream": "stdout",
       "text": [
        "\n",
        "mellissa mortensen :: mellissa mortensen ==> mellissa.mortensen@gmail.com -- 2015-02-01 23:16 --  Laramie, WY"
       ]
      },
      {
       "output_type": "stream",
       "stream": "stdout",
       "text": [
        "\n",
        "Mark Schanzenbach :: Mark Schanzenbach ==> mdschanzenbach@gmail.com -- 2015-02-17 16:10 --  Minneapolis, MN"
       ]
      },
      {
       "output_type": "stream",
       "stream": "stdout",
       "text": [
        "\n",
        "Christen Dybenko :: Christen Dybenko ==> cdybenko@gmail.com -- 2015-02-03 19:32 --  Boulder, CO"
       ]
      },
      {
       "output_type": "stream",
       "stream": "stdout",
       "text": [
        "\n",
        "Kevin Coady :: Kevin Coady ==> kevin.coady@gmail.com -- 2015-02-05 00:09 --  Pleasanton, CA"
       ]
      },
      {
       "output_type": "stream",
       "stream": "stdout",
       "text": [
        "\n",
        "Kevin Mullervy :: Kevin Mullervy ==> kevinmullervy@gmail.com -- 2015-02-06 04:08 --  Tucson, Arizona"
       ]
      },
      {
       "output_type": "stream",
       "stream": "stdout",
       "text": [
        "\n",
        "Graham Sharrock :: Graham Sharrock ==> grahamsharrock@hotmail.com -- 2015-02-09 21:04 --  Liverpool, England"
       ]
      },
      {
       "output_type": "stream",
       "stream": "stdout",
       "text": [
        "\n",
        "K S :: AlphaThree ==> sk@cs.brown.edu -- 2015-05-18 19:44 --  Providence, RI"
       ]
      },
      {
       "output_type": "stream",
       "stream": "stdout",
       "text": [
        "\n",
        "Travis Counsell :: Travis Counsell ==> bigredvt@gmail.com -- 2015-02-23 19:58 --  Kailua, HI"
       ]
      },
      {
       "output_type": "stream",
       "stream": "stdout",
       "text": [
        "\n",
        "meryl laborde :: meryl laborde ==> meryl.laborde@gmail.com -- 2015-02-25 22:51 --  New York, NY"
       ]
      },
      {
       "output_type": "stream",
       "stream": "stdout",
       "text": [
        "\n",
        "g g :: gggg ==> gggg@mailinator.com -- 2015-05-16 17:21 --  San Francisco, CA"
       ]
      },
      {
       "output_type": "stream",
       "stream": "stdout",
       "text": [
        "\n",
        "Brent Phillips :: Brent Phillips ==> bphillips07@gmail.com -- 2015-03-03 19:18 --  Philadelphia, PA"
       ]
      },
      {
       "output_type": "stream",
       "stream": "stdout",
       "text": [
        "\n",
        "Douglas Ollerenshaw :: dougo ==> d.ollerenshaw@gmail.com -- 2015-05-27 15:29 --  Seattle, Washington"
       ]
      },
      {
       "output_type": "stream",
       "stream": "stdout",
       "text": [
        "\n",
        "Ian Donaldson :: Ian Donaldson ==> ian@exidy.org -- 2015-03-06 07:03 --  Melbourne, VIC"
       ]
      },
      {
       "output_type": "stream",
       "stream": "stdout",
       "text": [
        "\n",
        "Veena Karthikeyan :: Veena Karthikeyan ==> karthikeyan.veena@gmail.com -- 2015-05-16 17:43 --  Raleigh, NC"
       ]
      },
      {
       "output_type": "stream",
       "stream": "stdout",
       "text": [
        "\n",
        "Arpad Molnar :: Arpad Molnar ==> arpad@tricyclewineco.com -- 2015-03-06 23:23 --  Oakland, CA"
       ]
      },
      {
       "output_type": "stream",
       "stream": "stdout",
       "text": [
        "\n",
        "Erik Essex :: Erik Essex ==> essexef@gmail.com -- 2015-05-19 02:32 --  Richmond, Virginia"
       ]
      },
      {
       "output_type": "stream",
       "stream": "stdout",
       "text": [
        "\n",
        "Jay Anhold :: Jay Anhold ==> anholdjd@gmail.com -- 2015-03-27 01:04 --  San Diego, California"
       ]
      },
      {
       "output_type": "stream",
       "stream": "stdout",
       "text": [
        "\n",
        "Charles Ramsey :: bicyclehazard ==> bicyclehazard@yahoo.com -- 2015-03-20 22:55 --  Portland, OR"
       ]
      },
      {
       "output_type": "stream",
       "stream": "stdout",
       "text": [
        "\n",
        "Smorg Cycle :: Smorg ==> sdcmorg@yahoo.com -- 2015-03-27 06:09 --  San Diego, CA"
       ]
      },
      {
       "output_type": "stream",
       "stream": "stdout",
       "text": [
        "\n",
        "ilya m :: ilushka ==> jibberboosh@gmail.com -- 2015-04-05 22:24 --  san jose, ca"
       ]
      },
      {
       "output_type": "stream",
       "stream": "stdout",
       "text": [
        "\n",
        "Chelsea Rogers :: Chelsea Rogers ==> chelsea.rogers@gmail.com -- 2015-04-02 02:40 --  New York, New York"
       ]
      },
      {
       "output_type": "stream",
       "stream": "stdout",
       "text": [
        "\n",
        "Ben Schrass :: Ben Schrass ==> b_schrass@yahoo.com -- 2015-03-26 16:24 --  Mechanicsburg, Pennsylvania"
       ]
      },
      {
       "output_type": "stream",
       "stream": "stdout",
       "text": [
        "\n",
        "Paul Irish :: Paul Irish ==> paul.irish@gmail.com -- 2015-05-16 18:05 --  Palo Alto, CA"
       ]
      },
      {
       "output_type": "stream",
       "stream": "stdout",
       "text": [
        "\n",
        "Teresa Jones :: triteri ==> teresajones@usa.net -- 2015-05-18 03:59 --  Loveland, Colorado"
       ]
      },
      {
       "output_type": "stream",
       "stream": "stdout",
       "text": [
        "\n",
        "Thorin Klosowski :: Thorin Klosowski ==> thorin@thorinklosowski.com -- 2015-04-07 15:08 --  Seattle, WA"
       ]
      },
      {
       "output_type": "stream",
       "stream": "stdout",
       "text": [
        "\n",
        "Jacob Barrett :: Jacob Barrett ==> jacobwritescopy@gmail.com -- 2015-04-07 15:46 --  Austin, Texas"
       ]
      },
      {
       "output_type": "stream",
       "stream": "stdout",
       "text": [
        "\n",
        "Malte Wallmeier :: wuidsau ==> malte.wallmeier@gmx.de -- 2015-05-19 06:45 --  Dresden, Sachsen"
       ]
      },
      {
       "output_type": "stream",
       "stream": "stdout",
       "text": [
        "\n",
        "Tripp Lovett :: Tripp Lovett ==> tripplovett@bellsouth.net -- 2015-05-13 18:35 --  Marietta, GA"
       ]
      },
      {
       "output_type": "stream",
       "stream": "stdout",
       "text": [
        "\n",
        "Alex Dorgan-Ross :: Alex Dorgan-Ross ==> adrdfd@me.com -- 2015-04-08 01:32 --  Boulder, CO"
       ]
      },
      {
       "output_type": "stream",
       "stream": "stdout",
       "text": [
        "\n",
        "Joshua Murdock :: Joshua Murdock ==> josmur@gmail.com -- 2015-04-13 23:55 --  Golden, Colorado"
       ]
      },
      {
       "output_type": "stream",
       "stream": "stdout",
       "text": [
        "\n",
        "Jon Crowson :: Jon Crowson ==> jncrowson@yahoo.com -- 2015-04-09 20:35 --  Oak Ridge, TN"
       ]
      },
      {
       "output_type": "stream",
       "stream": "stdout",
       "text": [
        "\n",
        "Spencer Powlison :: Spencer Powlison ==> spowlison@saintmikesalum.com -- 2015-04-13 14:25 --  Boulder, CO"
       ]
      },
      {
       "output_type": "stream",
       "stream": "stdout",
       "text": [
        "\n",
        "Beth Allen :: Beth Allen ==> bethhope_1@yahoo.com -- 2015-05-13 17:06 --  Canton, MA"
       ]
      },
      {
       "output_type": "stream",
       "stream": "stdout",
       "text": [
        "\n",
        "Colin Sandberg :: Colin Sandberg ==> colinmsandberg@gmail.com -- 2015-04-14 20:00 --  Philadelphia, PA"
       ]
      },
      {
       "output_type": "stream",
       "stream": "stdout",
       "text": [
        "\n",
        "Anne Welch :: Anne Welch ==> awelch1213@gmail.com -- 2015-04-18 03:22 --  Atlanta, GA"
       ]
      },
      {
       "output_type": "stream",
       "stream": "stdout",
       "text": [
        "\n",
        "Peter Swanborough :: Peter Swanborough ==> info@gaslectric.co.uk -- 2015-04-15 18:20 --  Ripon, North Yorkshire"
       ]
      },
      {
       "output_type": "stream",
       "stream": "stdout",
       "text": [
        "\n",
        "eric nicoletti :: eric nicoletti ==> eric@herchel.com -- 2015-04-15 20:26 --  Atlanta, GA"
       ]
      },
      {
       "output_type": "stream",
       "stream": "stdout",
       "text": [
        "\n",
        "Chelsey  Tait :: ChelseyRae ==> chelseyt_14@hotmail.com -- 2015-05-13 16:44 --  West Jordan , Utah"
       ]
      },
      {
       "output_type": "stream",
       "stream": "stdout",
       "text": [
        "\n",
        "yuanyu chen :: yuanyu chen ==> yuanyu.chen@gmail.com -- 2015-04-18 04:11 --  San Francisco, CA"
       ]
      },
      {
       "output_type": "stream",
       "stream": "stdout",
       "text": [
        "\n",
        "Shan Sharif :: Shan Sharif ==> shsh0502@hotmail.com -- 2015-04-19 21:04 --  Saint Paul, Minnesota"
       ]
      },
      {
       "output_type": "stream",
       "stream": "stdout",
       "text": [
        "\n",
        "Sylvia Hammer :: Sylvia Hammer ==> mzmoto@sbcglobal.net -- 2015-04-20 17:06 --  Redding, CA"
       ]
      },
      {
       "output_type": "stream",
       "stream": "stdout",
       "text": [
        "\n",
        "Robbie Rosen :: Robbie ==> hiking32@aol.com -- 2015-05-14 14:28 --  Philadelphia, PA"
       ]
      },
      {
       "output_type": "stream",
       "stream": "stdout",
       "text": [
        "\n",
        "stephen spring :: stephenspring ==> stephenspring4@gmail.com -- 2015-05-06 23:37 --  Atlanta, Georgia"
       ]
      },
      {
       "output_type": "stream",
       "stream": "stdout",
       "text": [
        "\n",
        "Michael Kaplan :: Michael Kaplan ==> mekaplanesq@comcast.net -- 2015-05-13 16:38 --  Doylestown, PA"
       ]
      },
      {
       "output_type": "stream",
       "stream": "stdout",
       "text": [
        "\n",
        "Dennis Sisson :: Dennis Sisson ==> sisson.dennis@gmail.com -- 2015-05-17 14:02 --  Magna, UT"
       ]
      },
      {
       "output_type": "stream",
       "stream": "stdout",
       "text": [
        "\n",
        "Jonathan Manley :: Jonathan Manley ==> jonathanemanley@gmail.com -- 2015-05-16 21:31 --  Phoenix, AZ"
       ]
      },
      {
       "output_type": "stream",
       "stream": "stdout",
       "text": [
        "\n",
        "Mark Ghiassi :: Mark Ghiassi ==> hornman@earthlink.net -- 2015-05-13 16:40 --  Long Beach, CA"
       ]
      },
      {
       "output_type": "stream",
       "stream": "stdout",
       "text": [
        "\n",
        "Wayne Lewis :: Wayne Lewis ==> lgchme@comcast.net -- 2015-05-13 18:38 --  Florence, AL"
       ]
      },
      {
       "output_type": "stream",
       "stream": "stdout",
       "text": [
        "\n",
        "J Doe :: redsoxwin04 ==> richardjcleveland@gmail.com -- 2015-05-13 18:36 --  Natick, Ma"
       ]
      },
      {
       "output_type": "stream",
       "stream": "stdout",
       "text": [
        "\n",
        "Steven Feng :: Steven Feng ==> xtekian@gmail.com -- 2015-05-13 19:24 --  Minneapolis, Minnesota"
       ]
      },
      {
       "output_type": "stream",
       "stream": "stdout",
       "text": [
        "\n",
        "Olly Fawcett-Griffiths :: Olly Fawcett-Griffiths ==> olly@ollyfg.com -- 2015-05-20 00:14 --  Auckland, Auckland"
       ]
      },
      {
       "output_type": "stream",
       "stream": "stdout",
       "text": [
        "\n",
        "Jonathan Livingston :: Jonathan Livingston ==> mvv@epdoc.com -- 2015-05-13 19:54 --  Sunnyvale, CA"
       ]
      },
      {
       "output_type": "stream",
       "stream": "stdout",
       "text": [
        "\n",
        "Kelly Feldman :: vigorelli ==> bikes@kellysuzanne.com -- 2015-05-13 22:37 --  San Francisco, CA"
       ]
      },
      {
       "output_type": "stream",
       "stream": "stdout",
       "text": [
        "\n",
        "Dawn Faw :: Dawn Faw ==> downfaw56@yahoo.com -- 2015-05-14 00:41 --  Dunedin, Florida"
       ]
      },
      {
       "output_type": "stream",
       "stream": "stdout",
       "text": [
        "\n",
        "Jon H. :: Jon H. ==> jonheft@gmail.com -- 2015-05-14 00:05 --  Wixom, MI"
       ]
      },
      {
       "output_type": "stream",
       "stream": "stdout",
       "text": [
        "\n",
        "Dom Boonen - VietVelo :: Dom Boonen - VietVelo ==> vht@rocketmail.com -- 2015-05-14 01:05 --  Ashburn, Virginia"
       ]
      },
      {
       "output_type": "stream",
       "stream": "stdout",
       "text": [
        "\n",
        "Ronald Mannak :: Ronald Mannak ==> r@yobble.me -- 2015-05-14 01:59 --  San Francisco, CA"
       ]
      },
      {
       "output_type": "stream",
       "stream": "stdout",
       "text": [
        "\n",
        "Jake H :: JakeH ==> cameron@rideye.com -- 2015-05-21 21:09 --  NA, NA"
       ]
      },
      {
       "output_type": "stream",
       "stream": "stdout",
       "text": [
        "\n",
        "Gabriel Sturdevant :: Gabriel Sturdevant ==> gabriel94509@yahoo.com -- 2015-05-14 02:10 --  Pittsburg, California"
       ]
      },
      {
       "output_type": "stream",
       "stream": "stdout",
       "text": [
        "\n",
        "K C :: kcobb2001 ==> kc95m3@hotmail.com -- 2015-05-14 09:46 --  Columbia, SC"
       ]
      },
      {
       "output_type": "stream",
       "stream": "stdout",
       "text": [
        "\n",
        "mi blkn :: mstrsblkns ==> mstrsblkns@gmail.com -- 2015-05-14 10:34 --  na, nj"
       ]
      },
      {
       "output_type": "stream",
       "stream": "stdout",
       "text": [
        "\n",
        "Matt Desrosiers :: Matt Desrosiers ==> mattd890@gmail.com -- 2015-05-16 22:45 --  Island of Montreal, Quebec, Canada, QC"
       ]
      },
      {
       "output_type": "stream",
       "stream": "stdout",
       "text": [
        "\n",
        "Steven Heller :: Steven Heller ==> hellerstvn@gmail.com -- 2015-05-14 14:51 --  Austin, TX"
       ]
      },
      {
       "output_type": "stream",
       "stream": "stdout",
       "text": [
        "\n",
        "Don't wantto :: mtnxplor ==> thefiffs@yahoo.com -- 2015-05-16 23:03 --  slc, utah"
       ]
      },
      {
       "output_type": "stream",
       "stream": "stdout",
       "text": [
        "\n",
        "patrick baum :: patrickbaum ==> patrickbaum@gmail.com -- 2015-05-17 16:00 --  Draper, ut"
       ]
      },
      {
       "output_type": "stream",
       "stream": "stdout",
       "text": [
        "\n",
        "Lance Jensen :: lbj ==> lancebjensen@gmail.com -- 2015-05-18 13:45 --  Springville, UT"
       ]
      },
      {
       "output_type": "stream",
       "stream": "stdout",
       "text": [
        "\n",
        "Destry DiViesti :: Destry DiViesti ==> destrydiviesti@hotmail.com -- 2015-05-16 23:05 --  Layton, UT"
       ]
      },
      {
       "output_type": "stream",
       "stream": "stdout",
       "text": [
        "\n",
        "J S :: mythos1997 ==> mythos1997@gmail.com -- 2015-05-14 21:03 --  Cedar Rapids, IA"
       ]
      },
      {
       "output_type": "stream",
       "stream": "stdout",
       "text": [
        "\n",
        "Adam Parmer :: Adam Parmer ==> adamparmer@gmail.com -- 2015-05-14 22:36 --  Walla Walla, WA"
       ]
      },
      {
       "output_type": "stream",
       "stream": "stdout",
       "text": [
        "\n",
        "Evan Wilson :: Evan Wilson ==> shimoniii@hotmail.com -- 2015-05-18 15:25 --  Atlanta, Georgia"
       ]
      },
      {
       "output_type": "stream",
       "stream": "stdout",
       "text": [
        "\n",
        "Darby Payne :: Darby Payne ==> darby.payne@gmail.com -- 2015-05-16 04:02 --  Palo Alto, CA"
       ]
      },
      {
       "output_type": "stream",
       "stream": "stdout",
       "text": [
        "\n",
        "Ian Shopland :: Ian Shopland ==> ecobiker1@gmail.com -- 2015-05-18 23:29 --  Olympia, WA"
       ]
      },
      {
       "output_type": "stream",
       "stream": "stdout",
       "text": [
        "\n",
        "J S :: mjultra ==> selzerj@gmail.com -- 2015-05-16 04:09 --  Regina, SK"
       ]
      },
      {
       "output_type": "stream",
       "stream": "stdout",
       "text": [
        "\n",
        "jim shilale :: jim shilale ==> jim@shilale.net -- 2015-05-15 12:28 --  Medfield, MA"
       ]
      },
      {
       "output_type": "stream",
       "stream": "stdout",
       "text": [
        "\n",
        "Patrick Tescher :: Patrick Tescher ==> pat2man@gmail.com -- 2015-05-16 05:18 --  San Mateo, CA"
       ]
      },
      {
       "output_type": "stream",
       "stream": "stdout",
       "text": [
        "\n",
        "Brien Wankel :: Brien Wankel ==> brien@reebosak.net -- 2015-05-15 16:28 --  San Francisco, CA"
       ]
      },
      {
       "output_type": "stream",
       "stream": "stdout",
       "text": [
        "\n",
        "Marc Coppedge :: Marc Coppedge ==> marc.coppedge@gmail.com -- 2015-05-18 15:29 --  Austin, Texas"
       ]
      },
      {
       "output_type": "stream",
       "stream": "stdout",
       "text": [
        "\n",
        "Robert Sharp :: Robert Sharp ==> me@robertsharp.id.au -- 2015-05-16 03:24 --  Brisbane, Queensland"
       ]
      },
      {
       "output_type": "stream",
       "stream": "stdout",
       "text": [
        "\n",
        "Bob Scarano :: scarano ==> bob@scarano.com -- 2015-05-16 12:38 --  Monroe, CT"
       ]
      },
      {
       "output_type": "stream",
       "stream": "stdout",
       "text": [
        "\n",
        "Jason Tokoph :: Jason Tokoph ==> jason@tokoph.net -- 2015-05-16 02:49 --  San Francisco, CA"
       ]
      },
      {
       "output_type": "stream",
       "stream": "stdout",
       "text": [
        "\n",
        "Doug DeBold :: xcskier56 ==> ddebold56@gmail.com -- 2015-05-16 03:10 --  Minneapolis, MN"
       ]
      },
      {
       "output_type": "stream",
       "stream": "stdout",
       "text": [
        "\n",
        "Cameron Newland :: Cameron Newland (e) ==> cnewland@gmail.com -- 2015-05-19 01:00 --  Los Angeles, CA"
       ]
      },
      {
       "output_type": "stream",
       "stream": "stdout",
       "text": [
        "\n",
        "Yoshi Sono :: Yoshi Sono ==> yoshiaki.sono@gmail.com -- 2015-05-16 04:34 --  San Francisco, CA"
       ]
      },
      {
       "output_type": "stream",
       "stream": "stdout",
       "text": [
        "\n",
        "Chris R :: Chris R ==> offline@offby1.net -- 2015-05-16 06:11 --  Seattle, WA"
       ]
      },
      {
       "output_type": "stream",
       "stream": "stdout",
       "text": [
        "\n",
        "Dylan P :: Dylan P ==> me@dylanpyle.com -- 2015-05-16 05:55 --  San Francisco, California"
       ]
      },
      {
       "output_type": "stream",
       "stream": "stdout",
       "text": [
        "\n",
        "Oiva Eskola :: Oiva Eskola ==> oiva.eskola@gmail.com -- 2015-05-16 06:52 --  Espoo, NA"
       ]
      },
      {
       "output_type": "stream",
       "stream": "stdout",
       "text": [
        "\n",
        "Drew Skau :: Drew Skau ==> dwskau@gmail.com -- 2015-05-18 15:43 --  Vallejo, CA"
       ]
      },
      {
       "output_type": "stream",
       "stream": "stdout",
       "text": [
        "\n",
        "Tatsu Hashimoto :: Tatsu Hashimoto ==> tatsu23456@gmail.com -- 2015-05-16 07:01 --  Boston, MA"
       ]
      },
      {
       "output_type": "stream",
       "stream": "stdout",
       "text": [
        "\n",
        "brian leung :: bike29488 ==> briankleung@hotmail.com -- 2015-05-20 04:13 --  quincy, ma"
       ]
      },
      {
       "output_type": "stream",
       "stream": "stdout",
       "text": [
        "\n",
        "\uc548\ud1a4 \uc2a4\ud131 :: \uc548\ud1a4 \uc2a4\ud131 ==> sigman78@gmail.com -- 2015-05-16 10:01 --  Kyyiv, Kyiv city"
       ]
      },
      {
       "output_type": "stream",
       "stream": "stdout",
       "text": [
        "\n",
        "Sam Desborough :: Sam Desborough ==> sam.desborough@gmail.com -- 2015-05-16 09:17 --  London, NA"
       ]
      },
      {
       "output_type": "stream",
       "stream": "stdout",
       "text": [
        "\n",
        "Jim Branson :: tetromon ==> tetroconcrete@gmail.com -- 2015-05-18 16:01 --  Austin, TX"
       ]
      },
      {
       "output_type": "stream",
       "stream": "stdout",
       "text": [
        "\n",
        "Jerry Jin :: Jerry Jin ==> jerry.jin@gmail.com -- 2015-05-21 20:11 --  Cary, NC"
       ]
      },
      {
       "output_type": "stream",
       "stream": "stdout",
       "text": [
        "\n",
        "Alex S :: Alex Shartsis ==> acshartsis@gmail.com -- 2015-05-26 18:02 --  San Francisco, CA"
       ]
      },
      {
       "output_type": "stream",
       "stream": "stdout",
       "text": [
        "\n",
        "Chris Elbo :: Chris Elbo ==> christopher3526@yahoo.com -- 2015-05-26 16:18 --  Oakland, CA"
       ]
      },
      {
       "output_type": "stream",
       "stream": "stdout",
       "text": [
        "\n",
        "Adam Van de Water :: Adam Van de Water ==> i3pin@yahoo.com -- 2015-05-26 16:52 --  Oakland, CA"
       ]
      },
      {
       "output_type": "stream",
       "stream": "stdout",
       "text": [
        "\n",
        "D J :: danbert ==> danbert2557@gmail.com -- 2015-05-28 16:05 --  Fairfax, VA"
       ]
      },
      {
       "output_type": "stream",
       "stream": "stdout",
       "text": [
        "\n",
        "Heidi Gilroy :: heidibaldi ==> hegilroy@yahoo.com -- 2015-06-04 20:32 --  Houston, TX"
       ]
      },
      {
       "output_type": "stream",
       "stream": "stdout",
       "text": [
        "\n",
        "PE Norris :: PE Norris ==> paul@sanjuro.org -- 2015-06-01 20:59 --  Columbia, MO"
       ]
      },
      {
       "output_type": "stream",
       "stream": "stdout",
       "text": [
        "\n",
        "Jim Adamson :: James Aydemir ==> james.aydemir@gmail.com -- 2015-06-07 03:38 --  Austin, Texas"
       ]
      },
      {
       "output_type": "stream",
       "stream": "stdout",
       "text": [
        "\n",
        "Marc LeBlanc :: Marc LeBlanc ==> mleblanc@nc.rr.com -- 2015-06-11 19:47 --  Cary, North Carolina"
       ]
      },
      {
       "output_type": "stream",
       "stream": "stdout",
       "text": [
        "\n"
       ]
      }
     ],
     "prompt_number": 11
    },
    {
     "cell_type": "code",
     "collapsed": false,
     "input": [],
     "language": "python",
     "metadata": {},
     "outputs": []
    }
   ],
   "metadata": {}
  }
 ]
}