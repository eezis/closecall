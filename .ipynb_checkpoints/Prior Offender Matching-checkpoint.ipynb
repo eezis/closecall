{
 "metadata": {
  "name": "",
  "signature": "sha256:477fba20a9f8f26cbcfd296e8bd275c192de21f1d7229c1c8b5252e6473e6c33"
 },
 "nbformat": 3,
 "nbformat_minor": 0,
 "worksheets": [
  {
   "cells": [
    {
     "cell_type": "code",
     "collapsed": false,
     "input": [
      "import sys\n",
      "sys.path.append(\"/Users/eae/code/sites/closecall\")\n",
      "sys.path.append(\"/Users/eae/.virtualenvs/closecall/lib/python2.7/site-packages\")\n",
      "sys.path.append(\"/home/eezis/sites/closecall\")\n",
      "sys.path.append(\"/home/eezis/sites/closecall/closecall\")\n",
      "sys.path.append(\"/home/eezis/.virtualenvs/closecall/bin/python2.7/site-packages\")\n",
      "\n",
      "import os\n",
      "os.environ['DJANGO_SETTINGS_MODULE'] = 'closecall.settings'\n",
      "import django\n",
      "django.setup()\n",
      "\n",
      "import re\n",
      "\n",
      "from incident.models import Incident\n",
      "\n",
      "def regex_match(pattern_to_find, string_to_search):\n",
      "    if re.search(pattern_to_find, string_to_search, flags=re.M|re.S):\n",
      "        return True\n",
      "\n",
      "def does_clue_exist_in_clues(clue, clues):\n",
      "    return regex_match(clue, clues)\n",
      "\n",
      "def look_for_prior_violation(clue):\n",
      "    # get all the incidents     \n",
      "    I = Incident.objects.all()\n",
      "    # create a dictionary to hold the datas/clues from prior incident reports\n",
      "    potentials = {}\n",
      "    # build the dictionary of potential data\n",
      "    for i in I:\n",
      "        #print i.id, i.license_certain, i.license_uncertain, i.vehicle_description\n",
      "        potentials[i.id] = i.license_certain, i.license_uncertain, i.vehicle_description, i.address,\n",
      "    \n",
      "    for key in potentials:\n",
      "        if does_clue_exist_in_clues(clue, str(potentials[key])):\n",
      "            print key, clue, potentials[key] \n",
      "        \n",
      "\n",
      "#         print potentials[key]\n",
      "    \n",
      "print \"------------\"    \n",
      "    \n",
      "# look_for_prior_violation('Small')\n",
      "# print \n",
      "# look_for_prior_violation('Small SUV')\n",
      "# print\n",
      "# look_for_prior_violation('259 FRP')\n",
      "# print\n",
      "# look_for_prior_violation('Cooper')\n",
      "\n",
      "print\n",
      "look_for_prior_violation('brown')\n",
      "# look_for_prior_violation('Pickup')\n",
      "# look_for_prior_violation('870')\n",
      "\n"
     ],
     "language": "python",
     "metadata": {},
     "outputs": [
      {
       "output_type": "stream",
       "stream": "stdout",
       "text": [
        "------------\n",
        "\n",
        "125"
       ]
      },
      {
       "output_type": "stream",
       "stream": "stdout",
       "text": [
        " white (u'CA: 6JCA330', u'', u'white Honda Odyssey minivan, 4th gen', u'4801-4805 California 84, Sunol, CA 94586, USA')\n",
        "135 white (u'', u'', u'Day cab truck/ white trailer Ward Trucking', u'7001-7299 Granger Road, Independence, OH 44131, USA')\n",
        "195 white (u'', u'CO 341-PVM', u'white Ford F-350(?) super duty (with large towing mirrors)', u'4901 Zuni Street, Denver, CO 80221, USA')\n",
        "220 white (u'', u'North Carolina; first 3 characters \"XPR\"; the 4 digit following numbers were, I THINK, 6967, but pretty sure about the 6x67.', u'Dirty white or very light beige Subaru hatchback/wagon with NC plates', u'440 Riverside Drive, Asheville, NC 28801, USA')\n",
        "228 white (u'', u'RI: P 898 (sure about last 3 digits and state)', u'white late-model white sedan with a trunk', u'51-69 1st Street, East Providence, RI 02914, USA')\n",
        "233 white (u'California', u'7Z52346', u'Large white pickup -- maybe a Chevy Silverado -- possibly had small round running boards, newer model (2007 or so) traveling Westbound from Glen Ellen', u'8600-8606 Bennett Valley Road, Glen Ellen, CA 95442, USA')\n",
        "237 white (u'', u'CA 4EL0111', u'white subaru suv older model 2000 as a guess ', u'10021 California 1, Point Reyes Station, CA 94956, USA')\n",
        "243 white (u'NY plate FLM 3345', u'', u'dirty white or light tan older sedan', u'766-774 New York 22, White Plains, NY 10603, USA')\n",
        "265 white (u'Ohio - GGZ 8771', u'', u'white pickup truck, labeled for a contracting company (Jones? Scott? Anderson?) with equipment', u'450 East Weber Road, Columbus, OH 43202, USA')\n",
        "273 white (u'', u'', u'Late model red Ford work truck with a large white boom in the rear bed.', u'26451 Old Julian Highway, Ramona, CA 92065, USA')\n",
        "301 white (u'PA ZDM 6422', u'', u'white pickup from Titan landscape. Titanlandscapeinc.com. 215-508-1008', u'4539-4573 Main Street, Philadelphia, PA 19127, USA')\n",
        "310 white (u'KY 816TPJ', u'', u\"Older model (80's), beat up, dirty white, rocker panels spray painted orange.\", u'U.S. 68, Glasgow, KY 42141, USA')\n",
        "325 white (u'CT 4AP LF9', u'', u'white chevy cruze', u'881 Plainville Ave, Farmington, CT 06032, USA')\n",
        "351 white (u'', u'PA ZCW 3404', u'Black GMC or Chevy pickup with white rack', u'1651 Dowlin Forge Rd, Downingtown, PA 19335, USA')\n",
        "355 white (u'CO, 252 SFU', u'', u'Small white SUV', u'3006 W 72nd Ave, Westminster, CO 80030, USA')\n",
        "427 white (u'California 75197D1', u'', u'White Chevy Silverado with white camper shell and overhead carrier ', u'2945-3143 Mission Ave, Oceanside, CA 92054, USA')\n",
        "429 white (u'MD: 9CD9934', u'', u'Silver or salt-encrusted white Prius', u'1301-1319 Winterson Rd, Linthicum Heights, MD 21090, USA')\n",
        "436 white (u'CO 569-MEL', u'', u'white Jeep Grand Cherokee', u'2400-2424 E 16th Ave, Denver, CO 80206, USA')\n",
        "446 white (u'', u'', u'2000 Ford Ranger XL / XLT, muddy red, a white camper shell', u'4250-4276 Stadium Pkwy, Rockledge, FL 32955, USA')\n",
        "488 white (u'611 WEC', u'', u'white GMC Yukon SUV, hitch rack with two higher end Felt bicycles', u'2300-2314 High Lonesome Trail, Lafayette, CO 80026, USA')\n",
        "489 white (u'', u'', u'Construction water truck, white with blue stripes with the lettering \"Corral\" on the door', u'13786-14998 Uvas Rd, Morgan Hill, CA 95037, USA')\n",
        "521 white (u'628-CWZ', u'', u'white 4 door car with sun roof', u'803 Main St, Lino Lakes, MN 55014, USA')\n"
       ]
      }
     ],
     "prompt_number": 1
    },
    {
     "cell_type": "code",
     "collapsed": false,
     "input": [],
     "language": "python",
     "metadata": {},
     "outputs": []
    }
   ],
   "metadata": {}
  }
 ]
}