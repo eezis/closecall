{
 "metadata": {
  "name": "",
  "signature": "sha256:bf86d3f6ab65d778337b5a0dcf4d523a367721cb054ad0e29ce48903197d7d5d"
 },
 "nbformat": 3,
 "nbformat_minor": 0,
 "worksheets": [
  {
   "cells": [
    {
     "cell_type": "code",
     "collapsed": false,
     "input": [
      "import sys\n",
      "sys.path.append(\"/Users/eae/code/sites/closecall\")\n",
      "sys.path.append(\"/Users/eae/.virtualenvs/closecall/lib/python2.7/site-packages\")\n",
      "sys.path.append(\"/home/eezis/sites/closecall\")\n",
      "sys.path.append(\"/home/eezis/sites/closecall/closecall\")\n",
      "sys.path.append(\"/home/eezis/.virtualenvs/closecall/bin/python2.7/site-packages\")\n",
      "\n",
      "import os\n",
      "os.environ['DJANGO_SETTINGS_MODULE'] = 'closecall.settings'\n",
      "import django\n",
      "django.setup()\n",
      "\n",
      "import re\n",
      "\n",
      "from incident.models import Incident\n",
      "\n",
      "def regex_match(pattern_to_find, string_to_search):\n",
      "    if re.search(pattern_to_find, string_to_search, flags=re.M|re.S):\n",
      "        return True\n",
      "\n",
      "def does_clue_exist_in_clues(clue, clues):\n",
      "    return regex_match(clue, clues)\n",
      "\n",
      "def look_for_prior_violation(clue):\n",
      "    # get all the incidents     \n",
      "    I = Incident.objects.all()\n",
      "    # create a dictionary to hold the datas/clues from prior incident reports\n",
      "    potentials = {}\n",
      "    # build the dictionary of potential data\n",
      "    for i in I:\n",
      "        #print i.id, i.license_certain, i.license_uncertain, i.vehicle_description\n",
      "        potentials[i.id] = i.license_certain, i.license_uncertain, i.vehicle_description\n",
      "\n",
      "\n",
      "    for key in potentials:\n",
      "        if does_clue_exist_in_clues(clue, str(potentials[key])):\n",
      "            print key, clue, potentials[key] \n",
      "#         print potentials[key]\n",
      "    \n",
      "look_for_prior_violation('Small')\n",
      "print \n",
      "look_for_prior_violation('Small SUV')\n",
      "print\n",
      "look_for_prior_violation('259 FRP')\n",
      "print\n",
      "look_for_prior_violation('Cooper')\n",
      "\n",
      "print\n",
      "look_for_prior_violation('647')\n",
      "\n"
     ],
     "language": "python",
     "metadata": {},
     "outputs": []
    },
    {
     "cell_type": "code",
     "collapsed": false,
     "input": [],
     "language": "python",
     "metadata": {},
     "outputs": []
    }
   ],
   "metadata": {}
  }
 ]
}