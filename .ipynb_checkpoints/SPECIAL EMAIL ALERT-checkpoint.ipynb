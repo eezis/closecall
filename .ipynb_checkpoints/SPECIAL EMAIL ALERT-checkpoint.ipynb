{
 "metadata": {
  "name": "",
  "signature": "sha256:60c60b10d72f52f541653a2efc2b3aa67c2b5b9b582d0438858cdcaaa7f237b1"
 },
 "nbformat": 3,
 "nbformat_minor": 0,
 "worksheets": [
  {
   "cells": [
    {
     "cell_type": "code",
     "collapsed": false,
     "input": [
      "\"\"\"\n",
      "\n",
      "Create an incident in the area where the issue has occurred.\n",
      "\n",
      "Change the incident id and radius.\n",
      "\n",
      "Set Testing = True to test the message, \n",
      "\n",
      "Set Testing = False to send the message,\n",
      "\n",
      "then be sure to set Testing back to True.\n",
      "\n",
      "\"\"\"\n",
      "\n",
      "import sys\n",
      "sys.path.append(\"/Users/eae/code/sites/closecall\")\n",
      "sys.path.append(\"/Users/eae/.virtualenvs/closecall/lib/python2.7/site-packages\")\n",
      "sys.path.append(\"/home/eezis/sites/closecall\")\n",
      "sys.path.append(\"/home/eezis/sites/closecall/closecall\")\n",
      "sys.path.append(\"/home/eezis/.virtualenvs/closecall/bin/python2.7/site-packages\")\n",
      "\n",
      "import os\n",
      "os.environ['DJANGO_SETTINGS_MODULE'] = 'closecall.settings'\n",
      "import django\n",
      "django.setup()\n",
      "\n",
      "import datetime\n",
      "# import requests\n",
      "\n",
      "from users.models import UserProfile\n",
      "from incident.models import Incident\n",
      "from core.utils import distance_between_geocoded_points\n",
      "from core.views import send_incident_notification\n",
      "from django.contrib.auth.models import User\n",
      "\n",
      "INCIDENT_ID = XXX\n",
      "# TWEAK THE INCIDENT_ID CONSTANT UP TOP!\n",
      "TESTING = True\n",
      "MAIL_TO_EE = True\n",
      "# Radius = 20\n",
      "# Radius = 30\n",
      "Radius = 60\n",
      "\n",
      "subject = \"Close Call Database - SPECIAL ALERT\"\n",
      "\n",
      "msg = \"\"\"\n",
      "As some of you may know, cyclists in your area have been subjected to random attacks and the police have issued a special warning for cyclists to be careful and to be on the lookout for the perpetrators.\n",
      "\n",
      "You can find more details here: http://closecalldatabase.com/incident/show-detail/271/\n",
      "\n",
      "You may wish to share this information with other cyclists in the area.\n",
      "\n",
      "Ride Safely,\n",
      "\n",
      "Ernest Ezis\n",
      "\n",
      "Close Call Database\n",
      "\n",
      "@closecalldb\n",
      "\"\"\"\n",
      "\n",
      "HTML_msg = \"\"\"\n",
      "<p>As some of you may know, cyclists in your area have been subjected to random attacks and the police have issued a special warning for cyclists to be careful and to be on the lookout for the perpetrators.</p>\n",
      "\n",
      "<p>You can find more details <a href=\" http://closecalldatabase.com/incident/show-detail/271/\">here</a>.</p>\n",
      "\n",
      "<p>You may wish to share this information with other cyclists in your area.</p>\n",
      "\n",
      "<p>Ride Safely,</p>\n",
      "\n",
      "<p><br />\n",
      "Ernest Ezis<br />\n",
      "<a href=\"http://closecalldatabase.com\">Close Call Database</a>\n",
      "<br /><br />\n",
      "<a href=\"https://twitter.com/closecalldb\" class=\"twitter-follow-button\" data-show-count=\"false\"><img src=\"http://closecalldatabase.com/static/images/followclosecalldb.png\"></a>\n",
      "<script>!function(d,s,id){var js,fjs=d.getElementsByTagName(s)[0],p=/^http:/.test(d.location)?'http':'https';if(!d.getElementById(id)){js=d.createElement(s);js.id=id;js.src=p+'://platform.twitter.com/widgets.js';fjs.parentNode.insertBefore(js,fjs);}}(document, 'script', 'twitter-wjs');</script>\n",
      "&nbsp;&nbsp;&nbsp;\n",
      "<br /> <br />\n",
      "<a href=\"https://twitter.com/eezis\" class=\"twitter-follow-button\" data-show-count=\"false\"><img src=\"http://closecalldatabase.com/static/images/followeezis.png\"></a>\n",
      "<script>!function(d,s,id){var js,fjs=d.getElementsByTagName(s)[0],p=/^http:/.test(d.location)?'http':'https';if(!d.getElementById(id)){js=d.createElement(s);js.id=id;js.src=p+'://platform.twitter.com/widgets.js';fjs.parentNode.insertBefore(js,fjs);}}(document, 'script', 'twitter-wjs');</script>\n",
      "&nbsp;&nbsp;&nbsp;\n",
      "</p>\n",
      "\"\"\"\n",
      "\n",
      "msg = msg.replace('#INCIDENT_ID#', str(INCIDENT_ID))\n",
      "HTML_msg = HTML_msg.replace('#INCIDENT_ID#', str(INCIDENT_ID))\n",
      "\n",
      "# sets the email_sent field to True\n",
      "# records the text of the email message that was sent out\n",
      "def update_incident_model_with_email_facts(incident_id, email_message):\n",
      "    i = Incident.objects.get(id=incident_id)\n",
      "    i.email_sent = True\n",
      "    i.email_text = email_message\n",
      "    i.email_sent_on = datetime.datetime.now()\n",
      "    i.save()\n",
      "\n",
      "\n",
      "def get_users_close_to_incident(incident_id, radius=60):\n",
      "    # get the incident\n",
      "    i = Incident.objects.get(id=incident_id)\n",
      "    if i.email_sent:\n",
      "        print \"\\n\\r Email Flag is set, has this incident has already been emailed out???\\n\\r\\n\\r\"\n",
      "        raise Exception(\"This incident has already been emailed out???\")\n",
      "\n",
      "\n",
      "    # create a list object to store the users that will get alerts for this incident\n",
      "    matched_users = []\n",
      "    # we want to search the full universe of users that agreed to get email alerts\n",
      "    U = UserProfile.objects.filter(email_incidents=True)\n",
      "    for u in U:\n",
      "        # get user's lat and lon\n",
      "        u_lat, u_lon = u.get_lat_lon()\n",
      "        # if the user is within the given radius of the incident, add them to the list of  matched users\n",
      "        if distance_between_geocoded_points(u_lat, u_lon, i.position.latitude, i.position.longitude) <= radius:\n",
      "            u_str = u\"{} {} {} {}\".format(u.first, u.last, u.user.username, u.user.email)\n",
      "            print u'{} {} {} {}'.format(u.first, u.last, u.user.username, u.user.email).encode('utf-8')\n",
      "            # note send the fill userprofile object back\n",
      "            matched_users.append(u)\n",
      "\n",
      "    return matched_users\n",
      "\n",
      "\n",
      "# IS THIS EVER CALLED???\n",
      "def email_the_users(subject, message, user_list):\n",
      "    print '------------------ in email_the_users  method ----------'\n",
      "    for u in user_list:\n",
      "        send_incident_notification(subject, message, u.email)\n",
      "\n",
      "    if not TESTING:\n",
      "        email_message = msg\n",
      "        update_incident_model_with_email_facts(INCIDENT_ID, email_message)\n",
      "\n",
      "\n",
      "\n",
      "\n",
      "# print 'taking off with U object list for testing'\n",
      "# user_list = []\n",
      "# u = UserProfile.objects.get(user__username='eezis')\n",
      "# print u\n",
      "# user_list.append(u)\n",
      "\n",
      "\n",
      "\n",
      "\n",
      "user_list = get_users_close_to_incident(INCIDENT_ID, Radius)\n",
      "\n",
      "print '\\n'\n",
      "print '{} users in the incident zone'.format(len(user_list))\n",
      "print 'sending emails\\n'\n",
      "\n",
      "\n",
      "for u in user_list:\n",
      "    if TESTING:\n",
      "        print \"EMAILS ARE OFF TO PREVENT A MISTAKE, INCIDENT ID NEEDS TO BE CHANGED?\"\n",
      "        print u'emailing: {}'.format(u.user.email)\n",
      "    else:\n",
      "        print u'emailing: {}'.format(u.user.email)\n",
      "        send_incident_notification(subject, msg, u.user.email, htmlmsg=HTML_msg)\n",
      "\n",
      "# Now update the model\n",
      "if not TESTING:\n",
      "    update_incident_model_with_email_facts(INCIDENT_ID, msg)\n",
      "\n",
      "\n",
      "# email a copy to me\n",
      "if MAIL_TO_EE:\n",
      "    print '\\n'\n",
      "    print 'now sending copy to eezis'\n",
      "    print '\\n'\n",
      "    u = User.objects.get(username='eezis')\n",
      "    # send_incident_notification(subject, msg, u.email)\n",
      "    send_incident_notification(subject, msg, u.email, htmlmsg=HTML_msg)\n",
      "\n",
      "print '\\n'\n",
      "if TESTING:\n",
      "    print 'emails have ***NOT*** been sent'\n",
      "else:\n",
      "    print 'emails have been sent'\n",
      "\n",
      "\n",
      "\n"
     ],
     "language": "python",
     "metadata": {},
     "outputs": [
      {
       "output_type": "stream",
       "stream": "stdout",
       "text": [
        "Heather Alvey hthrlly hthrlly@yahoo.com\n",
        "Ricardo Morales Rico ricomorales@gmail.com"
       ]
      },
      {
       "output_type": "stream",
       "stream": "stdout",
       "text": [
        "\n",
        "Karen volkman Karen Volkman vokmn@hotmail.com"
       ]
      },
      {
       "output_type": "stream",
       "stream": "stdout",
       "text": [
        "\n",
        "Michelle  O'Connell  Micro micho256@gmail.com"
       ]
      },
      {
       "output_type": "stream",
       "stream": "stdout",
       "text": [
        "\n",
        "Matt Kauffmann mwk matt.kauffmann@gmail.com"
       ]
      },
      {
       "output_type": "stream",
       "stream": "stdout",
       "text": [
        "\n",
        "Elliott Payne elliottpayne net@elliottpayne.com"
       ]
      },
      {
       "output_type": "stream",
       "stream": "stdout",
       "text": [
        "\n",
        "Aaron Smith Aaron Smith microbrewer@gmail.com"
       ]
      },
      {
       "output_type": "stream",
       "stream": "stdout",
       "text": [
        "\n",
        "sheldon mains sheldonm smains@visi.com"
       ]
      },
      {
       "output_type": "stream",
       "stream": "stdout",
       "text": [
        "\n",
        "Eric Golder Erkki ericdgolder@gmail.com"
       ]
      },
      {
       "output_type": "stream",
       "stream": "stdout",
       "text": [
        "\n",
        "Chris Nelson Chris Nelson christopher.ady.nelson@gmail.com"
       ]
      },
      {
       "output_type": "stream",
       "stream": "stdout",
       "text": [
        "\n",
        "Annie Modesitt modeknit closecall@modeknit.com"
       ]
      },
      {
       "output_type": "stream",
       "stream": "stdout",
       "text": [
        "\n",
        "John Gilmore Johngpilot johngpilot@gmail.com"
       ]
      },
      {
       "output_type": "stream",
       "stream": "stdout",
       "text": [
        "\n",
        "Clay Wenner Jakthund cawenner@msn.com"
       ]
      },
      {
       "output_type": "stream",
       "stream": "stdout",
       "text": [
        "\n",
        "Sarah McGee Sarah McGee samcgee@gmail.com"
       ]
      },
      {
       "output_type": "stream",
       "stream": "stdout",
       "text": [
        "\n",
        "Mike Sonn Mike Sonn sonn.michael@gmail.com"
       ]
      },
      {
       "output_type": "stream",
       "stream": "stdout",
       "text": [
        "\n",
        "George Roth George Roth george.roth@gmail.com"
       ]
      },
      {
       "output_type": "stream",
       "stream": "stdout",
       "text": [
        "\n",
        "kat mitchell katscool mitch040@msn.com"
       ]
      },
      {
       "output_type": "stream",
       "stream": "stdout",
       "text": [
        "\n",
        "Bob Rapp Bob Rapp gbpackrr@gmail.com"
       ]
      },
      {
       "output_type": "stream",
       "stream": "stdout",
       "text": [
        "\n",
        "Joseph  Van Alstine joevanalstine  jvanalstine86@gmail.com"
       ]
      },
      {
       "output_type": "stream",
       "stream": "stdout",
       "text": [
        "\n",
        "peter none your business griff306 griff306@gmail.com"
       ]
      },
      {
       "output_type": "stream",
       "stream": "stdout",
       "text": [
        "\n",
        "John Ellis John Ellis johnbgoode@gmail.com"
       ]
      },
      {
       "output_type": "stream",
       "stream": "stdout",
       "text": [
        "\n",
        "Marianne Krljic mmk666 mkrljic@yahoo.com"
       ]
      },
      {
       "output_type": "stream",
       "stream": "stdout",
       "text": [
        "\n",
        "Pete Ramstad Pete Ramstad pramstad@comcast.net"
       ]
      },
      {
       "output_type": "stream",
       "stream": "stdout",
       "text": [
        "\n",
        "sheldon mains sheldonmains smains@visi.com"
       ]
      },
      {
       "output_type": "stream",
       "stream": "stdout",
       "text": [
        "\n",
        "Al Ebbert Al Ebbert alan.ebbert@gmail.com"
       ]
      },
      {
       "output_type": "stream",
       "stream": "stdout",
       "text": [
        "\n",
        "Kevin Greimel Kevin Greimel kgreimel@gmail.com"
       ]
      },
      {
       "output_type": "stream",
       "stream": "stdout",
       "text": [
        "\n",
        "Eugene Hollingsworth Eugene Hollingsworth ghsubs1@mchsi.com"
       ]
      },
      {
       "output_type": "stream",
       "stream": "stdout",
       "text": [
        "\n",
        "Kellie Hoyt Kghoyt@gmail.com kghoyt@gmail.com"
       ]
      },
      {
       "output_type": "stream",
       "stream": "stdout",
       "text": [
        "\n",
        "Bryce Larson brycelarson brycecollinlarson@gmail.com"
       ]
      },
      {
       "output_type": "stream",
       "stream": "stdout",
       "text": [
        "\n",
        "Peter Griffin Peter Griffin griff306@umn.edu"
       ]
      },
      {
       "output_type": "stream",
       "stream": "stdout",
       "text": [
        "\n",
        "Cole Peyton cmpeyton cmpeyton@gmail.com"
       ]
      },
      {
       "output_type": "stream",
       "stream": "stdout",
       "text": [
        "\n",
        "Peter Scholtz pscholtz peter.scholtz@gmail.com"
       ]
      },
      {
       "output_type": "stream",
       "stream": "stdout",
       "text": [
        "\n",
        "Tim Rued Dominus1 tim.rued@hotmail.com"
       ]
      },
      {
       "output_type": "stream",
       "stream": "stdout",
       "text": [
        "\n",
        "Connor Bruno connorafi connoroonie@gmail.com"
       ]
      },
      {
       "output_type": "stream",
       "stream": "stdout",
       "text": [
        "\n",
        "Bryan Schmidt davoc bryan@station3.com"
       ]
      },
      {
       "output_type": "stream",
       "stream": "stdout",
       "text": [
        "\n",
        "Stefanie Davis stabmybrain stef.l.davis@gmail.com"
       ]
      },
      {
       "output_type": "stream",
       "stream": "stdout",
       "text": [
        "\n",
        "Kevin Greimel kevingreimel kgreimel@gmail.com"
       ]
      },
      {
       "output_type": "stream",
       "stream": "stdout",
       "text": [
        "\n",
        "Mike Plantan Mike Plantan mike.plantan@gmail.com"
       ]
      },
      {
       "output_type": "stream",
       "stream": "stdout",
       "text": [
        "\n",
        "Lindsay Piper lindsayrpiper lindsayrpiper@gmail.com"
       ]
      },
      {
       "output_type": "stream",
       "stream": "stdout",
       "text": [
        "\n",
        "Ginny Herman Myicefroze ginnymarieherman@gmail.com"
       ]
      },
      {
       "output_type": "stream",
       "stream": "stdout",
       "text": [
        "\n",
        "Dave Turner Dave Turner hangsaroundthefort@gmail.com"
       ]
      },
      {
       "output_type": "stream",
       "stream": "stdout",
       "text": [
        "\n",
        "Tyler Jones Tyler Jones jone0940@umn.edu"
       ]
      },
      {
       "output_type": "stream",
       "stream": "stdout",
       "text": [
        "\n",
        "Tom Kunau Tom Kunau tom.kunau@gmail.com"
       ]
      },
      {
       "output_type": "stream",
       "stream": "stdout",
       "text": [
        "\n",
        "Michael Ruschman mruschman ruschmanm@gmail.com"
       ]
      },
      {
       "output_type": "stream",
       "stream": "stdout",
       "text": [
        "\n",
        "Andrew Johnson AndrewJJ andrewj0922@gmail.com"
       ]
      },
      {
       "output_type": "stream",
       "stream": "stdout",
       "text": [
        "\n",
        "Jordan Mullin Jordan Mullin jordant.mullin@gmail.com"
       ]
      },
      {
       "output_type": "stream",
       "stream": "stdout",
       "text": [
        "\n",
        "Melissa A Melissa A bikeheart@gmail.com"
       ]
      },
      {
       "output_type": "stream",
       "stream": "stdout",
       "text": [
        "\n",
        "Jaime  Berglund  Jaime  Berglund  jaime.berglund@gmail.com"
       ]
      },
      {
       "output_type": "stream",
       "stream": "stdout",
       "text": [
        "\n",
        "Greg Mann nnamgerg gregorylmann@gmail.com"
       ]
      },
      {
       "output_type": "stream",
       "stream": "stdout",
       "text": [
        "\n",
        "Eric Nelson Eric ericlnelson@gmail.com"
       ]
      },
      {
       "output_type": "stream",
       "stream": "stdout",
       "text": [
        "\n",
        "Erik M.D. Erik M.D. dose0017@umn.edu"
       ]
      },
      {
       "output_type": "stream",
       "stream": "stdout",
       "text": [
        "\n",
        "Andrew Thompson Andrew Thompson thompsar@umn.edu"
       ]
      },
      {
       "output_type": "stream",
       "stream": "stdout",
       "text": [
        "\n",
        "Lizbeth Wawrzonek Liz lizbethwawrzonek@gmail.com"
       ]
      },
      {
       "output_type": "stream",
       "stream": "stdout",
       "text": [
        "\n",
        "Erik Korhonen Erik Korhonen erock_rocks@yahoo.com"
       ]
      },
      {
       "output_type": "stream",
       "stream": "stdout",
       "text": [
        "\n",
        "Chris Davidson Chris Davidson cedavidson1@gmail.com"
       ]
      },
      {
       "output_type": "stream",
       "stream": "stdout",
       "text": [
        "\n",
        "Jake Mohan Jake Mohan jakemohan@gmail.com"
       ]
      },
      {
       "output_type": "stream",
       "stream": "stdout",
       "text": [
        "\n",
        "Sara Kelly Sara Kelly skelly421@gmail.com"
       ]
      },
      {
       "output_type": "stream",
       "stream": "stdout",
       "text": [
        "\n",
        "Buffalo Dave Buffalo Dave buffalo.dave@zoobomb.net"
       ]
      },
      {
       "output_type": "stream",
       "stream": "stdout",
       "text": [
        "\n",
        "Gracia Folkeringa Gracia Folkeringa graciaann@gmail.com"
       ]
      },
      {
       "output_type": "stream",
       "stream": "stdout",
       "text": [
        "\n",
        "CJ Lindor CJ Lindor cjlindor@gmail.com"
       ]
      },
      {
       "output_type": "stream",
       "stream": "stdout",
       "text": [
        "\n",
        "Matt Eff Matt Eff cbltbl@gmail.com"
       ]
      },
      {
       "output_type": "stream",
       "stream": "stdout",
       "text": [
        "\n",
        "Joe Van Alstine Joe Van Alstine jvanalstine86@gmail.com"
       ]
      },
      {
       "output_type": "stream",
       "stream": "stdout",
       "text": [
        "\n",
        "Andy L Andy L mtb.andy6@gmail.com"
       ]
      },
      {
       "output_type": "stream",
       "stream": "stdout",
       "text": [
        "\n",
        "Nicholas Tranby Nicholas Tranby nicholas.tranby@gmail.com"
       ]
      },
      {
       "output_type": "stream",
       "stream": "stdout",
       "text": [
        "\n",
        "Darren Sylvander Darren Sylvander dsylvander@gmail.com"
       ]
      },
      {
       "output_type": "stream",
       "stream": "stdout",
       "text": [
        "\n",
        "Paul Feng Paul Feng paul.feng@att.net"
       ]
      },
      {
       "output_type": "stream",
       "stream": "stdout",
       "text": [
        "\n",
        "Nina Rivera Nina Rivera nina.pipita@gmail.com"
       ]
      },
      {
       "output_type": "stream",
       "stream": "stdout",
       "text": [
        "\n",
        "Tae Whang Tae Whang twhang@qbp.com"
       ]
      },
      {
       "output_type": "stream",
       "stream": "stdout",
       "text": [
        "\n",
        "Steve Fairbourne sfairbourne sfairbourne@gmail.com"
       ]
      },
      {
       "output_type": "stream",
       "stream": "stdout",
       "text": [
        "\n",
        "Sara Westdal Amiga Sport sarawestdal@gmail.com"
       ]
      },
      {
       "output_type": "stream",
       "stream": "stdout",
       "text": [
        "\n",
        "Matt Stiles Matt Stiles mstiles13@gmail.com"
       ]
      },
      {
       "output_type": "stream",
       "stream": "stdout",
       "text": [
        "\n",
        "Justin Powers jcpowers87 jcpowers19@yahoo.com"
       ]
      },
      {
       "output_type": "stream",
       "stream": "stdout",
       "text": [
        "\n",
        "Rick Hendrickson TBIguy rhhendrickson@gmail.com"
       ]
      },
      {
       "output_type": "stream",
       "stream": "stdout",
       "text": [
        "\n",
        "Jim Fisher Jim Fisher jmphisure@gmail.com"
       ]
      },
      {
       "output_type": "stream",
       "stream": "stdout",
       "text": [
        "\n",
        "Marc Hilkemann Marc Hilkemann mphilkemann@gmail.com"
       ]
      },
      {
       "output_type": "stream",
       "stream": "stdout",
       "text": [
        "\n",
        "Edward Eroe Edward Eroe ereroe@eroe.com"
       ]
      },
      {
       "output_type": "stream",
       "stream": "stdout",
       "text": [
        "\n",
        "Adam Doiron Adam Doiron adam.doiron@gmail.com"
       ]
      },
      {
       "output_type": "stream",
       "stream": "stdout",
       "text": [
        "\n",
        "\n",
        "\n",
        "77 users in the incident zone\n",
        "sending emails\n",
        "\n",
        "emailing: hthrlly@yahoo.com\n",
        "emailing: ricomorales@gmail.com"
       ]
      },
      {
       "output_type": "stream",
       "stream": "stdout",
       "text": [
        "\n",
        "emailing: vokmn@hotmail.com"
       ]
      },
      {
       "output_type": "stream",
       "stream": "stdout",
       "text": [
        "\n",
        "emailing: micho256@gmail.com"
       ]
      },
      {
       "output_type": "stream",
       "stream": "stdout",
       "text": [
        "\n",
        "emailing: matt.kauffmann@gmail.com"
       ]
      },
      {
       "output_type": "stream",
       "stream": "stdout",
       "text": [
        "\n",
        "emailing: net@elliottpayne.com"
       ]
      },
      {
       "output_type": "stream",
       "stream": "stdout",
       "text": [
        "\n",
        "emailing: microbrewer@gmail.com"
       ]
      },
      {
       "output_type": "stream",
       "stream": "stdout",
       "text": [
        "\n",
        "emailing: smains@visi.com"
       ]
      },
      {
       "output_type": "stream",
       "stream": "stdout",
       "text": [
        "\n",
        "emailing: ericdgolder@gmail.com"
       ]
      },
      {
       "output_type": "stream",
       "stream": "stdout",
       "text": [
        "\n",
        "emailing: christopher.ady.nelson@gmail.com"
       ]
      },
      {
       "output_type": "stream",
       "stream": "stdout",
       "text": [
        "\n",
        "emailing: closecall@modeknit.com"
       ]
      },
      {
       "output_type": "stream",
       "stream": "stdout",
       "text": [
        "\n",
        "emailing: johngpilot@gmail.com"
       ]
      },
      {
       "output_type": "stream",
       "stream": "stdout",
       "text": [
        "\n",
        "emailing: cawenner@msn.com"
       ]
      },
      {
       "output_type": "stream",
       "stream": "stdout",
       "text": [
        "\n",
        "emailing: samcgee@gmail.com"
       ]
      },
      {
       "output_type": "stream",
       "stream": "stdout",
       "text": [
        "\n",
        "emailing: sonn.michael@gmail.com"
       ]
      },
      {
       "output_type": "stream",
       "stream": "stdout",
       "text": [
        "\n",
        "emailing: george.roth@gmail.com"
       ]
      },
      {
       "output_type": "stream",
       "stream": "stdout",
       "text": [
        "\n",
        "emailing: mitch040@msn.com"
       ]
      },
      {
       "output_type": "stream",
       "stream": "stdout",
       "text": [
        "\n",
        "emailing: gbpackrr@gmail.com"
       ]
      },
      {
       "output_type": "stream",
       "stream": "stdout",
       "text": [
        "\n",
        "emailing: jvanalstine86@gmail.com"
       ]
      },
      {
       "output_type": "stream",
       "stream": "stdout",
       "text": [
        "\n",
        "emailing: griff306@gmail.com"
       ]
      },
      {
       "output_type": "stream",
       "stream": "stdout",
       "text": [
        "\n",
        "emailing: johnbgoode@gmail.com"
       ]
      },
      {
       "output_type": "stream",
       "stream": "stdout",
       "text": [
        "\n",
        "emailing: mkrljic@yahoo.com"
       ]
      },
      {
       "output_type": "stream",
       "stream": "stdout",
       "text": [
        "\n",
        "emailing: pramstad@comcast.net"
       ]
      },
      {
       "output_type": "stream",
       "stream": "stdout",
       "text": [
        "\n",
        "emailing: smains@visi.com"
       ]
      },
      {
       "output_type": "stream",
       "stream": "stdout",
       "text": [
        "\n",
        "emailing: alan.ebbert@gmail.com"
       ]
      },
      {
       "output_type": "stream",
       "stream": "stdout",
       "text": [
        "\n",
        "emailing: kgreimel@gmail.com"
       ]
      },
      {
       "output_type": "stream",
       "stream": "stdout",
       "text": [
        "\n",
        "emailing: ghsubs1@mchsi.com"
       ]
      },
      {
       "output_type": "stream",
       "stream": "stdout",
       "text": [
        "\n",
        "emailing: kghoyt@gmail.com"
       ]
      },
      {
       "output_type": "stream",
       "stream": "stdout",
       "text": [
        "\n",
        "emailing: brycecollinlarson@gmail.com"
       ]
      },
      {
       "output_type": "stream",
       "stream": "stdout",
       "text": [
        "\n",
        "emailing: griff306@umn.edu"
       ]
      },
      {
       "output_type": "stream",
       "stream": "stdout",
       "text": [
        "\n",
        "emailing: cmpeyton@gmail.com"
       ]
      },
      {
       "output_type": "stream",
       "stream": "stdout",
       "text": [
        "\n",
        "emailing: peter.scholtz@gmail.com"
       ]
      },
      {
       "output_type": "stream",
       "stream": "stdout",
       "text": [
        "\n",
        "emailing: tim.rued@hotmail.com"
       ]
      },
      {
       "output_type": "stream",
       "stream": "stdout",
       "text": [
        "\n",
        "emailing: connoroonie@gmail.com"
       ]
      },
      {
       "output_type": "stream",
       "stream": "stdout",
       "text": [
        "\n",
        "emailing: bryan@station3.com"
       ]
      },
      {
       "output_type": "stream",
       "stream": "stdout",
       "text": [
        "\n",
        "emailing: stef.l.davis@gmail.com"
       ]
      },
      {
       "output_type": "stream",
       "stream": "stdout",
       "text": [
        "\n",
        "emailing: kgreimel@gmail.com"
       ]
      },
      {
       "output_type": "stream",
       "stream": "stdout",
       "text": [
        "\n",
        "emailing: mike.plantan@gmail.com"
       ]
      },
      {
       "output_type": "stream",
       "stream": "stdout",
       "text": [
        "\n",
        "emailing: lindsayrpiper@gmail.com"
       ]
      },
      {
       "output_type": "stream",
       "stream": "stdout",
       "text": [
        "\n",
        "emailing: ginnymarieherman@gmail.com"
       ]
      },
      {
       "output_type": "stream",
       "stream": "stdout",
       "text": [
        "\n",
        "emailing: hangsaroundthefort@gmail.com"
       ]
      },
      {
       "output_type": "stream",
       "stream": "stdout",
       "text": [
        "\n",
        "emailing: jone0940@umn.edu"
       ]
      },
      {
       "output_type": "stream",
       "stream": "stdout",
       "text": [
        "\n",
        "emailing: tom.kunau@gmail.com"
       ]
      },
      {
       "output_type": "stream",
       "stream": "stdout",
       "text": [
        "\n",
        "emailing: ruschmanm@gmail.com"
       ]
      }
     ]
    },
    {
     "cell_type": "code",
     "collapsed": false,
     "input": [],
     "language": "python",
     "metadata": {},
     "outputs": []
    }
   ],
   "metadata": {}
  }
 ]
}