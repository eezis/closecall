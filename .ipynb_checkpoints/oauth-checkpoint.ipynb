{
 "metadata": {
  "name": "",
  "signature": "sha256:dd27118bcabdbba94fe02a38a69100bf9f448a08e53c2c6baf8c35569ed70545"
 },
 "nbformat": 3,
 "nbformat_minor": 0,
 "worksheets": [
  {
   "cells": [
    {
     "cell_type": "code",
     "collapsed": false,
     "input": [
      "import requests\n",
      "\n",
      "STRAVA_AUTHORIZATION_PAGE_URL = 'https://www.strava.com/oauth/authorize'\n",
      "CCDB_CLIENT_ID= '3869'\n",
      "CCDB_REDIRECT_URL = 'http://closecalldatabase.com/strava-access'\n",
      "\n",
      "\n",
      "#example request for a user authorizatoin\n",
      "#https://www.strava.com/oauth/authorize?client_id=9&response_type=code&redirect_uri=http://localhost/token_exchange.php&approval_prompt=force\n"
     ],
     "language": "python",
     "metadata": {},
     "outputs": []
    }
   ],
   "metadata": {}
  }
 ]
}