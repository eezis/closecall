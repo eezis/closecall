{
 "metadata": {
  "name": "",
  "signature": "sha256:830680a47472f01be683fa67e75571216fbdb0ba952533d36e67c8457d0b1d4c"
 },
 "nbformat": 3,
 "nbformat_minor": 0,
 "worksheets": [
  {
   "cells": [
    {
     "cell_type": "code",
     "collapsed": false,
     "input": [
      "from django.core.exceptions import ObjectDoesNotExist\n",
      "\n",
      "# from users.models import UserProfile\n",
      "# up = UserProfile.objects.get(user__username='Oliver-Ezis')\n",
      "\n",
      "# print up.city\n",
      "\n",
      "\n",
      "\n",
      "user = User.objects.get(username='eae')\n",
      "print user.username\n",
      "print user.profile.city\n",
      "\n",
      "\n",
      "up = UserProfile.objects.get(user=user.id)\n",
      "print up.city\n",
      "\n",
      "print user.pk, user.profile.id\n",
      "\n",
      "user = User.objects.get(username='test-user')\n",
      "print user.username\n",
      "\n",
      "# up = UserProfile.objects.get(user__username='test-user')\n",
      "\n",
      "try :\n",
      "    user.profile\n",
      "#     return true\n",
      "except ObjectDoesNotExist:\n",
      "    print 'nope1'\n",
      "#     return false\n",
      "\n",
      "\n",
      "\n",
      "\n",
      "try:\n",
      "    up = UserProfile.objects.get(user__username='test-user')\n",
      "\n",
      "except ObjectDoesNotExist:\n",
      "    print 'nope1'\n",
      "    \n",
      "    \n",
      "up = UserProfile(user=user, last='Last', first='First', city='Hartford', country='United States', state='CT')\n",
      "up.save()\n",
      "\n",
      "print up.last\n",
      "\n",
      "up.delete()\n",
      "    \n",
      "    \n"
     ],
     "language": "python",
     "metadata": {},
     "outputs": [
      {
       "output_type": "stream",
       "stream": "stdout",
       "text": [
        "eae\n",
        "Boulder"
       ]
      },
      {
       "output_type": "stream",
       "stream": "stdout",
       "text": [
        "\n",
        "Boulder"
       ]
      },
      {
       "output_type": "stream",
       "stream": "stdout",
       "text": [
        "\n",
        "2 2296\n"
       ]
      },
      {
       "ename": "DoesNotExist",
       "evalue": "User matching query does not exist.",
       "output_type": "pyerr",
       "traceback": [
        "\u001b[0;31m---------------------------------------------------------------------------\u001b[0m\n\u001b[0;31mDoesNotExist\u001b[0m                              Traceback (most recent call last)",
        "\u001b[0;32m<ipython-input-1-ec34df579235>\u001b[0m in \u001b[0;36m<module>\u001b[0;34m()\u001b[0m\n\u001b[1;32m     18\u001b[0m \u001b[0;32mprint\u001b[0m \u001b[0muser\u001b[0m\u001b[0;34m.\u001b[0m\u001b[0mpk\u001b[0m\u001b[0;34m,\u001b[0m \u001b[0muser\u001b[0m\u001b[0;34m.\u001b[0m\u001b[0mprofile\u001b[0m\u001b[0;34m.\u001b[0m\u001b[0mid\u001b[0m\u001b[0;34m\u001b[0m\u001b[0m\n\u001b[1;32m     19\u001b[0m \u001b[0;34m\u001b[0m\u001b[0m\n\u001b[0;32m---> 20\u001b[0;31m \u001b[0muser\u001b[0m \u001b[0;34m=\u001b[0m \u001b[0mUser\u001b[0m\u001b[0;34m.\u001b[0m\u001b[0mobjects\u001b[0m\u001b[0;34m.\u001b[0m\u001b[0mget\u001b[0m\u001b[0;34m(\u001b[0m\u001b[0musername\u001b[0m\u001b[0;34m=\u001b[0m\u001b[0;34m'test-user'\u001b[0m\u001b[0;34m)\u001b[0m\u001b[0;34m\u001b[0m\u001b[0m\n\u001b[0m\u001b[1;32m     21\u001b[0m \u001b[0;32mprint\u001b[0m \u001b[0muser\u001b[0m\u001b[0;34m.\u001b[0m\u001b[0musername\u001b[0m\u001b[0;34m\u001b[0m\u001b[0m\n\u001b[1;32m     22\u001b[0m \u001b[0;34m\u001b[0m\u001b[0m\n",
        "\u001b[0;32m/Users/eae/.virtualenvs/closecall/lib/python2.7/site-packages/django/db/models/manager.pyc\u001b[0m in \u001b[0;36mmanager_method\u001b[0;34m(self, *args, **kwargs)\u001b[0m\n\u001b[1;32m     90\u001b[0m         \u001b[0;32mdef\u001b[0m \u001b[0mcreate_method\u001b[0m\u001b[0;34m(\u001b[0m\u001b[0mname\u001b[0m\u001b[0;34m,\u001b[0m \u001b[0mmethod\u001b[0m\u001b[0;34m)\u001b[0m\u001b[0;34m:\u001b[0m\u001b[0;34m\u001b[0m\u001b[0m\n\u001b[1;32m     91\u001b[0m             \u001b[0;32mdef\u001b[0m \u001b[0mmanager_method\u001b[0m\u001b[0;34m(\u001b[0m\u001b[0mself\u001b[0m\u001b[0;34m,\u001b[0m \u001b[0;34m*\u001b[0m\u001b[0margs\u001b[0m\u001b[0;34m,\u001b[0m \u001b[0;34m**\u001b[0m\u001b[0mkwargs\u001b[0m\u001b[0;34m)\u001b[0m\u001b[0;34m:\u001b[0m\u001b[0;34m\u001b[0m\u001b[0m\n\u001b[0;32m---> 92\u001b[0;31m                 \u001b[0;32mreturn\u001b[0m \u001b[0mgetattr\u001b[0m\u001b[0;34m(\u001b[0m\u001b[0mself\u001b[0m\u001b[0;34m.\u001b[0m\u001b[0mget_queryset\u001b[0m\u001b[0;34m(\u001b[0m\u001b[0;34m)\u001b[0m\u001b[0;34m,\u001b[0m \u001b[0mname\u001b[0m\u001b[0;34m)\u001b[0m\u001b[0;34m(\u001b[0m\u001b[0;34m*\u001b[0m\u001b[0margs\u001b[0m\u001b[0;34m,\u001b[0m \u001b[0;34m**\u001b[0m\u001b[0mkwargs\u001b[0m\u001b[0;34m)\u001b[0m\u001b[0;34m\u001b[0m\u001b[0m\n\u001b[0m\u001b[1;32m     93\u001b[0m             \u001b[0mmanager_method\u001b[0m\u001b[0;34m.\u001b[0m\u001b[0m__name__\u001b[0m \u001b[0;34m=\u001b[0m \u001b[0mmethod\u001b[0m\u001b[0;34m.\u001b[0m\u001b[0m__name__\u001b[0m\u001b[0;34m\u001b[0m\u001b[0m\n\u001b[1;32m     94\u001b[0m             \u001b[0mmanager_method\u001b[0m\u001b[0;34m.\u001b[0m\u001b[0m__doc__\u001b[0m \u001b[0;34m=\u001b[0m \u001b[0mmethod\u001b[0m\u001b[0;34m.\u001b[0m\u001b[0m__doc__\u001b[0m\u001b[0;34m\u001b[0m\u001b[0m\n",
        "\u001b[0;32m/Users/eae/.virtualenvs/closecall/lib/python2.7/site-packages/django/db/models/query.pyc\u001b[0m in \u001b[0;36mget\u001b[0;34m(self, *args, **kwargs)\u001b[0m\n\u001b[1;32m    355\u001b[0m             raise self.model.DoesNotExist(\n\u001b[1;32m    356\u001b[0m                 \u001b[0;34m\"%s matching query does not exist.\"\u001b[0m \u001b[0;34m%\u001b[0m\u001b[0;34m\u001b[0m\u001b[0m\n\u001b[0;32m--> 357\u001b[0;31m                 self.model._meta.object_name)\n\u001b[0m\u001b[1;32m    358\u001b[0m         raise self.model.MultipleObjectsReturned(\n\u001b[1;32m    359\u001b[0m             \"get() returned more than one %s -- it returned %s!\" % (\n",
        "\u001b[0;31mDoesNotExist\u001b[0m: User matching query does not exist."
       ]
      }
     ],
     "prompt_number": 1
    },
    {
     "cell_type": "code",
     "collapsed": false,
     "input": [
      "# OBJECTIVE: Fin all User objects that do not have a corresponding UserProfile \n",
      "# -- NEED TO CHECK IF VALIDED TOO!\n",
      "\n",
      "# 1. Get all User objects\n",
      "# 2. Get all User Profiles\n",
      "# 3. If the UserProfile.User is in the List of All Users, Remove it\n",
      "# 4. The remaining users in the list have User objects but no UserProfiles so they cannot use the site.\n",
      "\n",
      "# WHAT ABOUT VERIFIED?\n",
      "\n",
      "# 1. Get all User objects\n",
      "\n",
      "all_active_users = User.objects.filter(is_active=True)\n",
      "all_users = User.objects.all()\n",
      "nuo = len(all_users) #number user objects\n",
      "print U'{} User objects exist'.format(nuo)\n",
      "\n",
      "# 2. Get all User Profiles\n",
      "all_profiles = UserProfile.objects.all()\n",
      "nup = len(all_profiles)\n",
      "print U'{} Userprofiles exist'.format(nup)\n",
      "\n",
      "missing_profiles = nuo - nup\n",
      "\n",
      "print 'There are {} more User objects than UserProfile objects'.format(missing_profiles)\n",
      "print 'That means {} people cannot use the service effectively'.format(missing_profiles)\n",
      "\n",
      "# 3. If the UserProfile.User is in the List of All Users, Remove it\n",
      "\n",
      "\n",
      "# If there is no userprofile, the User object raises an exception, this identifies them\n",
      "\n",
      "\n",
      "for u in all_active_users:\n",
      "    try:\n",
      "        c = u.profile.city\n",
      "    except:\n",
      "        print u.username, u.email\n",
      "        \n",
      "    \n",
      "\n",
      "\n",
      "\n",
      "    \n",
      "    "
     ],
     "language": "python",
     "metadata": {},
     "outputs": [
      {
       "output_type": "stream",
       "stream": "stdout",
       "text": [
        "4716 User objects exist\n",
        "4477 Userprofiles exist"
       ]
      },
      {
       "output_type": "stream",
       "stream": "stdout",
       "text": [
        "\n",
        "There are 239 more User objects than UserProfile objects\n",
        "That means 239 people cannot use the service effectively\n",
        "jgarlits"
       ]
      },
      {
       "output_type": "stream",
       "stream": "stdout",
       "text": [
        " jgarlits@gmail.com\n",
        "Rob Glover"
       ]
      },
      {
       "output_type": "stream",
       "stream": "stdout",
       "text": [
        " ama3655@aol.com\n",
        "carlos"
       ]
      },
      {
       "output_type": "stream",
       "stream": "stdout",
       "text": [
        " carlos.pereyra@outlook.com\n",
        "Michael"
       ]
      },
      {
       "output_type": "stream",
       "stream": "stdout",
       "text": [
        " brauntextile@aol.com\n",
        "Velocipede"
       ]
      },
      {
       "output_type": "stream",
       "stream": "stdout",
       "text": [
        " trainorw65@gmail.com\n",
        "Lisa Bassill"
       ]
      },
      {
       "output_type": "stream",
       "stream": "stdout",
       "text": [
        " lisakbassill@yahoo.com\n",
        "Bikeeveryday"
       ]
      },
      {
       "output_type": "stream",
       "stream": "stdout",
       "text": [
        " ricky.albores@gmail.com\n",
        "getbent"
       ]
      },
      {
       "output_type": "stream",
       "stream": "stdout",
       "text": [
        " christinaspindlerberta@gmail.com\n",
        "Aesbeck"
       ]
      },
      {
       "output_type": "stream",
       "stream": "stdout",
       "text": [
        " andreaesbeck@gmail.com\n",
        "steveo"
       ]
      },
      {
       "output_type": "stream",
       "stream": "stdout",
       "text": [
        " sanaa04@optonline.net\n",
        "Cheryl Longinotti"
       ]
      },
      {
       "output_type": "stream",
       "stream": "stdout",
       "text": [
        " cslonginotti@comcast.net\n",
        "crazycastro"
       ]
      },
      {
       "output_type": "stream",
       "stream": "stdout",
       "text": [
        " fastcycler50@juno.com\n",
        "mjkoepke"
       ]
      },
      {
       "output_type": "stream",
       "stream": "stdout",
       "text": [
        " mj_koepke@hotmail.com\n",
        "0ccupier"
       ]
      },
      {
       "output_type": "stream",
       "stream": "stdout",
       "text": [
        " alistair.ward@timeline.tv\n",
        "eyester"
       ]
      },
      {
       "output_type": "stream",
       "stream": "stdout",
       "text": [
        " ianhall387@gmail.com\n",
        "swat440"
       ]
      },
      {
       "output_type": "stream",
       "stream": "stdout",
       "text": [
        " watkins.scott@con-way.com\n",
        "swatkins"
       ]
      },
      {
       "output_type": "stream",
       "stream": "stdout",
       "text": [
        " watkins.scott@con-way.com\n",
        "bwmolle"
       ]
      },
      {
       "output_type": "stream",
       "stream": "stdout",
       "text": [
        " bwmolle@gmail.com\n",
        "DaveVess"
       ]
      },
      {
       "output_type": "stream",
       "stream": "stdout",
       "text": [
        " vessda@gmail.com\n",
        "ecgb"
       ]
      },
      {
       "output_type": "stream",
       "stream": "stdout",
       "text": [
        " ecgb101@gmail.com\n",
        "Scott Martin "
       ]
      },
      {
       "output_type": "stream",
       "stream": "stdout",
       "text": [
        " smartin80@juno.com\n",
        "jens"
       ]
      },
      {
       "output_type": "stream",
       "stream": "stdout",
       "text": [
        " lurch5@sbcglobal.net\n",
        "ben"
       ]
      },
      {
       "output_type": "stream",
       "stream": "stdout",
       "text": [
        " bourgon.benoit@gmail.com\n",
        "DENNY KRICK"
       ]
      },
      {
       "output_type": "stream",
       "stream": "stdout",
       "text": [
        " BIKER2@suddenlink.net\n",
        "jackmasterg"
       ]
      },
      {
       "output_type": "stream",
       "stream": "stdout",
       "text": [
        " johngraning@sbcglobal.net\n",
        "account_user_name"
       ]
      },
      {
       "output_type": "stream",
       "stream": "stdout",
       "text": [
        " cnrussell10@gmail.com\n",
        "Big Dave"
       ]
      },
      {
       "output_type": "stream",
       "stream": "stdout",
       "text": [
        " celtic_cpa@hotmail.com\n",
        "Kathy J Armada"
       ]
      },
      {
       "output_type": "stream",
       "stream": "stdout",
       "text": [
        " kathyjarmada@gmail.com\n",
        "Straight Arrow"
       ]
      },
      {
       "output_type": "stream",
       "stream": "stdout",
       "text": [
        " k4wil@hotmail.com\n",
        "artrike"
       ]
      },
      {
       "output_type": "stream",
       "stream": "stdout",
       "text": [
        " owen.j@virgin.net\n",
        "jazdz007"
       ]
      },
      {
       "output_type": "stream",
       "stream": "stdout",
       "text": [
        " jazdz007@umn.edu\n",
        "Westender1969"
       ]
      },
      {
       "output_type": "stream",
       "stream": "stdout",
       "text": [
        " apisto@sympatico.ca\n",
        "hopbob"
       ]
      },
      {
       "output_type": "stream",
       "stream": "stdout",
       "text": [
        " hopbob@safetymail.info\n",
        "rosalyn"
       ]
      },
      {
       "output_type": "stream",
       "stream": "stdout",
       "text": [
        " rosalynlouise@gmail.com\n",
        "PETER G"
       ]
      },
      {
       "output_type": "stream",
       "stream": "stdout",
       "text": [
        " dntnman@gmail.com\n",
        "aeg426"
       ]
      }
     ]
    },
    {
     "cell_type": "code",
     "collapsed": false,
     "input": [
      "\n",
      "\n",
      "user = User.objects.get(username='eae')\n",
      "print user.username\n",
      "print user.profile.city\n",
      "print user.profile\n",
      "print user"
     ],
     "language": "python",
     "metadata": {},
     "outputs": [
      {
       "output_type": "stream",
       "stream": "stdout",
       "text": [
        "eae\n",
        "Boulder"
       ]
      },
      {
       "output_type": "stream",
       "stream": "stdout",
       "text": [
        "\n",
        "eae-dev ezis :: eae ==> ernest.ezis@gmail.com -- 2015-02-24 18:57 --  Boulder, CO\n",
        "eae\n"
       ]
      }
     ],
     "prompt_number": 33
    },
    {
     "cell_type": "code",
     "collapsed": false,
     "input": [
      "# THIS DOES NOT WORK BECAUSE BY DEFINITION SELECT_RELATED ONLY RETRIEVS OBJECTS THAT RELATED_OBJECTS!\n",
      "no_profile = User.objects.select_related('userprofile').filter(first_name='Chris')\n",
      "\n",
      "print len(no_profile)\n",
      "\n",
      "for np in no_profile:\n",
      "    print np.username, np.profile"
     ],
     "language": "python",
     "metadata": {},
     "outputs": [
      {
       "output_type": "stream",
       "stream": "stdout",
       "text": [
        "0\n"
       ]
      }
     ],
     "prompt_number": 57
    },
    {
     "cell_type": "code",
     "collapsed": false,
     "input": [
      "# ACCOUNTS WHERE THE EMAIL WAS NEVER VERIFIED\n",
      "inactive = User.objects.filter(is_active=False)\n",
      "for i in inactive:\n",
      "    print i.username, i.email\n",
      "    \n",
      "print len(inactive)"
     ],
     "language": "python",
     "metadata": {},
     "outputs": [
      {
       "ename": "NameError",
       "evalue": "name 'false' is not defined",
       "output_type": "pyerr",
       "traceback": [
        "\u001b[0;31m---------------------------------------------------------------------------\u001b[0m\n\u001b[0;31mNameError\u001b[0m                                 Traceback (most recent call last)",
        "\u001b[0;32m<ipython-input-58-d8f05f0e8427>\u001b[0m in \u001b[0;36m<module>\u001b[0;34m()\u001b[0m\n\u001b[1;32m      1\u001b[0m \u001b[0;31m# ACCOUNTS WHERE THE EMAIL WAS NEVER VERIFIED\u001b[0m\u001b[0;34m\u001b[0m\u001b[0;34m\u001b[0m\u001b[0m\n\u001b[0;32m----> 2\u001b[0;31m \u001b[0minactive\u001b[0m \u001b[0;34m=\u001b[0m \u001b[0mUser\u001b[0m\u001b[0;34m.\u001b[0m\u001b[0mobjects\u001b[0m\u001b[0;34m.\u001b[0m\u001b[0mfilter\u001b[0m\u001b[0;34m(\u001b[0m\u001b[0mis_active\u001b[0m\u001b[0;34m=\u001b[0m\u001b[0mfalse\u001b[0m\u001b[0;34m)\u001b[0m\u001b[0;34m\u001b[0m\u001b[0m\n\u001b[0m\u001b[1;32m      3\u001b[0m \u001b[0;32mfor\u001b[0m \u001b[0mi\u001b[0m \u001b[0;32min\u001b[0m \u001b[0minactive\u001b[0m\u001b[0;34m:\u001b[0m\u001b[0;34m\u001b[0m\u001b[0m\n\u001b[1;32m      4\u001b[0m     \u001b[0;32mprint\u001b[0m \u001b[0mi\u001b[0m\u001b[0;34m.\u001b[0m\u001b[0musername\u001b[0m\u001b[0;34m,\u001b[0m \u001b[0mi\u001b[0m\u001b[0;34m.\u001b[0m\u001b[0memail\u001b[0m\u001b[0;34m\u001b[0m\u001b[0m\n\u001b[1;32m      5\u001b[0m \u001b[0;34m\u001b[0m\u001b[0m\n",
        "\u001b[0;31mNameError\u001b[0m: name 'false' is not defined"
       ]
      }
     ],
     "prompt_number": 58
    },
    {
     "cell_type": "code",
     "collapsed": false,
     "input": [
      "\n"
     ],
     "language": "python",
     "metadata": {},
     "outputs": []
    }
   ],
   "metadata": {}
  }
 ]
}