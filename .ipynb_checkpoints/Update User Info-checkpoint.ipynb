{
 "metadata": {
  "name": "",
  "signature": "sha256:457d9cc79a41f0bee341a228c670ad76fc9010872c24bb0da35ae8c4e83a579e"
 },
 "nbformat": 3,
 "nbformat_minor": 0,
 "worksheets": [
  {
   "cells": [
    {
     "cell_type": "code",
     "collapsed": false,
     "input": [
      "user = User.objects.get(username='USERNAME HERE')\n",
      "print user.email"
     ],
     "language": "python",
     "metadata": {},
     "outputs": [
      {
       "output_type": "stream",
       "stream": "stdout",
       "text": [
        "mattkobzik@hotmail.com\n"
       ]
      }
     ],
     "prompt_number": 3
    },
    {
     "cell_type": "code",
     "collapsed": false,
     "input": [
      "# user.fieldtoupdate = value\n",
      "# user.email = 'mattkobzik@gmail.com'\n",
      "\n",
      "user.save()"
     ],
     "language": "python",
     "metadata": {},
     "outputs": [],
     "prompt_number": 4
    },
    {
     "cell_type": "code",
     "collapsed": false,
     "input": [
      "# user = User.objects.get(username='USERNAME HERE')\n",
      "user = User.objects.get(username='Les Leathem')\n",
      "print user.email"
     ],
     "language": "python",
     "metadata": {},
     "outputs": [
      {
       "output_type": "stream",
       "stream": "stdout",
       "text": [
        "ljleathem@verizon.net\n"
       ]
      }
     ],
     "prompt_number": 1
    },
    {
     "cell_type": "code",
     "collapsed": false,
     "input": [
      "def update_user_email(username, new_email):\n",
      "    user = User.objects.get(username='Les Leathem')\n",
      "    print \"Old Email: {}:\".format(user.email)\n",
      "    user.email = new_email\n",
      "    user.save()\n",
      "    user = User.objects.get(username='Les Leathem')\n",
      "    print \"New Email: {}\".format(user.email)\n",
      "    \n",
      "    \n",
      "update_user_email('Les Leathem', 'ljleathem@gmail.com')"
     ],
     "language": "python",
     "metadata": {},
     "outputs": [
      {
       "output_type": "stream",
       "stream": "stdout",
       "text": [
        "Old Email ljleathem@verizon.net:\n",
        "New Email ljleathem@gmail.com:"
       ]
      },
      {
       "output_type": "stream",
       "stream": "stdout",
       "text": [
        "\n"
       ]
      }
     ],
     "prompt_number": 2
    },
    {
     "cell_type": "code",
     "collapsed": false,
     "input": [],
     "language": "python",
     "metadata": {},
     "outputs": []
    }
   ],
   "metadata": {}
  }
 ]
}