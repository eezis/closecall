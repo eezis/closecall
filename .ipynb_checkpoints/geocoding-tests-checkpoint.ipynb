{
 "metadata": {
  "name": "",
  "signature": "sha256:a1e6d1472df5795b58658ff7b0a30bd8cf2fc66206c4163720d2df0bccdae7ee"
 },
 "nbformat": 3,
 "nbformat_minor": 0,
 "worksheets": [
  {
   "cells": [
    {
     "cell_type": "code",
     "collapsed": false,
     "input": [
      "from incident.models import Incident\n"
     ],
     "language": "python",
     "metadata": {},
     "outputs": [],
     "prompt_number": 1
    },
    {
     "cell_type": "code",
     "collapsed": false,
     "input": [],
     "language": "python",
     "metadata": {},
     "outputs": []
    }
   ],
   "metadata": {}
  }
 ]
}