{
 "metadata": {
  "name": "",
  "signature": "sha256:ef4a268c47dbba2c057cbcd52912f2388a39dd4d3f8240b34e4d6bfc4ae87d56"
 },
 "nbformat": 3,
 "nbformat_minor": 0,
 "worksheets": [
  {
   "cells": [
    {
     "cell_type": "code",
     "collapsed": false,
     "input": [
      "from incident.models import Incident\n",
      "from geopy.geocoders import Nominatim\n",
      "\n",
      "geolocator = Nominatim()\n",
      "\n",
      "def get_position(zip=\"80304\"):\n",
      "    location = geolocator.geocode(zip)\n",
      "#     print location.latitude\n",
      "#     print location.longitude\n",
      "#     print location.raw\n",
      "#     print \"\\n\\n\"\n",
      "    pos = str(location.latitude) + ',' + str(location.longitude)\n",
      "    print pos \n",
      "#     print \"\\n\\n\"    \n",
      "#     pos = location\n",
      "    return pos\n",
      "\n",
      "x = get_position('80303')\n",
      "    \n",
      "print \"the position is {}\".format(x)\n"
     ],
     "language": "python",
     "metadata": {},
     "outputs": [
      {
       "output_type": "stream",
       "stream": "stdout",
       "text": [
        "40.0022363891,-105.232328617\n",
        "the position is 40.0022363891,-105.232328617\n"
       ]
      }
     ],
     "prompt_number": 89
    },
    {
     "cell_type": "code",
     "collapsed": false,
     "input": [
      "tad = {}\n",
      "pos = \"40.1523962,-105.23037066372063\"\n",
      "tad = address_from_position(pos)\n",
      "\n",
      "for k,v in tad.items():\n",
      "    print \"{}: {}\".format(k, v)\n",
      "\n",
      "\n",
      "print \"\\n\\n\"    \n",
      "    \n",
      "import pprint\n",
      "pprint.pprint(tad)\n",
      "\n",
      "print \"\\n\\n\"\n",
      "\n"
     ],
     "language": "python",
     "metadata": {},
     "outputs": [
      {
       "output_type": "stream",
       "stream": "stdout",
       "text": [
        "country: \n",
        "state: Colorado\n",
        "postcode: 80503\n",
        "city: \n",
        "address: Ken Pratt Boulevard, Altona, Boulder County, Colorado, 80503, United States of America\n",
        "\n",
        "\n",
        "\n",
        "{'address': u'Ken Pratt Boulevard, Altona, Boulder County, Colorado, 80503, United States of America',\n",
        " 'city': '',\n",
        " 'country': '',\n",
        " 'postcode': u'80503',\n",
        " 'state': u'Colorado'}\n",
        "\n",
        "\n",
        "\n"
       ]
      }
     ],
     "prompt_number": 87
    },
    {
     "cell_type": "code",
     "collapsed": false,
     "input": [
      "from incident.models import Incident\n",
      "from geopy.geocoders import Nominatim\n",
      "\n",
      "geolocator = Nominatim()\n",
      "\n",
      "\n",
      "\n",
      "def get_fieldvalue_or_blank(field, location_dict):\n",
      "# sometimes an address record will have \"Hamlet\" sometimes it will be \"city\"\n",
      "# I don't know all the variations, so have to play safe    \n",
      "    if field in location_dict:\n",
      "        return location.raw['address']['field']\n",
      "    else:\n",
      "        return \"\"\n",
      "\n",
      "\n",
      "def address_from_position(pos_str):\n",
      "    try:\n",
      "        location = geolocator.reverse(pos_str)\n",
      "#         location = geolocator.reverse(\"52.509669, 13.376294\")\n",
      "        ad = {\n",
      "            'address': location.address,\n",
      "            'country': get_fieldvalue_or_blank('country', location.address),\n",
      "            'state': location.raw['address']['state'],\n",
      "            'city': get_fieldvalue_or_blank('city', location.address),\n",
      "            'postcode': location.raw['address']['postcode'],\n",
      "        }\n",
      "        return ad\n",
      "    except GeocoderTimedOut:\n",
      "        return {'error': 'Timed Out'}\n",
      "    except GeocoderQuotaExceeded:\n",
      "        return {'error': 'QuotaExceeded'}\n",
      "    except Exception as e: \n",
      "        print e    \n",
      "        return {'error': e}\n",
      "\n",
      "\n",
      "\n",
      "    \n"
     ],
     "language": "python",
     "metadata": {},
     "outputs": [],
     "prompt_number": 78
    },
    {
     "cell_type": "code",
     "collapsed": false,
     "input": [
      "\"\"\"\n",
      "different locations return different fields\n",
      "\"\"\"\n",
      "\n",
      "location = geolocator.reverse(\"52.509669, 13.376294\")\n",
      "print(location.address)\n",
      "print location.raw['address']\n",
      "\n",
      "print \"\\n\"\n",
      "\n",
      "location = geolocator.reverse(pos)\n",
      "print(location.address)\n",
      "print \"\\n\"\n",
      "print location.raw['address']\n",
      "\n",
      "home = \"40.066677,-105.288754\"\n",
      "\n",
      "location = geolocator.reverse(home)\n",
      "print(location.address)\n",
      "print \"\\n\"\n",
      "print location.raw['address']\n"
     ],
     "language": "python",
     "metadata": {},
     "outputs": [
      {
       "output_type": "stream",
       "stream": "stdout",
       "text": [
        "Potsdamer Platz, Mitte, Berlin, 10117, Deutschland\n",
        "{u'city': u'Berlin', u'country': u'Deutschland', u'attraction': u'Potsdamer Platz', u'state': u'Berlin', u'city_district': u'Mitte', u'postcode': u'10117', u'country_code': u'de', u'road': u'Potsdamer Platz'}\n",
        "\n",
        "\n",
        "Ken Pratt Boulevard, Altona, Boulder County, Colorado, 80503, United States of America"
       ]
      },
      {
       "output_type": "stream",
       "stream": "stdout",
       "text": [
        "\n",
        "\n",
        "\n",
        "{u'country': u'United States of America', u'hamlet': u'Altona', u'county': u'Boulder County', u'state': u'Colorado', u'postcode': u'80503', u'country_code': u'us', u'road': u'Ken Pratt Boulevard'}\n"
       ]
      },
      {
       "ename": "AttributeError",
       "evalue": "'Location' object has no attribute 'city'",
       "output_type": "pyerr",
       "traceback": [
        "\u001b[0;31m---------------------------------------------------------------------------\u001b[0m\n\u001b[0;31mAttributeError\u001b[0m                            Traceback (most recent call last)",
        "\u001b[0;32m<ipython-input-66-b981306ec61e>\u001b[0m in \u001b[0;36m<module>\u001b[0;34m()\u001b[0m\n\u001b[1;32m     13\u001b[0m \u001b[0;32mprint\u001b[0m \u001b[0;34m\"\\n\"\u001b[0m\u001b[0;34m\u001b[0m\u001b[0m\n\u001b[1;32m     14\u001b[0m \u001b[0;32mprint\u001b[0m \u001b[0mlocation\u001b[0m\u001b[0;34m.\u001b[0m\u001b[0mraw\u001b[0m\u001b[0;34m[\u001b[0m\u001b[0;34m'address'\u001b[0m\u001b[0;34m]\u001b[0m\u001b[0;34m\u001b[0m\u001b[0m\n\u001b[0;32m---> 15\u001b[0;31m \u001b[0;32mprint\u001b[0m \u001b[0mlocation\u001b[0m\u001b[0;34m.\u001b[0m\u001b[0mcity\u001b[0m\u001b[0;34m\u001b[0m\u001b[0m\n\u001b[0m\u001b[1;32m     16\u001b[0m \u001b[0;34m\u001b[0m\u001b[0m\n\u001b[1;32m     17\u001b[0m \u001b[0mhome\u001b[0m \u001b[0;34m=\u001b[0m \u001b[0;34m\"40.066677,-105.288754\"\u001b[0m\u001b[0;34m\u001b[0m\u001b[0m\n",
        "\u001b[0;31mAttributeError\u001b[0m: 'Location' object has no attribute 'city'"
       ]
      }
     ],
     "prompt_number": 66
    },
    {
     "cell_type": "code",
     "collapsed": false,
     "input": [
      "print location.raw['address']\n",
      "print location.raw['address']['country']"
     ],
     "language": "python",
     "metadata": {},
     "outputs": [
      {
       "output_type": "stream",
       "stream": "stdout",
       "text": [
        "{u'city': u'Berlin', u'country': u'Deutschland', u'attraction': u'Potsdamer Platz', u'state': u'Berlin', u'city_district': u'Mitte', u'postcode': u'10117', u'country_code': u'de', u'road': u'Potsdamer Platz'}\n",
        "Deutschland\n"
       ]
      }
     ],
     "prompt_number": 49
    },
    {
     "cell_type": "code",
     "collapsed": false,
     "input": [
      "positions = Incident.objects.filter(user__username='eezis')\n",
      "for p in positions:\n",
      "    print p.position"
     ],
     "language": "python",
     "metadata": {},
     "outputs": [
      {
       "output_type": "stream",
       "stream": "stdout",
       "text": [
        "40.1523962,-105.19998659999999\n",
        "40.1523962,-105.19998659999999\n",
        "40.1523962,-105.23037066372063\n"
       ]
      }
     ],
     "prompt_number": 12
    },
    {
     "cell_type": "code",
     "collapsed": false,
     "input": [],
     "language": "python",
     "metadata": {},
     "outputs": [
      {
       "output_type": "stream",
       "stream": "stdout",
       "text": [
        "40.1523962,-105.19998659999999\n",
        "None\n",
        "None\n",
        "None\n",
        "None\n",
        "None\n",
        "None\n",
        "None\n",
        "None\n"
       ]
      }
     ],
     "prompt_number": 11
    },
    {
     "cell_type": "code",
     "collapsed": false,
     "input": [
      "# bad_entries = Incident.objects.filter(position=None)\n",
      "bad_entries = Incident.objects.filter(position__isnull=False)\n",
      "\n",
      "for b in bad_entries:\n",
      "    print b.user.username, b.what, b.position, b.id\n",
      "    \n",
      "\n"
     ],
     "language": "python",
     "metadata": {},
     "outputs": [
      {
       "output_type": "stream",
       "stream": "stdout",
       "text": [
        "eezis This is a test entry 40.1523962,-105.19998659999999 55\n",
        "eezis This is a test entry 40.1523962,-105.19998659999999 54\n",
        "eae Lime Green Dump Truck 40.1523962,-105.19998659999999 53\n",
        "eae What None 9\n",
        "eae What None 7\n",
        "eae What None 8\n",
        "eae what None 12\n",
        "eae what None 10\n",
        "eae what None 11\n",
        "eezis Jackass in a white pickup truck swerved toward us and missed Justin Hoesse by a few inches. 40.1523962,-105.23037066372063 49\n",
        "eae What None 13\n",
        "eae A small group; Nick Stengl, Ernest Ezis, Justin Hoesse, Eric Carlson, Richard were riding down Nelson Road, eastbound. Ezis and Hoesse were 2nd wheel, riding two abreast. Ezis inside and Hoesse traffic side.\r\n",
        "\r\n",
        "A large white pickup approached from behind. The truck sounded like it accelerated or something, we all reacted and moved to the right, the truck just missed Justin by several inches. One of the riders in the back, it might have been Carlson, said that the truck actually moved toward Justin on purpose. I was able to get a look at the license plate: 163 - DKJ \r\n",
        "\r\n",
        "I am certain of the 163, but it might have been JDK instead of DKJ.  None 3\n"
       ]
      }
     ],
     "prompt_number": 28
    },
    {
     "cell_type": "code",
     "collapsed": false,
     "input": [
      "positions = Incident.objects.filter(user__username='eae')\n",
      "for p in positions:\n",
      "    print p.position"
     ],
     "language": "python",
     "metadata": {},
     "outputs": [
      {
       "output_type": "stream",
       "stream": "stdout",
       "text": [
        "40.1523962,-105.19998659999999\n",
        "39.36827914916011,-92.8125\n",
        "None\n",
        "None\n",
        "None\n",
        "None\n",
        "None\n",
        "None\n",
        "None\n"
       ]
      }
     ],
     "prompt_number": 29
    },
    {
     "cell_type": "code",
     "collapsed": false,
     "input": [],
     "language": "python",
     "metadata": {},
     "outputs": []
    }
   ],
   "metadata": {}
  }
 ]
}