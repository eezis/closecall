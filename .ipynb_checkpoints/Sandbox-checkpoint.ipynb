{
 "metadata": {
  "name": "",
  "signature": "sha256:b0df24f4f406d05d145ce1d42a84bee4b80e2589fb5879ad7ac2bc05de9ba335"
 },
 "nbformat": 3,
 "nbformat_minor": 0,
 "worksheets": [
  {
   "cells": [
    {
     "cell_type": "code",
     "collapsed": false,
     "input": [
      "# %load_ext autoreload\n",
      "# %autoreload 2\n",
      "\n",
      "# Code to find the status of recent incident reports\n",
      "\n",
      "import datetime\n",
      "from incident.models import Incident\n",
      "\n",
      "I = Incident.objects.filter(created__gt=datetime.date(2015, 5, 10),accepted=True, closedfirstloop=False).order_by('user__username')\n",
      "\n",
      "\n",
      "print \"ID    UserName  \\tFirst     \\tLast    \\tEmail      \\tCloFL\\tRevwed\\tEmSent\\tCreated\"\n",
      "for i in I:\n",
      "    if not i.email_sent:\n",
      "        print \"{}   {}\\t{}\\t{}\\t{}\\t{}\\t{}\\t{}\\t{}\".format(i.id, i.user.username.ljust(15)[:12],i.user.profile.first.ljust(15)[:9], \\\n",
      "            i.user.profile.last.ljust(15), i.user.email.ljust(25)[:10], i.closedfirstloop, i.reviewed, \\\n",
      "            i.email_sent, i.created.strftime(\"%m/%d/%y\"))\n",
      "\n",
      "\n",
      "print \"\\n----- pending -----\\n\"\n",
      "\n",
      "I = Incident.objects.filter(created__gt=datetime.date(2015, 5, 10), pending=True).order_by('created')\n",
      "\n",
      "print \"ID    UserName  \\tFirst     \\tLast    \\tEmail\"\n",
      "\n",
      "for i in I:\n",
      "    print \"{}   {}\\t{}\\t{}\\t{}\".format(i.id, i.user.username.ljust(15)[:12],i.user.profile.first.ljust(15)[:9], \\\n",
      "            i.user.profile.last.ljust(15), i.user.email.ljust(25)[:10])\n",
      "    print \"\\t{}\".format(i.pending_note)\n",
      "    print \"\\n\"\n",
      "    \n",
      "    "
     ],
     "language": "python",
     "metadata": {},
     "outputs": [
      {
       "output_type": "stream",
       "stream": "stdout",
       "text": [
        "ID    UserName  \tFirst     \tLast    \tEmail      \tCloFL\tRevwed\tEmSent\tCreated\n",
        "168   Oiva Eskola \tOiva     \tEskola         \toiva.eskol\tFalse\tFalse\tFalse\t05/16/15"
       ]
      },
      {
       "output_type": "stream",
       "stream": "stdout",
       "text": [
        "\n",
        "169   Oiva Eskola \tOiva     \tEskola         \toiva.eskol\tFalse\tFalse\tFalse\t05/16/15"
       ]
      },
      {
       "output_type": "stream",
       "stream": "stdout",
       "text": [
        "\n",
        "152   SauronHimsel\tSauron   \tAnnatar        \tcmichdude@\tFalse\tFalse\tFalse\t05/14/15"
       ]
      },
      {
       "output_type": "stream",
       "stream": "stdout",
       "text": [
        "\n",
        "156   Scott Moore \tScott    \tMoore          \tscottiemoo\tFalse\tFalse\tFalse\t05/15/15"
       ]
      },
      {
       "output_type": "stream",
       "stream": "stdout",
       "text": [
        "\n",
        "167   sfwom1      \tMaureen  \tPersico        \tsfwom1@gma\tFalse\tFalse\tFalse\t05/16/15"
       ]
      },
      {
       "output_type": "stream",
       "stream": "stdout",
       "text": [
        "\n",
        "164   sk1tter     \tLynn     \tB              \tsk1tter@ya\tFalse\tFalse\tFalse\t05/16/15"
       ]
      },
      {
       "output_type": "stream",
       "stream": "stdout",
       "text": [
        "\n",
        "\n",
        "----- pending -----\n",
        "\n",
        "ID    UserName  \tFirst     \tLast    \tEmail\n",
        "163   Dianne San L\tDianne   \tSan Luis       \tdsl0414@gm"
       ]
      },
      {
       "output_type": "stream",
       "stream": "stdout",
       "text": [
        "\n",
        "\tAwaiting an email response from Diane.\r\n",
        "\n",
        "\n",
        "\n",
        "171   Ian Woloschi\tIan      \tWoloschin      \tian@wolosc"
       ]
      },
      {
       "output_type": "stream",
       "stream": "stdout",
       "text": [
        "\n",
        "\tSpecious report.  Awaiting the picture of the UPS truck. If a reasonable cyclist can navigate around, consider rejecting the report.\n",
        "\n",
        "\n",
        "174   triteri     \tTeresa   \tJones          \tteresajone"
       ]
      },
      {
       "output_type": "stream",
       "stream": "stdout",
       "text": [
        "\n",
        "\tAwaiting responses to the answers in my email.\n",
        "\n",
        "\n",
        "176   AlphaThree  \tK        \tS              \tsk@cs.brow"
       ]
      },
      {
       "output_type": "stream",
       "stream": "stdout",
       "text": [
        "\n",
        "\tAwaiting email response to 5/24/15 request.\n",
        "\n",
        "\n",
        "191   bedfordboy  \tDavid    \tMcAnally       \tdrmcanally"
       ]
      },
      {
       "output_type": "stream",
       "stream": "stdout",
       "text": [
        "\n",
        "\tI moved the personally identifying information here to the internal notes. I asked David if he could email the picture. Am awaiting his response as of 5/26/15 afternoon.\n",
        "\n",
        "\n"
       ]
      }
     ],
     "prompt_number": 18
    },
    {
     "cell_type": "code",
     "collapsed": false,
     "input": [
      "I = Incident.objects.filter(created__gt=datetime.date(2015, 5, 10),accepted=True, closedfirstloop=False).latest('created')\n",
      "\n",
      "print I.count()\n",
      "\n",
      "print \"ID    UserName  \\tFirst     \\tLast    \\tEmail      \\tCloFL\\tRevwed\\tEmSent\\tCreated\"\n",
      "\n",
      "for i in I:\n",
      "    \n",
      "    print \"{}   {}\\t{}\\t{}\\t{}\\t{}\\t{}\\t{}\\t{}\".format(i.id, i.user.username.ljust(15)[:12],i.user.profile.first.ljust(15)[:9], \\\n",
      "        i.user.profile.last.ljust(15), i.user.email.ljust(25)[:10], i.closedfirstloop, i.reviewed, \\\n",
      "        i.email_sent, i.created.strftime(\"%m/%d/%y\"))"
     ],
     "language": "python",
     "metadata": {},
     "outputs": [
      {
       "ename": "AttributeError",
       "evalue": "'Incident' object has no attribute 'count'",
       "output_type": "pyerr",
       "traceback": [
        "\u001b[0;31m---------------------------------------------------------------------------\u001b[0m\n\u001b[0;31mAttributeError\u001b[0m                            Traceback (most recent call last)",
        "\u001b[0;32m<ipython-input-15-37fa0f0f2b06>\u001b[0m in \u001b[0;36m<module>\u001b[0;34m()\u001b[0m\n\u001b[1;32m      1\u001b[0m \u001b[0mI\u001b[0m \u001b[0;34m=\u001b[0m \u001b[0mIncident\u001b[0m\u001b[0;34m.\u001b[0m\u001b[0mobjects\u001b[0m\u001b[0;34m.\u001b[0m\u001b[0mfilter\u001b[0m\u001b[0;34m(\u001b[0m\u001b[0mcreated__gt\u001b[0m\u001b[0;34m=\u001b[0m\u001b[0mdatetime\u001b[0m\u001b[0;34m.\u001b[0m\u001b[0mdate\u001b[0m\u001b[0;34m(\u001b[0m\u001b[0;36m2015\u001b[0m\u001b[0;34m,\u001b[0m \u001b[0;36m5\u001b[0m\u001b[0;34m,\u001b[0m \u001b[0;36m10\u001b[0m\u001b[0;34m)\u001b[0m\u001b[0;34m,\u001b[0m\u001b[0maccepted\u001b[0m\u001b[0;34m=\u001b[0m\u001b[0mTrue\u001b[0m\u001b[0;34m,\u001b[0m \u001b[0mclosedfirstloop\u001b[0m\u001b[0;34m=\u001b[0m\u001b[0mFalse\u001b[0m\u001b[0;34m)\u001b[0m\u001b[0;34m.\u001b[0m\u001b[0mlatest\u001b[0m\u001b[0;34m(\u001b[0m\u001b[0;34m'created'\u001b[0m\u001b[0;34m)\u001b[0m\u001b[0;34m\u001b[0m\u001b[0m\n\u001b[1;32m      2\u001b[0m \u001b[0;34m\u001b[0m\u001b[0m\n\u001b[0;32m----> 3\u001b[0;31m \u001b[0;32mprint\u001b[0m \u001b[0mI\u001b[0m\u001b[0;34m.\u001b[0m\u001b[0mcount\u001b[0m\u001b[0;34m(\u001b[0m\u001b[0;34m)\u001b[0m\u001b[0;34m\u001b[0m\u001b[0m\n\u001b[0m\u001b[1;32m      4\u001b[0m \u001b[0;34m\u001b[0m\u001b[0m\n\u001b[1;32m      5\u001b[0m \u001b[0;32mprint\u001b[0m \u001b[0;34m\"ID    UserName  \\tFirst     \\tLast    \\tEmail      \\tCloFL\\tRevwed\\tEmSent\\tCreated\"\u001b[0m\u001b[0;34m\u001b[0m\u001b[0m\n",
        "\u001b[0;31mAttributeError\u001b[0m: 'Incident' object has no attribute 'count'"
       ]
      }
     ],
     "prompt_number": 15
    },
    {
     "cell_type": "code",
     "collapsed": false,
     "input": [],
     "language": "python",
     "metadata": {},
     "outputs": []
    }
   ],
   "metadata": {}
  }
 ]
}