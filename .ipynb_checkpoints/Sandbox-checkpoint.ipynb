{
 "metadata": {
  "name": "",
  "signature": "sha256:89a0447c923d58e2d0e561ade8d23e6479908668a4f4e39d96e26016807c61c9"
 },
 "nbformat": 3,
 "nbformat_minor": 0,
 "worksheets": [
  {
   "cells": [
    {
     "cell_type": "code",
     "collapsed": false,
     "input": [
      "# %load_ext autoreload\n",
      "# %autoreload 2\n",
      "\n",
      "# Code to find the status of recent incident reports\n",
      "\n",
      "import datetime\n",
      "from incident.models import Incident\n",
      "\n",
      "I = Incident.objects.filter(created__gt=datetime.date(2015, 5, 10),accepted=True, closedfirstloop=False).order_by('user__username')\n",
      "\n",
      "\n",
      "print \"ID    UserName  \\tFirst     \\tLast    \\tEmail      \\tCloFL\\tRevwed\\tEmSent\\tCreated\"\n",
      "print \"--------------------------------------------------------------------------------------------------------\"\n",
      "for i in I:\n",
      "    if not i.email_sent:\n",
      "        print \"{}   {}\\t{}\\t{}\\t{}\\t{}\\t{}\\t{}\\t{}\".format(i.id, i.user.username.ljust(15)[:12],i.user.profile.first.ljust(15)[:9], \\\n",
      "            i.user.profile.last.ljust(15), i.user.email.ljust(25)[:10], i.closedfirstloop, i.reviewed, \\\n",
      "            i.email_sent, i.created.strftime(\"%m/%d/%y\"))\n",
      "\n",
      "\n",
      "print \"\\n----- pending -----\\n\"\n",
      "\n",
      "I = Incident.objects.filter(created__gt=datetime.date(2015, 5, 10), pending=True).order_by('created')\n",
      "\n",
      "print \"ID    UserName  \\tFirst     \\tLast    \\tEmail\"\n",
      "\n",
      "for i in I:\n",
      "    print \"{}   {}\\t{}\\t{}\\t{}\".format(i.id, i.user.username.ljust(15)[:12],i.user.profile.first.ljust(15)[:9], \\\n",
      "            i.user.profile.last.ljust(15), i.user.email.ljust(25)[:10])\n",
      "    print \"\\t{}\".format(i.pending_note)\n",
      "    print \"\\n\"\n",
      "    \n",
      "    "
     ],
     "language": "python",
     "metadata": {},
     "outputs": [
      {
       "output_type": "stream",
       "stream": "stdout",
       "text": [
        "ID    UserName  \tFirst     \tLast    \tEmail      \tCloFL\tRevwed\tEmSent\tCreated\n",
        "--------------------------------------------------------------------------------------------------------\n",
        "\n",
        "----- pending -----\n"
       ]
      },
      {
       "output_type": "stream",
       "stream": "stdout",
       "text": [
        "\n",
        "ID    UserName  \tFirst     \tLast    \tEmail\n",
        "171   Ian Woloschi\tIan      \tWoloschin      \tian@wolosc"
       ]
      },
      {
       "output_type": "stream",
       "stream": "stdout",
       "text": [
        "\n",
        "\tSpecious report.  Awaiting the picture of the UPS truck. If a reasonable cyclist can navigate around, consider rejecting the report.\n",
        "\n",
        "\n",
        "176   AlphaThree  \tK        \tS              \tsk@cs.brow"
       ]
      },
      {
       "output_type": "stream",
       "stream": "stdout",
       "text": [
        "\n",
        "\tAwaiting email response to 5/24/15 request.\n",
        "\n",
        "\n",
        "196   r c         \tr        \tc              \trmconnol@y"
       ]
      },
      {
       "output_type": "stream",
       "stream": "stdout",
       "text": [
        "\n",
        "\tHe needs to provide his name, and send in the picture.  I sent him an second email on 6.21.15.\n",
        "\n",
        "\n",
        "200   dhl         \tDavid    \tLaidlaw        \tdhl@cs.bro"
       ]
      },
      {
       "output_type": "stream",
       "stream": "stdout",
       "text": [
        "\n",
        "\t\n",
        "\n",
        "\n",
        "210   Kevin Montgo\tKevin    \tMontgomery     \tfacebook_k"
       ]
      },
      {
       "output_type": "stream",
       "stream": "stdout",
       "text": [
        "\n",
        "\tHis email address appears to be false.\r\n",
        "\r\n",
        "Travelling eastbound in College St. shared lane. Was sideswiped by silver Acura squeezing between me and streetcar.\n",
        "\n",
        "\n",
        "227   BB          \tB        \tB              \takitoprodu"
       ]
      },
      {
       "output_type": "stream",
       "stream": "stdout",
       "text": [
        "\n",
        "\tThe author of the report has not responded to any email queries.\n",
        "\n",
        "\n",
        "231   TwoWheeler  \tDave     \tS              \tDocR1@aol."
       ]
      },
      {
       "output_type": "stream",
       "stream": "stdout",
       "text": [
        "\n",
        "\tThis is a report from a motorist -- motorcyclists, complaining about cyclists\n",
        "\n",
        "\n",
        "248   CycleDave   \tDavid    \tJohnston       \tdr.david.j"
       ]
      },
      {
       "output_type": "stream",
       "stream": "stdout",
       "text": [
        "\n",
        "\tAsking what happened after he pointed out the vehicle to the cop.\n",
        "\n",
        "\n",
        "250   Dan Healy   \tDan      \tHealy          \tdaniel.t.h"
       ]
      },
      {
       "output_type": "stream",
       "stream": "stdout",
       "text": [
        "\n",
        "\tAwaiting a picture from the scene.\n",
        "\n",
        "\n",
        "253   mo3rgan     \tMorgan   \tBurns          \tmorgan.bur"
       ]
      },
      {
       "output_type": "stream",
       "stream": "stdout",
       "text": [
        "\n",
        "\tAsked for URL of video on 7.23.15\r\n",
        "\r\n",
        "Ian Woloshin (see email) wants a copy of video.\n",
        "\n",
        "\n"
       ]
      }
     ],
     "prompt_number": 9
    },
    {
     "cell_type": "code",
     "collapsed": false,
     "input": [
      "I = Incident.objects.filter(created__gt=datetime.date(2015, 5, 10),accepted=True, closedfirstloop=False).latest('created')\n",
      "\n",
      "print I.count()\n",
      "\n",
      "print \"ID    UserName  \\tFirst     \\tLast    \\tEmail      \\tCloFL\\tRevwed\\tEmSent\\tCreated\"\n",
      "\n",
      "for i in I:\n",
      "    \n",
      "    print \"{}   {}\\t{}\\t{}\\t{}\\t{}\\t{}\\t{}\\t{}\".format(i.id, i.user.username.ljust(15)[:12],i.user.profile.first.ljust(15)[:9], \\\n",
      "        i.user.profile.last.ljust(15), i.user.email.ljust(25)[:10], i.closedfirstloop, i.reviewed, \\\n",
      "        i.email_sent, i.created.strftime(\"%m/%d/%y\"))"
     ],
     "language": "python",
     "metadata": {},
     "outputs": [
      {
       "ename": "AttributeError",
       "evalue": "'Incident' object has no attribute 'count'",
       "output_type": "pyerr",
       "traceback": [
        "\u001b[0;31m---------------------------------------------------------------------------\u001b[0m\n\u001b[0;31mAttributeError\u001b[0m                            Traceback (most recent call last)",
        "\u001b[0;32m<ipython-input-2-37fa0f0f2b06>\u001b[0m in \u001b[0;36m<module>\u001b[0;34m()\u001b[0m\n\u001b[1;32m      1\u001b[0m \u001b[0mI\u001b[0m \u001b[0;34m=\u001b[0m \u001b[0mIncident\u001b[0m\u001b[0;34m.\u001b[0m\u001b[0mobjects\u001b[0m\u001b[0;34m.\u001b[0m\u001b[0mfilter\u001b[0m\u001b[0;34m(\u001b[0m\u001b[0mcreated__gt\u001b[0m\u001b[0;34m=\u001b[0m\u001b[0mdatetime\u001b[0m\u001b[0;34m.\u001b[0m\u001b[0mdate\u001b[0m\u001b[0;34m(\u001b[0m\u001b[0;36m2015\u001b[0m\u001b[0;34m,\u001b[0m \u001b[0;36m5\u001b[0m\u001b[0;34m,\u001b[0m \u001b[0;36m10\u001b[0m\u001b[0;34m)\u001b[0m\u001b[0;34m,\u001b[0m\u001b[0maccepted\u001b[0m\u001b[0;34m=\u001b[0m\u001b[0mTrue\u001b[0m\u001b[0;34m,\u001b[0m \u001b[0mclosedfirstloop\u001b[0m\u001b[0;34m=\u001b[0m\u001b[0mFalse\u001b[0m\u001b[0;34m)\u001b[0m\u001b[0;34m.\u001b[0m\u001b[0mlatest\u001b[0m\u001b[0;34m(\u001b[0m\u001b[0;34m'created'\u001b[0m\u001b[0;34m)\u001b[0m\u001b[0;34m\u001b[0m\u001b[0m\n\u001b[1;32m      2\u001b[0m \u001b[0;34m\u001b[0m\u001b[0m\n\u001b[0;32m----> 3\u001b[0;31m \u001b[0;32mprint\u001b[0m \u001b[0mI\u001b[0m\u001b[0;34m.\u001b[0m\u001b[0mcount\u001b[0m\u001b[0;34m(\u001b[0m\u001b[0;34m)\u001b[0m\u001b[0;34m\u001b[0m\u001b[0m\n\u001b[0m\u001b[1;32m      4\u001b[0m \u001b[0;34m\u001b[0m\u001b[0m\n\u001b[1;32m      5\u001b[0m \u001b[0;32mprint\u001b[0m \u001b[0;34m\"ID    UserName  \\tFirst     \\tLast    \\tEmail      \\tCloFL\\tRevwed\\tEmSent\\tCreated\"\u001b[0m\u001b[0;34m\u001b[0m\u001b[0m\n",
        "\u001b[0;31mAttributeError\u001b[0m: 'Incident' object has no attribute 'count'"
       ]
      }
     ],
     "prompt_number": 2
    },
    {
     "cell_type": "code",
     "collapsed": false,
     "input": [
      "import os\n",
      "os.environ['DJANGO_SETTINGS_MODULE'] = 'closecall.settings'\n",
      "import django\n",
      "django.setup()\n",
      "\n",
      "from core.utils import distance_between_geocoded_points\n",
      "\n",
      "def get_users_close_to_incident(incident_id, radius=60):\n",
      "    # get the incident\n",
      "    i = Incident.objects.get(id=incident_id)\n",
      "    if i.email_sent:\n",
      "        print \"\\n\\r Email Flag is set, has this incident has already been emailed out???\\n\\r\\n\\r\"\n",
      "        raise Exception(\"This incident has already been emailed out???\")\n",
      "\n",
      "\n",
      "    # create a list object to store the users that will get alerts for this incident\n",
      "    matched_users = []\n",
      "    # we want to search the full universe of users that agreed to get email alerts\n",
      "    U = UserProfile.objects.filter(email_incidents=True)\n",
      "    for u in U:\n",
      "        # get user's lat and lon\n",
      "        u_lat, u_lon = u.get_lat_lon()\n",
      "        # if the user is within the given radius of the incident, add them to the list of  matched users\n",
      "        if distance_between_geocoded_points(u_lat, u_lon, i.position.latitude, i.position.longitude) <= radius:\n",
      "            u_str = u\"{} {} {} {}\".format(u.first, u.last, u.user.username, u.user.email)\n",
      "            #print u'{} {} {} {}'.format(u.first, u.last, u.user.username, u.user.email).encode('utf-8')\n",
      "            # note send the fill userprofile object back\n",
      "            matched_users.append(u)\n",
      "\n",
      "    return matched_users\n",
      "\n",
      "INCIDENT_ID = 200\n",
      "MILES = 60\n",
      "\n",
      "user_list = get_users_close_to_incident(INCIDENT_ID, MILES)\n",
      "\n",
      "print '{} users in the incident zone'.format(len(user_list))\n",
      "\n"
     ],
     "language": "python",
     "metadata": {},
     "outputs": [
      {
       "output_type": "stream",
       "stream": "stdout",
       "text": [
        "\n",
        "\r",
        " Email Flag is set, has this incident has already been emailed out???\n",
        "\r\n",
        "\r\n"
       ]
      },
      {
       "ename": "Exception",
       "evalue": "This incident has already been emailed out???",
       "output_type": "pyerr",
       "traceback": [
        "\u001b[0;31m---------------------------------------------------------------------------\u001b[0m\n\u001b[0;31mException\u001b[0m                                 Traceback (most recent call last)",
        "\u001b[0;32m<ipython-input-5-e7f11ac4dcbe>\u001b[0m in \u001b[0;36m<module>\u001b[0;34m()\u001b[0m\n\u001b[1;32m     33\u001b[0m \u001b[0mMILES\u001b[0m \u001b[0;34m=\u001b[0m \u001b[0;36m60\u001b[0m\u001b[0;34m\u001b[0m\u001b[0m\n\u001b[1;32m     34\u001b[0m \u001b[0;34m\u001b[0m\u001b[0m\n\u001b[0;32m---> 35\u001b[0;31m \u001b[0muser_list\u001b[0m \u001b[0;34m=\u001b[0m \u001b[0mget_users_close_to_incident\u001b[0m\u001b[0;34m(\u001b[0m\u001b[0mINCIDENT_ID\u001b[0m\u001b[0;34m,\u001b[0m \u001b[0mMILES\u001b[0m\u001b[0;34m)\u001b[0m\u001b[0;34m\u001b[0m\u001b[0m\n\u001b[0m\u001b[1;32m     36\u001b[0m \u001b[0;34m\u001b[0m\u001b[0m\n\u001b[1;32m     37\u001b[0m \u001b[0;32mprint\u001b[0m \u001b[0;34m'{} users in the incident zone'\u001b[0m\u001b[0;34m.\u001b[0m\u001b[0mformat\u001b[0m\u001b[0;34m(\u001b[0m\u001b[0mlen\u001b[0m\u001b[0;34m(\u001b[0m\u001b[0muser_list\u001b[0m\u001b[0;34m)\u001b[0m\u001b[0;34m)\u001b[0m\u001b[0;34m\u001b[0m\u001b[0m\n",
        "\u001b[0;32m<ipython-input-5-e7f11ac4dcbe>\u001b[0m in \u001b[0;36mget_users_close_to_incident\u001b[0;34m(incident_id, radius)\u001b[0m\n\u001b[1;32m     11\u001b[0m     \u001b[0;32mif\u001b[0m \u001b[0mi\u001b[0m\u001b[0;34m.\u001b[0m\u001b[0memail_sent\u001b[0m\u001b[0;34m:\u001b[0m\u001b[0;34m\u001b[0m\u001b[0m\n\u001b[1;32m     12\u001b[0m         \u001b[0;32mprint\u001b[0m \u001b[0;34m\"\\n\\r Email Flag is set, has this incident has already been emailed out???\\n\\r\\n\\r\"\u001b[0m\u001b[0;34m\u001b[0m\u001b[0m\n\u001b[0;32m---> 13\u001b[0;31m         \u001b[0;32mraise\u001b[0m \u001b[0mException\u001b[0m\u001b[0;34m(\u001b[0m\u001b[0;34m\"This incident has already been emailed out???\"\u001b[0m\u001b[0;34m)\u001b[0m\u001b[0;34m\u001b[0m\u001b[0m\n\u001b[0m\u001b[1;32m     14\u001b[0m \u001b[0;34m\u001b[0m\u001b[0m\n\u001b[1;32m     15\u001b[0m \u001b[0;34m\u001b[0m\u001b[0m\n",
        "\u001b[0;31mException\u001b[0m: This incident has already been emailed out???"
       ]
      }
     ],
     "prompt_number": 5
    },
    {
     "cell_type": "code",
     "collapsed": false,
     "input": [
      "from users.models import UserProfile\n",
      "\n",
      "u = UserProfile.objects.filter(first__contains='Erne')\n",
      "u = UserProfile.objects.filter(first__contains='NYO')\n",
      "\n",
      "print u\n"
     ],
     "language": "python",
     "metadata": {},
     "outputs": [
      {
       "output_type": "stream",
       "stream": "stdout",
       "text": [
        "[]\n"
       ]
      }
     ],
     "prompt_number": 18
    },
    {
     "cell_type": "code",
     "collapsed": false,
     "input": [],
     "language": "python",
     "metadata": {},
     "outputs": []
    }
   ],
   "metadata": {}
  }
 ]
}