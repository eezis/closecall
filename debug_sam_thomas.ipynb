{
 "metadata": {
  "name": "",
  "signature": "sha256:dd06389c278725604c650e53c4d5bdb9267584b123dded8d298494adbaafd292"
 },
 "nbformat": 3,
 "nbformat_minor": 0,
 "worksheets": [
  {
   "cells": [
    {
     "cell_type": "code",
     "collapsed": false,
     "input": [
      "if 1==1:\n",
      "    created_username = 'Sam Thomas'\n",
      "    email = 'sthomas1990@gmail.com'\n",
      "\n",
      "if 1==1:    \n",
      "    created_username = 'samthom1'\n",
      "    email = 'samthom1@gmail.com'\n",
      "\n",
      "user = User.objects.get(username=created_username, email=email)\n",
      "\n",
      "# user.profile.created_with = ''\n",
      "\n",
      "print user.email\n",
      "print user.profile.state\n",
      "if user.profile.created_with is not None:\n",
      "    print user.profile.created_with.split('=')[1]\n",
      "    \n",
      "# try:\n",
      "#     print user.profile.created_with.split('=')[1]\n",
      "# except:\n",
      "#     pass\n"
     ],
     "language": "python",
     "metadata": {},
     "outputs": [
      {
       "output_type": "stream",
       "stream": "stdout",
       "text": [
        "samthom1@gmail.com\n",
        "Il"
       ]
      },
      {
       "output_type": "stream",
       "stream": "stdout",
       "text": [
        "\n"
       ]
      }
     ],
     "prompt_number": 1
    },
    {
     "cell_type": "code",
     "collapsed": false,
     "input": [
      "from django.contrib.auth.models import User\n",
      "from core.views import get_or_create_user\n",
      "\n",
      "U = get_or_create_user('samthom1@gmail.com','Sam Thomas', 'Sam', 'Thomas', '4335065')\n",
      "                    \n",
      "print U.id"
     ],
     "language": "python",
     "metadata": {},
     "outputs": [
      {
       "output_type": "stream",
       "stream": "stdout",
       "text": [
        "EXCEPTION RETRIEVING created_with field: invesigate and fix\n",
        "generating a stava based password"
       ]
      },
      {
       "output_type": "stream",
       "stream": "stdout",
       "text": [
        "\n",
        "INTEGRITY ERROR: Probably two Strava user with same name, Sam Thomas, attempting to fix by generating unique username"
       ]
      },
      {
       "output_type": "stream",
       "stream": "stdout",
       "text": [
        "\n",
        "5626"
       ]
      },
      {
       "output_type": "stream",
       "stream": "stdout",
       "text": [
        "\n"
       ]
      }
     ],
     "prompt_number": 2
    },
    {
     "cell_type": "code",
     "collapsed": false,
     "input": [
      "def testing():\n",
      "    if 1==1:    \n",
      "        created_username = 'samthom1'\n",
      "        email = 'samthom1@gmail.com'\n",
      "\n",
      "    user = User.objects.get(username=created_username, email=email)\n",
      "\n",
      "    print user.email\n",
      "    \n",
      "testing()"
     ],
     "language": "python",
     "metadata": {},
     "outputs": [
      {
       "output_type": "stream",
       "stream": "stdout",
       "text": [
        "samthom1@gmail.com\n"
       ]
      }
     ],
     "prompt_number": 2
    },
    {
     "cell_type": "code",
     "collapsed": false,
     "input": [
      "d = 'test'\n",
      "\n",
      "if d not in [None, '']:\n",
      "    print 'found'\n",
      "else:\n",
      "    print d"
     ],
     "language": "python",
     "metadata": {},
     "outputs": [
      {
       "output_type": "stream",
       "stream": "stdout",
       "text": [
        "found\n"
       ]
      }
     ],
     "prompt_number": 30
    },
    {
     "cell_type": "code",
     "collapsed": false,
     "input": [
      "from random import randint\n",
      "print str((randint(1,1000)))\n",
      " "
     ],
     "language": "python",
     "metadata": {},
     "outputs": [
      {
       "output_type": "stream",
       "stream": "stdout",
       "text": [
        "580\n"
       ]
      }
     ],
     "prompt_number": 10
    },
    {
     "cell_type": "code",
     "collapsed": false,
     "input": [
      "P = True\n",
      "def safe_print(msg, print_it=True, email_it=False):\n",
      "    if P and print_it:\n",
      "        try:\n",
      "            print msg\n",
      "        except IOError:\n",
      "            pass\n",
      "        \n",
      "safe_print('test')\n",
      "safe_print('testing - should not see this',False, False)\n",
      "safe_print('Testing still -- should NOT print', print_it=False)\n",
      "safe_print(u'Testing still - should print ', print_it=True)\n"
     ],
     "language": "python",
     "metadata": {},
     "outputs": [
      {
       "output_type": "stream",
       "stream": "stdout",
       "text": [
        "test\n",
        "Testing still - should print \n"
       ]
      }
     ],
     "prompt_number": 4
    },
    {
     "cell_type": "code",
     "collapsed": false,
     "input": [],
     "language": "python",
     "metadata": {},
     "outputs": []
    }
   ],
   "metadata": {}
  }
 ]
}