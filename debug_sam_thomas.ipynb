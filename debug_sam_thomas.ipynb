{
 "metadata": {
  "name": "",
  "signature": "sha256:744e51e475f7d80c4d63f62b4cdea1833f04bf9d71e187df4af3c9c966e82daf"
 },
 "nbformat": 3,
 "nbformat_minor": 0,
 "worksheets": [
  {
   "cells": [
    {
     "cell_type": "code",
     "collapsed": false,
     "input": [
      "if 1==1:\n",
      "    created_username = 'Sam Thomas'\n",
      "    email = 'sthomas1990@gmail.com'\n",
      "\n",
      "if 1==1:    \n",
      "    created_username = 'samthom1'\n",
      "    email = 'samthom1@gmail.com'\n",
      "\n",
      "user = User.objects.get(username=created_username, email=email)\n",
      "\n",
      "# user.profile.created_with = ''\n",
      "\n",
      "print user.email\n",
      "print user.profile.state\n",
      "if user.profile.created_with is not None:\n",
      "    print user.profile.created_with.split('=')[1]\n",
      "    \n",
      "# try:\n",
      "#     print user.profile.created_with.split('=')[1]\n",
      "# except:\n",
      "#     pass\n"
     ],
     "language": "python",
     "metadata": {},
     "outputs": [
      {
       "output_type": "stream",
       "stream": "stdout",
       "text": [
        "samthom1@gmail.com\n",
        "Il"
       ]
      },
      {
       "output_type": "stream",
       "stream": "stdout",
       "text": [
        "\n"
       ]
      }
     ],
     "prompt_number": 1
    },
    {
     "cell_type": "code",
     "collapsed": false,
     "input": [
      "from django.contrib.auth.models import User\n",
      "from core.views import get_or_create_user\n",
      "\n",
      "U = get_or_create_user('samthom1@gmail.com','Sam Thomas', 'Sam', 'Thomas', '4335065')\n",
      "                    \n",
      "print U.id"
     ],
     "language": "python",
     "metadata": {},
     "outputs": [
      {
       "output_type": "stream",
       "stream": "stdout",
       "text": [
        "EXCEPTION RETRIEVING created_with field: invesigate and fix\n"
       ]
      },
      {
       "ename": "TypeError",
       "evalue": "send_mail() takes at least 4 arguments (4 given)",
       "output_type": "pyerr",
       "traceback": [
        "\u001b[0;31m---------------------------------------------------------------------------\u001b[0m\n\u001b[0;31mTypeError\u001b[0m                                 Traceback (most recent call last)",
        "\u001b[0;32m<ipython-input-2-50b537bc56f2>\u001b[0m in \u001b[0;36m<module>\u001b[0;34m()\u001b[0m\n\u001b[1;32m      2\u001b[0m \u001b[0;32mfrom\u001b[0m \u001b[0mcore\u001b[0m\u001b[0;34m.\u001b[0m\u001b[0mviews\u001b[0m \u001b[0;32mimport\u001b[0m \u001b[0mget_or_create_user\u001b[0m\u001b[0;34m\u001b[0m\u001b[0m\n\u001b[1;32m      3\u001b[0m \u001b[0;34m\u001b[0m\u001b[0m\n\u001b[0;32m----> 4\u001b[0;31m \u001b[0mU\u001b[0m \u001b[0;34m=\u001b[0m \u001b[0mget_or_create_user\u001b[0m\u001b[0;34m(\u001b[0m\u001b[0;34m'samthom1@gmail.com'\u001b[0m\u001b[0;34m,\u001b[0m\u001b[0;34m'Sam Thomas'\u001b[0m\u001b[0;34m,\u001b[0m \u001b[0;34m'Sam'\u001b[0m\u001b[0;34m,\u001b[0m \u001b[0;34m'Thomas'\u001b[0m\u001b[0;34m,\u001b[0m \u001b[0;34m'4335065'\u001b[0m\u001b[0;34m)\u001b[0m\u001b[0;34m\u001b[0m\u001b[0m\n\u001b[0m\u001b[1;32m      5\u001b[0m \u001b[0;34m\u001b[0m\u001b[0m\n\u001b[1;32m      6\u001b[0m \u001b[0;32mprint\u001b[0m \u001b[0mU\u001b[0m\u001b[0;34m.\u001b[0m\u001b[0mid\u001b[0m\u001b[0;34m\u001b[0m\u001b[0m\n",
        "\u001b[0;32m/Users/eae/code/sites/closecall/core/views.py\u001b[0m in \u001b[0;36mget_or_create_user\u001b[0;34m(email, created_username, fname, lname, athlete_id)\u001b[0m\n\u001b[1;32m    276\u001b[0m     \u001b[0;32mtry\u001b[0m\u001b[0;34m:\u001b[0m\u001b[0;34m\u001b[0m\u001b[0m\n\u001b[1;32m    277\u001b[0m         \u001b[0muser\u001b[0m \u001b[0;34m=\u001b[0m \u001b[0mUser\u001b[0m\u001b[0;34m.\u001b[0m\u001b[0mobjects\u001b[0m\u001b[0;34m.\u001b[0m\u001b[0mget\u001b[0m\u001b[0;34m(\u001b[0m\u001b[0musername\u001b[0m\u001b[0;34m=\u001b[0m\u001b[0mcreated_username\u001b[0m\u001b[0;34m)\u001b[0m\u001b[0;34m\u001b[0m\u001b[0m\n\u001b[0;32m--> 278\u001b[0;31m         \u001b[0;32mif\u001b[0m \u001b[0mexisting_strava_user\u001b[0m\u001b[0;34m(\u001b[0m\u001b[0muser\u001b[0m\u001b[0;34m,\u001b[0m \u001b[0memail\u001b[0m\u001b[0;34m,\u001b[0m \u001b[0mathlete_id\u001b[0m\u001b[0;34m)\u001b[0m\u001b[0;34m:\u001b[0m\u001b[0;34m\u001b[0m\u001b[0m\n\u001b[0m\u001b[1;32m    279\u001b[0m             \u001b[0;32mreturn\u001b[0m \u001b[0muser\u001b[0m\u001b[0;34m\u001b[0m\u001b[0m\n\u001b[1;32m    280\u001b[0m         \u001b[0;32melse\u001b[0m\u001b[0;34m:\u001b[0m\u001b[0;34m\u001b[0m\u001b[0m\n",
        "\u001b[0;32m/Users/eae/code/sites/closecall/core/views.py\u001b[0m in \u001b[0;36mexisting_strava_user\u001b[0;34m(UserFromDB, authing_email, authing_ID)\u001b[0m\n\u001b[1;32m    252\u001b[0m     \u001b[0;32mexcept\u001b[0m\u001b[0;34m:\u001b[0m\u001b[0;34m\u001b[0m\u001b[0m\n\u001b[1;32m    253\u001b[0m         \u001b[0;31m# There was an issue retrivieving created with, return false and investigate what happened\u001b[0m\u001b[0;34m\u001b[0m\u001b[0;34m\u001b[0m\u001b[0m\n\u001b[0;32m--> 254\u001b[0;31m         \u001b[0msafe_print\u001b[0m\u001b[0;34m(\u001b[0m\u001b[0;34m'EXCEPTION RETRIEVING created_with field: invesigate and fix'\u001b[0m\u001b[0;34m,\u001b[0m \u001b[0mTrue\u001b[0m\u001b[0;34m,\u001b[0m \u001b[0mTrue\u001b[0m\u001b[0;34m)\u001b[0m\u001b[0;34m\u001b[0m\u001b[0m\n\u001b[0m\u001b[1;32m    255\u001b[0m         \u001b[0;32mreturn\u001b[0m \u001b[0mFalse\u001b[0m\u001b[0;34m\u001b[0m\u001b[0m\n\u001b[1;32m    256\u001b[0m \u001b[0;34m\u001b[0m\u001b[0m\n",
        "\u001b[0;32m/Users/eae/code/sites/closecall/core/views.py\u001b[0m in \u001b[0;36msafe_print\u001b[0;34m(msg, print_it, email_it)\u001b[0m\n\u001b[1;32m     47\u001b[0m             \u001b[0;32mpass\u001b[0m\u001b[0;34m\u001b[0m\u001b[0m\n\u001b[1;32m     48\u001b[0m     \u001b[0;32mif\u001b[0m \u001b[0memail_it\u001b[0m\u001b[0;34m:\u001b[0m\u001b[0;34m\u001b[0m\u001b[0m\n\u001b[0;32m---> 49\u001b[0;31m         \u001b[0msend_mail\u001b[0m\u001b[0;34m(\u001b[0m\u001b[0mmsg\u001b[0m\u001b[0;34m,\u001b[0m \u001b[0;34m'closecalldatabase@gmail.com'\u001b[0m\u001b[0;34m,\u001b[0m \u001b[0;34m[\u001b[0m\u001b[0;34m'closecalldatabase@gmail.com'\u001b[0m\u001b[0;34m,\u001b[0m \u001b[0;34m'ernest.ezis@gmail.com'\u001b[0m\u001b[0;34m,\u001b[0m\u001b[0;34m]\u001b[0m\u001b[0;34m,\u001b[0m \u001b[0mfail_silently\u001b[0m\u001b[0;34m=\u001b[0m\u001b[0mFalse\u001b[0m\u001b[0;34m)\u001b[0m\u001b[0;34m\u001b[0m\u001b[0m\n\u001b[0m\u001b[1;32m     50\u001b[0m \u001b[0;34m\u001b[0m\u001b[0m\n\u001b[1;32m     51\u001b[0m \u001b[0;34m\u001b[0m\u001b[0m\n",
        "\u001b[0;31mTypeError\u001b[0m: send_mail() takes at least 4 arguments (4 given)"
       ]
      }
     ],
     "prompt_number": 2
    },
    {
     "cell_type": "code",
     "collapsed": false,
     "input": [
      "def testing():\n",
      "    if 1==1:    \n",
      "        created_username = 'samthom1'\n",
      "        email = 'samthom1@gmail.com'\n",
      "\n",
      "    user = User.objects.get(username=created_username, email=email)\n",
      "\n",
      "    print user.email\n",
      "    \n",
      "testing()"
     ],
     "language": "python",
     "metadata": {},
     "outputs": [
      {
       "output_type": "stream",
       "stream": "stdout",
       "text": [
        "samthom1@gmail.com\n"
       ]
      }
     ],
     "prompt_number": 2
    },
    {
     "cell_type": "code",
     "collapsed": false,
     "input": [
      "d = 'test'\n",
      "\n",
      "if d not in [None, '']:\n",
      "    print 'found'\n",
      "else:\n",
      "    print d"
     ],
     "language": "python",
     "metadata": {},
     "outputs": [
      {
       "output_type": "stream",
       "stream": "stdout",
       "text": [
        "found\n"
       ]
      }
     ],
     "prompt_number": 30
    },
    {
     "cell_type": "code",
     "collapsed": false,
     "input": [
      "from random import randint\n",
      "print str((randint(1,1000)))\n",
      " "
     ],
     "language": "python",
     "metadata": {},
     "outputs": [
      {
       "output_type": "stream",
       "stream": "stdout",
       "text": [
        "580\n"
       ]
      }
     ],
     "prompt_number": 10
    },
    {
     "cell_type": "code",
     "collapsed": false,
     "input": [
      "P = True\n",
      "def safe_print(msg, print_it=True, email_it=False):\n",
      "    if P and print_it:\n",
      "        try:\n",
      "            print msg\n",
      "        except IOError:\n",
      "            pass\n",
      "        \n",
      "safe_print('test')\n",
      "safe_print('testing - should not see this',False, False)\n",
      "safe_print('Testing still -- should NOT print', print_it=False)\n",
      "safe_print(u'Testing still - should print ', print_it=True)\n"
     ],
     "language": "python",
     "metadata": {},
     "outputs": [
      {
       "output_type": "stream",
       "stream": "stdout",
       "text": [
        "test\n",
        "Testing still - should print \n"
       ]
      }
     ],
     "prompt_number": 4
    },
    {
     "cell_type": "code",
     "collapsed": false,
     "input": [],
     "language": "python",
     "metadata": {},
     "outputs": []
    }
   ],
   "metadata": {}
  }
 ]
}