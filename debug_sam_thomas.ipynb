{
 "metadata": {
  "name": "",
  "signature": "sha256:ad04ef0180433243676000bcef1836000cc8643efcce74942396aadd525f1cc9"
 },
 "nbformat": 3,
 "nbformat_minor": 0,
 "worksheets": [
  {
   "cells": [
    {
     "cell_type": "code",
     "collapsed": false,
     "input": [
      "if 1==1:\n",
      "    created_username = 'Sam Thomas'\n",
      "    email = 'sthomas1990@gmail.com'\n",
      "\n",
      "if 1==1:    \n",
      "    created_username = 'samthom1'\n",
      "    email = 'samthom1@gmail.com'\n",
      "\n",
      "user = User.objects.get(username=created_username, email=email)\n",
      "\n",
      "# user.profile.created_with = ''\n",
      "\n",
      "print user.email\n",
      "print user.profile.state\n",
      "if user.profile.created_with is not None:\n",
      "    print user.profile.created_with.split('=')[1]\n",
      "    \n",
      "# try:\n",
      "#     print user.profile.created_with.split('=')[1]\n",
      "# except:\n",
      "#     pass\n"
     ],
     "language": "python",
     "metadata": {},
     "outputs": [
      {
       "output_type": "stream",
       "stream": "stdout",
       "text": [
        "samthom1@gmail.com\n",
        "Il"
       ]
      },
      {
       "output_type": "stream",
       "stream": "stdout",
       "text": [
        "\n"
       ]
      }
     ],
     "prompt_number": 14
    },
    {
     "cell_type": "code",
     "collapsed": false,
     "input": [
      "from core.views import get_or_create_user\n",
      "\n",
      "U = get_or_create_user('samthom1@gmail.com','Sam Thomas', 'Sam', 'Thomas', '4335065')\n",
      "                       \n",
      "print u.id"
     ],
     "language": "python",
     "metadata": {},
     "outputs": [
      {
       "ename": "NameError",
       "evalue": "global name 'username' is not defined",
       "output_type": "pyerr",
       "traceback": [
        "\u001b[0;31m---------------------------------------------------------------------------\u001b[0m\n\u001b[0;31mNameError\u001b[0m                                 Traceback (most recent call last)",
        "\u001b[0;32m<ipython-input-19-b37fbfbc1bc9>\u001b[0m in \u001b[0;36m<module>\u001b[0;34m()\u001b[0m\n\u001b[1;32m      1\u001b[0m \u001b[0;32mfrom\u001b[0m \u001b[0mcore\u001b[0m\u001b[0;34m.\u001b[0m\u001b[0mviews\u001b[0m \u001b[0;32mimport\u001b[0m \u001b[0mget_or_create_user\u001b[0m\u001b[0;34m\u001b[0m\u001b[0m\n\u001b[1;32m      2\u001b[0m \u001b[0;34m\u001b[0m\u001b[0m\n\u001b[0;32m----> 3\u001b[0;31m \u001b[0mU\u001b[0m \u001b[0;34m=\u001b[0m \u001b[0mget_or_create_user\u001b[0m\u001b[0;34m(\u001b[0m\u001b[0;34m'samthom1@gmail.com'\u001b[0m\u001b[0;34m,\u001b[0m\u001b[0;34m'Sam Thomas'\u001b[0m\u001b[0;34m,\u001b[0m \u001b[0;34m'Sam'\u001b[0m\u001b[0;34m,\u001b[0m \u001b[0;34m'Thomas'\u001b[0m\u001b[0;34m,\u001b[0m \u001b[0;34m'4335065'\u001b[0m\u001b[0;34m)\u001b[0m\u001b[0;34m\u001b[0m\u001b[0m\n\u001b[0m\u001b[1;32m      4\u001b[0m \u001b[0;34m\u001b[0m\u001b[0m\n\u001b[1;32m      5\u001b[0m \u001b[0;32mprint\u001b[0m \u001b[0mu\u001b[0m\u001b[0;34m.\u001b[0m\u001b[0mid\u001b[0m\u001b[0;34m\u001b[0m\u001b[0m\n",
        "\u001b[0;32m/Users/eae/code/sites/closecall/core/views.py\u001b[0m in \u001b[0;36mget_or_create_user\u001b[0;34m(email, created_username, fname, lname, athlete_id)\u001b[0m\n\u001b[1;32m    216\u001b[0m         \u001b[0;31m# tried to register, the created_username was Sam Thomas, it selected the existing one of course,\u001b[0m\u001b[0;34m\u001b[0m\u001b[0;34m\u001b[0m\u001b[0m\n\u001b[1;32m    217\u001b[0m         \u001b[0;31m# then, worse, it 'updated' the original guy's email with the one passed in here!\u001b[0m\u001b[0;34m\u001b[0m\u001b[0;34m\u001b[0m\u001b[0m\n\u001b[0;32m--> 218\u001b[0;31m         \u001b[0muser\u001b[0m \u001b[0;34m=\u001b[0m \u001b[0mUser\u001b[0m\u001b[0;34m.\u001b[0m\u001b[0mobjects\u001b[0m\u001b[0;34m.\u001b[0m\u001b[0mget\u001b[0m\u001b[0;34m(\u001b[0m\u001b[0musername\u001b[0m\u001b[0;34m=\u001b[0m\u001b[0mcreated_username\u001b[0m\u001b[0;34m,\u001b[0m \u001b[0memail\u001b[0m\u001b[0;34m=\u001b[0m\u001b[0memail\u001b[0m\u001b[0;34m)\u001b[0m\u001b[0;34m\u001b[0m\u001b[0m\n\u001b[0m\u001b[1;32m    219\u001b[0m         \u001b[0;31m# user = User.objects.get(username=created_username)\u001b[0m\u001b[0;34m\u001b[0m\u001b[0;34m\u001b[0m\u001b[0m\n\u001b[1;32m    220\u001b[0m         \u001b[0;32mtry\u001b[0m\u001b[0;34m:\u001b[0m\u001b[0;34m\u001b[0m\u001b[0m\n",
        "\u001b[0;31mNameError\u001b[0m: global name 'username' is not defined"
       ]
      }
     ],
     "prompt_number": 19
    },
    {
     "cell_type": "code",
     "collapsed": false,
     "input": [],
     "language": "python",
     "metadata": {},
     "outputs": []
    }
   ],
   "metadata": {}
  }
 ]
}