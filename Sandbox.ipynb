{
 "metadata": {
  "name": "",
  "signature": "sha256:83615b1b952b9e9ad9dc806e7e826eefc2ced5161daeb4d9a39346da420308bf"
 },
 "nbformat": 3,
 "nbformat_minor": 0,
 "worksheets": [
  {
   "cells": [
    {
     "cell_type": "code",
     "collapsed": false,
     "input": [
      "# %load_ext autoreload\n",
      "# %autoreload 2\n",
      "\n",
      "# Code to find the status of recent incident reports\n",
      "\n",
      "import datetime\n",
      "from incident.models import Incident\n",
      "\n",
      "I = Incident.objects.filter(created__gt=datetime.date(2015, 5, 10),accepted=True, closedfirstloop=False).order_by('user__username')\n",
      "\n",
      "\n",
      "print \"ID    UserName  \\tFirst     \\tLast    \\tEmail      \\tCloFL\\tRevwed\\tEmSent\\tCreated\"\n",
      "for i in I:\n",
      "    if not i.email_sent:\n",
      "        print \"{}   {}\\t{}\\t{}\\t{}\\t{}\\t{}\\t{}\\t{}\".format(i.id, i.user.username.ljust(15)[:12],i.user.profile.first.ljust(15)[:9], \\\n",
      "            i.user.profile.last.ljust(15), i.user.email.ljust(25)[:10], i.closedfirstloop, i.reviewed, \\\n",
      "            i.email_sent, i.created.strftime(\"%m/%d/%y\"))\n",
      "\n",
      "\n",
      "    \n",
      "    "
     ],
     "language": "python",
     "metadata": {},
     "outputs": [
      {
       "output_type": "stream",
       "stream": "stderr",
       "text": [
        "/Users/eae/.virtualenvs/closecall/lib/python2.7/site-packages/django/db/models/fields/__init__.py:1222: RuntimeWarning: DateTimeField Incident.created received a naive datetime (2015-05-10 00:00:00) while time zone support is active.\n",
        "  RuntimeWarning)\n",
        "\n"
       ]
      },
      {
       "output_type": "stream",
       "stream": "stderr",
       "text": [
        "WARNING:py.warnings:/Users/eae/.virtualenvs/closecall/lib/python2.7/site-packages/django/db/models/fields/__init__.py:1222: RuntimeWarning: DateTimeField Incident.created received a naive datetime (2015-05-10 00:00:00) while time zone support is active.\n",
        "  RuntimeWarning)\n",
        "\n"
       ]
      },
      {
       "output_type": "stream",
       "stream": "stdout",
       "text": [
        "ID    UserName  \tFirst     \tLast    \tEmail      \tCloFL\tRevwed\tEmSent\tCreated\n",
        "176   AlphaThree  \tK        \tS              \tsk@cs.brow\tFalse\tTrue\tFalse\t05/18/15"
       ]
      },
      {
       "output_type": "stream",
       "stream": "stdout",
       "text": [
        "\n",
        "191   bedfordboy  \tDavid    \tMcAnally       \tdrmcanally\tFalse\tTrue\tFalse\t05/25/15"
       ]
      },
      {
       "output_type": "stream",
       "stream": "stdout",
       "text": [
        "\n",
        "170   chawkins72  \tCheryl   \tHawkins        \tcheryla.ha\tFalse\tFalse\tFalse\t05/16/15"
       ]
      },
      {
       "output_type": "stream",
       "stream": "stdout",
       "text": [
        "\n",
        "153   David Soto  \tDavid    \tSoto           \tspacecadet\tFalse\tFalse\tFalse\t05/14/15"
       ]
      },
      {
       "output_type": "stream",
       "stream": "stdout",
       "text": [
        "\n",
        "163   Dianne San L\tDianne   \tSan Luis       \tdsl0414@gm\tFalse\tFalse\tFalse\t05/16/15"
       ]
      },
      {
       "output_type": "stream",
       "stream": "stdout",
       "text": [
        "\n",
        "160   Gavin .     \tGavin    \tDavis          \tgav182@gma\tFalse\tFalse\tFalse\t05/15/15"
       ]
      },
      {
       "output_type": "stream",
       "stream": "stdout",
       "text": [
        "\n",
        "172   gonepro     \tgone     \tpro            \tbikerboy38\tFalse\tFalse\tFalse\t05/17/15"
       ]
      },
      {
       "output_type": "stream",
       "stream": "stdout",
       "text": [
        "\n",
        "171   Ian Woloschi\tIan      \tWoloschin      \tian@wolosc\tFalse\tFalse\tFalse\t05/17/15"
       ]
      },
      {
       "output_type": "stream",
       "stream": "stdout",
       "text": [
        "\n",
        "155   J Boom      \tJ        \tBoom           \tjordy.boom\tFalse\tFalse\tFalse\t05/15/15"
       ]
      },
      {
       "output_type": "stream",
       "stream": "stdout",
       "text": [
        "\n",
        "169   Oiva Eskola \tOiva     \tEskola         \toiva.eskol\tFalse\tFalse\tFalse\t05/16/15"
       ]
      },
      {
       "output_type": "stream",
       "stream": "stdout",
       "text": [
        "\n",
        "168   Oiva Eskola \tOiva     \tEskola         \toiva.eskol\tFalse\tFalse\tFalse\t05/16/15"
       ]
      },
      {
       "output_type": "stream",
       "stream": "stdout",
       "text": [
        "\n",
        "152   SauronHimsel\tSauron   \tAnnatar        \tcmichdude@\tFalse\tFalse\tFalse\t05/14/15"
       ]
      },
      {
       "output_type": "stream",
       "stream": "stdout",
       "text": [
        "\n",
        "156   Scott Moore \tScott    \tMoore          \tscottiemoo\tFalse\tFalse\tFalse\t05/15/15"
       ]
      },
      {
       "output_type": "stream",
       "stream": "stdout",
       "text": [
        "\n",
        "167   sfwom1      \tMaureen  \tPersico        \tsfwom1@gma\tFalse\tFalse\tFalse\t05/16/15"
       ]
      },
      {
       "output_type": "stream",
       "stream": "stdout",
       "text": [
        "\n",
        "173   sidisti     \tSid      \tHellman        \ts.hellman@\tFalse\tFalse\tFalse\t05/17/15"
       ]
      },
      {
       "output_type": "stream",
       "stream": "stdout",
       "text": [
        "\n",
        "164   sk1tter     \tLynn     \tB              \tsk1tter@ya\tFalse\tFalse\tFalse\t05/16/15"
       ]
      },
      {
       "output_type": "stream",
       "stream": "stdout",
       "text": [
        "\n",
        "187   slowleak    \tKristina \tBacon          \tslowleak1@\tFalse\tFalse\tFalse\t05/22/15"
       ]
      },
      {
       "output_type": "stream",
       "stream": "stdout",
       "text": [
        "\n",
        "174   triteri     \tTeresa   \tJones          \tteresajone\tFalse\tFalse\tFalse\t05/18/15"
       ]
      },
      {
       "output_type": "stream",
       "stream": "stdout",
       "text": [
        "\n",
        "178   xchopp      \tMark     \tChopping       \txchopp@gma\tFalse\tFalse\tFalse\t05/19/15"
       ]
      },
      {
       "output_type": "stream",
       "stream": "stdout",
       "text": [
        "\n"
       ]
      }
     ],
     "prompt_number": 1
    },
    {
     "cell_type": "code",
     "collapsed": false,
     "input": [
      "I = Incident.objects.filter(created__gt=datetime.date(2015, 5, 10),accepted=True, closedfirstloop=False).latest('created')\n",
      "\n",
      "print I.count()\n",
      "\n",
      "print \"ID    UserName  \\tFirst     \\tLast    \\tEmail      \\tCloFL\\tRevwed\\tEmSent\\tCreated\"\n",
      "\n",
      "for i in I:\n",
      "    \n",
      "    print \"{}   {}\\t{}\\t{}\\t{}\\t{}\\t{}\\t{}\\t{}\".format(i.id, i.user.username.ljust(15)[:12],i.user.profile.first.ljust(15)[:9], \\\n",
      "        i.user.profile.last.ljust(15), i.user.email.ljust(25)[:10], i.closedfirstloop, i.reviewed, \\\n",
      "        i.email_sent, i.created.strftime(\"%m/%d/%y\"))"
     ],
     "language": "python",
     "metadata": {},
     "outputs": [
      {
       "ename": "AttributeError",
       "evalue": "'Incident' object has no attribute 'count'",
       "output_type": "pyerr",
       "traceback": [
        "\u001b[0;31m---------------------------------------------------------------------------\u001b[0m\n\u001b[0;31mAttributeError\u001b[0m                            Traceback (most recent call last)",
        "\u001b[0;32m<ipython-input-19-37fa0f0f2b06>\u001b[0m in \u001b[0;36m<module>\u001b[0;34m()\u001b[0m\n\u001b[1;32m      1\u001b[0m \u001b[0mI\u001b[0m \u001b[0;34m=\u001b[0m \u001b[0mIncident\u001b[0m\u001b[0;34m.\u001b[0m\u001b[0mobjects\u001b[0m\u001b[0;34m.\u001b[0m\u001b[0mfilter\u001b[0m\u001b[0;34m(\u001b[0m\u001b[0mcreated__gt\u001b[0m\u001b[0;34m=\u001b[0m\u001b[0mdatetime\u001b[0m\u001b[0;34m.\u001b[0m\u001b[0mdate\u001b[0m\u001b[0;34m(\u001b[0m\u001b[0;36m2015\u001b[0m\u001b[0;34m,\u001b[0m \u001b[0;36m5\u001b[0m\u001b[0;34m,\u001b[0m \u001b[0;36m10\u001b[0m\u001b[0;34m)\u001b[0m\u001b[0;34m,\u001b[0m\u001b[0maccepted\u001b[0m\u001b[0;34m=\u001b[0m\u001b[0mTrue\u001b[0m\u001b[0;34m,\u001b[0m \u001b[0mclosedfirstloop\u001b[0m\u001b[0;34m=\u001b[0m\u001b[0mFalse\u001b[0m\u001b[0;34m)\u001b[0m\u001b[0;34m.\u001b[0m\u001b[0mlatest\u001b[0m\u001b[0;34m(\u001b[0m\u001b[0;34m'created'\u001b[0m\u001b[0;34m)\u001b[0m\u001b[0;34m\u001b[0m\u001b[0m\n\u001b[1;32m      2\u001b[0m \u001b[0;34m\u001b[0m\u001b[0m\n\u001b[0;32m----> 3\u001b[0;31m \u001b[0;32mprint\u001b[0m \u001b[0mI\u001b[0m\u001b[0;34m.\u001b[0m\u001b[0mcount\u001b[0m\u001b[0;34m(\u001b[0m\u001b[0;34m)\u001b[0m\u001b[0;34m\u001b[0m\u001b[0m\n\u001b[0m\u001b[1;32m      4\u001b[0m \u001b[0;34m\u001b[0m\u001b[0m\n\u001b[1;32m      5\u001b[0m \u001b[0;32mprint\u001b[0m \u001b[0;34m\"ID    UserName  \\tFirst     \\tLast    \\tEmail      \\tCloFL\\tRevwed\\tEmSent\\tCreated\"\u001b[0m\u001b[0;34m\u001b[0m\u001b[0m\n",
        "\u001b[0;31mAttributeError\u001b[0m: 'Incident' object has no attribute 'count'"
       ]
      }
     ],
     "prompt_number": 19
    },
    {
     "cell_type": "code",
     "collapsed": false,
     "input": [],
     "language": "python",
     "metadata": {},
     "outputs": []
    }
   ],
   "metadata": {}
  }
 ]
}