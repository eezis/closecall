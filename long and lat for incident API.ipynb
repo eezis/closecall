{
 "metadata": {
  "name": "",
  "signature": "sha256:cf777b209e12530ef80047dfa3ed10730a4721e31f0027a490383e9c8babb7b2"
 },
 "nbformat": 3,
 "nbformat_minor": 0,
 "worksheets": [
  {
   "cells": [
    {
     "cell_type": "code",
     "collapsed": false,
     "input": [
      "\"\"\"\n",
      "I added a Longitude and Latitude field to the Incident Model so that the \n",
      "incidents could be returned in an API via Django Rest Framework.\n",
      "\n",
      "Those values should get populated automagically in the future via an override of the\n",
      "Model.save method\n",
      "\"\"\"\n",
      "\n",
      "I = Incident.objects.all()\n",
      "\n",
      "for i in I:\n",
      "    #print i.get_lat(), i.get_lon()\n",
      "    i.latitude = i.get_lat()\n",
      "    i.longitude = i.get_lon()\n",
      "    i.save()\n",
      "    \n",
      "\n",
      "print \"done\"    \n",
      "    \n",
      "    "
     ],
     "language": "python",
     "metadata": {},
     "outputs": [],
     "prompt_number": 2
    },
    {
     "cell_type": "code",
     "collapsed": false,
     "input": [],
     "language": "python",
     "metadata": {},
     "outputs": []
    }
   ],
   "metadata": {}
  }
 ]
}