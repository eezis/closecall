{
 "metadata": {
  "name": "",
  "signature": "sha256:f699e54669c9754b5490744a092d97e5537874c0a725d807e85baa4ad4882824"
 },
 "nbformat": 3,
 "nbformat_minor": 0,
 "worksheets": [
  {
   "cells": [
    {
     "cell_type": "code",
     "collapsed": false,
     "input": [
      "# ***************************************************************************************************#\n",
      "# ***************************************************************************************************#\n",
      "# \n",
      "#    THIS IS THE KEY METHOD TO USE, EVERYTHING ELSE ON THE PAGE WAS IN SUPPORT OF THIS METHOD        #\n",
      "# \n",
      "# ***************************************************************************************************#\n",
      "# ***************************************************************************************************#\n",
      "\"\"\"\n",
      "Test the UserProfile method \n",
      "\n",
      "    def get_user_incidents(self, miles=60):\n",
      "        ...\n",
      "        \n",
      "        \n",
      "\"\"\"\n",
      "from users.models import UserProfile\n",
      "\n",
      "up = UserProfile.objects.get(user__username='Oliver-Ezis')\n",
      "matches = up.get_user_incidents(35)\n",
      "for m in matches:\n",
      "    print m.what[:50], m.address\n",
      "\n",
      "    \n",
      "# ***************************************************************************************************#\n",
      "# ***************************************************************************************************#\n",
      "# ***************************************************************************************************#"
     ],
     "language": "python",
     "metadata": {},
     "outputs": [
      {
       "output_type": "stream",
       "stream": "stdout",
       "text": [
        "<p>Fake Entry, Brighton CO, just using for local t 16601-16813 East 144th Avenue, Brighton, CO 80601, USA\n",
        "<p>This is a Fake Entry for Oliver Ezis</p> 6151-6649 Hygiene Road, Longmont, CO 80503, USA\n",
        "<p>This is a test entry</p> 6650 Nelson Road, Longmont, CO 80503, USA\n",
        "<p>This is a test entry</p> 6650 Nelson Road, Longmont, CO 80503, USA\n",
        "<p>Lime Green Dump Truck</p> 6650 Nelson Road, Longmont, CO 80503, USA\n",
        "<p>Jackass in a white pickup truck swerved toward  5101-5499 Nelson Road, Longmont, CO 80503, USA\n",
        "<p>I was in a group of five riders, headed east on 6799 Nelson Road, Longmont, CO 80503, USA\n"
       ]
      }
     ],
     "prompt_number": 1
    },
    {
     "cell_type": "code",
     "collapsed": false,
     "input": [
      "from math import sin, cos, sqrt, atan2, radians\n",
      "\n",
      "R = 6373.0 #km\n",
      "RM = 3959\n",
      "\n",
      "lat1 = radians(40.066677)\n",
      "lon1 = radians(-105.288754)\n",
      "lat2 = radians(41.7004784)\n",
      "lon2 = radians(-72.5797328)\n",
      "\n",
      "dlon = lon2 - lon1\n",
      "dlat = lat2 - lat1\n",
      "\n",
      "print dlon, dlat\n",
      "\n",
      "a = (sin(dlat/2))**2 + cos(lat1) * cos(lat2) * (sin(dlon/2))**2\n",
      "c = 2 * atan2(sqrt(a), sqrt(1-a))\n",
      "distance_km = R * c\n",
      "distance_miles = RM *  c\n",
      "\n",
      "print \"Distance in miles: {}\".format(distance_miles)\n",
      "print \"Distance in kilometers: {}\".format(distance_km)\n",
      "\n",
      "\n",
      "print \"Result in miles should be: 1702.18782156\"\n",
      "print \"Result in kilometers should be: 2740.09673827\""
     ],
     "language": "python",
     "metadata": {},
     "outputs": [
      {
       "output_type": "stream",
       "stream": "stdout",
       "text": [
        "0.570880115045 0.0285152137537\n",
        "Distance in miles: 1702.18782156\n",
        "Distance in kilometers: 2740.09673827\n",
        "Result in miles should be: 1702.18782156\n",
        "Result in kilometers should be: 2740.09673827\n"
       ]
      }
     ],
     "prompt_number": 1
    },
    {
     "cell_type": "code",
     "collapsed": false,
     "input": [
      "from math import sin, cos, sqrt, atan2, radians\n",
      "\n",
      "def distance_between_geocoded_points(lat1, lon1, lat2, lon2, units='miles'):\n",
      "    \n",
      "    # all trig functions in python use radians, so convert them here\n",
      "    lat1 = radians(lat1)\n",
      "    lon1 = radians(lon1)\n",
      "    lat2 = radians(lat2)\n",
      "    lon2 = radians(lon2)    \n",
      "    \n",
      "    RK = 6373.0 #radius of earth in kilometers\n",
      "    RM = 3959.0 #radius of earth in miles\n",
      "    \n",
      "    if units == 'miles':\n",
      "        R = RM\n",
      "    elif units == 'kilometers':\n",
      "        R = RK\n",
      "    else:\n",
      "        raise Exception(\"Was expecting 'miles' or 'kilometers' for final function arg, got \" + units + \" instead.\")\n",
      "\n",
      "    dlon = lon2 - lon1\n",
      "    dlat = lat2 - lat1\n",
      "    \n",
      "#     print dlon, dlat\n",
      "    \n",
      "    a = (sin(dlat/2))**2 + cos(lat1) * cos(lat2) * (sin(dlon/2))**2\n",
      "    c = 2 * atan2(sqrt(a), sqrt(1-a))\n",
      "    distance = R * c\n",
      "    return distance\n",
      "\n",
      "\n",
      "# the_moat = distance_between_geocoded_points(40.066677,-105.288754,41.7004784,-72.5797328, 'kilometers')\n",
      "the_moat = distance_between_geocoded_points(40.066677,-105.288754,41.7004784,-72.5797328,)\n",
      "\n",
      "print the_moat\n",
      "\n",
      "\n",
      "    \n",
      "\n"
     ],
     "language": "python",
     "metadata": {},
     "outputs": [
      {
       "output_type": "stream",
       "stream": "stdout",
       "text": [
        "1702.18782156\n"
       ]
      }
     ],
     "prompt_number": 5
    },
    {
     "cell_type": "code",
     "collapsed": false,
     "input": [
      "\n",
      "from incident.models import Incident\n",
      "from django.contrib.auth.models import User\n",
      "from users.models import UserProfile\n",
      "\n",
      "\n",
      "def find_user_incident_matches(user, incidents, miles=60):\n",
      "    matched_incidents = []\n",
      "    u_lat = user.get_lat()\n",
      "    u_lon = user.get_lon()\n",
      "    for i in incidents:\n",
      "#         if distance_between_geocoded_points(float(u_lat), float(u_lon), i.position.latitude, i.position.longitude) <= miles:\n",
      "        if distance_between_geocoded_points(u_lat, u_lon, i.position.latitude, i.position.longitude) <= miles:\n",
      "            matched_incidents.append(i)\n",
      "    return matched_incidents\n",
      "            \n",
      "\n",
      "    \n",
      "    \n",
      "def incidents_for_user(the_username, miles=60):\n",
      "    \"\"\"\n",
      "    takes a username -- Oliver-Ezis -- and returns a list of incidents within X miles of the city center that\n",
      "    the user provided\n",
      "    \"\"\"\n",
      "    matched_incidents = []\n",
      "    user = User.objects.get(username=the_username)\n",
      "    u_lat = user.position.get_lat()\n",
      "    u_lon = user.position.get_lon()\n",
      "    incidents = Incident.objects.all()\n",
      "    for i in inicidents:\n",
      "        if distance_between_geocoded_points(u_lat, u_lon, i.position.latitude, i.position.longitude) <= miles:\n",
      "            matched_incidents.append(i)\n",
      "    \n",
      "    return matched_incidents\n",
      "    \n",
      "    \n",
      "I = Incident.objects.all()\n",
      "\n",
      "up = UserProfile.objects.get(user__username='Oliver-Ezis')\n",
      "print up.first, up.last, up.city, up.state\n",
      "\n",
      "\n",
      "print \"\\n\\nmatches\\n\\n\"\n",
      "\n",
      "matches = []\n",
      "matches = find_user_incident_matches(up, I, 35)\n",
      "for m in matches:\n",
      "    print m.what[:50], m.address\n",
      "\n"
     ],
     "language": "python",
     "metadata": {},
     "outputs": [
      {
       "output_type": "stream",
       "stream": "stdout",
       "text": [
        "Oliver Ezis Boulder CO\n",
        "\n",
        "\n",
        "matches\n",
        "\n",
        "\n",
        "<p>Fake Entry, Brighton CO, just using for local t 16601-16813 East 144th Avenue, Brighton, CO 80601, USA\n",
        "<p>This is a Fake Entry for Oliver Ezis</p> 6151-6649 Hygiene Road, Longmont, CO 80503, USA\n",
        "This is a test entry None\n",
        "This is a test entry None\n",
        "Lime Green Dump Truck None\n",
        "Jackass in a white pickup truck swerved toward us  \n",
        "<p>I was in a group of five riders, headed east on 6799 Nelson Road, Longmont, CO 80503, USA\n"
       ]
      }
     ],
     "prompt_number": 9
    },
    {
     "cell_type": "code",
     "collapsed": false,
     "input": [],
     "language": "python",
     "metadata": {},
     "outputs": [],
     "prompt_number": 4
    },
    {
     "cell_type": "code",
     "collapsed": false,
     "input": [],
     "language": "python",
     "metadata": {},
     "outputs": []
    },
    {
     "cell_type": "code",
     "collapsed": false,
     "input": [
      "from incident.models import Incident\n",
      "from django.contrib.auth.models import User\n",
      "\n",
      "# should be modified to handle last X months. \n",
      "\n",
      "def get_user_incidents(the_username, miles=60):\n",
      "    \"\"\"\n",
      "    takes a username -- Oliver-Ezis -- and returns a list of incidents within X miles of the city center that\n",
      "    the user provided\n",
      "    \"\"\"\n",
      "    matched_incidents = []\n",
      "    user = User.objects.get(username=the_username)\n",
      "    u_lat = user.profile.get_lat()\n",
      "    u_lon = user.profile.get_lon()\n",
      "    incidents = Incident.objects.all()\n",
      "    for i in incidents:\n",
      "        if distance_between_geocoded_points(u_lat, u_lon, i.position.latitude, i.position.longitude) <= miles:\n",
      "            matched_incidents.append(i)\n",
      "    \n",
      "    return matched_incidents\n",
      "\n",
      "\"\"\"\n",
      "# incident_list = []\n",
      "incident_list = get_user_incidents('Olive-Ezis')\n",
      "\n",
      "\n",
      "\"\"\"\n",
      "\n",
      "\n",
      "# up = UserProfile.objects.get(user__username='Oliver-Ezis')\n",
      "# print up.first, up.last, up.city, up.state\n",
      "\n",
      "\n",
      "print \"\\n\\nmatches\\n\\n\"\n",
      "\n",
      "matches = []\n",
      "matches = get_user_incidents('Oliver-Ezis', 35)\n",
      "for m in matches:\n",
      "    print m.what[:50], m.address\n",
      "\n"
     ],
     "language": "python",
     "metadata": {},
     "outputs": [
      {
       "output_type": "stream",
       "stream": "stdout",
       "text": [
        "\n",
        "\n",
        "matches\n",
        "\n",
        "\n",
        "<p>Fake Entry, Brighton CO, just using for local t 16601-16813 East 144th Avenue, Brighton, CO 80601, USA\n",
        "<p>This is a Fake Entry for Oliver Ezis</p> 6151-6649 Hygiene Road, Longmont, CO 80503, USA\n",
        "This is a test entry None\n",
        "This is a test entry None\n",
        "Lime Green Dump Truck None\n",
        "Jackass in a white pickup truck swerved toward us  \n",
        "<p>I was in a group of five riders, headed east on 6799 Nelson Road, Longmont, CO 80503, USA\n"
       ]
      }
     ],
     "prompt_number": 7
    },
    {
     "cell_type": "code",
     "collapsed": false,
     "input": [
      "\n",
      "\n",
      "# UserProfile position is stored in a CharField, it looks like this\n",
      "p = '(40.0149856, -105.27054559999999)'\n",
      "\n",
      "# how to get lat, and lon separated\n",
      "geoposition = p.strip('()').split(',')\n",
      "print geoposition\n",
      "lat = geoposition[0]\n",
      "lon = geoposition[1].strip()\n",
      "print lat\n",
      "print lon"
     ],
     "language": "python",
     "metadata": {},
     "outputs": [
      {
       "output_type": "stream",
       "stream": "stdout",
       "text": [
        " ['40.0149856', ' -105.27054559999999']\n",
        "40.0149856\n",
        "-105.27054559999999\n"
       ]
      }
     ],
     "prompt_number": 6
    },
    {
     "cell_type": "code",
     "collapsed": false,
     "input": [
      "from incident.models import Incident\n",
      "\n",
      "latest = Incident.objects.all().order_by('-id')[:5]\n",
      "\n",
      "for l in latest:\n",
      "    print l.what[:30]"
     ],
     "language": "python",
     "metadata": {},
     "outputs": [
      {
       "output_type": "stream",
       "stream": "stdout",
       "text": [
        "<p>Fake Entry, Brighton CO, ju\n",
        "<p>This is a Fake Entry for Ol\n",
        "<p>Testing the new editor</p>\n",
        "This is a test entry\n",
        "This is a test entry\n"
       ]
      }
     ],
     "prompt_number": 11
    },
    {
     "cell_type": "code",
     "collapsed": false,
     "input": [
      "from __future__ import unicode_literals\n",
      "from geoposition.conf import settings\n",
      "from \n",
      "\n",
      "try:\n",
      "    from south.modelsinspector import add_introspection_rules\n",
      "    add_introspection_rules([], [\"^geoposition\\.fields\\.GeopositionField\"])\n",
      "except ImportError:\n",
      "    print \"Error\"\n",
      "    pass\n"
     ],
     "language": "python",
     "metadata": {},
     "outputs": [
      {
       "output_type": "stream",
       "stream": "stdout",
       "text": [
        "Error\n"
       ]
      }
     ],
     "prompt_number": 17
    },
    {
     "cell_type": "code",
     "collapsed": false,
     "input": [
      "from __future__ import unicode_literals\n",
      "from geoposition.widgets import GeopositionWidget\n",
      "from geoposition import geoposition"
     ],
     "language": "python",
     "metadata": {},
     "outputs": [
      {
       "ename": "ImportError",
       "evalue": "cannot import name geoposition",
       "output_type": "pyerr",
       "traceback": [
        "\u001b[0;31m---------------------------------------------------------------------------\u001b[0m\n\u001b[0;31mImportError\u001b[0m                               Traceback (most recent call last)",
        "\u001b[0;32m<ipython-input-21-31d3c051f18c>\u001b[0m in \u001b[0;36m<module>\u001b[0;34m()\u001b[0m\n\u001b[1;32m      1\u001b[0m \u001b[0;32mfrom\u001b[0m \u001b[0m__future__\u001b[0m \u001b[0;32mimport\u001b[0m \u001b[0municode_literals\u001b[0m\u001b[0;34m\u001b[0m\u001b[0m\n\u001b[1;32m      2\u001b[0m \u001b[0;32mfrom\u001b[0m \u001b[0mgeoposition\u001b[0m\u001b[0;34m.\u001b[0m\u001b[0mwidgets\u001b[0m \u001b[0;32mimport\u001b[0m \u001b[0mGeopositionWidget\u001b[0m\u001b[0;34m\u001b[0m\u001b[0m\n\u001b[0;32m----> 3\u001b[0;31m \u001b[0;32mfrom\u001b[0m \u001b[0mgeoposition\u001b[0m \u001b[0;32mimport\u001b[0m \u001b[0mgeoposition\u001b[0m\u001b[0;34m\u001b[0m\u001b[0m\n\u001b[0m",
        "\u001b[0;31mImportError\u001b[0m: cannot import name geoposition"
       ]
      }
     ],
     "prompt_number": 21
    },
    {
     "cell_type": "code",
     "collapsed": false,
     "input": [],
     "language": "python",
     "metadata": {},
     "outputs": []
    }
   ],
   "metadata": {}
  }
 ]
}