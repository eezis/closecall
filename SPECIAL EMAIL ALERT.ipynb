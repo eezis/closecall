{
 "metadata": {
  "name": "",
  "signature": "sha256:c75a4d1d01d86d76637ac868b08fc546a368604beadc74e582b8bc0a767fcc61"
 },
 "nbformat": 3,
 "nbformat_minor": 0,
 "worksheets": [
  {
   "cells": [
    {
     "cell_type": "code",
     "collapsed": false,
     "input": [
      "\"\"\"\n",
      "\n",
      "Create an incident in the area where the issue has occurred.\n",
      "\n",
      "Change the incident id and radius.\n",
      "\n",
      "Set Testing = True to test the message, \n",
      "\n",
      "Set Testing = False to send the message,\n",
      "\n",
      "then be sure to set Testing back to True.\n",
      "\n",
      "\"\"\"\n",
      "\n",
      "import sys\n",
      "sys.path.append(\"/Users/eae/code/sites/closecall\")\n",
      "sys.path.append(\"/Users/eae/.virtualenvs/closecall/lib/python2.7/site-packages\")\n",
      "sys.path.append(\"/home/eezis/sites/closecall\")\n",
      "sys.path.append(\"/home/eezis/sites/closecall/closecall\")\n",
      "sys.path.append(\"/home/eezis/.virtualenvs/closecall/bin/python2.7/site-packages\")\n",
      "\n",
      "import os\n",
      "os.environ['DJANGO_SETTINGS_MODULE'] = 'closecall.settings'\n",
      "import django\n",
      "django.setup()\n",
      "\n",
      "import datetime\n",
      "# import requests\n",
      "\n",
      "from users.models import UserProfile\n",
      "from incident.models import Incident\n",
      "from core.utils import distance_between_geocoded_points\n",
      "from core.views import send_incident_notification\n",
      "from django.contrib.auth.models import User\n",
      "\n",
      "INCIDENT_ID = 91X\n",
      "# TWEAK THE INCIDENT_ID CONSTANT UP TOP!\n",
      "TESTING = True\n",
      "MAIL_TO_EE = True\n",
      "# Radius = 20\n",
      "# Radius = 30\n",
      "Radius = 40\n",
      "# Radius = 80\n",
      "\n",
      "subject = \"Close Call Database - SPECIAL ALERT\"\n",
      "\n",
      "# subject = \"Close Call Database - Incident Reported in your Area\"\n",
      "\n",
      "HTML_msg = \"\"\"\n",
      "<p>You are receiving this message because you have registered for the Close Call Database and indicated that you wish to be informed about serious incidents reported in your area.</p>\n",
      "\n",
      "<p>Unfortunately, another cyclist was struck in a hit-and-run incident on Olde Stage Rd last Saturday. I have not been in contact with the cyclist but have filed a courtesy report on her behalf so that I could send out this message, alerting cyclists to be on the lookout for the vehicle in question -- light colored Trucks or SUVs missing a passenger side mirror.</p>\n",
      "\n",
      "<p><a href=\"http://closecalldatabase.com/incident/show-detail/916/\">Incident Details</a></p>\n",
      "\n",
      "<p>Please keep a sharp eye out for that vehicle.</p>\n",
      "\n",
      "<p>Ride Safely,</p>\n",
      "\n",
      "<p><br />\n",
      "Ernest Ezis<br />\n",
      "<a href=\"http://closecalldatabase.com\">Close Call Database</a>\n",
      "<br /><br />\n",
      "\"\"\"\n",
      "\n",
      "msg = HTML_msg\n",
      "\n",
      "msg = msg.replace('#INCIDENT_ID#', str(INCIDENT_ID))\n",
      "HTML_msg = HTML_msg.replace('#INCIDENT_ID#', str(INCIDENT_ID))\n",
      "\n",
      "# sets the email_sent field to True\n",
      "# records the text of the email message that was sent out\n",
      "def update_incident_model_with_email_facts(incident_id, email_message):\n",
      "    i = Incident.objects.get(id=incident_id)\n",
      "    i.email_sent = True\n",
      "    i.email_text = email_message\n",
      "    i.email_sent_on = datetime.datetime.now()\n",
      "    i.save()\n",
      "\n",
      "\n",
      "def get_users_close_to_incident(incident_id, radius=60):\n",
      "    # get the incident\n",
      "    i = Incident.objects.get(id=incident_id)\n",
      "    if i.email_sent:\n",
      "        print \"\\n\\r Email Flag is set, has this incident has already been emailed out???\\n\\r\\n\\r\"\n",
      "        raise Exception(\"This incident has already been emailed out???\")\n",
      "\n",
      "\n",
      "    # create a list object to store the users that will get alerts for this incident\n",
      "    matched_users = []\n",
      "    # we want to search the full universe of users that agreed to get email alerts\n",
      "    U = UserProfile.objects.filter(email_incidents=True)\n",
      "    for u in U:\n",
      "        # get user's lat and lon\n",
      "        u_lat, u_lon = u.get_lat_lon()\n",
      "        # if the user is within the given radius of the incident, add them to the list of  matched users\n",
      "        if distance_between_geocoded_points(u_lat, u_lon, i.position.latitude, i.position.longitude) <= radius:\n",
      "            u_str = u\"{} {} {} {}\".format(u.first, u.last, u.user.username, u.user.email)\n",
      "            print u'{} {} {} {}'.format(u.first, u.last, u.user.username, u.user.email).encode('utf-8')\n",
      "            # note send the fill userprofile object back\n",
      "            matched_users.append(u)\n",
      "\n",
      "    return matched_users\n",
      "\n",
      "\n",
      "# IS THIS EVER CALLED???\n",
      "def email_the_users(subject, message, user_list):\n",
      "    print '------------------ in email_the_users  method ----------'\n",
      "    for u in user_list:\n",
      "        send_incident_notification(subject, message, u.email)\n",
      "\n",
      "    if not TESTING:\n",
      "        email_message = msg\n",
      "        update_incident_model_with_email_facts(INCIDENT_ID, email_message)\n",
      "\n",
      "\n",
      "\n",
      "\n",
      "# print 'taking off with U object list for testing'\n",
      "# user_list = []\n",
      "# u = UserProfile.objects.get(user__username='eezis')\n",
      "# print u\n",
      "# user_list.append(u)\n",
      "\n",
      "\n",
      "\n",
      "\n",
      "user_list = get_users_close_to_incident(INCIDENT_ID, Radius)\n",
      "\n",
      "print '\\n'\n",
      "print '{} users in the incident zone'.format(len(user_list))\n",
      "print 'sending emails\\n'\n",
      "\n",
      "\n",
      "for u in user_list:\n",
      "    if TESTING:\n",
      "        print \"EMAILS ARE OFF TO PREVENT A MISTAKE, INCIDENT ID NEEDS TO BE CHANGED?\"\n",
      "        print u'emailing: {}'.format(u.user.email)\n",
      "    else:\n",
      "        print u'emailing: {}'.format(u.user.email)\n",
      "        send_incident_notification(subject, msg, u.user.email, htmlmsg=HTML_msg)\n",
      "\n",
      "# Now update the model\n",
      "if not TESTING:\n",
      "    update_incident_model_with_email_facts(INCIDENT_ID, msg)\n",
      "\n",
      "\n",
      "# email a copy to me\n",
      "if MAIL_TO_EE:\n",
      "    print '\\n'\n",
      "    print 'now sending copy to eezis'\n",
      "    print '\\n'\n",
      "    u = User.objects.get(username='eezis')\n",
      "    # send_incident_notification(subject, msg, u.email)\n",
      "    send_incident_notification(subject, msg, u.email, htmlmsg=HTML_msg)\n",
      "\n",
      "print '\\n'\n",
      "if TESTING:\n",
      "    print 'emails have ***NOT*** been sent'\n",
      "else:\n",
      "    print 'emails have been sent'\n",
      "\n",
      "\n",
      "\n"
     ],
     "language": "python",
     "metadata": {},
     "outputs": [
      {
       "output_type": "stream",
       "stream": "stdout",
       "text": [
        "Nick Stengl Nick Stengl nickstengl@yahoo.com\n",
        "Chris Case ccase chrisjustincase@gmail.com"
       ]
      },
      {
       "output_type": "stream",
       "stream": "stdout",
       "text": [
        "\n",
        "Rebecca Premus rpremus@yahoo.com rpremus@yahoo.com"
       ]
      },
      {
       "output_type": "stream",
       "stream": "stdout",
       "text": [
        "\n",
        "Chris Muth cmuth cmuth67@yahoo.com"
       ]
      },
      {
       "output_type": "stream",
       "stream": "stdout",
       "text": [
        "\n",
        "Dale Riley daletriley daletriley@gmail.com"
       ]
      },
      {
       "output_type": "stream",
       "stream": "stdout",
       "text": [
        "\n",
        "David Mastroianni dmastroi dmastroi@yahoo.com"
       ]
      },
      {
       "output_type": "stream",
       "stream": "stdout",
       "text": [
        "\n",
        "Ernest Ezis Ernest Ezis ernest.ezis@gmail.com"
       ]
      },
      {
       "output_type": "stream",
       "stream": "stdout",
       "text": [
        "\n",
        "logan brooks logan brooks logan.brooks@snc.edu"
       ]
      },
      {
       "output_type": "stream",
       "stream": "stdout",
       "text": [
        "\n",
        "Eric Budd ericmbudd ericbudd@gmail.com"
       ]
      },
      {
       "output_type": "stream",
       "stream": "stdout",
       "text": [
        "\n",
        "Jamison Hill J-Cycle jstewarthill@gmail.com"
       ]
      },
      {
       "output_type": "stream",
       "stream": "stdout",
       "text": [
        "\n",
        "Charley Dean sqwk77 sqwk77@aol.com"
       ]
      },
      {
       "output_type": "stream",
       "stream": "stdout",
       "text": [
        "\n",
        "johanne gaudreau bikerider johanne@bikerider.com"
       ]
      },
      {
       "output_type": "stream",
       "stream": "stdout",
       "text": [
        "\n",
        "Erika Brandstatter Ejbrand ejbrand12@gmail.com"
       ]
      },
      {
       "output_type": "stream",
       "stream": "stdout",
       "text": [
        "\n",
        "Jamison Hill Jamison Hill jstewarthill@gmail.com"
       ]
      },
      {
       "output_type": "stream",
       "stream": "stdout",
       "text": [
        "\n",
        "Ernest Ezis eezis ernest.ezis@gmail.com"
       ]
      },
      {
       "output_type": "stream",
       "stream": "stdout",
       "text": [
        "\n",
        "david fitzgerald davefitz4 davefitz4@gmail.com"
       ]
      },
      {
       "output_type": "stream",
       "stream": "stdout",
       "text": [
        "\n",
        "steve gibson steve.gibson  gibson.steve@gmail.com"
       ]
      },
      {
       "output_type": "stream",
       "stream": "stdout",
       "text": [
        "\n",
        "Kris Thompson kris303 kris@303cycling.com"
       ]
      },
      {
       "output_type": "stream",
       "stream": "stdout",
       "text": [
        "\n",
        "Bill Kellagher kellawj kellawj@gmail.com"
       ]
      },
      {
       "output_type": "stream",
       "stream": "stdout",
       "text": [
        "\n",
        "Clark Hanson crashtestdummie chdg@indra.com"
       ]
      },
      {
       "output_type": "stream",
       "stream": "stdout",
       "text": [
        "\n",
        "Michael Moir mmoir mmoir@pigseye.com"
       ]
      },
      {
       "output_type": "stream",
       "stream": "stdout",
       "text": [
        "\n",
        "bill garrels bgarrels0609 billgarrels@gmail.com"
       ]
      },
      {
       "output_type": "stream",
       "stream": "stdout",
       "text": [
        "\n",
        "Bill Plock Bill Plock wcplock@msn.com"
       ]
      },
      {
       "output_type": "stream",
       "stream": "stdout",
       "text": [
        "\n",
        "Jen Bitzan jbitzan jbitzan@gmail.com"
       ]
      },
      {
       "output_type": "stream",
       "stream": "stdout",
       "text": [
        "\n",
        "Kennett Peterson Kennett Peterson kennettpeterson@gmail.com"
       ]
      },
      {
       "output_type": "stream",
       "stream": "stdout",
       "text": [
        "\n",
        "Chris LeMay Chris LeMay lemay.chris@gmail.com"
       ]
      },
      {
       "output_type": "stream",
       "stream": "stdout",
       "text": [
        "\n",
        "Colby Pearce Colby Pearce colbypearce@mac.com"
       ]
      },
      {
       "output_type": "stream",
       "stream": "stdout",
       "text": [
        "\n",
        "Joshua Stoll k2extreem5 aeroarrow@gmail.com"
       ]
      },
      {
       "output_type": "stream",
       "stream": "stdout",
       "text": [
        "\n",
        "Laurie Allin Laurie Allin allin825@comcast.net"
       ]
      },
      {
       "output_type": "stream",
       "stream": "stdout",
       "text": [
        "\n",
        "Gary Harty Gary Harty g.harty@comcast.net"
       ]
      },
      {
       "output_type": "stream",
       "stream": "stdout",
       "text": [
        "\n",
        "Spencer Gray Spencer Gray gray8110@gmail.com"
       ]
      },
      {
       "output_type": "stream",
       "stream": "stdout",
       "text": [
        "\n",
        "Rachel Scott Rachel Scott rachelbeisel@gmail.com"
       ]
      },
      {
       "output_type": "stream",
       "stream": "stdout",
       "text": [
        "\n",
        "Stephen Shepherd Stephen Shepherd taadow182@hotmail.com"
       ]
      },
      {
       "output_type": "stream",
       "stream": "stdout",
       "text": [
        "\n",
        "Will Hickey Will Hickey csu_hickey@yahoo.com"
       ]
      },
      {
       "output_type": "stream",
       "stream": "stdout",
       "text": [
        "\n",
        "Eric Budd Eric Budd ericbudd@gmail.com"
       ]
      },
      {
       "output_type": "stream",
       "stream": "stdout",
       "text": [
        "\n",
        "Melissa Collins stunned13 mcollins52@comcast.net"
       ]
      },
      {
       "output_type": "stream",
       "stream": "stdout",
       "text": [
        "\n",
        "Melissa Collins stunnedone mcollins52@comcast.net"
       ]
      },
      {
       "output_type": "stream",
       "stream": "stdout",
       "text": [
        "\n",
        "Rick Price Rick Price rick@experienceplus.com"
       ]
      },
      {
       "output_type": "stream",
       "stream": "stdout",
       "text": [
        "\n",
        "Geoffrey Mina Geoffrey Mina geoffreymina@gmail.com"
       ]
      },
      {
       "output_type": "stream",
       "stream": "stdout",
       "text": [
        "\n",
        "Wade Staab TheSHIV wstaab@hotmail.com"
       ]
      },
      {
       "output_type": "stream",
       "stream": "stdout",
       "text": [
        "\n",
        "tom goldsmith tomjazz tomjazz72741@yahoo.com"
       ]
      },
      {
       "output_type": "stream",
       "stream": "stdout",
       "text": [
        "\n",
        "Brian Willson goneaway goneaway@gmail.com"
       ]
      },
      {
       "output_type": "stream",
       "stream": "stdout",
       "text": [
        "\n",
        "Lloyd Jones Lloyd Jones twogs42@msn.com"
       ]
      },
      {
       "output_type": "stream",
       "stream": "stdout",
       "text": [
        "\n",
        "Lori Antolec AnTolec llantolec@gmail.com"
       ]
      },
      {
       "output_type": "stream",
       "stream": "stdout",
       "text": [
        "\n",
        "Tok Biggi TBiggi1 tbiggi@outlook.com"
       ]
      },
      {
       "output_type": "stream",
       "stream": "stdout",
       "text": [
        "\n",
        "Adelaide Perr saraadelaide saraadelaide@gmail.com"
       ]
      },
      {
       "output_type": "stream",
       "stream": "stdout",
       "text": [
        "\n",
        "Chris Arnold Chris Arnold arnoldcf@gmail.com"
       ]
      },
      {
       "output_type": "stream",
       "stream": "stdout",
       "text": [
        "\n",
        "Ben Joseph Ben Joseph pryhoda@gmail.com"
       ]
      },
      {
       "output_type": "stream",
       "stream": "stdout",
       "text": [
        "\n",
        "christopher behrens christopher behrens chris@mynewera.com"
       ]
      },
      {
       "output_type": "stream",
       "stream": "stdout",
       "text": [
        "\n",
        "Christine Webb Cwebb923 christine.webb@gmail.com"
       ]
      },
      {
       "output_type": "stream",
       "stream": "stdout",
       "text": [
        "\n",
        "Emily Zinn Emily Zinn zinn.emily@gmail.com"
       ]
      },
      {
       "output_type": "stream",
       "stream": "stdout",
       "text": [
        "\n",
        "Aimee Sanders 05bigmama07 aplsanders@yahoo.com"
       ]
      },
      {
       "output_type": "stream",
       "stream": "stdout",
       "text": [
        "\n",
        "David Stolz david42@q.com david42@q.com"
       ]
      },
      {
       "output_type": "stream",
       "stream": "stdout",
       "text": [
        "\n",
        "Scott Christopher Scott Christopher scottbchristopher@gmail.com"
       ]
      },
      {
       "output_type": "stream",
       "stream": "stdout",
       "text": [
        "\n",
        "Janet Robinson Jrobden jrobinson@fullersir.com"
       ]
      },
      {
       "output_type": "stream",
       "stream": "stdout",
       "text": [
        "\n",
        "Principal Skinner Principal Skinner kingshorthair@gmail.com"
       ]
      },
      {
       "output_type": "stream",
       "stream": "stdout",
       "text": [
        "\n",
        "Mike Spykerman Mike Spykerman mikespykerman@gmail.com"
       ]
      },
      {
       "output_type": "stream",
       "stream": "stdout",
       "text": [
        "\n",
        "Michelle Hancock Michelle Hancock majhanc@comcast.net"
       ]
      },
      {
       "output_type": "stream",
       "stream": "stdout",
       "text": [
        "\n",
        "Joe Berry Joe Berry jjberry99@gmail.com"
       ]
      },
      {
       "output_type": "stream",
       "stream": "stdout",
       "text": [
        "\n",
        "Kimberley Johnson kjohnson201 katurner201@gmail.com"
       ]
      },
      {
       "output_type": "stream",
       "stream": "stdout",
       "text": [
        "\n",
        "Isabella Oleksy Isabella Oleksy bellaoleksy@gmail.com"
       ]
      },
      {
       "output_type": "stream",
       "stream": "stdout",
       "text": [
        "\n",
        "Amanda Noonan agwills agwills86@gmail.com"
       ]
      },
      {
       "output_type": "stream",
       "stream": "stdout",
       "text": [
        "\n",
        "Brian Link Brian Link link.brian@gmail.com"
       ]
      },
      {
       "output_type": "stream",
       "stream": "stdout",
       "text": [
        "\n",
        "Errin Vito Errin Vito errinvito@gmail.com"
       ]
      },
      {
       "output_type": "stream",
       "stream": "stdout",
       "text": [
        "\n",
        "B B BB akitoproductions@gmail.com"
       ]
      },
      {
       "output_type": "stream",
       "stream": "stdout",
       "text": [
        "\n",
        "Sam Anderson Sam Anderson sam_anderson@comcast.net"
       ]
      },
      {
       "output_type": "stream",
       "stream": "stdout",
       "text": [
        "\n",
        "Alan Bernstein Alan  alandbernstein@gmail.com"
       ]
      },
      {
       "output_type": "stream",
       "stream": "stdout",
       "text": [
        "\n",
        "Pamela Hill wildwillowranch wildwillowranch@yahoo.com"
       ]
      },
      {
       "output_type": "stream",
       "stream": "stdout",
       "text": [
        "\n",
        "Amy Thomas Amy Thomas amytco@gmail.com"
       ]
      },
      {
       "output_type": "stream",
       "stream": "stdout",
       "text": [
        "\n",
        "Joe Tankovich Joe Tankovich jovz@earthlink.net"
       ]
      },
      {
       "output_type": "stream",
       "stream": "stdout",
       "text": [
        "\n",
        "James Skaggs jamesandruth jamesandruth@juno.com"
       ]
      },
      {
       "output_type": "stream",
       "stream": "stdout",
       "text": [
        "\n",
        "Marisa Rorabaugh Marisa Rorabaugh marisa.rorabaugh13@gmail.com"
       ]
      },
      {
       "output_type": "stream",
       "stream": "stdout",
       "text": [
        "\n",
        "Ellen Laird Ellen Laird lairder@gmail.com"
       ]
      },
      {
       "output_type": "stream",
       "stream": "stdout",
       "text": [
        "\n",
        "Terrie Torgersen Peterson Terrie Torgersen Peterson terrietpeterson@gmail.com"
       ]
      },
      {
       "output_type": "stream",
       "stream": "stdout",
       "text": [
        "\n",
        "John Berger jberger jberger@mines.edu"
       ]
      },
      {
       "output_type": "stream",
       "stream": "stdout",
       "text": [
        "\n",
        "Heidi Wahl Heidi Wahl heidijwahl70@gmail.com"
       ]
      },
      {
       "output_type": "stream",
       "stream": "stdout",
       "text": [
        "\n",
        "Amanda Knutson Amanda Knutson amandakellyknutson@gmail.com"
       ]
      },
      {
       "output_type": "stream",
       "stream": "stdout",
       "text": [
        "\n",
        "Corbin Griffing Corbin Griffing cwgriffing@gmail.com"
       ]
      },
      {
       "output_type": "stream",
       "stream": "stdout",
       "text": [
        "\n",
        "George Truong George Truong gbtruongs@icloud.com"
       ]
      },
      {
       "output_type": "stream",
       "stream": "stdout",
       "text": [
        "\n",
        "Rosana Venturini de Kerf RDK rdkboulder@yahoo.com"
       ]
      },
      {
       "output_type": "stream",
       "stream": "stdout",
       "text": [
        "\n",
        "Rick Anstey Rick rickanstey@gmail.com"
       ]
      },
      {
       "output_type": "stream",
       "stream": "stdout",
       "text": [
        "\n",
        "Dave Hollingsed DaveHo dave@hollingsed.com"
       ]
      },
      {
       "output_type": "stream",
       "stream": "stdout",
       "text": [
        "\n",
        "Robert Drage Bobber bobdra@msn.com"
       ]
      },
      {
       "output_type": "stream",
       "stream": "stdout",
       "text": [
        "\n",
        "Doug Oatess oatesde oatesde@gmail.com"
       ]
      },
      {
       "output_type": "stream",
       "stream": "stdout",
       "text": [
        "\n",
        "Alan Trinh Alan Trinh chinatown00_2000@yahoo.com"
       ]
      },
      {
       "output_type": "stream",
       "stream": "stdout",
       "text": [
        "\n",
        "John Humphreys John Humphreys jhumphreys@homeadvisor.com"
       ]
      },
      {
       "output_type": "stream",
       "stream": "stdout",
       "text": [
        "\n",
        "Mary Stone Mary Stone laffinrock@yahoo.com"
       ]
      },
      {
       "output_type": "stream",
       "stream": "stdout",
       "text": [
        "\n",
        "Sarah McGregor Sarah McGregor smcg21@hotmail.com"
       ]
      },
      {
       "output_type": "stream",
       "stream": "stdout",
       "text": [
        "\n",
        "Adam Wylie Adam Wylie adam.g.wylie@gmail.com"
       ]
      },
      {
       "output_type": "stream",
       "stream": "stdout",
       "text": [
        "\n",
        "Don Hobbs Don Hobbs dmhobbs53@gmail.com"
       ]
      },
      {
       "output_type": "stream",
       "stream": "stdout",
       "text": [
        "\n",
        "Kendrew Peacey Kendrewp kendrew@peaceyfamily.com"
       ]
      },
      {
       "output_type": "stream",
       "stream": "stdout",
       "text": [
        "\n",
        "Jesse Sandoval Jesse Sandoval shishou@gmail.com"
       ]
      },
      {
       "output_type": "stream",
       "stream": "stdout",
       "text": [
        "\n",
        "Cosmo  Catalano Cosmo  Catalano cosmo@cyclocosm.com"
       ]
      },
      {
       "output_type": "stream",
       "stream": "stdout",
       "text": [
        "\n",
        "roger audino roger audino roger.audino@gmail.com"
       ]
      },
      {
       "output_type": "stream",
       "stream": "stdout",
       "text": [
        "\n",
        "Eric Stapleton Eric Stapleton eric_stapleton@yahoo.com"
       ]
      },
      {
       "output_type": "stream",
       "stream": "stdout",
       "text": [
        "\n",
        "Doug Gordon 303DG doug@wispertel.net"
       ]
      },
      {
       "output_type": "stream",
       "stream": "stdout",
       "text": [
        "\n",
        "Sandra Huzyk Sandra slhuzyk@gmail.com"
       ]
      },
      {
       "output_type": "stream",
       "stream": "stdout",
       "text": [
        "\n",
        "Brad Schildt Brad Schildt bschildt@yahoo.com"
       ]
      },
      {
       "output_type": "stream",
       "stream": "stdout",
       "text": [
        "\n",
        "Mike Carr Mike Carr mikevcarr@gmail.com"
       ]
      },
      {
       "output_type": "stream",
       "stream": "stdout",
       "text": [
        "\n",
        "Marc Nethercott Mnethercott marc.nethercott@gmail.com"
       ]
      },
      {
       "output_type": "stream",
       "stream": "stdout",
       "text": [
        "\n",
        "Paul Schnoes Paul Schnoes paulrschn@gmail.com"
       ]
      },
      {
       "output_type": "stream",
       "stream": "stdout",
       "text": [
        "\n",
        "Nick Kozel Nickforrest nickrk1@gmail.com"
       ]
      },
      {
       "output_type": "stream",
       "stream": "stdout",
       "text": [
        "\n",
        "Casey Burrows Casey Burrows burrows.casey@gmail.com"
       ]
      },
      {
       "output_type": "stream",
       "stream": "stdout",
       "text": [
        "\n",
        "Andrew Rapp Andrew Rapp andrew.rapp@gmail.com"
       ]
      },
      {
       "output_type": "stream",
       "stream": "stdout",
       "text": [
        "\n",
        "Bill Horger Bill Horger horgerw@gmail.com"
       ]
      },
      {
       "output_type": "stream",
       "stream": "stdout",
       "text": [
        "\n",
        "Evan Stade Evan Stade estade@gmail.com"
       ]
      },
      {
       "output_type": "stream",
       "stream": "stdout",
       "text": [
        "\n",
        "George Scott birdmanbh3 gnscott1@comcast.net"
       ]
      },
      {
       "output_type": "stream",
       "stream": "stdout",
       "text": [
        "\n",
        "Erik Wogen Erik Wogen ewogen@comcast.net"
       ]
      },
      {
       "output_type": "stream",
       "stream": "stdout",
       "text": [
        "\n",
        "Ian Wilson Ian Wilson ifwilson.design@gmail.com"
       ]
      },
      {
       "output_type": "stream",
       "stream": "stdout",
       "text": [
        "\n",
        "David harris David Harris dharris57@yahoo.com"
       ]
      },
      {
       "output_type": "stream",
       "stream": "stdout",
       "text": [
        "\n",
        "Ted Barber Ted Barber barber.ted@gmail.com"
       ]
      },
      {
       "output_type": "stream",
       "stream": "stdout",
       "text": [
        "\n",
        "Hugh Grinolds hgrinolds hgrinolds@msn.com"
       ]
      },
      {
       "output_type": "stream",
       "stream": "stdout",
       "text": [
        "\n",
        "Len DeMoss Len DeMoss ultrarunner@yahoo.com"
       ]
      },
      {
       "output_type": "stream",
       "stream": "stdout",
       "text": [
        "\n",
        "Alexey Davies Alexey Davies alexeydavies@yahoo.com"
       ]
      },
      {
       "output_type": "stream",
       "stream": "stdout",
       "text": [
        "\n",
        "Danielle Kunkel Danielle Kunkel thekunkler@gmail.com"
       ]
      },
      {
       "output_type": "stream",
       "stream": "stdout",
       "text": [
        "\n",
        "Jake Cohen Jake Cohen jakecohen@me.com"
       ]
      },
      {
       "output_type": "stream",
       "stream": "stdout",
       "text": [
        "\n",
        "Bill Kellagher Bill Kellagher kellawj@gmail.com"
       ]
      },
      {
       "output_type": "stream",
       "stream": "stdout",
       "text": [
        "\n",
        "Eric Callmann Eric Callmann eric_callmann@yahoo.com"
       ]
      },
      {
       "output_type": "stream",
       "stream": "stdout",
       "text": [
        "\n",
        "eae-dev ezis eae ernest.ezis@gmail.com"
       ]
      },
      {
       "output_type": "stream",
       "stream": "stdout",
       "text": [
        "\n",
        "chris memelink chris memelink cmemelink@pearlizumi.com"
       ]
      },
      {
       "output_type": "stream",
       "stream": "stdout",
       "text": [
        "\n",
        "Megan Holstein meganholstein meganholstein@gmail.com"
       ]
      },
      {
       "output_type": "stream",
       "stream": "stdout",
       "text": [
        "\n",
        "Matthew Puccio Matthew Puccio mattpuccio@hotmail.com"
       ]
      },
      {
       "output_type": "stream",
       "stream": "stdout",
       "text": [
        "\n",
        "Harper Jocque Harper Jocque harperjocque@gmail.com"
       ]
      },
      {
       "output_type": "stream",
       "stream": "stdout",
       "text": [
        "\n",
        "Dan Cavallari d2drunkcyclist d.cavallari@gmail.com"
       ]
      },
      {
       "output_type": "stream",
       "stream": "stdout",
       "text": [
        "\n",
        "Marie Marie ThePoetMarie ThePoetMarie@gmail.com"
       ]
      },
      {
       "output_type": "stream",
       "stream": "stdout",
       "text": [
        "\n",
        "Kenneth Boden Kenneth Boden kennethboden@hotmail.com"
       ]
      },
      {
       "output_type": "stream",
       "stream": "stdout",
       "text": [
        "\n",
        "Helen Burton Helen Burton x9redhill@yahoo.com"
       ]
      },
      {
       "output_type": "stream",
       "stream": "stdout",
       "text": [
        "\n",
        "Timo Haugen Timo Haugen haugen.timo@gmail.com"
       ]
      },
      {
       "output_type": "stream",
       "stream": "stdout",
       "text": [
        "\n",
        "Lance Enholm lenholm lenholm@bouldercounty.org"
       ]
      },
      {
       "output_type": "stream",
       "stream": "stdout",
       "text": [
        "\n",
        "Jim Simons Jim Simons jiminwinterpark@gmail.com"
       ]
      },
      {
       "output_type": "stream",
       "stream": "stdout",
       "text": [
        "\n",
        "Jon Emmons Jon Emmons mnstrduc@yahoo.com"
       ]
      },
      {
       "output_type": "stream",
       "stream": "stdout",
       "text": [
        "\n",
        "Kate W Kate W klperk19@aol.com"
       ]
      },
      {
       "output_type": "stream",
       "stream": "stdout",
       "text": [
        "\n",
        "Nikki Morgan Nikkim nikkimorgancmt@gmail.com"
       ]
      },
      {
       "output_type": "stream",
       "stream": "stdout",
       "text": [
        "\n",
        "erika brand erika brand ejbrand12@gmail.com"
       ]
      },
      {
       "output_type": "stream",
       "stream": "stdout",
       "text": [
        "\n",
        "Rick price Rick price rick@experienceplus.com"
       ]
      },
      {
       "output_type": "stream",
       "stream": "stdout",
       "text": [
        "\n",
        "Ashton Momot Ashton Momot ashtonmomot@gmail.com"
       ]
      },
      {
       "output_type": "stream",
       "stream": "stdout",
       "text": [
        "\n",
        "Kendrew Peacey Kendrew Peacey kendrew@peaceyfamily.com"
       ]
      },
      {
       "output_type": "stream",
       "stream": "stdout",
       "text": [
        "\n",
        "Russ Chandler Russ Chandler russell.d.chandler@gmail.com"
       ]
      },
      {
       "output_type": "stream",
       "stream": "stdout",
       "text": [
        "\n",
        "errin vito errin vito errinvito@gmail.com"
       ]
      },
      {
       "output_type": "stream",
       "stream": "stdout",
       "text": [
        "\n",
        "Todd Hofert Todd Hofert thofert@gmail.com"
       ]
      },
      {
       "output_type": "stream",
       "stream": "stdout",
       "text": [
        "\n",
        "David Morton David Morton ceo@magswitch.com.au"
       ]
      },
      {
       "output_type": "stream",
       "stream": "stdout",
       "text": [
        "\n",
        "Stefano Alessandrini Stefano Alessandrini ste.aless@libero.it"
       ]
      },
      {
       "output_type": "stream",
       "stream": "stdout",
       "text": [
        "\n",
        "Ray Middleton Ray Middleton dutchman3600@gmail.com"
       ]
      },
      {
       "output_type": "stream",
       "stream": "stdout",
       "text": [
        "\n",
        "Chris Case Chris Case chrisjustincase@gmail.com"
       ]
      },
      {
       "output_type": "stream",
       "stream": "stdout",
       "text": [
        "\n",
        "Larey Kerling Larey Kerling l@larey.cc"
       ]
      },
      {
       "output_type": "stream",
       "stream": "stdout",
       "text": [
        "\n",
        "Geoff Cooper Geoff Cooper geoffcpr@gmail.com"
       ]
      },
      {
       "output_type": "stream",
       "stream": "stdout",
       "text": [
        "\n",
        "Jenifer Woods Jenifer Woods jenifer.woods@gmail.com"
       ]
      },
      {
       "output_type": "stream",
       "stream": "stdout",
       "text": [
        "\n",
        "Kirsten Barrett Kuhn Kirsten Barrett Kuhn barrettkuhn@gmail.com"
       ]
      },
      {
       "output_type": "stream",
       "stream": "stdout",
       "text": [
        "\n",
        "Amelia Messegee Amelia Messegee amelia.messegee@gmail.com"
       ]
      },
      {
       "output_type": "stream",
       "stream": "stdout",
       "text": [
        "\n",
        "Meg Bendik Meg Bendik megbendik@gmail.com"
       ]
      },
      {
       "output_type": "stream",
       "stream": "stdout",
       "text": [
        "\n",
        "Megan Robben Megan Robben meg.robben@gmail.com"
       ]
      },
      {
       "output_type": "stream",
       "stream": "stdout",
       "text": [
        "\n",
        "Elena Alarcon Elena Alarcon ealarcon1031@gmail.com"
       ]
      },
      {
       "output_type": "stream",
       "stream": "stdout",
       "text": [
        "\n",
        "Susan Hersey Susan Hersey shersey@biggear.com"
       ]
      },
      {
       "output_type": "stream",
       "stream": "stdout",
       "text": [
        "\n",
        "Amanda Gresl Amanda Gresl ajgresl@yahoo.com"
       ]
      },
      {
       "output_type": "stream",
       "stream": "stdout",
       "text": [
        "\n",
        "James Blake James Blake ilscungilli@gmail.com"
       ]
      },
      {
       "output_type": "stream",
       "stream": "stdout",
       "text": [
        "\n",
        "Rick Cadenaro Rick Cadenaro rickcadenaro@msn.com"
       ]
      },
      {
       "output_type": "stream",
       "stream": "stdout",
       "text": [
        "\n",
        "Kiel Reijnen Kiel Reijnen kielreijnen@gmail.com"
       ]
      },
      {
       "output_type": "stream",
       "stream": "stdout",
       "text": [
        "\n",
        "Mark Heidorn Markontheroad mark.heidorn@gmail.com"
       ]
      },
      {
       "output_type": "stream",
       "stream": "stdout",
       "text": [
        "\n",
        "Naked  Rider Naked  Rider susankylie73@yahoo.com"
       ]
      },
      {
       "output_type": "stream",
       "stream": "stdout",
       "text": [
        "\n",
        "David Travis David Travis david.travis.fb@gmail.com"
       ]
      },
      {
       "output_type": "stream",
       "stream": "stdout",
       "text": [
        "\n",
        "Brian Stevens Brian Stevens stevens.brian@gmail.com"
       ]
      },
      {
       "output_type": "stream",
       "stream": "stdout",
       "text": [
        "\n",
        "Zach Kreider zkreider zachkreider@gmail.com"
       ]
      },
      {
       "output_type": "stream",
       "stream": "stdout",
       "text": [
        "\n",
        "Matt Kreider Matt K. kreider.matthew@gmail.com"
       ]
      },
      {
       "output_type": "stream",
       "stream": "stdout",
       "text": [
        "\n",
        "Peech Keller cpkeller cpkeller447@yahoo.com"
       ]
      },
      {
       "output_type": "stream",
       "stream": "stdout",
       "text": [
        "\n",
        "Brian Hoffmeyer Brian Hoffmeyer bhoffmeyer@iqnavigator.com"
       ]
      },
      {
       "output_type": "stream",
       "stream": "stdout",
       "text": [
        "\n",
        "David Stolz davidstolz david42@q.com"
       ]
      },
      {
       "output_type": "stream",
       "stream": "stdout",
       "text": [
        "\n",
        "Randall Mast Randall Mast randall.g.mast@gmail.com"
       ]
      },
      {
       "output_type": "stream",
       "stream": "stdout",
       "text": [
        "\n",
        "David Roederer Dcroederer dcroederer@comcast.net"
       ]
      },
      {
       "output_type": "stream",
       "stream": "stdout",
       "text": [
        "\n",
        "Adelaide Perr Adelaide Perr saraadelaide@gmail.com"
       ]
      },
      {
       "output_type": "stream",
       "stream": "stdout",
       "text": [
        "\n",
        "Sandra Huzyk Bella slhuzyk@gmail.com"
       ]
      },
      {
       "output_type": "stream",
       "stream": "stdout",
       "text": [
        "\n",
        "courtney atx share_road courtneyatx25@gmail.com"
       ]
      },
      {
       "output_type": "stream",
       "stream": "stdout",
       "text": [
        "\n",
        "Robert Tenent Robert Tenent rctenent@comcast.net"
       ]
      },
      {
       "output_type": "stream",
       "stream": "stdout",
       "text": [
        "\n",
        "Leonard DeMoss oldultrarunner ultrarunner@yahoo.com"
       ]
      },
      {
       "output_type": "stream",
       "stream": "stdout",
       "text": [
        "\n",
        "Garrett Cole Garrett Cole garrett.cole@gmail.com"
       ]
      },
      {
       "output_type": "stream",
       "stream": "stdout",
       "text": [
        "\n",
        "Melissa Collns Melissa Collns mcollins52@comcast.net"
       ]
      },
      {
       "output_type": "stream",
       "stream": "stdout",
       "text": [
        "\n",
        "Megan Holstein Megan Holstein meganholstein@gmail.com"
       ]
      },
      {
       "output_type": "stream",
       "stream": "stdout",
       "text": [
        "\n",
        "Paul McCarthy Crosspropz crosspropz@gmail.com"
       ]
      },
      {
       "output_type": "stream",
       "stream": "stdout",
       "text": [
        "\n",
        "Eric Paulk Eric Paulk epaulk76@gmail.com"
       ]
      },
      {
       "output_type": "stream",
       "stream": "stdout",
       "text": [
        "\n",
        "Pamela Hill Pamela Hill wildwillowranch@yahoo.com"
       ]
      },
      {
       "output_type": "stream",
       "stream": "stdout",
       "text": [
        "\n",
        "Stuart Morrison stumorrison getonit511@yahoo.com"
       ]
      },
      {
       "output_type": "stream",
       "stream": "stdout",
       "text": [
        "\n",
        "Brian Ernst Brian Ernst ernst.bri@gmail.com"
       ]
      },
      {
       "output_type": "stream",
       "stream": "stdout",
       "text": [
        "\n",
        "Ryan Franz Ryan Franz ryan.franz@gmail.com"
       ]
      },
      {
       "output_type": "stream",
       "stream": "stdout",
       "text": [
        "\n",
        "Joe Murphy Joe Murphy joe.murphy@gmail.com"
       ]
      },
      {
       "output_type": "stream",
       "stream": "stdout",
       "text": [
        "\n",
        "Alexander Thompson amthompson thompson@vassar.edu"
       ]
      },
      {
       "output_type": "stream",
       "stream": "stdout",
       "text": [
        "\n",
        "Andy Bell Andy Bell andrew.d.bell@gmail.com"
       ]
      },
      {
       "output_type": "stream",
       "stream": "stdout",
       "text": [
        "\n",
        "J Fitzgerald  J Fitzgerald  phytz9@hotmail.com"
       ]
      },
      {
       "output_type": "stream",
       "stream": "stdout",
       "text": [
        "\n",
        "Jim Normandeau Jim Normandeau jnormandeau@gmail.com"
       ]
      },
      {
       "output_type": "stream",
       "stream": "stdout",
       "text": [
        "\n",
        "Steve Warburton Steve Warburton marickstarr@gmail.com"
       ]
      },
      {
       "output_type": "stream",
       "stream": "stdout",
       "text": [
        "\n",
        "Joe Beninghof Joe B Joe.Beninghof@gmail.com"
       ]
      },
      {
       "output_type": "stream",
       "stream": "stdout",
       "text": [
        "\n",
        "Charlie Knoll Charlie Knoll charlie.knoll@gmail.com"
       ]
      },
      {
       "output_type": "stream",
       "stream": "stdout",
       "text": [
        "\n",
        "Jared Shuttleworth Jared Shuttleworth jaredshuttleworth@gmail.com"
       ]
      },
      {
       "output_type": "stream",
       "stream": "stdout",
       "text": [
        "\n",
        "Jake Reynolds Jake Reynolds jrey@seveng.net"
       ]
      },
      {
       "output_type": "stream",
       "stream": "stdout",
       "text": [
        "\n",
        "Daniel Alvarado Daniel Alvarado forestgospel@gmail.com"
       ]
      },
      {
       "output_type": "stream",
       "stream": "stdout",
       "text": [
        "\n",
        "Rocky Smith Rocky Smith rocky-smith@comcast.net"
       ]
      },
      {
       "output_type": "stream",
       "stream": "stdout",
       "text": [
        "\n",
        "Jimmy Archer dirtTRI.com Jimmy Archer dirtTRI.com jimmyarcherracing@yahoo.com"
       ]
      },
      {
       "output_type": "stream",
       "stream": "stdout",
       "text": [
        "\n",
        "Brad Kaminski Brad Kaminski pbjski@gmail.com"
       ]
      },
      {
       "output_type": "stream",
       "stream": "stdout",
       "text": [
        "\n",
        "Erika Nelson-Wong erikarows erikarows@gmail.com"
       ]
      },
      {
       "output_type": "stream",
       "stream": "stdout",
       "text": [
        "\n",
        "Erik Hamilton Erik Hamilton cutters.08@gmail.com"
       ]
      },
      {
       "output_type": "stream",
       "stream": "stdout",
       "text": [
        "\n",
        "Brian Cook Brian Cook brian.d.cook@amec.com"
       ]
      },
      {
       "output_type": "stream",
       "stream": "stdout",
       "text": [
        "\n",
        "Pete Webber Peter Webber petewebbercx@gmail.com"
       ]
      },
      {
       "output_type": "stream",
       "stream": "stdout",
       "text": [
        "\n",
        "Lennard Zinn Lennard Zinn l.zinn@comcast.net"
       ]
      },
      {
       "output_type": "stream",
       "stream": "stdout",
       "text": [
        "\n",
        "kip taylor kip taylor kip.h.taylor@gmail.com"
       ]
      },
      {
       "output_type": "stream",
       "stream": "stdout",
       "text": [
        "\n",
        "Aaron Bouplon Aaron Bouplon boups@racecx.com"
       ]
      },
      {
       "output_type": "stream",
       "stream": "stdout",
       "text": [
        "\n",
        "Vladimir Razgulin Vladimir Razgulin onegulin@yahoo.com"
       ]
      },
      {
       "output_type": "stream",
       "stream": "stdout",
       "text": [
        "\n",
        "Kurt Dageforde Kurt Dageforde kurt.dageforde@gmail.com"
       ]
      },
      {
       "output_type": "stream",
       "stream": "stdout",
       "text": [
        "\n",
        "Bret Wade Bret Wade bret.wade@gmail.com"
       ]
      },
      {
       "output_type": "stream",
       "stream": "stdout",
       "text": [
        "\n",
        "David Droege David Droege drdroege@hotmail.com"
       ]
      },
      {
       "output_type": "stream",
       "stream": "stdout",
       "text": [
        "\n",
        "Eric Falldin Eric Falldin efalldin@yahoo.com"
       ]
      },
      {
       "output_type": "stream",
       "stream": "stdout",
       "text": [
        "\n",
        "Rick Hess Rick Hess hessrt@live.com"
       ]
      },
      {
       "output_type": "stream",
       "stream": "stdout",
       "text": [
        "\n",
        "Matt Weaver Matt Weaver ezweave@gmail.com"
       ]
      },
      {
       "output_type": "stream",
       "stream": "stdout",
       "text": [
        "\n",
        "Dale Riley Dale Riley daletriley@gmail.com"
       ]
      },
      {
       "output_type": "stream",
       "stream": "stdout",
       "text": [
        "\n",
        "Lee Cryer leecryer lee.cryer@comcast.net"
       ]
      },
      {
       "output_type": "stream",
       "stream": "stdout",
       "text": [
        "\n",
        "Camron Nelson nelsoncl54 clmnelson@gmail.com"
       ]
      },
      {
       "output_type": "stream",
       "stream": "stdout",
       "text": [
        "\n",
        "Matthew Gordon Matthew Gordon matt.gordon@me.com"
       ]
      },
      {
       "output_type": "stream",
       "stream": "stdout",
       "text": [
        "\n",
        "Eric Baer Eric Baer eric@livelook.tv"
       ]
      },
      {
       "output_type": "stream",
       "stream": "stdout",
       "text": [
        "\n",
        "Ben Harding Ben Harding ben@harding.boulder.co.us"
       ]
      },
      {
       "output_type": "stream",
       "stream": "stdout",
       "text": [
        "\n",
        "John Kotrla jrkotrla jrkotrla@gmail.com"
       ]
      },
      {
       "output_type": "stream",
       "stream": "stdout",
       "text": [
        "\n",
        "Glenn Cratty Glenn Cratty grcratty@yahoo.com"
       ]
      },
      {
       "output_type": "stream",
       "stream": "stdout",
       "text": [
        "\n",
        "John Kotrla John Kotrla jkotrla@angelo.edu"
       ]
      },
      {
       "output_type": "stream",
       "stream": "stdout",
       "text": [
        "\n",
        "Sara Sunshine Sara Sunshine graystar001@gmail.com"
       ]
      },
      {
       "output_type": "stream",
       "stream": "stdout",
       "text": [
        "\n",
        "Jim Kennedy Jim Kennedy kennejam@yahoo.com"
       ]
      },
      {
       "output_type": "stream",
       "stream": "stdout",
       "text": [
        "\n",
        "Ken Tarvin Ken Tarvin tarvinken@gmail.com"
       ]
      },
      {
       "output_type": "stream",
       "stream": "stdout",
       "text": [
        "\n",
        "david russell davidr5 davidr5@yahoo.com"
       ]
      },
      {
       "output_type": "stream",
       "stream": "stdout",
       "text": [
        "\n",
        "Brian Weiss Brian Weiss bmwatty@yahoo.com"
       ]
      },
      {
       "output_type": "stream",
       "stream": "stdout",
       "text": [
        "\n",
        "Alvin Stone Alvin Stone balboacz3@gmail.com"
       ]
      },
      {
       "output_type": "stream",
       "stream": "stdout",
       "text": [
        "\n",
        "Charlotte  Buck char buck charbuck47@live.com"
       ]
      },
      {
       "output_type": "stream",
       "stream": "stdout",
       "text": [
        "\n",
        "Team Zeppe Team Zeppe redhillaz@gmail.com"
       ]
      },
      {
       "output_type": "stream",
       "stream": "stdout",
       "text": [
        "\n",
        "Elizabeth Bonney Elizabeth Bonney elizabethbonney@gmail.com"
       ]
      },
      {
       "output_type": "stream",
       "stream": "stdout",
       "text": [
        "\n",
        "Drew Schifle Drew Schifle drew.schifle@gmail.com"
       ]
      },
      {
       "output_type": "stream",
       "stream": "stdout",
       "text": [
        "\n",
        "Caleb Stoll Caleb Stoll caleb.stoll@gmail.com"
       ]
      },
      {
       "output_type": "stream",
       "stream": "stdout",
       "text": [
        "\n",
        "Jere Holland Jere Holland jere557@hotmail.com"
       ]
      },
      {
       "output_type": "stream",
       "stream": "stdout",
       "text": [
        "\n",
        "Jeff Leone Jeff Leone jskitch@comcast.net"
       ]
      },
      {
       "output_type": "stream",
       "stream": "stdout",
       "text": [
        "\n",
        "Mike Britt Bruiser mikebritt_99@yahoo.com"
       ]
      },
      {
       "output_type": "stream",
       "stream": "stdout",
       "text": [
        "\n",
        "Fabien Ardila Fignon fabienardila@msn.com"
       ]
      },
      {
       "output_type": "stream",
       "stream": "stdout",
       "text": [
        "\n",
        "Phat Erzerz Phat Erzerz gfourteener@yahoo.com"
       ]
      },
      {
       "output_type": "stream",
       "stream": "stdout",
       "text": [
        "\n",
        "Suzy Spezzano Suzy Spezzano suzy_spezzano@yahoo.com"
       ]
      },
      {
       "output_type": "stream",
       "stream": "stdout",
       "text": [
        "\n",
        "Vera Divenyi swissmissie vjdivenyi@gmail.com"
       ]
      },
      {
       "output_type": "stream",
       "stream": "stdout",
       "text": [
        "\n",
        "Trish Littman plittman patriciamlittman@gmail.com"
       ]
      },
      {
       "output_type": "stream",
       "stream": "stdout",
       "text": [
        "\n",
        "Jordan Krechmer Jordan Krechmer jkrechmer@gmail.com"
       ]
      },
      {
       "output_type": "stream",
       "stream": "stdout",
       "text": [
        "\n",
        "Sean Magee Sean Magee seanemagee@gmail.com"
       ]
      },
      {
       "output_type": "stream",
       "stream": "stdout",
       "text": [
        "\n",
        "wade metzler wade metzler wmetzler@gmail.com"
       ]
      },
      {
       "output_type": "stream",
       "stream": "stdout",
       "text": [
        "\n",
        "Steve Saeedi Steve Saeedi saeedis@gmail.com"
       ]
      },
      {
       "output_type": "stream",
       "stream": "stdout",
       "text": [
        "\n",
        "Matt Nikkel Matt Nikkel matthew.nikkel@gmail.com"
       ]
      },
      {
       "output_type": "stream",
       "stream": "stdout",
       "text": [
        "\n",
        "Amanda McKee Amanda McKee mandymckee1@gmail.com"
       ]
      },
      {
       "output_type": "stream",
       "stream": "stdout",
       "text": [
        "\n",
        "alexey davies alexeydavies alexey.davies@gmail.com"
       ]
      },
      {
       "output_type": "stream",
       "stream": "stdout",
       "text": [
        "\n",
        "Matt Robinson Matt Robinson merobinson34@hotmail.com"
       ]
      },
      {
       "output_type": "stream",
       "stream": "stdout",
       "text": [
        "\n",
        "Jacob Sklar Jacob Sklar hotratz@mac.com"
       ]
      },
      {
       "output_type": "stream",
       "stream": "stdout",
       "text": [
        "\n",
        "Michael Bradford Michael Bradford mikeb3579@gmail.com"
       ]
      },
      {
       "output_type": "stream",
       "stream": "stdout",
       "text": [
        "\n",
        "Mike Berg MT Berg mike_berg@me.com"
       ]
      },
      {
       "output_type": "stream",
       "stream": "stdout",
       "text": [
        "\n",
        "Diego Long Diego Long diego.e.long@gmail.com"
       ]
      },
      {
       "output_type": "stream",
       "stream": "stdout",
       "text": [
        "\n",
        "Amy Darmer Adarmer amy.darmer@gmail.com"
       ]
      },
      {
       "output_type": "stream",
       "stream": "stdout",
       "text": [
        "\n",
        "Jim Kraychy jkraychy jkraychy@aol.com"
       ]
      },
      {
       "output_type": "stream",
       "stream": "stdout",
       "text": [
        "\n",
        "Michael Bohler Michael Bohler bikingmikeb@yahoo.com"
       ]
      },
      {
       "output_type": "stream",
       "stream": "stdout",
       "text": [
        "\n",
        "Dan Cavallari Dan Cavallari d.cavallari@gmail.com"
       ]
      },
      {
       "output_type": "stream",
       "stream": "stdout",
       "text": [
        "\n",
        "Jamie Morgan Jamie Morgan promtb@resortbroadband.com"
       ]
      },
      {
       "output_type": "stream",
       "stream": "stdout",
       "text": [
        "\n",
        "Ben Delaney Ben Delaney bendelaneyemail@gmail.com"
       ]
      },
      {
       "output_type": "stream",
       "stream": "stdout",
       "text": [
        "\n",
        "Len Mason The  Scrapper onecog.len@gmail.com"
       ]
      },
      {
       "output_type": "stream",
       "stream": "stdout",
       "text": [
        "\n",
        "Pawel Smolarkiewicz Pawel Smolarkiewicz pawel@smolarkiewicz.com"
       ]
      },
      {
       "output_type": "stream",
       "stream": "stdout",
       "text": [
        "\n",
        "Don Byington Don Byington donby@blacknblue.com"
       ]
      },
      {
       "output_type": "stream",
       "stream": "stdout",
       "text": [
        "\n",
        "Dohn Mith DM draganmejic@msn.com"
       ]
      },
      {
       "output_type": "stream",
       "stream": "stdout",
       "text": [
        "\n",
        "Jeff Leftwich jleftwich jleftwich@icloud.com"
       ]
      },
      {
       "output_type": "stream",
       "stream": "stdout",
       "text": [
        "\n",
        "Gary Suydam Gary Suydam gary.suydam@gmail.com"
       ]
      },
      {
       "output_type": "stream",
       "stream": "stdout",
       "text": [
        "\n",
        "Jason Pohl Jason Pohl jason.r.pohl@gmail.com"
       ]
      },
      {
       "output_type": "stream",
       "stream": "stdout",
       "text": [
        "\n",
        "Douglas Inskeep Douglas Inskeep doug_inskeep@yahoo.com"
       ]
      },
      {
       "output_type": "stream",
       "stream": "stdout",
       "text": [
        "\n",
        "Robert Yoder Robert Yothers pvg4w8r4@gmail.com"
       ]
      },
      {
       "output_type": "stream",
       "stream": "stdout",
       "text": [
        "\n",
        "Robert Peterson rwpeterson bob.peterson@gmail.com"
       ]
      },
      {
       "output_type": "stream",
       "stream": "stdout",
       "text": [
        "\n",
        "Deborah Chandler Deborah Chandler deborahchandler@yahoo.com"
       ]
      },
      {
       "output_type": "stream",
       "stream": "stdout",
       "text": [
        "\n",
        "Annie Sasseville Annie Sasseville anniesasseville@yahoo.com"
       ]
      },
      {
       "output_type": "stream",
       "stream": "stdout",
       "text": [
        "\n",
        "David Stolz David Stolz david42@q.com"
       ]
      },
      {
       "output_type": "stream",
       "stream": "stdout",
       "text": [
        "\n",
        "Joe Falace runjoerun1 runjoerun1@yahoo.com"
       ]
      },
      {
       "output_type": "stream",
       "stream": "stdout",
       "text": [
        "\n",
        "ben harding ben harding ben@harding.boulder.co.us"
       ]
      },
      {
       "output_type": "stream",
       "stream": "stdout",
       "text": [
        "\n",
        "Lisa Fischer-Wade Lisa Fischer-Wade lisa@fischer-wade.com"
       ]
      },
      {
       "output_type": "stream",
       "stream": "stdout",
       "text": [
        "\n",
        "Matt Kobzik Matt Kobzik mattkobzik@hotmail.com"
       ]
      },
      {
       "output_type": "stream",
       "stream": "stdout",
       "text": [
        "\n",
        "Brian Thom Brian Thom brianthom@me.com"
       ]
      },
      {
       "output_type": "stream",
       "stream": "stdout",
       "text": [
        "\n",
        "Michael Levasseur Miikel mikelevass@yahoo.com"
       ]
      },
      {
       "output_type": "stream",
       "stream": "stdout",
       "text": [
        "\n",
        "Neil Duncan Neil Duncan neil_duncan@comcast.net"
       ]
      },
      {
       "output_type": "stream",
       "stream": "stdout",
       "text": [
        "\n",
        "Sara Kammlade Sara Kammlade sara.kammlade@gmail.com"
       ]
      },
      {
       "output_type": "stream",
       "stream": "stdout",
       "text": [
        "\n",
        "Ian Dickinson Ian Dickinson dickojunk@msn.com"
       ]
      },
      {
       "output_type": "stream",
       "stream": "stdout",
       "text": [
        "\n",
        "Rich Trostel Rich Trostel rockymtnlineman@hotmail.com"
       ]
      },
      {
       "output_type": "stream",
       "stream": "stdout",
       "text": [
        "\n",
        "Josh Terwoord Josh Terwoord sempersalveo@gmail.com"
       ]
      },
      {
       "output_type": "stream",
       "stream": "stdout",
       "text": [
        "\n",
        "Marc Cahn Marc Cahn marc@boulderbackpainclinic.com"
       ]
      },
      {
       "output_type": "stream",
       "stream": "stdout",
       "text": [
        "\n",
        "Naked Rider Naked Rider susankylie73@yahoo.com"
       ]
      },
      {
       "output_type": "stream",
       "stream": "stdout",
       "text": [
        "\n",
        "Roberta Smith Curly  Girl bertsemailaddress@gmail.com"
       ]
      },
      {
       "output_type": "stream",
       "stream": "stdout",
       "text": [
        "\n",
        "ryan hans ryan hans bestpilotever@gmail.com"
       ]
      },
      {
       "output_type": "stream",
       "stream": "stdout",
       "text": [
        "\n",
        "Shakey Dog Shakey Dog chrispm7@gmail.com"
       ]
      },
      {
       "output_type": "stream",
       "stream": "stdout",
       "text": [
        "\n",
        "Jim Montgomery Jim Montgomery skigrinder@indra.com"
       ]
      },
      {
       "output_type": "stream",
       "stream": "stdout",
       "text": [
        "\n",
        "Gary Ghiselli Gary Ghiselli gghiselli@yahoo.com"
       ]
      },
      {
       "output_type": "stream",
       "stream": "stdout",
       "text": [
        "\n",
        "Sean McIllwain Sean McIllwain sean@modboulder.com"
       ]
      },
      {
       "output_type": "stream",
       "stream": "stdout",
       "text": [
        "\n",
        "steve g steve g gibson.steve@gmail.com"
       ]
      },
      {
       "output_type": "stream",
       "stream": "stdout",
       "text": [
        "\n",
        "Mark Mortell Mark Mortell mortell_m@yahoo.com"
       ]
      },
      {
       "output_type": "stream",
       "stream": "stdout",
       "text": [
        "\n",
        "Alexander Thompson alexanderthompson thompson@vassar.edu"
       ]
      },
      {
       "output_type": "stream",
       "stream": "stdout",
       "text": [
        "\n",
        "Steve Gabbard Steve Gabbard stevegab@yahoo.com"
       ]
      },
      {
       "output_type": "stream",
       "stream": "stdout",
       "text": [
        "\n",
        "Mateo M Mateo M m2muir@gmail.com"
       ]
      },
      {
       "output_type": "stream",
       "stream": "stdout",
       "text": [
        "\n",
        "John Criff John Criff tarrb519@gmail.com"
       ]
      },
      {
       "output_type": "stream",
       "stream": "stdout",
       "text": [
        "\n",
        "Mark Richter Mark Richter mark@divorcecamp.com"
       ]
      },
      {
       "output_type": "stream",
       "stream": "stdout",
       "text": [
        "\n",
        "Will Raatz Will Raatz will.raatz@w2eng.com"
       ]
      },
      {
       "output_type": "stream",
       "stream": "stdout",
       "text": [
        "\n",
        "Johan Erasmus Johan Erasmus johanherasmus@gmail.com"
       ]
      },
      {
       "output_type": "stream",
       "stream": "stdout",
       "text": [
        "\n",
        "James Skaggs James Skaggs skaggs.james@gmail.com"
       ]
      },
      {
       "output_type": "stream",
       "stream": "stdout",
       "text": [
        "\n",
        "Megan Birckhead Megan Birckhead meg.robben@gmail.com"
       ]
      },
      {
       "output_type": "stream",
       "stream": "stdout",
       "text": [
        "\n",
        "Mark McIntyre Mark McIntyre mmcintyre@marketingtech.com"
       ]
      },
      {
       "output_type": "stream",
       "stream": "stdout",
       "text": [
        "\n",
        "Kim Molinelli Kim Molinelli kmolinelli@frozenpiranha.com"
       ]
      },
      {
       "output_type": "stream",
       "stream": "stdout",
       "text": [
        "\n",
        "Marc Nethercott marcnethercott marc.nethercott@gmail.com"
       ]
      },
      {
       "output_type": "stream",
       "stream": "stdout",
       "text": [
        "\n",
        "matthew capron matthew capron matthew.capron@gmail.com"
       ]
      },
      {
       "output_type": "stream",
       "stream": "stdout",
       "text": [
        "\n",
        "Mark Smither Mark Smither smither.mark@gmail.com"
       ]
      },
      {
       "output_type": "stream",
       "stream": "stdout",
       "text": [
        "\n",
        "Chris Phelps Chris Phelps chris.phelps@yahoo.com"
       ]
      },
      {
       "output_type": "stream",
       "stream": "stdout",
       "text": [
        "\n",
        "Donna Gross Donna Gross donnagrossfsu@msn.com"
       ]
      },
      {
       "output_type": "stream",
       "stream": "stdout",
       "text": [
        "\n",
        "David Roederer David Roederer dcroederer@comcast.net"
       ]
      },
      {
       "output_type": "stream",
       "stream": "stdout",
       "text": [
        "\n",
        "Kevin Craig Kevin Craig krcraig@centurylink.net"
       ]
      },
      {
       "output_type": "stream",
       "stream": "stdout",
       "text": [
        "\n",
        "Jonathan Warshaw Jonathan Warshaw jbarwarshaw@gmail.com"
       ]
      },
      {
       "output_type": "stream",
       "stream": "stdout",
       "text": [
        "\n",
        "Jerrod Hohman Jerrod Hohman jwhohman1@gmail.com"
       ]
      },
      {
       "output_type": "stream",
       "stream": "stdout",
       "text": [
        "\n",
        "Valerie Yates Valerie Y valyates@gmail.com"
       ]
      },
      {
       "output_type": "stream",
       "stream": "stdout",
       "text": [
        "\n",
        "DARUDE-SANDSTORM DUDUDUDUDUDUDUDUDU DARUDE-SANDSTORM DUDUDUDUDUDUD chinatown00_2000@yahoo.com"
       ]
      },
      {
       "output_type": "stream",
       "stream": "stdout",
       "text": [
        "\n",
        "Ben Guderian Ben Guderian benguderian@gmail.com"
       ]
      },
      {
       "output_type": "stream",
       "stream": "stdout",
       "text": [
        "\n",
        "Eric Kloor Eric Kloor erickloor@gmail.com"
       ]
      },
      {
       "output_type": "stream",
       "stream": "stdout",
       "text": [
        "\n",
        "Melissa Collins stunnedone13 mcollins52@comcast.net"
       ]
      },
      {
       "output_type": "stream",
       "stream": "stdout",
       "text": [
        "\n",
        "Jane Beitler Jane Beitler janebeitler@gmail.com"
       ]
      },
      {
       "output_type": "stream",
       "stream": "stdout",
       "text": [
        "\n",
        "Scott James Scott James sjamesgotaski@gmail.com"
       ]
      },
      {
       "output_type": "stream",
       "stream": "stdout",
       "text": [
        "\n",
        "Jayson VanShura Jayson VanShura vanshuraj@gmail.com"
       ]
      },
      {
       "output_type": "stream",
       "stream": "stdout",
       "text": [
        "\n",
        "Steve Pardoe Steve Pardoe pardoe_s@yahoo.com"
       ]
      },
      {
       "output_type": "stream",
       "stream": "stdout",
       "text": [
        "\n",
        "Matt Ferdinand Matt Ferdinand matthewferdinand@gmail.com"
       ]
      },
      {
       "output_type": "stream",
       "stream": "stdout",
       "text": [
        "\n",
        "Chet  Manley Chet  Manley andrew.j.emanuel@gmail.com"
       ]
      },
      {
       "output_type": "stream",
       "stream": "stdout",
       "text": [
        "\n",
        "Greg Mionske Greg Mionske mionske@gmail.com"
       ]
      },
      {
       "output_type": "stream",
       "stream": "stdout",
       "text": [
        "\n",
        "David Sachs David Sachs dasachs@gmail.com"
       ]
      },
      {
       "output_type": "stream",
       "stream": "stdout",
       "text": [
        "\n",
        "Brann Greager Brann Greager brann.greager@gmail.com"
       ]
      },
      {
       "output_type": "stream",
       "stream": "stdout",
       "text": [
        "\n",
        "Caelan Thom Caelan Thom caelanthom@me.com"
       ]
      },
      {
       "output_type": "stream",
       "stream": "stdout",
       "text": [
        "\n",
        "CoCyclist 11 CoCyclist 11 eric_callmann@yahoo.com"
       ]
      },
      {
       "output_type": "stream",
       "stream": "stdout",
       "text": [
        "\n",
        "Clark Hansen Crashtest dummy chdg@indra.com"
       ]
      },
      {
       "output_type": "stream",
       "stream": "stdout",
       "text": [
        "\n",
        "Mark Heidorn Mark Heidorn mark.heidorn@gmail.com"
       ]
      },
      {
       "output_type": "stream",
       "stream": "stdout",
       "text": [
        "\n",
        "Adam Sher Adam Sher ahsher@yahoo.com"
       ]
      },
      {
       "output_type": "stream",
       "stream": "stdout",
       "text": [
        "\n",
        "Tom Moritz Quick Release tmoritz@bmi.net"
       ]
      },
      {
       "output_type": "stream",
       "stream": "stdout",
       "text": [
        "\n",
        "Steve Kurland Steve Kurland stevekurland@mac.com"
       ]
      },
      {
       "output_type": "stream",
       "stream": "stdout",
       "text": [
        "\n",
        "Dave Stolz  Dave Stolz david42@q.com"
       ]
      },
      {
       "output_type": "stream",
       "stream": "stdout",
       "text": [
        "\n",
        "Brad Fross Brad Fross bkfross@ieee.org"
       ]
      },
      {
       "output_type": "stream",
       "stream": "stdout",
       "text": [
        "\n",
        "AJ  Johnson AJ  Johnson ajoutside34@gmail.com"
       ]
      },
      {
       "output_type": "stream",
       "stream": "stdout",
       "text": [
        "\n",
        "Judy Moir Judy Moir jmoir@nednet.net"
       ]
      },
      {
       "output_type": "stream",
       "stream": "stdout",
       "text": [
        "\n",
        "charles gould charles gould charlesagould@gmail.com"
       ]
      },
      {
       "output_type": "stream",
       "stream": "stdout",
       "text": [
        "\n",
        "Johan Erasmus jerasmus johanherasmus@gmail.com"
       ]
      },
      {
       "output_type": "stream",
       "stream": "stdout",
       "text": [
        "\n",
        "Lydia H Lydia H holmes.lydia@gmail.com"
       ]
      },
      {
       "output_type": "stream",
       "stream": "stdout",
       "text": [
        "\n",
        "Paul Majors Paul Majors paulmajors143@yahoo.com"
       ]
      },
      {
       "output_type": "stream",
       "stream": "stdout",
       "text": [
        "\n",
        "Scott DeJong Scott DeJong sdejong@q.com"
       ]
      },
      {
       "output_type": "stream",
       "stream": "stdout",
       "text": [
        "\n",
        "Charley Dean Charley Dean sqwk77@aol.com"
       ]
      },
      {
       "output_type": "stream",
       "stream": "stdout",
       "text": [
        "\n",
        "Rick Anstey RiCanste rickanstey@gmail.com"
       ]
      },
      {
       "output_type": "stream",
       "stream": "stdout",
       "text": [
        "\n",
        "Chris Dugan Chris Dugan chrisdugan8@gmail.com"
       ]
      },
      {
       "output_type": "stream",
       "stream": "stdout",
       "text": [
        "\n",
        "Phillip Notz Phil Notz phil.notz@yahoo.com"
       ]
      },
      {
       "output_type": "stream",
       "stream": "stdout",
       "text": [
        "\n",
        "Dave Burton Zeppe Cat redhillaz@gmail.com"
       ]
      },
      {
       "output_type": "stream",
       "stream": "stdout",
       "text": [
        "\n",
        "Johnny Eisert Fear the Beard johnny@relevantplay.com"
       ]
      },
      {
       "output_type": "stream",
       "stream": "stdout",
       "text": [
        "\n",
        "Clark Hanson Clark chdg@indra.com"
       ]
      },
      {
       "output_type": "stream",
       "stream": "stdout",
       "text": [
        "\n",
        "Michael Lawless Michael Lawless lawlessmt@gmail.com"
       ]
      },
      {
       "output_type": "stream",
       "stream": "stdout",
       "text": [
        "\n",
        "Marc de Kerf Marc de Kerf marcdekerf@yahoo.com"
       ]
      },
      {
       "output_type": "stream",
       "stream": "stdout",
       "text": [
        "\n",
        "Tom Fiorillo Tom Fiorillo t.fiorillo@comcast.net"
       ]
      },
      {
       "output_type": "stream",
       "stream": "stdout",
       "text": [
        "\n",
        "Anthony McDougle Anthony McDougle anthony.mcdougle@gmail.com"
       ]
      },
      {
       "output_type": "stream",
       "stream": "stdout",
       "text": [
        "\n",
        "David Fitz David Fitz davefitz4@gmail.com"
       ]
      },
      {
       "output_type": "stream",
       "stream": "stdout",
       "text": [
        "\n",
        "Eric Woods #ridelife  Eric Woods #ridelife  emwoods@gmail.com"
       ]
      },
      {
       "output_type": "stream",
       "stream": "stdout",
       "text": [
        "\n",
        "Andrew G Andrew G 4wordsoul@gmail.com"
       ]
      },
      {
       "output_type": "stream",
       "stream": "stdout",
       "text": [
        "\n",
        "paul mcCarthy paul mcCarthy crosspropz@gmail.com"
       ]
      },
      {
       "output_type": "stream",
       "stream": "stdout",
       "text": [
        "\n",
        "Killian Williams Killian Williams williamskillian@gmail.com"
       ]
      },
      {
       "output_type": "stream",
       "stream": "stdout",
       "text": [
        "\n",
        "Brett  Richard Brett Richard (Handlebar Musta bmcbjr@gmail.com"
       ]
      },
      {
       "output_type": "stream",
       "stream": "stdout",
       "text": [
        "\n",
        "steve booth steve booth stevekbooth@gmail.com"
       ]
      },
      {
       "output_type": "stream",
       "stream": "stdout",
       "text": [
        "\n",
        "Clint Talbott Clint Talbott clint_talbott@yahoo.com"
       ]
      },
      {
       "output_type": "stream",
       "stream": "stdout",
       "text": [
        "\n",
        "Joan Avens joanavens@aol.com joanavens@aol.com"
       ]
      },
      {
       "output_type": "stream",
       "stream": "stdout",
       "text": [
        "\n",
        "Jayson Jacobs Jayson Jacobs j4ys0n@gmail.com"
       ]
      },
      {
       "output_type": "stream",
       "stream": "stdout",
       "text": [
        "\n",
        "Michael Miller Michael Miller michael.miller.44@gmail.com"
       ]
      },
      {
       "output_type": "stream",
       "stream": "stdout",
       "text": [
        "\n",
        "Cari Higgins Runcari runcari@mac.com"
       ]
      },
      {
       "output_type": "stream",
       "stream": "stdout",
       "text": [
        "\n",
        "Helen Prieto Helen P helencesar1@aol.com"
       ]
      },
      {
       "output_type": "stream",
       "stream": "stdout",
       "text": [
        "\n",
        "Richard Steinbicker SyntaxError steinbicker@comcast.net"
       ]
      },
      {
       "output_type": "stream",
       "stream": "stdout",
       "text": [
        "\n",
        "Craig Horton chorton chorton@fcgov.com"
       ]
      },
      {
       "output_type": "stream",
       "stream": "stdout",
       "text": [
        "\n",
        "Todd Sandin Todd Sandin t.sandin@comcast.net"
       ]
      },
      {
       "output_type": "stream",
       "stream": "stdout",
       "text": [
        "\n",
        "Marcia Van Eden MVE m.vaneden@comcast.net"
       ]
      },
      {
       "output_type": "stream",
       "stream": "stdout",
       "text": [
        "\n",
        "Lief Youngs Liefy liefy@yahoo.com"
       ]
      },
      {
       "output_type": "stream",
       "stream": "stdout",
       "text": [
        "\n",
        "Oksana Kovalenko Oksana Kovalenko ksuha_1976@yahoo.com"
       ]
      },
      {
       "output_type": "stream",
       "stream": "stdout",
       "text": [
        "\n",
        "Hugh Grinolds Hugh Grinolds hgrinolds@msn.com"
       ]
      },
      {
       "output_type": "stream",
       "stream": "stdout",
       "text": [
        "\n",
        "Eric W Eric W bmcsl01@hotmail.com"
       ]
      },
      {
       "output_type": "stream",
       "stream": "stdout",
       "text": [
        "\n",
        "Steve Moore SteveMoore smoore@narf.org"
       ]
      },
      {
       "output_type": "stream",
       "stream": "stdout",
       "text": [
        "\n",
        "Jeff Winkler (winklercycling.com) Jeff Winkler (winklercycling.c jeffwink@gmail.com"
       ]
      },
      {
       "output_type": "stream",
       "stream": "stdout",
       "text": [
        "\n",
        "Josh Patsey Josh Patsey josh@brickfungus.com"
       ]
      },
      {
       "output_type": "stream",
       "stream": "stdout",
       "text": [
        "\n",
        "Tom Moritz Tom Moritz tmoritz@bmi.net"
       ]
      },
      {
       "output_type": "stream",
       "stream": "stdout",
       "text": [
        "\n",
        "Yus Saleh Yus Saleh ybsaleh@gmail.com"
       ]
      },
      {
       "output_type": "stream",
       "stream": "stdout",
       "text": [
        "\n",
        "Andy Schmit CyclingArtist aschmit@rock-solid-design.com"
       ]
      },
      {
       "output_type": "stream",
       "stream": "stdout",
       "text": [
        "\n",
        "Chris Webster Chris Webster velocaw@gmail.com"
       ]
      },
      {
       "output_type": "stream",
       "stream": "stdout",
       "text": [
        "\n",
        "Evan Darling Evan Darling evan@edarlingracing.com"
       ]
      },
      {
       "output_type": "stream",
       "stream": "stdout",
       "text": [
        "\n",
        "Lynda Edgington BeSafe lyndaedgington@yahoo.com"
       ]
      },
      {
       "output_type": "stream",
       "stream": "stdout",
       "text": [
        "\n",
        "Kevin Williams Kevin Williams kevin42@outlook.com"
       ]
      },
      {
       "output_type": "stream",
       "stream": "stdout",
       "text": [
        "\n",
        "Michael Turek Michael Turek michael.turek@yahoo.com"
       ]
      },
      {
       "output_type": "stream",
       "stream": "stdout",
       "text": [
        "\n",
        "Judy Moir Judy moir jmoir@nednet.net"
       ]
      },
      {
       "output_type": "stream",
       "stream": "stdout",
       "text": [
        "\n",
        "Mike Lemoi Mike Lemoi mikeylemoi@mac.com"
       ]
      },
      {
       "output_type": "stream",
       "stream": "stdout",
       "text": [
        "\n",
        "Mary Spalding Mary Spalding mary.spalding1@gmail.com"
       ]
      },
      {
       "output_type": "stream",
       "stream": "stdout",
       "text": [
        "\n",
        "David Fitzgerald David Fitzgerald dfitzger1@gmail.com"
       ]
      },
      {
       "output_type": "stream",
       "stream": "stdout",
       "text": [
        "\n",
        "Dmitry Kolobov Dmitry Kolobov dmkolobov@gmail.com"
       ]
      },
      {
       "output_type": "stream",
       "stream": "stdout",
       "text": [
        "\n",
        "Billy Lang Billy Lang bikerbilly73@gmail.com"
       ]
      },
      {
       "output_type": "stream",
       "stream": "stdout",
       "text": [
        "\n",
        "Claudia Manding Claudia Manding claudia_manding@yahoo.com"
       ]
      },
      {
       "output_type": "stream",
       "stream": "stdout",
       "text": [
        "\n",
        "Benjamin Mapes Benjamin Mapes benjamin.mapes@gmail.com"
       ]
      },
      {
       "output_type": "stream",
       "stream": "stdout",
       "text": [
        "\n",
        "Timothy Hilton timothy.w.hilton@gmail.com timothy.w.hilton@gmail.com"
       ]
      },
      {
       "output_type": "stream",
       "stream": "stdout",
       "text": [
        "\n",
        "Scott Downes Scott Downes stdownes@gmail.com"
       ]
      },
      {
       "output_type": "stream",
       "stream": "stdout",
       "text": [
        "\n",
        "Jim Everett Jim Everett jeverett21@gmail.com"
       ]
      },
      {
       "output_type": "stream",
       "stream": "stdout",
       "text": [
        "\n",
        "Linda Hollingsed Linda Hollingsed linda@hollingsed.com"
       ]
      },
      {
       "output_type": "stream",
       "stream": "stdout",
       "text": [
        "\n",
        "Jess D Case Jess D Case jessdamato79@gmail.com"
       ]
      },
      {
       "output_type": "stream",
       "stream": "stdout",
       "text": [
        "\n",
        "David Russell David Russell davidr5@yahoo.com"
       ]
      },
      {
       "output_type": "stream",
       "stream": "stdout",
       "text": [
        "\n",
        "Annie Bement Annie Bement schmannie@comcast.net"
       ]
      },
      {
       "output_type": "stream",
       "stream": "stdout",
       "text": [
        "\n",
        "Rocky Mountain Oyster Rocky Mountain Oyster emwoods@gmail.com"
       ]
      },
      {
       "output_type": "stream",
       "stream": "stdout",
       "text": [
        "\n",
        "Julie \"Spincess\" Fisher Julie \"Spincess\" Fisher jmfisher69@gmail.com"
       ]
      },
      {
       "output_type": "stream",
       "stream": "stdout",
       "text": [
        "\n",
        "john pugh john pugh johnfriendpugh@gmail.com"
       ]
      },
      {
       "output_type": "stream",
       "stream": "stdout",
       "text": [
        "\n",
        "Amy Ehrenberger Amy Ehrenberger aehrenbe@yahoo.com"
       ]
      },
      {
       "output_type": "stream",
       "stream": "stdout",
       "text": [
        "\n",
        "Jeff Ofsanko jeffo jeffofsanko@icloud.com"
       ]
      },
      {
       "output_type": "stream",
       "stream": "stdout",
       "text": [
        "\n",
        "Kristine Schaal Kristine Schaal kristineschaal@comcast.net"
       ]
      },
      {
       "output_type": "stream",
       "stream": "stdout",
       "text": [
        "\n",
        "Tom Moritz tmoritz tmoritz@bmi.net"
       ]
      },
      {
       "output_type": "stream",
       "stream": "stdout",
       "text": [
        "\n",
        "Rob Winter cyclogicallydemented rob@cyclogicallydemented.com"
       ]
      },
      {
       "output_type": "stream",
       "stream": "stdout",
       "text": [
        "\n",
        "Melissa Collins tylerrose13 mcollins52@comcast.net"
       ]
      },
      {
       "output_type": "stream",
       "stream": "stdout",
       "text": [
        "\n",
        "bike rider bike rider johanne@bikerider.com"
       ]
      },
      {
       "output_type": "stream",
       "stream": "stdout",
       "text": [
        "\n",
        "John Berger John Berger jberger@mines.edu"
       ]
      },
      {
       "output_type": "stream",
       "stream": "stdout",
       "text": [
        "\n",
        "Tim Webb Tim Webb Sevenexpat1@gmail.com"
       ]
      },
      {
       "output_type": "stream",
       "stream": "stdout",
       "text": [
        "\n",
        "Clark Hanson Clark Hanson chdg@indra.com"
       ]
      },
      {
       "output_type": "stream",
       "stream": "stdout",
       "text": [
        "\n",
        "Stephanie Fowler Stephanie Fowler stephanie@learningkeyco.com"
       ]
      },
      {
       "output_type": "stream",
       "stream": "stdout",
       "text": [
        "\n",
        "Kevin Masten Kevin Masten kmasten@brighthive.biz"
       ]
      },
      {
       "output_type": "stream",
       "stream": "stdout",
       "text": [
        "\n",
        "Chris Bement Chris Bement c.bement@comcast.net"
       ]
      },
      {
       "output_type": "stream",
       "stream": "stdout",
       "text": [
        "\n",
        "Steve DeViney Steve DeViney sdeviney1@hotmail.com"
       ]
      },
      {
       "output_type": "stream",
       "stream": "stdout",
       "text": [
        "\n",
        "David Stolz dstolz david42@q.com"
       ]
      },
      {
       "output_type": "stream",
       "stream": "stdout",
       "text": [
        "\n",
        "David Mastroianni David Mastroianni dmastroi@yahoo.com"
       ]
      },
      {
       "output_type": "stream",
       "stream": "stdout",
       "text": [
        "\n",
        "Kristi Covalciuc Kristi Covalciuc kristicovalciuc@hotmail.com"
       ]
      },
      {
       "output_type": "stream",
       "stream": "stdout",
       "text": [
        "\n",
        "Andi Mann Andi Mann andi_web@mann.com.au"
       ]
      },
      {
       "output_type": "stream",
       "stream": "stdout",
       "text": [
        "\n",
        "Deborah Chandler deborahchandler@yahoo.com deborahchandler@yahoo.com"
       ]
      },
      {
       "output_type": "stream",
       "stream": "stdout",
       "text": [
        "\n",
        "Brian Good Brian Good brigood@comcast.net"
       ]
      },
      {
       "output_type": "stream",
       "stream": "stdout",
       "text": [
        "\n",
        "Erik Wogen Yukon_Jack ewogen@comcast.net"
       ]
      },
      {
       "output_type": "stream",
       "stream": "stdout",
       "text": [
        "\n",
        "Alexander Thompson Sandy Thompson thompson@vassar.edu"
       ]
      },
      {
       "output_type": "stream",
       "stream": "stdout",
       "text": [
        "\n",
        "Robert  Drage  Robert  Drage  bobdra@msn.com"
       ]
      },
      {
       "output_type": "stream",
       "stream": "stdout",
       "text": [
        "\n",
        "Rob Slowinski Rob Slowinski rfslow@gmail.com"
       ]
      },
      {
       "output_type": "stream",
       "stream": "stdout",
       "text": [
        "\n",
        "Morgan Brown Morgan Brown morganpbrown@gmail.com"
       ]
      },
      {
       "output_type": "stream",
       "stream": "stdout",
       "text": [
        "\n",
        "Mike Hogan Mike Hogan mhogan.wp@gmail.com"
       ]
      },
      {
       "output_type": "stream",
       "stream": "stdout",
       "text": [
        "\n",
        "Chris Lee Chris Lee christopherjlee@yahoo.com"
       ]
      },
      {
       "output_type": "stream",
       "stream": "stdout",
       "text": [
        "\n",
        "Cindy Laupa claupa claupa@frii.com"
       ]
      },
      {
       "output_type": "stream",
       "stream": "stdout",
       "text": [
        "\n",
        "Tim Webb D-Timothy-Webb twebb@webbcompanies.com"
       ]
      },
      {
       "output_type": "stream",
       "stream": "stdout",
       "text": [
        "\n",
        "Taylor Caron Taylor Caron hopaholic@gmail.com"
       ]
      },
      {
       "output_type": "stream",
       "stream": "stdout",
       "text": [
        "\n",
        "Doug Fogg Doug Fogg dougfogg@gmail.com"
       ]
      },
      {
       "output_type": "stream",
       "stream": "stdout",
       "text": [
        "\n",
        "Michelle Mjoen Chellemojo chelle7584@msn.com"
       ]
      },
      {
       "output_type": "stream",
       "stream": "stdout",
       "text": [
        "\n",
        "Scott Fliegelman Scott Fliegelman scottfliegs@me.com"
       ]
      },
      {
       "output_type": "stream",
       "stream": "stdout",
       "text": [
        "\n",
        "Troy Busot Troy Busot troy@athlinks.com"
       ]
      },
      {
       "output_type": "stream",
       "stream": "stdout",
       "text": [
        "\n",
        "Josh Gray Josh Gray josh@jtri.com"
       ]
      },
      {
       "output_type": "stream",
       "stream": "stdout",
       "text": [
        "\n",
        "Kirk Groves Kirk Groves kirk.groves@gmail.com"
       ]
      },
      {
       "output_type": "stream",
       "stream": "stdout",
       "text": [
        "\n",
        "Ryan Amirault Ryan Amirault ramirault@gmail.com"
       ]
      },
      {
       "output_type": "stream",
       "stream": "stdout",
       "text": [
        "\n",
        "Andrew Feeney Andrew Feeney feeneyab77@gmail.com"
       ]
      },
      {
       "output_type": "stream",
       "stream": "stdout",
       "text": [
        "\n",
        "Chris Gilbert Chris Gilbert cgilbert66@gmail.com"
       ]
      },
      {
       "output_type": "stream",
       "stream": "stdout",
       "text": [
        "\n",
        "Annie Sasseville  Anniesasseville anniesasseville@yahoo.com"
       ]
      },
      {
       "output_type": "stream",
       "stream": "stdout",
       "text": [
        "\n",
        "Bill Davis Bill Davis davis.bill@gmail.com"
       ]
      },
      {
       "output_type": "stream",
       "stream": "stdout",
       "text": [
        "\n",
        "Illya Kowalchuk Illya Kowalchuk illya.kowalchuk@gmail.com"
       ]
      },
      {
       "output_type": "stream",
       "stream": "stdout",
       "text": [
        "\n",
        "Jon Maule Jon Maule jon.s.maule@gmail.com"
       ]
      },
      {
       "output_type": "stream",
       "stream": "stdout",
       "text": [
        "\n",
        "adam boyd adam boyd apbstats@gmail.com"
       ]
      },
      {
       "output_type": "stream",
       "stream": "stdout",
       "text": [
        "\n",
        "Ryan Taylor Ryan Taylor ryanmtaylor@gmail.com"
       ]
      },
      {
       "output_type": "stream",
       "stream": "stdout",
       "text": [
        "\n",
        "Tim Crean Tim Crean crean.tim@gmail.com"
       ]
      },
      {
       "output_type": "stream",
       "stream": "stdout",
       "text": [
        "\n",
        "Andrew Wilson veripost andrew.wilson@mwhglobal.com"
       ]
      },
      {
       "output_type": "stream",
       "stream": "stdout",
       "text": [
        "\n",
        "Justin Naab Justin Naab jwnaab@gmail.com"
       ]
      },
      {
       "output_type": "stream",
       "stream": "stdout",
       "text": [
        "\n",
        "Bob Roman Bob Roman broman@fireantstudio.com"
       ]
      },
      {
       "output_type": "stream",
       "stream": "stdout",
       "text": [
        "\n",
        "Karen Hogan Karen Hogan khogan.wp@gmail.com"
       ]
      },
      {
       "output_type": "stream",
       "stream": "stdout",
       "text": [
        "\n",
        "Matt Chrabot Matt Chrabot matt_chrbt@yahoo.com"
       ]
      },
      {
       "output_type": "stream",
       "stream": "stdout",
       "text": [
        "\n",
        "Clark Rider Clark Rider clarkrider@gmail.com"
       ]
      },
      {
       "output_type": "stream",
       "stream": "stdout",
       "text": [
        "\n",
        "James Morin Morinjt jt_morin@yahoo.com"
       ]
      },
      {
       "output_type": "stream",
       "stream": "stdout",
       "text": [
        "\n",
        "J.J.  Folsom J.J.  Folsom folsomjj@yahoo.com"
       ]
      },
      {
       "output_type": "stream",
       "stream": "stdout",
       "text": [
        "\n",
        "Jimmy Archer DirtTRI.com Jimmy Archer DirtTRI.com jimmyarcherracing@yahoo.com"
       ]
      },
      {
       "output_type": "stream",
       "stream": "stdout",
       "text": [
        "\n",
        "Trish Heisdorffer Trish Heisdorffer cotrigirl@yahoo.com"
       ]
      },
      {
       "output_type": "stream",
       "stream": "stdout",
       "text": [
        "\n",
        "Trudee Kiyota Trudee Kiyota trudee0@gmail.com"
       ]
      },
      {
       "output_type": "stream",
       "stream": "stdout",
       "text": [
        "\n",
        "Ron Buxton Ron Buxton ronbuxton@comcast.net"
       ]
      },
      {
       "output_type": "stream",
       "stream": "stdout",
       "text": [
        "\n",
        "David Jordan David Jordan cheoah@q.com"
       ]
      },
      {
       "output_type": "stream",
       "stream": "stdout",
       "text": [
        "\n",
        "Gerry Stephenson Gerry Stephenson (@gjstache) gstephenson@me.com"
       ]
      },
      {
       "output_type": "stream",
       "stream": "stdout",
       "text": [
        "\n",
        "nick lyddon nick lyddon nlyddon@gmail.com"
       ]
      },
      {
       "output_type": "stream",
       "stream": "stdout",
       "text": [
        "\n",
        "Tim Downing Tim Downing timdowning@me.com"
       ]
      },
      {
       "output_type": "stream",
       "stream": "stdout",
       "text": [
        "\n",
        "Chris Warner Chris Warner cwarner1773@gmail.com"
       ]
      },
      {
       "output_type": "stream",
       "stream": "stdout",
       "text": [
        "\n",
        "Peter Dunlap Peter Dunlap pdunlap11@gmail.com"
       ]
      },
      {
       "output_type": "stream",
       "stream": "stdout",
       "text": [
        "\n",
        "Rachel Beisel Rachel Beisel rachelbeisel@gmail.com"
       ]
      },
      {
       "output_type": "stream",
       "stream": "stdout",
       "text": [
        "\n",
        "David Belin David Belin dbelin1971@gmail.com"
       ]
      },
      {
       "output_type": "stream",
       "stream": "stdout",
       "text": [
        "\n",
        "Bill Marcum Bill Marcum bill.marcum@gmail.com"
       ]
      },
      {
       "output_type": "stream",
       "stream": "stdout",
       "text": [
        "\n",
        "Jim Curfman Jim Curfman jim@curfmanhome.com"
       ]
      },
      {
       "output_type": "stream",
       "stream": "stdout",
       "text": [
        "\n",
        "Aimee Sanders Aimee Sanders aplsanders@yahoo.com"
       ]
      },
      {
       "output_type": "stream",
       "stream": "stdout",
       "text": [
        "\n",
        "Brad Hanson Brad Hanson bradhanson09@yahoo.com"
       ]
      },
      {
       "output_type": "stream",
       "stream": "stdout",
       "text": [
        "\n",
        "Cliff Edens Cliff Edens edensfam@gmail.com"
       ]
      },
      {
       "output_type": "stream",
       "stream": "stdout",
       "text": [
        "\n",
        "Nikolai Gilroy Nikolai Gilroy nick@nickgilroy.com"
       ]
      },
      {
       "output_type": "stream",
       "stream": "stdout",
       "text": [
        "\n",
        "John Leach John Leach jleach71@gmail.com"
       ]
      },
      {
       "output_type": "stream",
       "stream": "stdout",
       "text": [
        "\n",
        "messer a messer a arndt.ma@gmail.com"
       ]
      },
      {
       "output_type": "stream",
       "stream": "stdout",
       "text": [
        "\n",
        "Dean Densmore Dean Densmore deandensmore@comcast.net"
       ]
      },
      {
       "output_type": "stream",
       "stream": "stdout",
       "text": [
        "\n",
        "Matt Onorato Matt Onorato onorato.matt@gmail.com"
       ]
      },
      {
       "output_type": "stream",
       "stream": "stdout",
       "text": [
        "\n",
        "Susan Kracklauer Susan Kracklauer susan@kracklauer.com"
       ]
      },
      {
       "output_type": "stream",
       "stream": "stdout",
       "text": [
        "\n",
        "John Cochenour John Cochenour johncoc@uwyo.edu"
       ]
      },
      {
       "output_type": "stream",
       "stream": "stdout",
       "text": [
        "\n",
        "Ken Tarvin ktarvin tarvinken@gmail.com"
       ]
      },
      {
       "output_type": "stream",
       "stream": "stdout",
       "text": [
        "\n",
        "John Turner J80538 turnerjh@gmail.com"
       ]
      },
      {
       "output_type": "stream",
       "stream": "stdout",
       "text": [
        "\n",
        "James Scotto James Scotto jmscotto@gmail.com"
       ]
      },
      {
       "output_type": "stream",
       "stream": "stdout",
       "text": [
        "\n",
        "James Newell jnewell james.b.newell@gmail.com"
       ]
      },
      {
       "output_type": "stream",
       "stream": "stdout",
       "text": [
        "\n",
        "Ileana Gutow IleGut ileana.gutow@gmail.com"
       ]
      },
      {
       "output_type": "stream",
       "stream": "stdout",
       "text": [
        "\n",
        "Chet Henry chet chet.0x.henry@gmail.com"
       ]
      },
      {
       "output_type": "stream",
       "stream": "stdout",
       "text": [
        "\n",
        "Scott Silver Scott Silver srsilver49@yahoo.com"
       ]
      },
      {
       "output_type": "stream",
       "stream": "stdout",
       "text": [
        "\n",
        "Michael Ton Michael Ton linuxham@gmail.com"
       ]
      },
      {
       "output_type": "stream",
       "stream": "stdout",
       "text": [
        "\n",
        "Adriana Mitchell Adriana Mitchell adrianatmi@aol.com"
       ]
      },
      {
       "output_type": "stream",
       "stream": "stdout",
       "text": [
        "\n",
        "Floyd Williams Floyd Williams floyd.williams.iii@gmail.com"
       ]
      },
      {
       "output_type": "stream",
       "stream": "stdout",
       "text": [
        "\n",
        "Bart Kiburz Bart Kiburz bkibu@yahoo.com"
       ]
      },
      {
       "output_type": "stream",
       "stream": "stdout",
       "text": [
        "\n",
        "Sarah Trimmer smtrimmer99 smtrimmer@gmail.com"
       ]
      },
      {
       "output_type": "stream",
       "stream": "stdout",
       "text": [
        "\n",
        "Mark Culver markpculver@gmail.com markpculver@gmail.com"
       ]
      },
      {
       "output_type": "stream",
       "stream": "stdout",
       "text": [
        "\n",
        "Ross Levin Ross Levin ross.levin@gmail.com"
       ]
      },
      {
       "output_type": "stream",
       "stream": "stdout",
       "text": [
        "\n",
        "Sue Levin Sue Levin slevin5033@gmail.com"
       ]
      },
      {
       "output_type": "stream",
       "stream": "stdout",
       "text": [
        "\n",
        "Diana Craig Diana Craig dlcraig@centurylink.net"
       ]
      },
      {
       "output_type": "stream",
       "stream": "stdout",
       "text": [
        "\n",
        "David Bump David Bump davidbump@gmail.com"
       ]
      },
      {
       "output_type": "stream",
       "stream": "stdout",
       "text": [
        "\n",
        "Scott Hatfield hatscott hatscott@comcast.net"
       ]
      },
      {
       "output_type": "stream",
       "stream": "stdout",
       "text": [
        "\n",
        "Angie Mitchell Angie Mitchell angicals@gmail.com"
       ]
      },
      {
       "output_type": "stream",
       "stream": "stdout",
       "text": [
        "\n",
        "Jerry  Huether  Northstar hot2jd@gmail.com"
       ]
      },
      {
       "output_type": "stream",
       "stream": "stdout",
       "text": [
        "\n",
        "Ned Harding Ned Harding ned@thehardings.org"
       ]
      },
      {
       "output_type": "stream",
       "stream": "stdout",
       "text": [
        "\n",
        "Alan Bucknam Alan Bucknam alan@notchcode.com"
       ]
      },
      {
       "output_type": "stream",
       "stream": "stdout",
       "text": [
        "\n",
        "Meredith Botnick Meredith Botnick meredith@wx5ab.net"
       ]
      },
      {
       "output_type": "stream",
       "stream": "stdout",
       "text": [
        "\n",
        "Matt Stone Matt Stone mstone@stonecover.com"
       ]
      },
      {
       "output_type": "stream",
       "stream": "stdout",
       "text": [
        "\n",
        "Anthony Ianni Anthony Ianni a.j.ianni@gmail.com"
       ]
      },
      {
       "output_type": "stream",
       "stream": "stdout",
       "text": [
        "\n",
        "Gary Koenig glk@ironmuscle.com glk@ironmuscle.com"
       ]
      },
      {
       "output_type": "stream",
       "stream": "stdout",
       "text": [
        "\n",
        "Karl Pelletier Karl Pelletier karlpell@gmail.com"
       ]
      },
      {
       "output_type": "stream",
       "stream": "stdout",
       "text": [
        "\n",
        "Stephen Berthe scberthe scberthe@hotmail.com"
       ]
      },
      {
       "output_type": "stream",
       "stream": "stdout",
       "text": [
        "\n",
        "Maria Graff Canyongal  mariaanngraff@gmail.com"
       ]
      },
      {
       "output_type": "stream",
       "stream": "stdout",
       "text": [
        "\n",
        "Ken Martinez Ken Martinez kmz2112@gmail.com"
       ]
      },
      {
       "output_type": "stream",
       "stream": "stdout",
       "text": [
        "\n",
        "Karen Hogan khogan.wp@gmail.com khogan.wp@gmail.com"
       ]
      },
      {
       "output_type": "stream",
       "stream": "stdout",
       "text": [
        "\n",
        "John Murtha JohnMurtha jmurtha@snet.net"
       ]
      },
      {
       "output_type": "stream",
       "stream": "stdout",
       "text": [
        "\n",
        "Lance Enholm Lance Enholm lanceenholm@me.com"
       ]
      },
      {
       "output_type": "stream",
       "stream": "stdout",
       "text": [
        "\n",
        "Virginia Dudley vdudley vdudley@hotmail.com"
       ]
      },
      {
       "output_type": "stream",
       "stream": "stdout",
       "text": [
        "\n",
        "Julia Quirk Julia Quirk julialquirk@yahoo.com"
       ]
      },
      {
       "output_type": "stream",
       "stream": "stdout",
       "text": [
        "\n",
        "Anthony McNeill mcneilan toclimb@live.com"
       ]
      },
      {
       "output_type": "stream",
       "stream": "stdout",
       "text": [
        "\n",
        "Mark Holman Mark Holman mhholman@gmail.com"
       ]
      },
      {
       "output_type": "stream",
       "stream": "stdout",
       "text": [
        "\n",
        "Diane Carter Diane Carter dianeccarter@gmail.com"
       ]
      },
      {
       "output_type": "stream",
       "stream": "stdout",
       "text": [
        "\n",
        "Ted Ray Ted Ray tray@mesanetworks.net"
       ]
      },
      {
       "output_type": "stream",
       "stream": "stdout",
       "text": [
        "\n",
        "Jonathan Whitwell Jonathanwhitwell jwhitwel@gmail.com"
       ]
      },
      {
       "output_type": "stream",
       "stream": "stdout",
       "text": [
        "\n",
        "josh talkington josh talkington evok82@q.com"
       ]
      },
      {
       "output_type": "stream",
       "stream": "stdout",
       "text": [
        "\n",
        "Martin Pipho Martin Pipho piphofam@gmail.com"
       ]
      },
      {
       "output_type": "stream",
       "stream": "stdout",
       "text": [
        "\n",
        "Garth McCann rider311 rider311@gmail.com"
       ]
      },
      {
       "output_type": "stream",
       "stream": "stdout",
       "text": [
        "\n",
        "Jon Wolff Jon Wolff jpwolffjr@hotmail.com"
       ]
      },
      {
       "output_type": "stream",
       "stream": "stdout",
       "text": [
        "\n",
        "Maynard Hershon Maynard mhershon@gmail.com"
       ]
      },
      {
       "output_type": "stream",
       "stream": "stdout",
       "text": [
        "\n",
        "Fred Glick innoabrd fred@innoabrd.com"
       ]
      },
      {
       "output_type": "stream",
       "stream": "stdout",
       "text": [
        "\n",
        "Vera Divenyi Vera Divenyi swiss_miss_v@yahoo.com"
       ]
      },
      {
       "output_type": "stream",
       "stream": "stdout",
       "text": [
        "\n",
        "leslie resnick lez rez leslie@8z.com"
       ]
      },
      {
       "output_type": "stream",
       "stream": "stdout",
       "text": [
        "\n",
        "Granger Kersten Granger Kersten grangerkersten@hotmail.com"
       ]
      },
      {
       "output_type": "stream",
       "stream": "stdout",
       "text": [
        "\n",
        "Kevin Williams nivekmw kmwilliams@gmail.com"
       ]
      },
      {
       "output_type": "stream",
       "stream": "stdout",
       "text": [
        "\n",
        "Clint Bickmore sbclint sbclint@lifeonthebike.com"
       ]
      },
      {
       "output_type": "stream",
       "stream": "stdout",
       "text": [
        "\n",
        "ian jardine ian jardine ijardine66@gmail.com"
       ]
      },
      {
       "output_type": "stream",
       "stream": "stdout",
       "text": [
        "\n",
        "Jennifer Flood Jennifer Flood playznmud@gmail.com"
       ]
      },
      {
       "output_type": "stream",
       "stream": "stdout",
       "text": [
        "\n",
        "Ed Wolph Ed Wolph ed_shop1@me.com"
       ]
      },
      {
       "output_type": "stream",
       "stream": "stdout",
       "text": [
        "\n",
        "Annie Fox Trifoxx trifoxx@yahoo.com"
       ]
      },
      {
       "output_type": "stream",
       "stream": "stdout",
       "text": [
        "\n",
        "Lindsey Reese Lindsey Reese lbauhofer@gmail.com"
       ]
      },
      {
       "output_type": "stream",
       "stream": "stdout",
       "text": [
        "\n",
        "Oriana Broderick Oriana Broderick orianabroderick5@gmail.com"
       ]
      },
      {
       "output_type": "stream",
       "stream": "stdout",
       "text": [
        "\n",
        "James Stevens James Stevens vitaminjnut@gmail.com"
       ]
      },
      {
       "output_type": "stream",
       "stream": "stdout",
       "text": [
        "\n",
        "Vicki Briner bri0825@outlook.com bri0825@outlook.com"
       ]
      },
      {
       "output_type": "stream",
       "stream": "stdout",
       "text": [
        "\n",
        "Susanna Snyder SuzyBeeQ susanna.snyder@gmail.com"
       ]
      },
      {
       "output_type": "stream",
       "stream": "stdout",
       "text": [
        "\n",
        "Chris Van Patten Chris Van Patten soulcatcher1996@yahoo.com"
       ]
      },
      {
       "output_type": "stream",
       "stream": "stdout",
       "text": [
        "\n",
        "Ken Jones Ken Jones strava.com@jonesland.net"
       ]
      },
      {
       "output_type": "stream",
       "stream": "stdout",
       "text": [
        "\n",
        "Jim Turpin Jim Turpin spam@jimturpin.com"
       ]
      },
      {
       "output_type": "stream",
       "stream": "stdout",
       "text": [
        "\n",
        "Allan Franklin franklia Allan.Franklin@colorado.edu"
       ]
      },
      {
       "output_type": "stream",
       "stream": "stdout",
       "text": [
        "\n",
        "Katie Macarelli Katie Macarelli katie.macarelli@gmail.com"
       ]
      },
      {
       "output_type": "stream",
       "stream": "stdout",
       "text": [
        "\n",
        "Kathy Placchi KathyP yetifreak47@yahoo.com"
       ]
      },
      {
       "output_type": "stream",
       "stream": "stdout",
       "text": [
        "\n",
        "Amanda Stone Amanda Stone amanda.g.stone@gmail.com"
       ]
      },
      {
       "output_type": "stream",
       "stream": "stdout",
       "text": [
        "\n",
        "karen allison karen allison kariejo5@yahoo.com"
       ]
      },
      {
       "output_type": "stream",
       "stream": "stdout",
       "text": [
        "\n",
        "Heather Wilkerson Heather Wilkerson hwilkerson55@gmail.com"
       ]
      },
      {
       "output_type": "stream",
       "stream": "stdout",
       "text": [
        "\n",
        "Gypsy Garcia Gypsy Garcia birkenstock2733@gmail.com"
       ]
      },
      {
       "output_type": "stream",
       "stream": "stdout",
       "text": [
        "\n",
        "DAVID WILLIAMS Ylekiot . ylekiot9@gmail.com"
       ]
      },
      {
       "output_type": "stream",
       "stream": "stdout",
       "text": [
        "\n",
        "Steven Stefko Steven Stefko stefkotele@hotmail.com"
       ]
      },
      {
       "output_type": "stream",
       "stream": "stdout",
       "text": [
        "\n",
        "Rob Horn Rob Horn dohc_ek@yahoo.com"
       ]
      },
      {
       "output_type": "stream",
       "stream": "stdout",
       "text": [
        "\n",
        "Terrance Ramirez Terrance Ramirez tmramirez@hotmail.com"
       ]
      },
      {
       "output_type": "stream",
       "stream": "stdout",
       "text": [
        "\n",
        "Tea C | Multisport Mastery Tea C | Multisport Mastery teriziatea@gmail.com"
       ]
      },
      {
       "output_type": "stream",
       "stream": "stdout",
       "text": [
        "\n",
        "Randy Hodson Randy Hodson rlhodson@yahoo.com"
       ]
      },
      {
       "output_type": "stream",
       "stream": "stdout",
       "text": [
        "\n",
        "Sammy Rutherford Sammy Rutherford srclimb1@hotmail.com"
       ]
      },
      {
       "output_type": "stream",
       "stream": "stdout",
       "text": [
        "\n",
        "Diane Pappas Diane Pappas diane.pappas@gmail.com"
       ]
      },
      {
       "output_type": "stream",
       "stream": "stdout",
       "text": [
        "\n",
        "Laura Beth Lincoln Laura Beth Lincoln facebook@elblinkin.info"
       ]
      },
      {
       "output_type": "stream",
       "stream": "stdout",
       "text": [
        "\n",
        "Maria Graff Maria Graff mariaanngraff@gmail.com"
       ]
      },
      {
       "output_type": "stream",
       "stream": "stdout",
       "text": [
        "\n",
        "Devin Quince Devin Quince coultraguy@gmail.com"
       ]
      },
      {
       "output_type": "stream",
       "stream": "stdout",
       "text": [
        "\n",
        "Doug Hudson Doug Hudson doug.hudson1@gmail.com"
       ]
      },
      {
       "output_type": "stream",
       "stream": "stdout",
       "text": [
        "\n",
        "Ben Mulvaney Ben Mulvaney benjamin.mulvaney@juno.com"
       ]
      },
      {
       "output_type": "stream",
       "stream": "stdout",
       "text": [
        "\n",
        "Heath Meyer Heath Meyer hhmeyer23@yahoo.com"
       ]
      },
      {
       "output_type": "stream",
       "stream": "stdout",
       "text": [
        "\n",
        "Jay Davis Jay Davis jayzdavisz@gmail.com"
       ]
      },
      {
       "output_type": "stream",
       "stream": "stdout",
       "text": [
        "\n",
        "Erin Witter Erin Witter erinwitter@gmail.com"
       ]
      },
      {
       "output_type": "stream",
       "stream": "stdout",
       "text": [
        "\n",
        "steven wens steven wens bkeepr64@yahoo.com"
       ]
      },
      {
       "output_type": "stream",
       "stream": "stdout",
       "text": [
        "\n",
        "rick abbott rick abbott rabbott47@gmail.com"
       ]
      },
      {
       "output_type": "stream",
       "stream": "stdout",
       "text": [
        "\n",
        "David Dungan David Dungan d.dungan@me.com"
       ]
      },
      {
       "output_type": "stream",
       "stream": "stdout",
       "text": [
        "\n",
        "Laura Pyle Laura Pyle laurapyle@gmail.com"
       ]
      },
      {
       "output_type": "stream",
       "stream": "stdout",
       "text": [
        "\n",
        "Brian Bruggeman Brian Bruggeman brbruggeman@gmail.com"
       ]
      },
      {
       "output_type": "stream",
       "stream": "stdout",
       "text": [
        "\n",
        "Simon Pendleton Simon Pendleton simon.pendleton@gmail.com"
       ]
      },
      {
       "output_type": "stream",
       "stream": "stdout",
       "text": [
        "\n",
        "Hank Buckingham Hank Buckingham bucko.ski@gmail.com"
       ]
      },
      {
       "output_type": "stream",
       "stream": "stdout",
       "text": [
        "\n",
        "Jason Martin Jason Martin jason2974@sbcglobal.net"
       ]
      },
      {
       "output_type": "stream",
       "stream": "stdout",
       "text": [
        "\n",
        "Tony Fuller Tony Fuller tonyfuller@mac.com"
       ]
      },
      {
       "output_type": "stream",
       "stream": "stdout",
       "text": [
        "\n",
        "Eric Coppock Eric Coppock eric.coppock@gmail.com"
       ]
      },
      {
       "output_type": "stream",
       "stream": "stdout",
       "text": [
        "\n",
        "Michael Nightingale Michael Nightingale mikednight@gmail.com"
       ]
      },
      {
       "output_type": "stream",
       "stream": "stdout",
       "text": [
        "\n",
        "Nicole (Kiki) Silver NKS rutkon2002@yahoo.com"
       ]
      },
      {
       "output_type": "stream",
       "stream": "stdout",
       "text": [
        "\n",
        "Mark Lopez Mark Lopez mark.lopez@mdlisvcs.com"
       ]
      },
      {
       "output_type": "stream",
       "stream": "stdout",
       "text": [
        "\n",
        "Craig Yonkers Craig Yonkers yonkonian@gmail.com"
       ]
      },
      {
       "output_type": "stream",
       "stream": "stdout",
       "text": [
        "\n",
        "Justin Soffer Justin Soffer justin.soffer@gmail.com"
       ]
      },
      {
       "output_type": "stream",
       "stream": "stdout",
       "text": [
        "\n",
        "Matt Bolkovatz Matt Bolkovatz mbolkovatz@niteize.com"
       ]
      },
      {
       "output_type": "stream",
       "stream": "stdout",
       "text": [
        "\n",
        "beth fisk beth fisk beefiskone@hotmail.com"
       ]
      },
      {
       "output_type": "stream",
       "stream": "stdout",
       "text": [
        "\n",
        "Mike Petersen Cycling Pete mike_soilsguy@yahoo.com"
       ]
      },
      {
       "output_type": "stream",
       "stream": "stdout",
       "text": [
        "\n",
        "Scott Thurston Scott Thurston scott.thurston@gmail.com"
       ]
      },
      {
       "output_type": "stream",
       "stream": "stdout",
       "text": [
        "\n",
        "John Beechen John Beechen jbeechen@gmail.com"
       ]
      },
      {
       "output_type": "stream",
       "stream": "stdout",
       "text": [
        "\n",
        "Sam Doniach Sam Doniach sdoniach@gmail.com"
       ]
      },
      {
       "output_type": "stream",
       "stream": "stdout",
       "text": [
        "\n",
        "Will Vazquez Will Vazquez wjvazquez@gmail.com"
       ]
      },
      {
       "output_type": "stream",
       "stream": "stdout",
       "text": [
        "\n",
        "Alan Podczervinski Alan Podczervinski podman5000@gmail.com"
       ]
      },
      {
       "output_type": "stream",
       "stream": "stdout",
       "text": [
        "\n",
        "Travis Murtha Travis Murtha tmurtha96@gmail.com"
       ]
      },
      {
       "output_type": "stream",
       "stream": "stdout",
       "text": [
        "\n",
        "Paul Stone paulstone paul.jacob.stone@gmail.com"
       ]
      },
      {
       "output_type": "stream",
       "stream": "stdout",
       "text": [
        "\n",
        "Tim Rady Tim Rady onedoubles@hotmail.com"
       ]
      },
      {
       "output_type": "stream",
       "stream": "stdout",
       "text": [
        "\n",
        "Neil Schirmer Neil Schirmer schirm@gmail.com"
       ]
      },
      {
       "output_type": "stream",
       "stream": "stdout",
       "text": [
        "\n",
        "Tyler Dunn Tyler Dunn tyler.dunn05@gmail.com"
       ]
      },
      {
       "output_type": "stream",
       "stream": "stdout",
       "text": [
        "\n",
        "Pete Fox Pete Fox foxep2001@yahoo.com"
       ]
      },
      {
       "output_type": "stream",
       "stream": "stdout",
       "text": [
        "\n",
        "Will Allen Will Allen williama3@hotmail.com"
       ]
      },
      {
       "output_type": "stream",
       "stream": "stdout",
       "text": [
        "\n",
        "Paul Murchison pmurchison@hotmail.com pmurchison@hotmail.com"
       ]
      },
      {
       "output_type": "stream",
       "stream": "stdout",
       "text": [
        "\n",
        "David Newman David Newman davidvnewman@earthlink.net"
       ]
      },
      {
       "output_type": "stream",
       "stream": "stdout",
       "text": [
        "\n",
        "Eileen Malloy eileenmalloy eileenmalloy@mac.com"
       ]
      },
      {
       "output_type": "stream",
       "stream": "stdout",
       "text": [
        "\n",
        "Scott Fliegelman scottfliegs scottfliegs@me.com"
       ]
      },
      {
       "output_type": "stream",
       "stream": "stdout",
       "text": [
        "\n",
        "Clinton Waara Clinton Waara jumpingeagle@live.com"
       ]
      },
      {
       "output_type": "stream",
       "stream": "stdout",
       "text": [
        "\n",
        "Steve Ressler Steve Ressler esdeeare67@yahoo.com"
       ]
      },
      {
       "output_type": "stream",
       "stream": "stdout",
       "text": [
        "\n",
        "Chad Miller Chad Miller chadwmiller@yahoo.com"
       ]
      },
      {
       "output_type": "stream",
       "stream": "stdout",
       "text": [
        "\n",
        "Elizabeth Fliegelman Lizfliegs Lizswain@yahoo.com"
       ]
      },
      {
       "output_type": "stream",
       "stream": "stdout",
       "text": [
        "\n",
        "Matt Harlow Matt Harlow matthewharlow@gmail.com"
       ]
      },
      {
       "output_type": "stream",
       "stream": "stdout",
       "text": [
        "\n",
        "Chris L Chris L christopher.leeds@lmco.com"
       ]
      },
      {
       "output_type": "stream",
       "stream": "stdout",
       "text": [
        "\n",
        "David Purfurst David Purfurst dave.purfurst@gmail.com"
       ]
      },
      {
       "output_type": "stream",
       "stream": "stdout",
       "text": [
        "\n",
        "Tom Keller Tom Keller tom@tkeller.com"
       ]
      },
      {
       "output_type": "stream",
       "stream": "stdout",
       "text": [
        "\n",
        "Dave Ratcliff Dave Ratcliff david.ratcliff@qepres.com"
       ]
      },
      {
       "output_type": "stream",
       "stream": "stdout",
       "text": [
        "\n",
        "John  Foster John  Foster jfoster@cpv.com"
       ]
      },
      {
       "output_type": "stream",
       "stream": "stdout",
       "text": [
        "\n",
        "Mark Hallstrom Mark Hallstrom mark@steloyusa.com"
       ]
      },
      {
       "output_type": "stream",
       "stream": "stdout",
       "text": [
        "\n",
        "Claire Robertson Claire Robertson crrobertson@hotmail.co.uk"
       ]
      },
      {
       "output_type": "stream",
       "stream": "stdout",
       "text": [
        "\n",
        "Gale Bernhardt Gale Bernhardt gale@galebernhardt.com"
       ]
      },
      {
       "output_type": "stream",
       "stream": "stdout",
       "text": [
        "\n",
        "Jerry Nichols Jerry Nichols jerrynichols76@gmail.com"
       ]
      },
      {
       "output_type": "stream",
       "stream": "stdout",
       "text": [
        "\n",
        "Stephen Parker Stephen Parker sparker@bidatatech.com"
       ]
      },
      {
       "output_type": "stream",
       "stream": "stdout",
       "text": [
        "\n",
        "Trent Norris Trent Norris trenton.norris@gmail.com"
       ]
      },
      {
       "output_type": "stream",
       "stream": "stdout",
       "text": [
        "\n",
        "Gleb Oleinik Gleb Oleinik gleb.oleinik@gmail.com"
       ]
      },
      {
       "output_type": "stream",
       "stream": "stdout",
       "text": [
        "\n",
        "Tom Lee Tom Lee tommlee@mac.com"
       ]
      },
      {
       "output_type": "stream",
       "stream": "stdout",
       "text": [
        "\n",
        "Craig Daugherty Craig Daugherty daugherc@gmail.com"
       ]
      },
      {
       "output_type": "stream",
       "stream": "stdout",
       "text": [
        "\n",
        "Scott Briggs Scott Briggs sbriggs283@gmail.com"
       ]
      },
      {
       "output_type": "stream",
       "stream": "stdout",
       "text": [
        "\n",
        "Frankie Corritore SK1 speedkings1@hotmail.com"
       ]
      },
      {
       "output_type": "stream",
       "stream": "stdout",
       "text": [
        "\n",
        "Andrew Hurry Andrew Hurry andrew@hurryconsult.com"
       ]
      },
      {
       "output_type": "stream",
       "stream": "stdout",
       "text": [
        "\n",
        "Mindy Gehrs mindygehrs mindygehrs@q.com"
       ]
      },
      {
       "output_type": "stream",
       "stream": "stdout",
       "text": [
        "\n",
        "Amar V Amar V amar.vattakandy@gmail.com"
       ]
      },
      {
       "output_type": "stream",
       "stream": "stdout",
       "text": [
        "\n",
        "David Binkowski David Binkowski thinkbink1@gmail.com"
       ]
      },
      {
       "output_type": "stream",
       "stream": "stdout",
       "text": [
        "\n",
        "Molly Van Rheen Molly Van Rheen mollyvanrheen@gmail.com"
       ]
      },
      {
       "output_type": "stream",
       "stream": "stdout",
       "text": [
        "\n",
        "Greg Sturr Greg Sturr gregory.sturr@gmail.com"
       ]
      },
      {
       "output_type": "stream",
       "stream": "stdout",
       "text": [
        "\n",
        "Tom Hootman Tom Hootman trhootman@gmail.com"
       ]
      },
      {
       "output_type": "stream",
       "stream": "stdout",
       "text": [
        "\n",
        "W B W B willbashan@gmail.com"
       ]
      },
      {
       "output_type": "stream",
       "stream": "stdout",
       "text": [
        "\n",
        "Ben Parman Ben Parman benparman@gmail.com"
       ]
      },
      {
       "output_type": "stream",
       "stream": "stdout",
       "text": [
        "\n",
        "Rick Tillery Rick Tillery rick.tillery@gmail.com"
       ]
      },
      {
       "output_type": "stream",
       "stream": "stdout",
       "text": [
        "\n",
        "Ariana Schiff Ariana Schiff arianaschiff@hotmail.com"
       ]
      },
      {
       "output_type": "stream",
       "stream": "stdout",
       "text": [
        "\n",
        "Roger Funk RFunk revfunk242@gmail.com"
       ]
      },
      {
       "output_type": "stream",
       "stream": "stdout",
       "text": [
        "\n",
        "don russell shtbird dlr@rmi.com"
       ]
      },
      {
       "output_type": "stream",
       "stream": "stdout",
       "text": [
        "\n",
        "alan bernstein alan bernstein alandbernstein@gmail.com"
       ]
      },
      {
       "output_type": "stream",
       "stream": "stdout",
       "text": [
        "\n",
        "Peter Lyddon peter lyddon peter.lyddon423@gmail.com"
       ]
      },
      {
       "output_type": "stream",
       "stream": "stdout",
       "text": [
        "\n",
        "Mike Walsh Mike Walsh mwalsh23@mac.com"
       ]
      },
      {
       "output_type": "stream",
       "stream": "stdout",
       "text": [
        "\n",
        "Fernando Rebora Fernando Rebora fernando.rebora@gmail.com"
       ]
      },
      {
       "output_type": "stream",
       "stream": "stdout",
       "text": [
        "\n",
        "James Lowe James Lowe browsemymail@gmail.com"
       ]
      },
      {
       "output_type": "stream",
       "stream": "stdout",
       "text": [
        "\n",
        "Kenneth Reardon kfr kfreardon@mac.com"
       ]
      },
      {
       "output_type": "stream",
       "stream": "stdout",
       "text": [
        "\n",
        "Brian Hood Brian Hood brianbhood@gmail.com"
       ]
      },
      {
       "output_type": "stream",
       "stream": "stdout",
       "text": [
        "\n",
        "Justin TerAvest Justin TerAvest mjterave@gmail.com"
       ]
      },
      {
       "output_type": "stream",
       "stream": "stdout",
       "text": [
        "\n",
        "Brian Hartley Brian Hartley brutus_hartley@yahoo.com"
       ]
      },
      {
       "output_type": "stream",
       "stream": "stdout",
       "text": [
        "\n",
        "Dan Adams Dan Adams dadams95959@hotmail.com"
       ]
      },
      {
       "output_type": "stream",
       "stream": "stdout",
       "text": [
        "\n",
        "Neil Popovich Neil Popovich neilapopovich@hotmail.com"
       ]
      },
      {
       "output_type": "stream",
       "stream": "stdout",
       "text": [
        "\n",
        "\n",
        "\n",
        "644 users in the incident zone\n",
        "sending emails\n",
        "\n",
        "emailing: nickstengl@yahoo.com\n",
        "emailing: chrisjustincase@gmail.com"
       ]
      },
      {
       "output_type": "stream",
       "stream": "stdout",
       "text": [
        "\n",
        "emailing: rpremus@yahoo.com"
       ]
      },
      {
       "output_type": "stream",
       "stream": "stdout",
       "text": [
        "\n",
        "emailing: cmuth67@yahoo.com"
       ]
      },
      {
       "output_type": "stream",
       "stream": "stdout",
       "text": [
        "\n",
        "emailing: daletriley@gmail.com"
       ]
      },
      {
       "output_type": "stream",
       "stream": "stdout",
       "text": [
        "\n",
        "emailing: dmastroi@yahoo.com"
       ]
      },
      {
       "output_type": "stream",
       "stream": "stdout",
       "text": [
        "\n",
        "emailing: ernest.ezis@gmail.com"
       ]
      },
      {
       "output_type": "stream",
       "stream": "stdout",
       "text": [
        "\n",
        "emailing: logan.brooks@snc.edu"
       ]
      },
      {
       "output_type": "stream",
       "stream": "stdout",
       "text": [
        "\n",
        "emailing: ericbudd@gmail.com"
       ]
      },
      {
       "output_type": "stream",
       "stream": "stdout",
       "text": [
        "\n",
        "emailing: jstewarthill@gmail.com"
       ]
      },
      {
       "output_type": "stream",
       "stream": "stdout",
       "text": [
        "\n",
        "emailing: sqwk77@aol.com"
       ]
      },
      {
       "output_type": "stream",
       "stream": "stdout",
       "text": [
        "\n",
        "emailing: johanne@bikerider.com"
       ]
      },
      {
       "output_type": "stream",
       "stream": "stdout",
       "text": [
        "\n",
        "emailing: ejbrand12@gmail.com"
       ]
      },
      {
       "output_type": "stream",
       "stream": "stdout",
       "text": [
        "\n",
        "emailing: jstewarthill@gmail.com"
       ]
      },
      {
       "output_type": "stream",
       "stream": "stdout",
       "text": [
        "\n",
        "emailing: ernest.ezis@gmail.com"
       ]
      },
      {
       "output_type": "stream",
       "stream": "stdout",
       "text": [
        "\n",
        "emailing: davefitz4@gmail.com"
       ]
      },
      {
       "output_type": "stream",
       "stream": "stdout",
       "text": [
        "\n",
        "emailing: gibson.steve@gmail.com"
       ]
      },
      {
       "output_type": "stream",
       "stream": "stdout",
       "text": [
        "\n",
        "emailing: kris@303cycling.com"
       ]
      },
      {
       "output_type": "stream",
       "stream": "stdout",
       "text": [
        "\n",
        "emailing: kellawj@gmail.com"
       ]
      },
      {
       "output_type": "stream",
       "stream": "stdout",
       "text": [
        "\n",
        "emailing: chdg@indra.com"
       ]
      },
      {
       "output_type": "stream",
       "stream": "stdout",
       "text": [
        "\n",
        "emailing: mmoir@pigseye.com"
       ]
      },
      {
       "output_type": "stream",
       "stream": "stdout",
       "text": [
        "\n",
        "emailing: billgarrels@gmail.com"
       ]
      },
      {
       "output_type": "stream",
       "stream": "stdout",
       "text": [
        "\n",
        "emailing: wcplock@msn.com"
       ]
      },
      {
       "output_type": "stream",
       "stream": "stdout",
       "text": [
        "\n",
        "emailing: jbitzan@gmail.com"
       ]
      },
      {
       "output_type": "stream",
       "stream": "stdout",
       "text": [
        "\n",
        "emailing: kennettpeterson@gmail.com"
       ]
      },
      {
       "output_type": "stream",
       "stream": "stdout",
       "text": [
        "\n",
        "emailing: lemay.chris@gmail.com"
       ]
      },
      {
       "output_type": "stream",
       "stream": "stdout",
       "text": [
        "\n",
        "emailing: colbypearce@mac.com"
       ]
      },
      {
       "output_type": "stream",
       "stream": "stdout",
       "text": [
        "\n",
        "emailing: aeroarrow@gmail.com"
       ]
      },
      {
       "output_type": "stream",
       "stream": "stdout",
       "text": [
        "\n",
        "emailing: allin825@comcast.net"
       ]
      },
      {
       "output_type": "stream",
       "stream": "stdout",
       "text": [
        "\n",
        "emailing: g.harty@comcast.net"
       ]
      },
      {
       "output_type": "stream",
       "stream": "stdout",
       "text": [
        "\n",
        "emailing: gray8110@gmail.com"
       ]
      },
      {
       "output_type": "stream",
       "stream": "stdout",
       "text": [
        "\n",
        "emailing: rachelbeisel@gmail.com"
       ]
      },
      {
       "output_type": "stream",
       "stream": "stdout",
       "text": [
        "\n",
        "emailing: taadow182@hotmail.com"
       ]
      },
      {
       "output_type": "stream",
       "stream": "stdout",
       "text": [
        "\n",
        "emailing: csu_hickey@yahoo.com"
       ]
      },
      {
       "output_type": "stream",
       "stream": "stdout",
       "text": [
        "\n",
        "emailing: ericbudd@gmail.com"
       ]
      },
      {
       "output_type": "stream",
       "stream": "stdout",
       "text": [
        "\n",
        "emailing: mcollins52@comcast.net"
       ]
      },
      {
       "output_type": "stream",
       "stream": "stdout",
       "text": [
        "\n",
        "emailing: mcollins52@comcast.net"
       ]
      },
      {
       "output_type": "stream",
       "stream": "stdout",
       "text": [
        "\n",
        "emailing: rick@experienceplus.com"
       ]
      },
      {
       "output_type": "stream",
       "stream": "stdout",
       "text": [
        "\n",
        "emailing: geoffreymina@gmail.com"
       ]
      },
      {
       "output_type": "stream",
       "stream": "stdout",
       "text": [
        "\n",
        "emailing: wstaab@hotmail.com"
       ]
      },
      {
       "output_type": "stream",
       "stream": "stdout",
       "text": [
        "\n",
        "emailing: tomjazz72741@yahoo.com"
       ]
      },
      {
       "output_type": "stream",
       "stream": "stdout",
       "text": [
        "\n",
        "emailing: goneaway@gmail.com"
       ]
      },
      {
       "output_type": "stream",
       "stream": "stdout",
       "text": [
        "\n",
        "emailing: twogs42@msn.com"
       ]
      },
      {
       "output_type": "stream",
       "stream": "stdout",
       "text": [
        "\n",
        "emailing: llantolec@gmail.com"
       ]
      },
      {
       "output_type": "stream",
       "stream": "stdout",
       "text": [
        "\n",
        "emailing: tbiggi@outlook.com"
       ]
      },
      {
       "output_type": "stream",
       "stream": "stdout",
       "text": [
        "\n",
        "emailing: saraadelaide@gmail.com"
       ]
      },
      {
       "output_type": "stream",
       "stream": "stdout",
       "text": [
        "\n",
        "emailing: arnoldcf@gmail.com"
       ]
      },
      {
       "output_type": "stream",
       "stream": "stdout",
       "text": [
        "\n",
        "emailing: pryhoda@gmail.com"
       ]
      },
      {
       "output_type": "stream",
       "stream": "stdout",
       "text": [
        "\n",
        "emailing: chris@mynewera.com"
       ]
      },
      {
       "output_type": "stream",
       "stream": "stdout",
       "text": [
        "\n",
        "emailing: christine.webb@gmail.com"
       ]
      },
      {
       "output_type": "stream",
       "stream": "stdout",
       "text": [
        "\n",
        "emailing: zinn.emily@gmail.com"
       ]
      },
      {
       "output_type": "stream",
       "stream": "stdout",
       "text": [
        "\n",
        "emailing: aplsanders@yahoo.com"
       ]
      },
      {
       "output_type": "stream",
       "stream": "stdout",
       "text": [
        "\n",
        "emailing: david42@q.com"
       ]
      },
      {
       "output_type": "stream",
       "stream": "stdout",
       "text": [
        "\n",
        "emailing: scottbchristopher@gmail.com"
       ]
      },
      {
       "output_type": "stream",
       "stream": "stdout",
       "text": [
        "\n",
        "emailing: jrobinson@fullersir.com"
       ]
      },
      {
       "output_type": "stream",
       "stream": "stdout",
       "text": [
        "\n",
        "emailing: kingshorthair@gmail.com"
       ]
      },
      {
       "output_type": "stream",
       "stream": "stdout",
       "text": [
        "\n",
        "emailing: mikespykerman@gmail.com"
       ]
      },
      {
       "output_type": "stream",
       "stream": "stdout",
       "text": [
        "\n",
        "emailing: majhanc@comcast.net"
       ]
      },
      {
       "output_type": "stream",
       "stream": "stdout",
       "text": [
        "\n",
        "emailing: jjberry99@gmail.com"
       ]
      },
      {
       "output_type": "stream",
       "stream": "stdout",
       "text": [
        "\n",
        "emailing: katurner201@gmail.com"
       ]
      },
      {
       "output_type": "stream",
       "stream": "stdout",
       "text": [
        "\n",
        "emailing: bellaoleksy@gmail.com"
       ]
      },
      {
       "output_type": "stream",
       "stream": "stdout",
       "text": [
        "\n",
        "emailing: agwills86@gmail.com"
       ]
      },
      {
       "output_type": "stream",
       "stream": "stdout",
       "text": [
        "\n",
        "emailing: link.brian@gmail.com"
       ]
      },
      {
       "output_type": "stream",
       "stream": "stdout",
       "text": [
        "\n",
        "emailing: errinvito@gmail.com"
       ]
      },
      {
       "output_type": "stream",
       "stream": "stdout",
       "text": [
        "\n",
        "emailing: akitoproductions@gmail.com"
       ]
      },
      {
       "output_type": "stream",
       "stream": "stdout",
       "text": [
        "\n",
        "emailing: sam_anderson@comcast.net"
       ]
      }
     ]
    },
    {
     "cell_type": "code",
     "collapsed": false,
     "input": [],
     "language": "python",
     "metadata": {},
     "outputs": []
    }
   ],
   "metadata": {}
  }
 ]
}