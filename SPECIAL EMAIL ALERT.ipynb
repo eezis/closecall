{
 "metadata": {
  "name": "",
  "signature": "sha256:6fa0b04fbdf2d4dd99a1207197ee33020a5b5ffe760383045a853badb610f4c0"
 },
 "nbformat": 3,
 "nbformat_minor": 0,
 "worksheets": [
  {
   "cells": [
    {
     "cell_type": "code",
     "collapsed": false,
     "input": [
      "\"\"\"\n",
      "\n",
      "Create an incident in the area where the issue has occurred.\n",
      "\n",
      "Change the incident id and radius.\n",
      "\n",
      "Set Testing = True to test the message, \n",
      "\n",
      "Set Testing = False to send the message,\n",
      "\n",
      "then be sure to set Testing back to True.\n",
      "\n",
      "\"\"\"\n",
      "\n",
      "import sys\n",
      "sys.path.append(\"/Users/eae/code/sites/closecall\")\n",
      "sys.path.append(\"/Users/eae/.virtualenvs/closecall/lib/python2.7/site-packages\")\n",
      "sys.path.append(\"/home/eezis/sites/closecall\")\n",
      "sys.path.append(\"/home/eezis/sites/closecall/closecall\")\n",
      "sys.path.append(\"/home/eezis/.virtualenvs/closecall/bin/python2.7/site-packages\")\n",
      "\n",
      "import os\n",
      "os.environ['DJANGO_SETTINGS_MODULE'] = 'closecall.settings'\n",
      "import django\n",
      "django.setup()\n",
      "\n",
      "import datetime\n",
      "# import requests\n",
      "\n",
      "from users.models import UserProfile\n",
      "from incident.models import Incident\n",
      "from core.utils import distance_between_geocoded_points\n",
      "from core.views import send_incident_notification\n",
      "from django.contrib.auth.models import User\n",
      "\n",
      "INCIDENT_ID = 226\n",
      "# TWEAK THE INCIDENT_ID CONSTANT UP TOP!\n",
      "TESTING = True\n",
      "MAIL_TO_EE = True\n",
      "# Radius = 20\n",
      "# Radius = 30\n",
      "Radius = 60\n",
      "\n",
      "subject = \"Close Call Database - SPECIAL ALERT\"\n",
      "\n",
      "msg = \"\"\"\n",
      "As many of you know, it seems that there has been a random shooter in the Loveland, CO area. Law enforcement now has a 'vehicle of interest' and they are seeking help from the public. There is a reward for information.\n",
      "\n",
      "While this is not a typical \"close call\", cyclists cover a lot of miles, see a lot of vehicles, and often have detailed local knowledge. So I thought I would send an email alert and specifically ask all registered cyclists within 60 miles of Loveland to keep a lookout for this vehicle. Call police if you see it.\n",
      "\n",
      "The task force tip line number is 970-498-5595 and their e-mail is taskforce@larimer.org\n",
      "\n",
      "Here is a link with an artists rendition of the vehicle: http://www.dailycamera.com/news/ci_28364494/northern-colorado-shooting-task-force-release-new-information\n",
      "\n",
      "You may wish to share this information with other cyclists, particularly if they ride in the area around Loveland, Carter Lake, Milliken, etc.\n",
      "\n",
      "Ride Safely,\n",
      "\n",
      "Ernest Ezis\n",
      "\n",
      "Close Call Database\n",
      "\n",
      "@closecalldb\n",
      "\"\"\"\n",
      "\n",
      "HTML_msg = \"\"\"\n",
      "<p>\n",
      "As many of you know, it seems that there has been a random shooter in the Loveland, CO area. Law enforcement now has a 'vehicle of interest' and they are seeking help from the public. There is a reward for information.\n",
      "</p>\n",
      "\n",
      "<p>\n",
      "While this is not a typical \"close call\", cyclists cover a lot of miles, see a lot of vehicles, and often have detailed local knowledge. So I thought I would send an email alert and specifically ask all registered cyclists within 60 miles of Loveland to keep a lookout for this vehicle.  \n",
      "</p>\n",
      "\n",
      "<p>\n",
      "The task force tip line number is 970-498-5595 and their e-mail is taskforce@larimer.org\n",
      "</p>\n",
      "\n",
      "<p>\n",
      "Here is a link with an artists rendition of the vehicle: http://www.dailycamera.com/news/ci_28364494/northern-colorado-shooting-task-force-release-new-information\n",
      "</p>\n",
      "\n",
      "<p>\n",
      "You may wish to share this information with other cyclists, particularly if they ride in the area around Loveland, Carter Lake, Milliken, etc.\n",
      "</p>\n",
      "\n",
      "<p>\n",
      "Ride Safely,\n",
      "</p>\n",
      "\n",
      "<p><br />\n",
      "Ernest Ezis<br />\n",
      "<a href=\"http://closecalldatabase.com\">Close Call Database</a>\n",
      "<br /><br />\n",
      "<a href=\"https://twitter.com/closecalldb\" class=\"twitter-follow-button\" data-show-count=\"false\"><img src=\"http://closecalldatabase.com/static/images/followclosecalldb.png\"></a>\n",
      "<script>!function(d,s,id){var js,fjs=d.getElementsByTagName(s)[0],p=/^http:/.test(d.location)?'http':'https';if(!d.getElementById(id)){js=d.createElement(s);js.id=id;js.src=p+'://platform.twitter.com/widgets.js';fjs.parentNode.insertBefore(js,fjs);}}(document, 'script', 'twitter-wjs');</script>\n",
      "&nbsp;&nbsp;&nbsp;\n",
      "<br /> <br />\n",
      "<a href=\"https://twitter.com/eezis\" class=\"twitter-follow-button\" data-show-count=\"false\"><img src=\"http://closecalldatabase.com/static/images/followeezis.png\"></a>\n",
      "<script>!function(d,s,id){var js,fjs=d.getElementsByTagName(s)[0],p=/^http:/.test(d.location)?'http':'https';if(!d.getElementById(id)){js=d.createElement(s);js.id=id;js.src=p+'://platform.twitter.com/widgets.js';fjs.parentNode.insertBefore(js,fjs);}}(document, 'script', 'twitter-wjs');</script>\n",
      "&nbsp;&nbsp;&nbsp;\n",
      "</p>\n",
      "\"\"\"\n",
      "\n",
      "msg = msg.replace('#INCIDENT_ID#', str(INCIDENT_ID))\n",
      "HTML_msg = HTML_msg.replace('#INCIDENT_ID#', str(INCIDENT_ID))\n",
      "\n",
      "# sets the email_sent field to True\n",
      "# records the text of the email message that was sent out\n",
      "def update_incident_model_with_email_facts(incident_id, email_message):\n",
      "    i = Incident.objects.get(id=incident_id)\n",
      "    i.email_sent = True\n",
      "    i.email_text = email_message\n",
      "    i.email_sent_on = datetime.datetime.now()\n",
      "    i.save()\n",
      "\n",
      "\n",
      "def get_users_close_to_incident(incident_id, radius=60):\n",
      "    # get the incident\n",
      "    i = Incident.objects.get(id=incident_id)\n",
      "    if i.email_sent:\n",
      "        print \"\\n\\r Email Flag is set, has this incident has already been emailed out???\\n\\r\\n\\r\"\n",
      "        raise Exception(\"This incident has already been emailed out???\")\n",
      "\n",
      "\n",
      "    # create a list object to store the users that will get alerts for this incident\n",
      "    matched_users = []\n",
      "    # we want to search the full universe of users that agreed to get email alerts\n",
      "    U = UserProfile.objects.filter(email_incidents=True)\n",
      "    for u in U:\n",
      "        # get user's lat and lon\n",
      "        u_lat, u_lon = u.get_lat_lon()\n",
      "        # if the user is within the given radius of the incident, add them to the list of  matched users\n",
      "        if distance_between_geocoded_points(u_lat, u_lon, i.position.latitude, i.position.longitude) <= radius:\n",
      "            u_str = u\"{} {} {} {}\".format(u.first, u.last, u.user.username, u.user.email)\n",
      "            print u'{} {} {} {}'.format(u.first, u.last, u.user.username, u.user.email).encode('utf-8')\n",
      "            # note send the fill userprofile object back\n",
      "            matched_users.append(u)\n",
      "\n",
      "    return matched_users\n",
      "\n",
      "\n",
      "# IS THIS EVER CALLED???\n",
      "def email_the_users(subject, message, user_list):\n",
      "    print '------------------ in email_the_users  method ----------'\n",
      "    for u in user_list:\n",
      "        send_incident_notification(subject, message, u.email)\n",
      "\n",
      "    if not TESTING:\n",
      "        email_message = msg\n",
      "        update_incident_model_with_email_facts(INCIDENT_ID, email_message)\n",
      "\n",
      "\n",
      "\n",
      "\n",
      "# print 'taking off with U object list for testing'\n",
      "# user_list = []\n",
      "# u = UserProfile.objects.get(user__username='eezis')\n",
      "# print u\n",
      "# user_list.append(u)\n",
      "\n",
      "\n",
      "\n",
      "\n",
      "user_list = get_users_close_to_incident(INCIDENT_ID, Radius)\n",
      "\n",
      "print '\\n'\n",
      "print '{} users in the incident zone'.format(len(user_list))\n",
      "print 'sending emails\\n'\n",
      "\n",
      "\n",
      "for u in user_list:\n",
      "    if TESTING:\n",
      "        print \"EMAILS ARE OFF TO PREVENT A MISTAKE, INCIDENT ID NEEDS TO BE CHANGED?\"\n",
      "        print u'emailing: {}'.format(u.user.email)\n",
      "    else:\n",
      "        print u'emailing: {}'.format(u.user.email)\n",
      "        send_incident_notification(subject, msg, u.user.email, htmlmsg=HTML_msg)\n",
      "\n",
      "# Now update the model\n",
      "if not TESTING:\n",
      "    update_incident_model_with_email_facts(INCIDENT_ID, msg)\n",
      "\n",
      "\n",
      "# email a copy to me\n",
      "if MAIL_TO_EE:\n",
      "    print '\\n'\n",
      "    print 'now sending copy to eezis'\n",
      "    print '\\n'\n",
      "    u = User.objects.get(username='eezis')\n",
      "    # send_incident_notification(subject, msg, u.email)\n",
      "    send_incident_notification(subject, msg, u.email, htmlmsg=HTML_msg)\n",
      "\n",
      "print '\\n'\n",
      "if TESTING:\n",
      "    print 'emails have ***NOT*** been sent'\n",
      "else:\n",
      "    print 'emails have been sent'\n",
      "\n",
      "\n",
      "\n"
     ],
     "language": "python",
     "metadata": {},
     "outputs": [
      {
       "output_type": "stream",
       "stream": "stdout",
       "text": [
        "Nick Stengl Nick Stengl nickstengl@yahoo.com\n",
        "Chris Case ccase chrisjustincase@gmail.com"
       ]
      },
      {
       "output_type": "stream",
       "stream": "stdout",
       "text": [
        "\n",
        "Rebecca Premus rpremus@yahoo.com rpremus@yahoo.com"
       ]
      },
      {
       "output_type": "stream",
       "stream": "stdout",
       "text": [
        "\n",
        "Chris Muth cmuth cmuth67@yahoo.com"
       ]
      },
      {
       "output_type": "stream",
       "stream": "stdout",
       "text": [
        "\n",
        "Dale Riley daletriley daletriley@gmail.com"
       ]
      },
      {
       "output_type": "stream",
       "stream": "stdout",
       "text": [
        "\n",
        "David Mastroianni dmastroi dmastroi@yahoo.com"
       ]
      },
      {
       "output_type": "stream",
       "stream": "stdout",
       "text": [
        "\n",
        "Ernest Ezis Ernest Ezis ernest.ezis@gmail.com"
       ]
      },
      {
       "output_type": "stream",
       "stream": "stdout",
       "text": [
        "\n",
        "logan brooks logan brooks logan.brooks@snc.edu"
       ]
      },
      {
       "output_type": "stream",
       "stream": "stdout",
       "text": [
        "\n",
        "Eric Budd ericmbudd ericbudd@gmail.com"
       ]
      },
      {
       "output_type": "stream",
       "stream": "stdout",
       "text": [
        "\n",
        "Jamison Hill J-Cycle jstewarthill@gmail.com"
       ]
      },
      {
       "output_type": "stream",
       "stream": "stdout",
       "text": [
        "\n",
        "Charley Dean sqwk77 sqwk77@aol.com"
       ]
      },
      {
       "output_type": "stream",
       "stream": "stdout",
       "text": [
        "\n",
        "johanne gaudreau bikerider johanne@bikerider.com"
       ]
      },
      {
       "output_type": "stream",
       "stream": "stdout",
       "text": [
        "\n",
        "Erika Brandstatter Ejbrand ejbrand12@gmail.com"
       ]
      },
      {
       "output_type": "stream",
       "stream": "stdout",
       "text": [
        "\n",
        "Jamison Hill Jamison Hill jstewarthill@gmail.com"
       ]
      },
      {
       "output_type": "stream",
       "stream": "stdout",
       "text": [
        "\n",
        "Ernest Ezis eezis ernest.ezis@gmail.com"
       ]
      },
      {
       "output_type": "stream",
       "stream": "stdout",
       "text": [
        "\n",
        "david fitzgerald davefitz4 davefitz4@gmail.com"
       ]
      },
      {
       "output_type": "stream",
       "stream": "stdout",
       "text": [
        "\n",
        "steve gibson steve.gibson  gibson.steve@gmail.com"
       ]
      },
      {
       "output_type": "stream",
       "stream": "stdout",
       "text": [
        "\n",
        "Kris Thompson kris303 kris@303cycling.com"
       ]
      },
      {
       "output_type": "stream",
       "stream": "stdout",
       "text": [
        "\n",
        "Bill Kellagher kellawj kellawj@gmail.com"
       ]
      },
      {
       "output_type": "stream",
       "stream": "stdout",
       "text": [
        "\n",
        "Michael Moir mmoir mmoir@pigseye.com"
       ]
      },
      {
       "output_type": "stream",
       "stream": "stdout",
       "text": [
        "\n",
        "bill garrels bgarrels0609 billgarrels@gmail.com"
       ]
      },
      {
       "output_type": "stream",
       "stream": "stdout",
       "text": [
        "\n",
        "Bill Plock Bill Plock wcplock@msn.com"
       ]
      },
      {
       "output_type": "stream",
       "stream": "stdout",
       "text": [
        "\n",
        "Kelli Trudel Mavrickgirl kellitrudel@hotmail.com"
       ]
      },
      {
       "output_type": "stream",
       "stream": "stdout",
       "text": [
        "\n",
        "Jen Bitzan jbitzan jbitzan@gmail.com"
       ]
      },
      {
       "output_type": "stream",
       "stream": "stdout",
       "text": [
        "\n",
        "Kennett Peterson Kennett Peterson kennettpeterson@gmail.com"
       ]
      },
      {
       "output_type": "stream",
       "stream": "stdout",
       "text": [
        "\n",
        "Tea Chand Tea Chand teriziatea@gmail.com"
       ]
      },
      {
       "output_type": "stream",
       "stream": "stdout",
       "text": [
        "\n",
        "Chris LeMay Chris LeMay lemay.chris@gmail.com"
       ]
      },
      {
       "output_type": "stream",
       "stream": "stdout",
       "text": [
        "\n",
        "Colby Pearce Colby Pearce colbypearce@mac.com"
       ]
      },
      {
       "output_type": "stream",
       "stream": "stdout",
       "text": [
        "\n",
        "Laurie Allin Laurie Allin she_climber@hotmail.com"
       ]
      },
      {
       "output_type": "stream",
       "stream": "stdout",
       "text": [
        "\n",
        "Gary Harty Gary Harty g.harty@comcast.net"
       ]
      },
      {
       "output_type": "stream",
       "stream": "stdout",
       "text": [
        "\n",
        "Spencer Gray Spencer Gray gray8110@gmail.com"
       ]
      },
      {
       "output_type": "stream",
       "stream": "stdout",
       "text": [
        "\n",
        "Rachel Scott Rachel Scott scott.rachel84@gmail.com"
       ]
      },
      {
       "output_type": "stream",
       "stream": "stdout",
       "text": [
        "\n",
        "Heidi Gurov sooshee hmgurov@gmail.com"
       ]
      },
      {
       "output_type": "stream",
       "stream": "stdout",
       "text": [
        "\n",
        "Stephen Shepherd Stephen Shepherd taadow182@hotmail.com"
       ]
      },
      {
       "output_type": "stream",
       "stream": "stdout",
       "text": [
        "\n",
        "Will Hickey Will Hickey csu_hickey@yahoo.com"
       ]
      },
      {
       "output_type": "stream",
       "stream": "stdout",
       "text": [
        "\n",
        "Eric Budd Eric Budd ericbudd@gmail.com"
       ]
      },
      {
       "output_type": "stream",
       "stream": "stdout",
       "text": [
        "\n",
        "Melissa Collins stunned13 mcollins52@comcast.net"
       ]
      },
      {
       "output_type": "stream",
       "stream": "stdout",
       "text": [
        "\n",
        "Melissa Collins stunnedone mcollins52@comcast.net"
       ]
      },
      {
       "output_type": "stream",
       "stream": "stdout",
       "text": [
        "\n",
        "Kati Olivares Koli katiolivares@hotmail.com"
       ]
      },
      {
       "output_type": "stream",
       "stream": "stdout",
       "text": [
        "\n",
        "Rick Price Rick Price rick@experienceplus.com"
       ]
      },
      {
       "output_type": "stream",
       "stream": "stdout",
       "text": [
        "\n",
        "Geoffrey Mina Geoffrey Mina geoffreymina@gmail.com"
       ]
      },
      {
       "output_type": "stream",
       "stream": "stdout",
       "text": [
        "\n",
        "Wade Staab TheSHIV wstaab@hotmail.com"
       ]
      },
      {
       "output_type": "stream",
       "stream": "stdout",
       "text": [
        "\n",
        "tom goldsmith tomjazz tomjazz72741@yahoo.com"
       ]
      },
      {
       "output_type": "stream",
       "stream": "stdout",
       "text": [
        "\n",
        "Brian Willson goneaway goneaway@gmail.com"
       ]
      },
      {
       "output_type": "stream",
       "stream": "stdout",
       "text": [
        "\n",
        "Lloyd Jones Lloyd Jones twogs42@msn.com"
       ]
      },
      {
       "output_type": "stream",
       "stream": "stdout",
       "text": [
        "\n",
        "Lori Antolec AnTolec llantolec@gmail.com"
       ]
      },
      {
       "output_type": "stream",
       "stream": "stdout",
       "text": [
        "\n",
        "Tok Biggi TBiggi1 tbiggi@outlook.com"
       ]
      },
      {
       "output_type": "stream",
       "stream": "stdout",
       "text": [
        "\n",
        "Adelaide Perr saraadelaide saraadelaide@gmail.com"
       ]
      },
      {
       "output_type": "stream",
       "stream": "stdout",
       "text": [
        "\n",
        "Chris Arnold Chris Arnold arnoldcf@gmail.com"
       ]
      },
      {
       "output_type": "stream",
       "stream": "stdout",
       "text": [
        "\n",
        "christopher behrens christopher behrens chris@mynewera.com"
       ]
      },
      {
       "output_type": "stream",
       "stream": "stdout",
       "text": [
        "\n",
        "Emily Zinn Emily Zinn zinn.emily@gmail.com"
       ]
      },
      {
       "output_type": "stream",
       "stream": "stdout",
       "text": [
        "\n",
        "Aimee Sanders 05bigmama07 aplsanders@yahoo.com"
       ]
      },
      {
       "output_type": "stream",
       "stream": "stdout",
       "text": [
        "\n",
        "Scott Christopher Scott Christopher scottbchristopher@gmail.com"
       ]
      },
      {
       "output_type": "stream",
       "stream": "stdout",
       "text": [
        "\n",
        "Janet Robinson Jrobden jrobinson@fullersir.com"
       ]
      },
      {
       "output_type": "stream",
       "stream": "stdout",
       "text": [
        "\n",
        "Principal Skinner Principal Skinner kingshorthair@gmail.com"
       ]
      },
      {
       "output_type": "stream",
       "stream": "stdout",
       "text": [
        "\n",
        "Mike Spykerman Mike Spykerman mikespykerman@gmail.com"
       ]
      },
      {
       "output_type": "stream",
       "stream": "stdout",
       "text": [
        "\n",
        "Michelle Hancock Michelle Hancock majhanc@comcast.net"
       ]
      },
      {
       "output_type": "stream",
       "stream": "stdout",
       "text": [
        "\n",
        "Joe Berry Joe Berry jjberry99@gmail.com"
       ]
      },
      {
       "output_type": "stream",
       "stream": "stdout",
       "text": [
        "\n",
        "Kimberley Johnson kjohnson201 katurner201@gmail.com"
       ]
      },
      {
       "output_type": "stream",
       "stream": "stdout",
       "text": [
        "\n",
        "Isabella Oleksy Isabella Oleksy bellaoleksy@gmail.com"
       ]
      },
      {
       "output_type": "stream",
       "stream": "stdout",
       "text": [
        "\n",
        "Brian Link Brian Link link.brian@gmail.com"
       ]
      },
      {
       "output_type": "stream",
       "stream": "stdout",
       "text": [
        "\n",
        "Errin Vito Errin Vito errinvito@gmail.com"
       ]
      },
      {
       "output_type": "stream",
       "stream": "stdout",
       "text": [
        "\n",
        "Sam Anderson Sam Anderson sam_anderson@comcast.net"
       ]
      },
      {
       "output_type": "stream",
       "stream": "stdout",
       "text": [
        "\n",
        "Pamela Hill wildwillowranch wildwillowranch@yahoo.com"
       ]
      },
      {
       "output_type": "stream",
       "stream": "stdout",
       "text": [
        "\n",
        "Amy Thomas Amy Thomas amytco@gmail.com"
       ]
      },
      {
       "output_type": "stream",
       "stream": "stdout",
       "text": [
        "\n",
        "Joe Tankovich Joe Tankovich jovz@earthlink.net"
       ]
      },
      {
       "output_type": "stream",
       "stream": "stdout",
       "text": [
        "\n",
        "James Skaggs jamesandruth jamesandruth@juno.com"
       ]
      },
      {
       "output_type": "stream",
       "stream": "stdout",
       "text": [
        "\n",
        "Marisa Rorabaugh Marisa Rorabaugh marisa.rorabaugh13@gmail.com"
       ]
      },
      {
       "output_type": "stream",
       "stream": "stdout",
       "text": [
        "\n",
        "Ellen Laird Ellen Laird lairder@gmail.com"
       ]
      },
      {
       "output_type": "stream",
       "stream": "stdout",
       "text": [
        "\n",
        "Terrie Torgersen Peterson Terrie Torgersen Peterson terrietpeterson@gmail.com"
       ]
      },
      {
       "output_type": "stream",
       "stream": "stdout",
       "text": [
        "\n",
        "John Berger jberger jberger@mines.edu"
       ]
      },
      {
       "output_type": "stream",
       "stream": "stdout",
       "text": [
        "\n",
        "Heidi Wahl Heidi Wahl heidijwahl70@gmail.com"
       ]
      },
      {
       "output_type": "stream",
       "stream": "stdout",
       "text": [
        "\n",
        "Amanda Knutson Amanda Knutson amandakellyknutson@gmail.com"
       ]
      },
      {
       "output_type": "stream",
       "stream": "stdout",
       "text": [
        "\n",
        "Ron Garrett Ron Garrett rondgarrett@icloud.com"
       ]
      },
      {
       "output_type": "stream",
       "stream": "stdout",
       "text": [
        "\n",
        "George Truong George Truong gbtruongs@icloud.com"
       ]
      },
      {
       "output_type": "stream",
       "stream": "stdout",
       "text": [
        "\n",
        "Rick Anstey Rick rickanstey@gmail.com"
       ]
      },
      {
       "output_type": "stream",
       "stream": "stdout",
       "text": [
        "\n",
        "Alan Trinh Alan Trinh chinatown00_2000@yahoo.com"
       ]
      },
      {
       "output_type": "stream",
       "stream": "stdout",
       "text": [
        "\n",
        "John Humphreys John Humphreys jhumphreys@homeadvisor.com"
       ]
      },
      {
       "output_type": "stream",
       "stream": "stdout",
       "text": [
        "\n",
        "Mary Stone Mary Stone laffinrock@yahoo.com"
       ]
      },
      {
       "output_type": "stream",
       "stream": "stdout",
       "text": [
        "\n",
        "Adam Wylie Adam Wylie adam.g.wylie@gmail.com"
       ]
      },
      {
       "output_type": "stream",
       "stream": "stdout",
       "text": [
        "\n",
        "Don Hobbs Don Hobbs dmhobbs53@gmail.com"
       ]
      },
      {
       "output_type": "stream",
       "stream": "stdout",
       "text": [
        "\n",
        "Kendrew Peacey Kendrewp kendrew@peaceyfamily.com"
       ]
      },
      {
       "output_type": "stream",
       "stream": "stdout",
       "text": [
        "\n",
        "Jesse Sandoval Jesse Sandoval shishou@gmail.com"
       ]
      },
      {
       "output_type": "stream",
       "stream": "stdout",
       "text": [
        "\n",
        "Cosmo  Catalano Cosmo  Catalano cosmo@cyclocosm.com"
       ]
      },
      {
       "output_type": "stream",
       "stream": "stdout",
       "text": [
        "\n",
        "Eric Stapleton Eric Stapleton eric_stapleton@yahoo.com"
       ]
      },
      {
       "output_type": "stream",
       "stream": "stdout",
       "text": [
        "\n",
        "Sandra Huzyk Sandra slhuzyk@gmail.com"
       ]
      },
      {
       "output_type": "stream",
       "stream": "stdout",
       "text": [
        "\n",
        "Brad Schildt Brad Schildt bschildt@yahoo.com"
       ]
      },
      {
       "output_type": "stream",
       "stream": "stdout",
       "text": [
        "\n",
        "Mike Carr Mike Carr mikevcarr@gmail.com"
       ]
      },
      {
       "output_type": "stream",
       "stream": "stdout",
       "text": [
        "\n",
        "Marc Nethercott Mnethercott marc.nethercott@gmail.com"
       ]
      },
      {
       "output_type": "stream",
       "stream": "stdout",
       "text": [
        "\n",
        "Paul Schnoes Paul Schnoes paulrschn@gmail.com"
       ]
      },
      {
       "output_type": "stream",
       "stream": "stdout",
       "text": [
        "\n",
        "Nick Kozel Nickforrest nickrk1@gmail.com"
       ]
      },
      {
       "output_type": "stream",
       "stream": "stdout",
       "text": [
        "\n",
        "Casey Burrows Casey Burrows burrows.casey@gmail.com"
       ]
      },
      {
       "output_type": "stream",
       "stream": "stdout",
       "text": [
        "\n",
        "Jeff Kaes SpadeHackle jeff.kaes@gmail.com"
       ]
      },
      {
       "output_type": "stream",
       "stream": "stdout",
       "text": [
        "\n",
        "Bill Horger Bill Horger horgerw@gmail.com"
       ]
      },
      {
       "output_type": "stream",
       "stream": "stdout",
       "text": [
        "\n",
        "George Scott birdmanbh3 gnscott1@comcast.net"
       ]
      },
      {
       "output_type": "stream",
       "stream": "stdout",
       "text": [
        "\n",
        "jeff cole jeff cole jeffhcole@gmail.com"
       ]
      },
      {
       "output_type": "stream",
       "stream": "stdout",
       "text": [
        "\n",
        "Erik Wogen Erik Wogen ewogen@comcast.net"
       ]
      },
      {
       "output_type": "stream",
       "stream": "stdout",
       "text": [
        "\n",
        "Ian Wilson Ian Wilson ifwilson.design@gmail.com"
       ]
      },
      {
       "output_type": "stream",
       "stream": "stdout",
       "text": [
        "\n",
        "Heidi Gurov Heidi Gurov hmgurov@gmail.com"
       ]
      },
      {
       "output_type": "stream",
       "stream": "stdout",
       "text": [
        "\n",
        "Hugh Grinolds hgrinolds hgrinolds@msn.com"
       ]
      },
      {
       "output_type": "stream",
       "stream": "stdout",
       "text": [
        "\n",
        "Len DeMoss Len DeMoss ultrarunner@yahoo.com"
       ]
      },
      {
       "output_type": "stream",
       "stream": "stdout",
       "text": [
        "\n",
        "Bill Kellagher Bill Kellagher kellawj@gmail.com"
       ]
      },
      {
       "output_type": "stream",
       "stream": "stdout",
       "text": [
        "\n",
        "Eric Callmann Eric Callmann eric_callmann@yahoo.com"
       ]
      },
      {
       "output_type": "stream",
       "stream": "stdout",
       "text": [
        "\n",
        "eae-dev ezis eae ernest.ezis@gmail.com"
       ]
      },
      {
       "output_type": "stream",
       "stream": "stdout",
       "text": [
        "\n",
        "chris memelink chris memelink cmemelink@pearlizumi.com"
       ]
      },
      {
       "output_type": "stream",
       "stream": "stdout",
       "text": [
        "\n",
        "Megan Holstein meganholstein meganholstein@gmail.com"
       ]
      },
      {
       "output_type": "stream",
       "stream": "stdout",
       "text": [
        "\n",
        "Matthew Puccio Matthew Puccio mattpuccio@hotmail.com"
       ]
      },
      {
       "output_type": "stream",
       "stream": "stdout",
       "text": [
        "\n",
        "Harper Jocque Harper Jocque harperjocque@gmail.com"
       ]
      },
      {
       "output_type": "stream",
       "stream": "stdout",
       "text": [
        "\n",
        "eae-test-user ezis eae-test-user ernestezi.s@gmail.com"
       ]
      },
      {
       "output_type": "stream",
       "stream": "stdout",
       "text": [
        "\n",
        "Dan Cavallari d2drunkcyclist d.cavallari@gmail.com"
       ]
      },
      {
       "output_type": "stream",
       "stream": "stdout",
       "text": [
        "\n",
        "Marie Marie ThePoetMarie ThePoetMarie@gmail.com"
       ]
      },
      {
       "output_type": "stream",
       "stream": "stdout",
       "text": [
        "\n",
        "Kenneth Boden Kenneth Boden kennethboden@outlook.com"
       ]
      },
      {
       "output_type": "stream",
       "stream": "stdout",
       "text": [
        "\n",
        "Timo Haugen Timo Haugen haugen.timo@gmail.com"
       ]
      },
      {
       "output_type": "stream",
       "stream": "stdout",
       "text": [
        "\n",
        "Lance Enholm lenholm lenholm@bouldercounty.org"
       ]
      },
      {
       "output_type": "stream",
       "stream": "stdout",
       "text": [
        "\n",
        "Jon Emmons Jon Emmons mnstrduc@yahoo.com"
       ]
      },
      {
       "output_type": "stream",
       "stream": "stdout",
       "text": [
        "\n",
        "Kate W Kate W klperk19@aol.com"
       ]
      },
      {
       "output_type": "stream",
       "stream": "stdout",
       "text": [
        "\n",
        "Nikki Morgan Nikkim nikkimorgancmt@gmail.com"
       ]
      },
      {
       "output_type": "stream",
       "stream": "stdout",
       "text": [
        "\n",
        "erika brand erika brand ejbrand12@gmail.com"
       ]
      },
      {
       "output_type": "stream",
       "stream": "stdout",
       "text": [
        "\n",
        "Rick price Rick price rick@experienceplus.com"
       ]
      },
      {
       "output_type": "stream",
       "stream": "stdout",
       "text": [
        "\n",
        "Ashton Momot Ashton Momot ashtonmomot@gmail.com"
       ]
      },
      {
       "output_type": "stream",
       "stream": "stdout",
       "text": [
        "\n",
        "Kendrew Peacey Kendrew Peacey kendrew@peaceyfamily.com"
       ]
      },
      {
       "output_type": "stream",
       "stream": "stdout",
       "text": [
        "\n",
        "Russ Chandler Russ Chandler rchandler@ciaracing.com"
       ]
      },
      {
       "output_type": "stream",
       "stream": "stdout",
       "text": [
        "\n",
        "errin vito errin vito errinvito@gmail.com"
       ]
      },
      {
       "output_type": "stream",
       "stream": "stdout",
       "text": [
        "\n",
        "Todd Hofert Todd Hofert thofert@gmail.com"
       ]
      },
      {
       "output_type": "stream",
       "stream": "stdout",
       "text": [
        "\n",
        "David Morton David Morton ceo@magswitch.com.au"
       ]
      },
      {
       "output_type": "stream",
       "stream": "stdout",
       "text": [
        "\n",
        "Stefano Alessandrini Stefano Alessandrini ste.aless@libero.it"
       ]
      },
      {
       "output_type": "stream",
       "stream": "stdout",
       "text": [
        "\n",
        "Ray Middleton Ray Middleton dutchman3600@gmail.com"
       ]
      },
      {
       "output_type": "stream",
       "stream": "stdout",
       "text": [
        "\n",
        "Chris Case Chris Case chrisjustincase@gmail.com"
       ]
      },
      {
       "output_type": "stream",
       "stream": "stdout",
       "text": [
        "\n",
        "Larey Kerling Larey Kerling l@larey.cc"
       ]
      },
      {
       "output_type": "stream",
       "stream": "stdout",
       "text": [
        "\n",
        "Erin Doak okeedoak erin.closecalldatabase@the4ds.us"
       ]
      },
      {
       "output_type": "stream",
       "stream": "stdout",
       "text": [
        "\n",
        "Geoff Cooper Geoff Cooper geoffcpr@gmail.com"
       ]
      },
      {
       "output_type": "stream",
       "stream": "stdout",
       "text": [
        "\n",
        "Jenifer Woods Jenifer Woods jenifer.woods@gmail.com"
       ]
      },
      {
       "output_type": "stream",
       "stream": "stdout",
       "text": [
        "\n",
        "Kirsten Barrett Kuhn Kirsten Barrett Kuhn barrettkuhn@gmail.com"
       ]
      },
      {
       "output_type": "stream",
       "stream": "stdout",
       "text": [
        "\n",
        "Amelia Messegee Amelia Messegee amelia.messegee@gmail.com"
       ]
      },
      {
       "output_type": "stream",
       "stream": "stdout",
       "text": [
        "\n",
        "Meg Bendik Meg Bendik megbendik@gmail.com"
       ]
      },
      {
       "output_type": "stream",
       "stream": "stdout",
       "text": [
        "\n",
        "Megan Robben Megan Robben meg.robben@gmail.com"
       ]
      },
      {
       "output_type": "stream",
       "stream": "stdout",
       "text": [
        "\n",
        "Elena Alarcon Elena Alarcon ealarcon1031@gmail.com"
       ]
      },
      {
       "output_type": "stream",
       "stream": "stdout",
       "text": [
        "\n",
        "Susan Hersey Susan Hersey shersey@biggear.com"
       ]
      },
      {
       "output_type": "stream",
       "stream": "stdout",
       "text": [
        "\n",
        "Amanda Gresl Amanda Gresl ajgresl@yahoo.com"
       ]
      },
      {
       "output_type": "stream",
       "stream": "stdout",
       "text": [
        "\n",
        "James Blake James Blake ilscungilli@gmail.com"
       ]
      },
      {
       "output_type": "stream",
       "stream": "stdout",
       "text": [
        "\n",
        "Rick Cadenaro Rick Cadenaro rickcadenaro@msn.com"
       ]
      },
      {
       "output_type": "stream",
       "stream": "stdout",
       "text": [
        "\n",
        "Kiel Reijnen Kiel Reijnen kielreijnen@gmail.com"
       ]
      },
      {
       "output_type": "stream",
       "stream": "stdout",
       "text": [
        "\n",
        "Mark Heidorn Markontheroad mark.heidorn@gmail.com"
       ]
      },
      {
       "output_type": "stream",
       "stream": "stdout",
       "text": [
        "\n",
        "Naked  Rider Naked  Rider susankylie73@yahoo.com"
       ]
      },
      {
       "output_type": "stream",
       "stream": "stdout",
       "text": [
        "\n",
        "David Travis David Travis david.travis.fb@gmail.com"
       ]
      },
      {
       "output_type": "stream",
       "stream": "stdout",
       "text": [
        "\n",
        "Brian Stevens Brian Stevens stevens.brian@gmail.com"
       ]
      },
      {
       "output_type": "stream",
       "stream": "stdout",
       "text": [
        "\n",
        "Zach Kreider zkreider zachkreider@gmail.com"
       ]
      },
      {
       "output_type": "stream",
       "stream": "stdout",
       "text": [
        "\n",
        "Matt Kreider Matt K. kreider.matthew@gmail.com"
       ]
      },
      {
       "output_type": "stream",
       "stream": "stdout",
       "text": [
        "\n",
        "Peech Keller cpkeller cpkeller447@yahoo.com"
       ]
      },
      {
       "output_type": "stream",
       "stream": "stdout",
       "text": [
        "\n",
        "Brian Hoffmeyer Brian Hoffmeyer bhoffmeyer@iqnavigator.com"
       ]
      },
      {
       "output_type": "stream",
       "stream": "stdout",
       "text": [
        "\n",
        "Ray Allegro HRCOcyclist aheartforhealth@yahoo.com"
       ]
      },
      {
       "output_type": "stream",
       "stream": "stdout",
       "text": [
        "\n",
        "David Stolz davidstolz david42@q.com"
       ]
      },
      {
       "output_type": "stream",
       "stream": "stdout",
       "text": [
        "\n",
        "David Droege drdroege drdroege@hotmail.com"
       ]
      },
      {
       "output_type": "stream",
       "stream": "stdout",
       "text": [
        "\n",
        "David Roederer Dcroederer dcroederer@comcast.net"
       ]
      },
      {
       "output_type": "stream",
       "stream": "stdout",
       "text": [
        "\n",
        "Adelaide Perr Adelaide Perr saraadelaide@gmail.com"
       ]
      },
      {
       "output_type": "stream",
       "stream": "stdout",
       "text": [
        "\n",
        "Sandra Huzyk Bella slhuzyk@gmail.com"
       ]
      },
      {
       "output_type": "stream",
       "stream": "stdout",
       "text": [
        "\n",
        "courtney atx share_road courtneyatx25@gmail.com"
       ]
      },
      {
       "output_type": "stream",
       "stream": "stdout",
       "text": [
        "\n",
        "Robert Tenent Robert Tenent rctenent@comcast.net"
       ]
      },
      {
       "output_type": "stream",
       "stream": "stdout",
       "text": [
        "\n",
        "David Droege drdroege1 drdroege@hotmail.com"
       ]
      },
      {
       "output_type": "stream",
       "stream": "stdout",
       "text": [
        "\n",
        "Leonard DeMoss oldultrarunner ultrarunner@yahoo.com"
       ]
      },
      {
       "output_type": "stream",
       "stream": "stdout",
       "text": [
        "\n",
        "Garrett Cole Garrett Cole garrett.cole@gmail.com"
       ]
      },
      {
       "output_type": "stream",
       "stream": "stdout",
       "text": [
        "\n",
        "Melissa Collns Melissa Collns mcollins52@comcast.net"
       ]
      },
      {
       "output_type": "stream",
       "stream": "stdout",
       "text": [
        "\n",
        "Megan Holstein Megan Holstein meganholstein@gmail.com"
       ]
      },
      {
       "output_type": "stream",
       "stream": "stdout",
       "text": [
        "\n",
        "Paul McCarthy Crosspropz crosspropz@gmail.com"
       ]
      },
      {
       "output_type": "stream",
       "stream": "stdout",
       "text": [
        "\n",
        "Eric Paulk Eric Paulk epaulk76@gmail.com"
       ]
      },
      {
       "output_type": "stream",
       "stream": "stdout",
       "text": [
        "\n",
        "Pamela Hill Pamela Hill wildwillowranch@yahoo.com"
       ]
      },
      {
       "output_type": "stream",
       "stream": "stdout",
       "text": [
        "\n",
        "Stuart Morrison stumorrison getonit511@yahoo.com"
       ]
      },
      {
       "output_type": "stream",
       "stream": "stdout",
       "text": [
        "\n",
        "Brian Ernst Brian Ernst ernst.bri@gmail.com"
       ]
      },
      {
       "output_type": "stream",
       "stream": "stdout",
       "text": [
        "\n",
        "Ryan Franz Ryan Franz ryan.franz@gmail.com"
       ]
      },
      {
       "output_type": "stream",
       "stream": "stdout",
       "text": [
        "\n",
        "Joe Murphy Joe Murphy joe.murphy@gmail.com"
       ]
      },
      {
       "output_type": "stream",
       "stream": "stdout",
       "text": [
        "\n",
        "Alexander Thompson amthompson thompson@vassar.edu"
       ]
      },
      {
       "output_type": "stream",
       "stream": "stdout",
       "text": [
        "\n",
        "Andy Bell Andy Bell andrew.d.bell@gmail.com"
       ]
      },
      {
       "output_type": "stream",
       "stream": "stdout",
       "text": [
        "\n",
        "J Fitzgerald  J Fitzgerald  phytz9@hotmail.com"
       ]
      },
      {
       "output_type": "stream",
       "stream": "stdout",
       "text": [
        "\n",
        "Jim Normandeau Jim Normandeau jnormandeau@gmail.com"
       ]
      },
      {
       "output_type": "stream",
       "stream": "stdout",
       "text": [
        "\n",
        "Steve Warburton Steve Warburton marickstarr@gmail.com"
       ]
      },
      {
       "output_type": "stream",
       "stream": "stdout",
       "text": [
        "\n",
        "Joe Beninghof Joe B Joe.Beninghof@gmail.com"
       ]
      },
      {
       "output_type": "stream",
       "stream": "stdout",
       "text": [
        "\n",
        "Charlie Knoll Charlie Knoll charlie.knoll@gmail.com"
       ]
      },
      {
       "output_type": "stream",
       "stream": "stdout",
       "text": [
        "\n",
        "Jared Shuttleworth Jared Shuttleworth jaredshuttleworth@gmail.com"
       ]
      },
      {
       "output_type": "stream",
       "stream": "stdout",
       "text": [
        "\n",
        "Jake Reynolds Jake Reynolds jrey@seveng.net"
       ]
      },
      {
       "output_type": "stream",
       "stream": "stdout",
       "text": [
        "\n",
        "Daniel Alvarado Daniel Alvarado forestgospel@gmail.com"
       ]
      },
      {
       "output_type": "stream",
       "stream": "stdout",
       "text": [
        "\n",
        "Rocky Smith Rocky Smith rocky-smith@comcast.net"
       ]
      },
      {
       "output_type": "stream",
       "stream": "stdout",
       "text": [
        "\n",
        "Jimmy Archer dirtTRI.com Jimmy Archer dirtTRI.com jimmyarcherracing@yahoo.com"
       ]
      },
      {
       "output_type": "stream",
       "stream": "stdout",
       "text": [
        "\n",
        "Birt Stem Birt Stem birtatc@q.com"
       ]
      },
      {
       "output_type": "stream",
       "stream": "stdout",
       "text": [
        "\n",
        "Brad Kaminski Brad Kaminski pbjski@gmail.com"
       ]
      },
      {
       "output_type": "stream",
       "stream": "stdout",
       "text": [
        "\n",
        "Chris Hill pushxtonotdie chris@enemyhideout.com"
       ]
      },
      {
       "output_type": "stream",
       "stream": "stdout",
       "text": [
        "\n",
        "Erika Nelson-Wong erikarows erikarows@gmail.com"
       ]
      },
      {
       "output_type": "stream",
       "stream": "stdout",
       "text": [
        "\n",
        "Erik Hamilton Erik Hamilton cutters.08@gmail.com"
       ]
      },
      {
       "output_type": "stream",
       "stream": "stdout",
       "text": [
        "\n",
        "Brian Cook Brian Cook brian.d.cook@amec.com"
       ]
      },
      {
       "output_type": "stream",
       "stream": "stdout",
       "text": [
        "\n",
        "Pete Webber Peter Webber petewebbercx@gmail.com"
       ]
      },
      {
       "output_type": "stream",
       "stream": "stdout",
       "text": [
        "\n",
        "Lennard Zinn Lennard Zinn l.zinn@comcast.net"
       ]
      },
      {
       "output_type": "stream",
       "stream": "stdout",
       "text": [
        "\n",
        "kip taylor kip taylor kip.h.taylor@gmail.com"
       ]
      },
      {
       "output_type": "stream",
       "stream": "stdout",
       "text": [
        "\n",
        "Aaron Bouplon Aaron Bouplon boups@racecx.com"
       ]
      },
      {
       "output_type": "stream",
       "stream": "stdout",
       "text": [
        "\n",
        "Vladimir Razgulin Vladimir Razgulin onegulin@yahoo.com"
       ]
      },
      {
       "output_type": "stream",
       "stream": "stdout",
       "text": [
        "\n",
        "Kurt Dageforde Kurt Dageforde kurt.dageforde@gmail.com"
       ]
      },
      {
       "output_type": "stream",
       "stream": "stdout",
       "text": [
        "\n",
        "Travis Conway Travis Conway mike@roadbikemike.com"
       ]
      },
      {
       "output_type": "stream",
       "stream": "stdout",
       "text": [
        "\n",
        "Michael Ramseier Michael Ramseier mike@ramseier.org"
       ]
      },
      {
       "output_type": "stream",
       "stream": "stdout",
       "text": [
        "\n",
        "Bret Wade Bret Wade bret.wade@gmail.com"
       ]
      },
      {
       "output_type": "stream",
       "stream": "stdout",
       "text": [
        "\n",
        "David Droege David Droege drdroege@hotmail.com"
       ]
      },
      {
       "output_type": "stream",
       "stream": "stdout",
       "text": [
        "\n",
        "Eric Falldin Eric Falldin efalldin@yahoo.com"
       ]
      },
      {
       "output_type": "stream",
       "stream": "stdout",
       "text": [
        "\n",
        "Rick Hess Rick Hess hessrt@live.com"
       ]
      },
      {
       "output_type": "stream",
       "stream": "stdout",
       "text": [
        "\n",
        "Matt Weaver Matt Weaver ezweave@gmail.com"
       ]
      },
      {
       "output_type": "stream",
       "stream": "stdout",
       "text": [
        "\n",
        "Cassie Klumpp Cassie Klumpp boundingriley@msn.com"
       ]
      },
      {
       "output_type": "stream",
       "stream": "stdout",
       "text": [
        "\n",
        "Dale Riley Dale Riley daletriley@gmail.com"
       ]
      },
      {
       "output_type": "stream",
       "stream": "stdout",
       "text": [
        "\n",
        "Lee Cryer leecryer lee.cryer@comcast.net"
       ]
      },
      {
       "output_type": "stream",
       "stream": "stdout",
       "text": [
        "\n",
        "Camron Nelson nelsoncl54 clmnelson@gmail.com"
       ]
      },
      {
       "output_type": "stream",
       "stream": "stdout",
       "text": [
        "\n",
        "Matthew Gordon Matthew Gordon matt.gordon@me.com"
       ]
      },
      {
       "output_type": "stream",
       "stream": "stdout",
       "text": [
        "\n",
        "Eric Baer Eric Baer eric@livelook.tv"
       ]
      },
      {
       "output_type": "stream",
       "stream": "stdout",
       "text": [
        "\n",
        "Ben Harding Ben Harding ben@harding.boulder.co.us"
       ]
      },
      {
       "output_type": "stream",
       "stream": "stdout",
       "text": [
        "\n",
        "John Kotrla jrkotrla jrkotrla@gmail.com"
       ]
      },
      {
       "output_type": "stream",
       "stream": "stdout",
       "text": [
        "\n",
        "Glenn Cratty Glenn Cratty grcratty@yahoo.com"
       ]
      },
      {
       "output_type": "stream",
       "stream": "stdout",
       "text": [
        "\n",
        "John Kotrla John Kotrla jkotrla@angelo.edu"
       ]
      },
      {
       "output_type": "stream",
       "stream": "stdout",
       "text": [
        "\n",
        "Tamo D. Tamo D. tduske@msn.com"
       ]
      },
      {
       "output_type": "stream",
       "stream": "stdout",
       "text": [
        "\n",
        "Sara Sunshine Sara Sunshine graystar001@gmail.com"
       ]
      },
      {
       "output_type": "stream",
       "stream": "stdout",
       "text": [
        "\n",
        "Jim Kennedy Jim Kennedy kennejam@yahoo.com"
       ]
      },
      {
       "output_type": "stream",
       "stream": "stdout",
       "text": [
        "\n",
        "david russell davidr5 davidr5@yahoo.com"
       ]
      },
      {
       "output_type": "stream",
       "stream": "stdout",
       "text": [
        "\n",
        "Brian Weiss Brian Weiss bmwatty@yahoo.com"
       ]
      },
      {
       "output_type": "stream",
       "stream": "stdout",
       "text": [
        "\n",
        "Charlotte  Buck char buck charbuck47@live.com"
       ]
      },
      {
       "output_type": "stream",
       "stream": "stdout",
       "text": [
        "\n",
        "Team Zeppe Team Zeppe redhillaz@gmail.com"
       ]
      },
      {
       "output_type": "stream",
       "stream": "stdout",
       "text": [
        "\n",
        "Caleb Stoll Caleb Stoll caleb.stoll@gmail.com"
       ]
      },
      {
       "output_type": "stream",
       "stream": "stdout",
       "text": [
        "\n",
        "Jere Holland Jere Holland jere557@hotmail.com"
       ]
      },
      {
       "output_type": "stream",
       "stream": "stdout",
       "text": [
        "\n",
        "Suzy Spezzano Suzy Spezzano suzy_spezzano@yahoo.com"
       ]
      },
      {
       "output_type": "stream",
       "stream": "stdout",
       "text": [
        "\n",
        "Steve Saeedi Steve Saeedi saeedis@gmail.com"
       ]
      },
      {
       "output_type": "stream",
       "stream": "stdout",
       "text": [
        "\n",
        "alexey davies alexeydavies alexey.davies@gmail.com"
       ]
      },
      {
       "output_type": "stream",
       "stream": "stdout",
       "text": [
        "\n",
        "Jacob Sklar Jacob Sklar hotratz@mac.com"
       ]
      },
      {
       "output_type": "stream",
       "stream": "stdout",
       "text": [
        "\n",
        "Michael Bradford Michael Bradford mikeb3579@gmail.com"
       ]
      },
      {
       "output_type": "stream",
       "stream": "stdout",
       "text": [
        "\n",
        "Diego Long Diego Long diego.e.long@gmail.com"
       ]
      },
      {
       "output_type": "stream",
       "stream": "stdout",
       "text": [
        "\n",
        "Kim Malenoski Kim Malenoski kf4kimberly@yahoo.com"
       ]
      },
      {
       "output_type": "stream",
       "stream": "stdout",
       "text": [
        "\n",
        "Amy Darmer Adarmer amy.darmer@gmail.com"
       ]
      },
      {
       "output_type": "stream",
       "stream": "stdout",
       "text": [
        "\n",
        "Jim Kraychy jkraychy jkraychy@aol.com"
       ]
      },
      {
       "output_type": "stream",
       "stream": "stdout",
       "text": [
        "\n",
        "Michael Bohler Michael Bohler bikingmikeb@yahoo.com"
       ]
      },
      {
       "output_type": "stream",
       "stream": "stdout",
       "text": [
        "\n",
        "Dan Cavallari Dan Cavallari d.cavallari@gmail.com"
       ]
      },
      {
       "output_type": "stream",
       "stream": "stdout",
       "text": [
        "\n",
        "\n",
        "\n",
        "231 users in the incident zone\n",
        "sending emails\n",
        "\n",
        "emailing: nickstengl@yahoo.com\n",
        "emailing: chrisjustincase@gmail.com"
       ]
      },
      {
       "output_type": "stream",
       "stream": "stdout",
       "text": [
        "\n",
        "emailing: rpremus@yahoo.com"
       ]
      },
      {
       "output_type": "stream",
       "stream": "stdout",
       "text": [
        "\n",
        "emailing: cmuth67@yahoo.com"
       ]
      },
      {
       "output_type": "stream",
       "stream": "stdout",
       "text": [
        "\n",
        "emailing: daletriley@gmail.com"
       ]
      },
      {
       "output_type": "stream",
       "stream": "stdout",
       "text": [
        "\n",
        "emailing: dmastroi@yahoo.com"
       ]
      },
      {
       "output_type": "stream",
       "stream": "stdout",
       "text": [
        "\n",
        "emailing: ernest.ezis@gmail.com"
       ]
      },
      {
       "output_type": "stream",
       "stream": "stdout",
       "text": [
        "\n",
        "emailing: logan.brooks@snc.edu"
       ]
      },
      {
       "output_type": "stream",
       "stream": "stdout",
       "text": [
        "\n",
        "emailing: ericbudd@gmail.com"
       ]
      },
      {
       "output_type": "stream",
       "stream": "stdout",
       "text": [
        "\n",
        "emailing: jstewarthill@gmail.com"
       ]
      },
      {
       "output_type": "stream",
       "stream": "stdout",
       "text": [
        "\n",
        "emailing: sqwk77@aol.com"
       ]
      },
      {
       "output_type": "stream",
       "stream": "stdout",
       "text": [
        "\n",
        "emailing: johanne@bikerider.com"
       ]
      },
      {
       "output_type": "stream",
       "stream": "stdout",
       "text": [
        "\n",
        "emailing: ejbrand12@gmail.com"
       ]
      },
      {
       "output_type": "stream",
       "stream": "stdout",
       "text": [
        "\n",
        "emailing: jstewarthill@gmail.com"
       ]
      },
      {
       "output_type": "stream",
       "stream": "stdout",
       "text": [
        "\n",
        "emailing: ernest.ezis@gmail.com"
       ]
      },
      {
       "output_type": "stream",
       "stream": "stdout",
       "text": [
        "\n",
        "emailing: davefitz4@gmail.com"
       ]
      },
      {
       "output_type": "stream",
       "stream": "stdout",
       "text": [
        "\n",
        "emailing: gibson.steve@gmail.com"
       ]
      },
      {
       "output_type": "stream",
       "stream": "stdout",
       "text": [
        "\n",
        "emailing: kris@303cycling.com"
       ]
      },
      {
       "output_type": "stream",
       "stream": "stdout",
       "text": [
        "\n",
        "emailing: kellawj@gmail.com"
       ]
      },
      {
       "output_type": "stream",
       "stream": "stdout",
       "text": [
        "\n",
        "emailing: mmoir@pigseye.com"
       ]
      },
      {
       "output_type": "stream",
       "stream": "stdout",
       "text": [
        "\n",
        "emailing: billgarrels@gmail.com"
       ]
      },
      {
       "output_type": "stream",
       "stream": "stdout",
       "text": [
        "\n",
        "emailing: wcplock@msn.com"
       ]
      },
      {
       "output_type": "stream",
       "stream": "stdout",
       "text": [
        "\n",
        "emailing: kellitrudel@hotmail.com"
       ]
      },
      {
       "output_type": "stream",
       "stream": "stdout",
       "text": [
        "\n",
        "emailing: jbitzan@gmail.com"
       ]
      },
      {
       "output_type": "stream",
       "stream": "stdout",
       "text": [
        "\n",
        "emailing: kennettpeterson@gmail.com"
       ]
      },
      {
       "output_type": "stream",
       "stream": "stdout",
       "text": [
        "\n",
        "emailing: teriziatea@gmail.com"
       ]
      },
      {
       "output_type": "stream",
       "stream": "stdout",
       "text": [
        "\n",
        "emailing: lemay.chris@gmail.com"
       ]
      },
      {
       "output_type": "stream",
       "stream": "stdout",
       "text": [
        "\n",
        "emailing: colbypearce@mac.com"
       ]
      },
      {
       "output_type": "stream",
       "stream": "stdout",
       "text": [
        "\n",
        "emailing: she_climber@hotmail.com"
       ]
      },
      {
       "output_type": "stream",
       "stream": "stdout",
       "text": [
        "\n",
        "emailing: g.harty@comcast.net"
       ]
      },
      {
       "output_type": "stream",
       "stream": "stdout",
       "text": [
        "\n",
        "emailing: gray8110@gmail.com"
       ]
      },
      {
       "output_type": "stream",
       "stream": "stdout",
       "text": [
        "\n",
        "emailing: scott.rachel84@gmail.com"
       ]
      },
      {
       "output_type": "stream",
       "stream": "stdout",
       "text": [
        "\n",
        "emailing: hmgurov@gmail.com"
       ]
      },
      {
       "output_type": "stream",
       "stream": "stdout",
       "text": [
        "\n",
        "emailing: taadow182@hotmail.com"
       ]
      },
      {
       "output_type": "stream",
       "stream": "stdout",
       "text": [
        "\n",
        "emailing: csu_hickey@yahoo.com"
       ]
      },
      {
       "output_type": "stream",
       "stream": "stdout",
       "text": [
        "\n",
        "emailing: ericbudd@gmail.com"
       ]
      },
      {
       "output_type": "stream",
       "stream": "stdout",
       "text": [
        "\n",
        "emailing: mcollins52@comcast.net"
       ]
      },
      {
       "output_type": "stream",
       "stream": "stdout",
       "text": [
        "\n",
        "emailing: mcollins52@comcast.net"
       ]
      },
      {
       "output_type": "stream",
       "stream": "stdout",
       "text": [
        "\n",
        "emailing: katiolivares@hotmail.com"
       ]
      },
      {
       "output_type": "stream",
       "stream": "stdout",
       "text": [
        "\n",
        "emailing: rick@experienceplus.com"
       ]
      },
      {
       "output_type": "stream",
       "stream": "stdout",
       "text": [
        "\n",
        "emailing: geoffreymina@gmail.com"
       ]
      },
      {
       "output_type": "stream",
       "stream": "stdout",
       "text": [
        "\n",
        "emailing: wstaab@hotmail.com"
       ]
      },
      {
       "output_type": "stream",
       "stream": "stdout",
       "text": [
        "\n",
        "emailing: tomjazz72741@yahoo.com"
       ]
      },
      {
       "output_type": "stream",
       "stream": "stdout",
       "text": [
        "\n",
        "emailing: goneaway@gmail.com"
       ]
      },
      {
       "output_type": "stream",
       "stream": "stdout",
       "text": [
        "\n",
        "emailing: twogs42@msn.com"
       ]
      },
      {
       "output_type": "stream",
       "stream": "stdout",
       "text": [
        "\n",
        "emailing: llantolec@gmail.com"
       ]
      },
      {
       "output_type": "stream",
       "stream": "stdout",
       "text": [
        "\n",
        "emailing: tbiggi@outlook.com"
       ]
      },
      {
       "output_type": "stream",
       "stream": "stdout",
       "text": [
        "\n",
        "emailing: saraadelaide@gmail.com"
       ]
      },
      {
       "output_type": "stream",
       "stream": "stdout",
       "text": [
        "\n",
        "emailing: arnoldcf@gmail.com"
       ]
      },
      {
       "output_type": "stream",
       "stream": "stdout",
       "text": [
        "\n",
        "emailing: chris@mynewera.com"
       ]
      },
      {
       "output_type": "stream",
       "stream": "stdout",
       "text": [
        "\n",
        "emailing: zinn.emily@gmail.com"
       ]
      },
      {
       "output_type": "stream",
       "stream": "stdout",
       "text": [
        "\n",
        "emailing: aplsanders@yahoo.com"
       ]
      },
      {
       "output_type": "stream",
       "stream": "stdout",
       "text": [
        "\n",
        "emailing: scottbchristopher@gmail.com"
       ]
      },
      {
       "output_type": "stream",
       "stream": "stdout",
       "text": [
        "\n",
        "emailing: jrobinson@fullersir.com"
       ]
      },
      {
       "output_type": "stream",
       "stream": "stdout",
       "text": [
        "\n",
        "emailing: kingshorthair@gmail.com"
       ]
      },
      {
       "output_type": "stream",
       "stream": "stdout",
       "text": [
        "\n",
        "emailing: mikespykerman@gmail.com"
       ]
      },
      {
       "output_type": "stream",
       "stream": "stdout",
       "text": [
        "\n",
        "emailing: majhanc@comcast.net"
       ]
      },
      {
       "output_type": "stream",
       "stream": "stdout",
       "text": [
        "\n",
        "emailing: jjberry99@gmail.com"
       ]
      },
      {
       "output_type": "stream",
       "stream": "stdout",
       "text": [
        "\n",
        "emailing: katurner201@gmail.com"
       ]
      },
      {
       "output_type": "stream",
       "stream": "stdout",
       "text": [
        "\n",
        "emailing: bellaoleksy@gmail.com"
       ]
      },
      {
       "output_type": "stream",
       "stream": "stdout",
       "text": [
        "\n",
        "emailing: link.brian@gmail.com"
       ]
      },
      {
       "output_type": "stream",
       "stream": "stdout",
       "text": [
        "\n",
        "emailing: errinvito@gmail.com"
       ]
      },
      {
       "output_type": "stream",
       "stream": "stdout",
       "text": [
        "\n",
        "emailing: sam_anderson@comcast.net"
       ]
      },
      {
       "output_type": "stream",
       "stream": "stdout",
       "text": [
        "\n",
        "emailing: wildwillowranch@yahoo.com"
       ]
      },
      {
       "output_type": "stream",
       "stream": "stdout",
       "text": [
        "\n",
        "emailing: amytco@gmail.com"
       ]
      },
      {
       "output_type": "stream",
       "stream": "stdout",
       "text": [
        "\n",
        "emailing: jovz@earthlink.net"
       ]
      },
      {
       "output_type": "stream",
       "stream": "stdout",
       "text": [
        "\n",
        "emailing: jamesandruth@juno.com"
       ]
      },
      {
       "output_type": "stream",
       "stream": "stdout",
       "text": [
        "\n",
        "emailing: marisa.rorabaugh13@gmail.com"
       ]
      },
      {
       "output_type": "stream",
       "stream": "stdout",
       "text": [
        "\n",
        "emailing: lairder@gmail.com"
       ]
      },
      {
       "output_type": "stream",
       "stream": "stdout",
       "text": [
        "\n",
        "emailing: terrietpeterson@gmail.com"
       ]
      },
      {
       "output_type": "stream",
       "stream": "stdout",
       "text": [
        "\n",
        "emailing: jberger@mines.edu"
       ]
      },
      {
       "output_type": "stream",
       "stream": "stdout",
       "text": [
        "\n",
        "emailing: heidijwahl70@gmail.com"
       ]
      },
      {
       "output_type": "stream",
       "stream": "stdout",
       "text": [
        "\n",
        "emailing: amandakellyknutson@gmail.com"
       ]
      },
      {
       "output_type": "stream",
       "stream": "stdout",
       "text": [
        "\n",
        "emailing: rondgarrett@icloud.com"
       ]
      },
      {
       "output_type": "stream",
       "stream": "stdout",
       "text": [
        "\n",
        "emailing: gbtruongs@icloud.com"
       ]
      },
      {
       "output_type": "stream",
       "stream": "stdout",
       "text": [
        "\n",
        "emailing: rickanstey@gmail.com"
       ]
      },
      {
       "output_type": "stream",
       "stream": "stdout",
       "text": [
        "\n",
        "emailing: chinatown00_2000@yahoo.com"
       ]
      },
      {
       "output_type": "stream",
       "stream": "stdout",
       "text": [
        "\n",
        "emailing: jhumphreys@homeadvisor.com"
       ]
      },
      {
       "output_type": "stream",
       "stream": "stdout",
       "text": [
        "\n",
        "emailing: laffinrock@yahoo.com"
       ]
      },
      {
       "output_type": "stream",
       "stream": "stdout",
       "text": [
        "\n",
        "emailing: adam.g.wylie@gmail.com"
       ]
      },
      {
       "output_type": "stream",
       "stream": "stdout",
       "text": [
        "\n",
        "emailing: dmhobbs53@gmail.com"
       ]
      },
      {
       "output_type": "stream",
       "stream": "stdout",
       "text": [
        "\n",
        "emailing: kendrew@peaceyfamily.com"
       ]
      },
      {
       "output_type": "stream",
       "stream": "stdout",
       "text": [
        "\n",
        "emailing: shishou@gmail.com"
       ]
      },
      {
       "output_type": "stream",
       "stream": "stdout",
       "text": [
        "\n",
        "emailing: cosmo@cyclocosm.com"
       ]
      },
      {
       "output_type": "stream",
       "stream": "stdout",
       "text": [
        "\n",
        "emailing: eric_stapleton@yahoo.com"
       ]
      },
      {
       "output_type": "stream",
       "stream": "stdout",
       "text": [
        "\n",
        "emailing: slhuzyk@gmail.com"
       ]
      },
      {
       "output_type": "stream",
       "stream": "stdout",
       "text": [
        "\n",
        "emailing: bschildt@yahoo.com"
       ]
      },
      {
       "output_type": "stream",
       "stream": "stdout",
       "text": [
        "\n",
        "emailing: mikevcarr@gmail.com"
       ]
      },
      {
       "output_type": "stream",
       "stream": "stdout",
       "text": [
        "\n",
        "emailing: marc.nethercott@gmail.com"
       ]
      },
      {
       "output_type": "stream",
       "stream": "stdout",
       "text": [
        "\n",
        "emailing: paulrschn@gmail.com"
       ]
      },
      {
       "output_type": "stream",
       "stream": "stdout",
       "text": [
        "\n",
        "emailing: nickrk1@gmail.com"
       ]
      },
      {
       "output_type": "stream",
       "stream": "stdout",
       "text": [
        "\n",
        "emailing: burrows.casey@gmail.com"
       ]
      },
      {
       "output_type": "stream",
       "stream": "stdout",
       "text": [
        "\n",
        "emailing: jeff.kaes@gmail.com"
       ]
      },
      {
       "output_type": "stream",
       "stream": "stdout",
       "text": [
        "\n",
        "emailing: horgerw@gmail.com"
       ]
      },
      {
       "output_type": "stream",
       "stream": "stdout",
       "text": [
        "\n",
        "emailing: gnscott1@comcast.net"
       ]
      },
      {
       "output_type": "stream",
       "stream": "stdout",
       "text": [
        "\n",
        "emailing: jeffhcole@gmail.com"
       ]
      },
      {
       "output_type": "stream",
       "stream": "stdout",
       "text": [
        "\n",
        "emailing: ewogen@comcast.net"
       ]
      },
      {
       "output_type": "stream",
       "stream": "stdout",
       "text": [
        "\n",
        "emailing: ifwilson.design@gmail.com"
       ]
      },
      {
       "output_type": "stream",
       "stream": "stdout",
       "text": [
        "\n",
        "emailing: hmgurov@gmail.com"
       ]
      },
      {
       "output_type": "stream",
       "stream": "stdout",
       "text": [
        "\n",
        "emailing: hgrinolds@msn.com"
       ]
      },
      {
       "output_type": "stream",
       "stream": "stdout",
       "text": [
        "\n",
        "emailing: ultrarunner@yahoo.com"
       ]
      },
      {
       "output_type": "stream",
       "stream": "stdout",
       "text": [
        "\n",
        "emailing: kellawj@gmail.com"
       ]
      },
      {
       "output_type": "stream",
       "stream": "stdout",
       "text": [
        "\n",
        "emailing: eric_callmann@yahoo.com"
       ]
      },
      {
       "output_type": "stream",
       "stream": "stdout",
       "text": [
        "\n",
        "emailing: ernest.ezis@gmail.com"
       ]
      },
      {
       "output_type": "stream",
       "stream": "stdout",
       "text": [
        "\n",
        "emailing: cmemelink@pearlizumi.com"
       ]
      },
      {
       "output_type": "stream",
       "stream": "stdout",
       "text": [
        "\n",
        "emailing: meganholstein@gmail.com"
       ]
      },
      {
       "output_type": "stream",
       "stream": "stdout",
       "text": [
        "\n",
        "emailing: mattpuccio@hotmail.com"
       ]
      },
      {
       "output_type": "stream",
       "stream": "stdout",
       "text": [
        "\n",
        "emailing: harperjocque@gmail.com"
       ]
      },
      {
       "output_type": "stream",
       "stream": "stdout",
       "text": [
        "\n",
        "emailing: ernestezi.s@gmail.com"
       ]
      },
      {
       "output_type": "stream",
       "stream": "stdout",
       "text": [
        "\n",
        "emailing: d.cavallari@gmail.com"
       ]
      },
      {
       "output_type": "stream",
       "stream": "stdout",
       "text": [
        "\n",
        "emailing: ThePoetMarie@gmail.com"
       ]
      },
      {
       "output_type": "stream",
       "stream": "stdout",
       "text": [
        "\n",
        "emailing: kennethboden@outlook.com"
       ]
      },
      {
       "output_type": "stream",
       "stream": "stdout",
       "text": [
        "\n",
        "emailing: haugen.timo@gmail.com"
       ]
      },
      {
       "output_type": "stream",
       "stream": "stdout",
       "text": [
        "\n",
        "emailing: lenholm@bouldercounty.org"
       ]
      },
      {
       "output_type": "stream",
       "stream": "stdout",
       "text": [
        "\n",
        "emailing: mnstrduc@yahoo.com"
       ]
      },
      {
       "output_type": "stream",
       "stream": "stdout",
       "text": [
        "\n",
        "emailing: klperk19@aol.com"
       ]
      },
      {
       "output_type": "stream",
       "stream": "stdout",
       "text": [
        "\n",
        "emailing: nikkimorgancmt@gmail.com"
       ]
      },
      {
       "output_type": "stream",
       "stream": "stdout",
       "text": [
        "\n",
        "emailing: ejbrand12@gmail.com"
       ]
      },
      {
       "output_type": "stream",
       "stream": "stdout",
       "text": [
        "\n",
        "emailing: rick@experienceplus.com"
       ]
      },
      {
       "output_type": "stream",
       "stream": "stdout",
       "text": [
        "\n",
        "emailing: ashtonmomot@gmail.com"
       ]
      },
      {
       "output_type": "stream",
       "stream": "stdout",
       "text": [
        "\n",
        "emailing: kendrew@peaceyfamily.com"
       ]
      },
      {
       "output_type": "stream",
       "stream": "stdout",
       "text": [
        "\n",
        "emailing: rchandler@ciaracing.com"
       ]
      },
      {
       "output_type": "stream",
       "stream": "stdout",
       "text": [
        "\n",
        "emailing: errinvito@gmail.com"
       ]
      },
      {
       "output_type": "stream",
       "stream": "stdout",
       "text": [
        "\n",
        "emailing: thofert@gmail.com"
       ]
      },
      {
       "output_type": "stream",
       "stream": "stdout",
       "text": [
        "\n",
        "emailing: ceo@magswitch.com.au"
       ]
      },
      {
       "output_type": "stream",
       "stream": "stdout",
       "text": [
        "\n",
        "emailing: ste.aless@libero.it"
       ]
      },
      {
       "output_type": "stream",
       "stream": "stdout",
       "text": [
        "\n",
        "emailing: dutchman3600@gmail.com"
       ]
      },
      {
       "output_type": "stream",
       "stream": "stdout",
       "text": [
        "\n",
        "emailing: chrisjustincase@gmail.com"
       ]
      },
      {
       "output_type": "stream",
       "stream": "stdout",
       "text": [
        "\n",
        "emailing: l@larey.cc"
       ]
      },
      {
       "output_type": "stream",
       "stream": "stdout",
       "text": [
        "\n",
        "emailing: erin.closecalldatabase@the4ds.us"
       ]
      },
      {
       "output_type": "stream",
       "stream": "stdout",
       "text": [
        "\n",
        "emailing: geoffcpr@gmail.com"
       ]
      },
      {
       "output_type": "stream",
       "stream": "stdout",
       "text": [
        "\n",
        "emailing: jenifer.woods@gmail.com"
       ]
      },
      {
       "output_type": "stream",
       "stream": "stdout",
       "text": [
        "\n",
        "emailing: barrettkuhn@gmail.com"
       ]
      },
      {
       "output_type": "stream",
       "stream": "stdout",
       "text": [
        "\n",
        "emailing: amelia.messegee@gmail.com"
       ]
      },
      {
       "output_type": "stream",
       "stream": "stdout",
       "text": [
        "\n",
        "emailing: megbendik@gmail.com"
       ]
      },
      {
       "output_type": "stream",
       "stream": "stdout",
       "text": [
        "\n",
        "emailing: meg.robben@gmail.com"
       ]
      },
      {
       "output_type": "stream",
       "stream": "stdout",
       "text": [
        "\n",
        "emailing: ealarcon1031@gmail.com"
       ]
      },
      {
       "output_type": "stream",
       "stream": "stdout",
       "text": [
        "\n",
        "emailing: shersey@biggear.com"
       ]
      },
      {
       "output_type": "stream",
       "stream": "stdout",
       "text": [
        "\n",
        "emailing: ajgresl@yahoo.com"
       ]
      },
      {
       "output_type": "stream",
       "stream": "stdout",
       "text": [
        "\n",
        "emailing: ilscungilli@gmail.com"
       ]
      },
      {
       "output_type": "stream",
       "stream": "stdout",
       "text": [
        "\n",
        "emailing: rickcadenaro@msn.com"
       ]
      },
      {
       "output_type": "stream",
       "stream": "stdout",
       "text": [
        "\n",
        "emailing: kielreijnen@gmail.com"
       ]
      },
      {
       "output_type": "stream",
       "stream": "stdout",
       "text": [
        "\n",
        "emailing: mark.heidorn@gmail.com"
       ]
      },
      {
       "output_type": "stream",
       "stream": "stdout",
       "text": [
        "\n",
        "emailing: susankylie73@yahoo.com"
       ]
      },
      {
       "output_type": "stream",
       "stream": "stdout",
       "text": [
        "\n",
        "emailing: david.travis.fb@gmail.com"
       ]
      },
      {
       "output_type": "stream",
       "stream": "stdout",
       "text": [
        "\n",
        "emailing: stevens.brian@gmail.com"
       ]
      },
      {
       "output_type": "stream",
       "stream": "stdout",
       "text": [
        "\n",
        "emailing: zachkreider@gmail.com"
       ]
      },
      {
       "output_type": "stream",
       "stream": "stdout",
       "text": [
        "\n",
        "emailing: kreider.matthew@gmail.com"
       ]
      },
      {
       "output_type": "stream",
       "stream": "stdout",
       "text": [
        "\n",
        "emailing: cpkeller447@yahoo.com"
       ]
      },
      {
       "output_type": "stream",
       "stream": "stdout",
       "text": [
        "\n",
        "emailing: bhoffmeyer@iqnavigator.com"
       ]
      },
      {
       "output_type": "stream",
       "stream": "stdout",
       "text": [
        "\n",
        "emailing: aheartforhealth@yahoo.com"
       ]
      },
      {
       "output_type": "stream",
       "stream": "stdout",
       "text": [
        "\n",
        "emailing: david42@q.com"
       ]
      },
      {
       "output_type": "stream",
       "stream": "stdout",
       "text": [
        "\n",
        "emailing: drdroege@hotmail.com"
       ]
      },
      {
       "output_type": "stream",
       "stream": "stdout",
       "text": [
        "\n",
        "emailing: dcroederer@comcast.net"
       ]
      },
      {
       "output_type": "stream",
       "stream": "stdout",
       "text": [
        "\n",
        "emailing: saraadelaide@gmail.com"
       ]
      },
      {
       "output_type": "stream",
       "stream": "stdout",
       "text": [
        "\n",
        "emailing: slhuzyk@gmail.com"
       ]
      },
      {
       "output_type": "stream",
       "stream": "stdout",
       "text": [
        "\n",
        "emailing: courtneyatx25@gmail.com"
       ]
      },
      {
       "output_type": "stream",
       "stream": "stdout",
       "text": [
        "\n",
        "emailing: rctenent@comcast.net"
       ]
      },
      {
       "output_type": "stream",
       "stream": "stdout",
       "text": [
        "\n",
        "emailing: drdroege@hotmail.com"
       ]
      },
      {
       "output_type": "stream",
       "stream": "stdout",
       "text": [
        "\n",
        "emailing: ultrarunner@yahoo.com"
       ]
      },
      {
       "output_type": "stream",
       "stream": "stdout",
       "text": [
        "\n",
        "emailing: garrett.cole@gmail.com"
       ]
      },
      {
       "output_type": "stream",
       "stream": "stdout",
       "text": [
        "\n",
        "emailing: mcollins52@comcast.net"
       ]
      },
      {
       "output_type": "stream",
       "stream": "stdout",
       "text": [
        "\n",
        "emailing: meganholstein@gmail.com"
       ]
      },
      {
       "output_type": "stream",
       "stream": "stdout",
       "text": [
        "\n",
        "emailing: crosspropz@gmail.com"
       ]
      },
      {
       "output_type": "stream",
       "stream": "stdout",
       "text": [
        "\n",
        "emailing: epaulk76@gmail.com"
       ]
      },
      {
       "output_type": "stream",
       "stream": "stdout",
       "text": [
        "\n",
        "emailing: wildwillowranch@yahoo.com"
       ]
      },
      {
       "output_type": "stream",
       "stream": "stdout",
       "text": [
        "\n",
        "emailing: getonit511@yahoo.com"
       ]
      },
      {
       "output_type": "stream",
       "stream": "stdout",
       "text": [
        "\n",
        "emailing: ernst.bri@gmail.com"
       ]
      },
      {
       "output_type": "stream",
       "stream": "stdout",
       "text": [
        "\n",
        "emailing: ryan.franz@gmail.com"
       ]
      },
      {
       "output_type": "stream",
       "stream": "stdout",
       "text": [
        "\n",
        "emailing: joe.murphy@gmail.com"
       ]
      },
      {
       "output_type": "stream",
       "stream": "stdout",
       "text": [
        "\n",
        "emailing: thompson@vassar.edu"
       ]
      },
      {
       "output_type": "stream",
       "stream": "stdout",
       "text": [
        "\n",
        "emailing: andrew.d.bell@gmail.com"
       ]
      },
      {
       "output_type": "stream",
       "stream": "stdout",
       "text": [
        "\n",
        "emailing: phytz9@hotmail.com"
       ]
      },
      {
       "output_type": "stream",
       "stream": "stdout",
       "text": [
        "\n",
        "emailing: jnormandeau@gmail.com"
       ]
      },
      {
       "output_type": "stream",
       "stream": "stdout",
       "text": [
        "\n",
        "emailing: marickstarr@gmail.com"
       ]
      },
      {
       "output_type": "stream",
       "stream": "stdout",
       "text": [
        "\n",
        "emailing: Joe.Beninghof@gmail.com"
       ]
      },
      {
       "output_type": "stream",
       "stream": "stdout",
       "text": [
        "\n",
        "emailing: charlie.knoll@gmail.com"
       ]
      },
      {
       "output_type": "stream",
       "stream": "stdout",
       "text": [
        "\n",
        "emailing: jaredshuttleworth@gmail.com"
       ]
      },
      {
       "output_type": "stream",
       "stream": "stdout",
       "text": [
        "\n",
        "emailing: jrey@seveng.net"
       ]
      },
      {
       "output_type": "stream",
       "stream": "stdout",
       "text": [
        "\n",
        "emailing: forestgospel@gmail.com"
       ]
      },
      {
       "output_type": "stream",
       "stream": "stdout",
       "text": [
        "\n",
        "emailing: rocky-smith@comcast.net"
       ]
      },
      {
       "output_type": "stream",
       "stream": "stdout",
       "text": [
        "\n",
        "emailing: jimmyarcherracing@yahoo.com"
       ]
      },
      {
       "output_type": "stream",
       "stream": "stdout",
       "text": [
        "\n",
        "emailing: birtatc@q.com"
       ]
      },
      {
       "output_type": "stream",
       "stream": "stdout",
       "text": [
        "\n",
        "emailing: pbjski@gmail.com"
       ]
      },
      {
       "output_type": "stream",
       "stream": "stdout",
       "text": [
        "\n",
        "emailing: chris@enemyhideout.com"
       ]
      },
      {
       "output_type": "stream",
       "stream": "stdout",
       "text": [
        "\n",
        "emailing: erikarows@gmail.com"
       ]
      },
      {
       "output_type": "stream",
       "stream": "stdout",
       "text": [
        "\n",
        "emailing: cutters.08@gmail.com"
       ]
      },
      {
       "output_type": "stream",
       "stream": "stdout",
       "text": [
        "\n",
        "emailing: brian.d.cook@amec.com"
       ]
      },
      {
       "output_type": "stream",
       "stream": "stdout",
       "text": [
        "\n",
        "emailing: petewebbercx@gmail.com"
       ]
      },
      {
       "output_type": "stream",
       "stream": "stdout",
       "text": [
        "\n",
        "emailing: l.zinn@comcast.net"
       ]
      },
      {
       "output_type": "stream",
       "stream": "stdout",
       "text": [
        "\n",
        "emailing: kip.h.taylor@gmail.com"
       ]
      },
      {
       "output_type": "stream",
       "stream": "stdout",
       "text": [
        "\n",
        "emailing: boups@racecx.com"
       ]
      },
      {
       "output_type": "stream",
       "stream": "stdout",
       "text": [
        "\n",
        "emailing: onegulin@yahoo.com"
       ]
      },
      {
       "output_type": "stream",
       "stream": "stdout",
       "text": [
        "\n",
        "emailing: kurt.dageforde@gmail.com"
       ]
      },
      {
       "output_type": "stream",
       "stream": "stdout",
       "text": [
        "\n",
        "emailing: mike@roadbikemike.com"
       ]
      },
      {
       "output_type": "stream",
       "stream": "stdout",
       "text": [
        "\n",
        "emailing: mike@ramseier.org"
       ]
      },
      {
       "output_type": "stream",
       "stream": "stdout",
       "text": [
        "\n",
        "emailing: bret.wade@gmail.com"
       ]
      },
      {
       "output_type": "stream",
       "stream": "stdout",
       "text": [
        "\n",
        "emailing: drdroege@hotmail.com"
       ]
      },
      {
       "output_type": "stream",
       "stream": "stdout",
       "text": [
        "\n",
        "emailing: efalldin@yahoo.com"
       ]
      },
      {
       "output_type": "stream",
       "stream": "stdout",
       "text": [
        "\n",
        "emailing: hessrt@live.com"
       ]
      },
      {
       "output_type": "stream",
       "stream": "stdout",
       "text": [
        "\n",
        "emailing: ezweave@gmail.com"
       ]
      },
      {
       "output_type": "stream",
       "stream": "stdout",
       "text": [
        "\n",
        "emailing: boundingriley@msn.com"
       ]
      },
      {
       "output_type": "stream",
       "stream": "stdout",
       "text": [
        "\n",
        "emailing: daletriley@gmail.com"
       ]
      },
      {
       "output_type": "stream",
       "stream": "stdout",
       "text": [
        "\n",
        "emailing: lee.cryer@comcast.net"
       ]
      },
      {
       "output_type": "stream",
       "stream": "stdout",
       "text": [
        "\n",
        "emailing: clmnelson@gmail.com"
       ]
      },
      {
       "output_type": "stream",
       "stream": "stdout",
       "text": [
        "\n",
        "emailing: matt.gordon@me.com"
       ]
      },
      {
       "output_type": "stream",
       "stream": "stdout",
       "text": [
        "\n",
        "emailing: eric@livelook.tv"
       ]
      },
      {
       "output_type": "stream",
       "stream": "stdout",
       "text": [
        "\n",
        "emailing: ben@harding.boulder.co.us"
       ]
      },
      {
       "output_type": "stream",
       "stream": "stdout",
       "text": [
        "\n",
        "emailing: jrkotrla@gmail.com"
       ]
      },
      {
       "output_type": "stream",
       "stream": "stdout",
       "text": [
        "\n",
        "emailing: grcratty@yahoo.com"
       ]
      },
      {
       "output_type": "stream",
       "stream": "stdout",
       "text": [
        "\n",
        "emailing: jkotrla@angelo.edu"
       ]
      },
      {
       "output_type": "stream",
       "stream": "stdout",
       "text": [
        "\n",
        "emailing: tduske@msn.com"
       ]
      },
      {
       "output_type": "stream",
       "stream": "stdout",
       "text": [
        "\n",
        "emailing: graystar001@gmail.com"
       ]
      },
      {
       "output_type": "stream",
       "stream": "stdout",
       "text": [
        "\n",
        "emailing: kennejam@yahoo.com"
       ]
      },
      {
       "output_type": "stream",
       "stream": "stdout",
       "text": [
        "\n",
        "emailing: davidr5@yahoo.com"
       ]
      },
      {
       "output_type": "stream",
       "stream": "stdout",
       "text": [
        "\n",
        "emailing: bmwatty@yahoo.com"
       ]
      },
      {
       "output_type": "stream",
       "stream": "stdout",
       "text": [
        "\n",
        "emailing: charbuck47@live.com"
       ]
      },
      {
       "output_type": "stream",
       "stream": "stdout",
       "text": [
        "\n",
        "emailing: redhillaz@gmail.com"
       ]
      },
      {
       "output_type": "stream",
       "stream": "stdout",
       "text": [
        "\n",
        "emailing: caleb.stoll@gmail.com"
       ]
      },
      {
       "output_type": "stream",
       "stream": "stdout",
       "text": [
        "\n",
        "emailing: jere557@hotmail.com"
       ]
      },
      {
       "output_type": "stream",
       "stream": "stdout",
       "text": [
        "\n",
        "emailing: suzy_spezzano@yahoo.com"
       ]
      },
      {
       "output_type": "stream",
       "stream": "stdout",
       "text": [
        "\n",
        "emailing: saeedis@gmail.com"
       ]
      },
      {
       "output_type": "stream",
       "stream": "stdout",
       "text": [
        "\n",
        "emailing: alexey.davies@gmail.com"
       ]
      },
      {
       "output_type": "stream",
       "stream": "stdout",
       "text": [
        "\n",
        "emailing: hotratz@mac.com"
       ]
      },
      {
       "output_type": "stream",
       "stream": "stdout",
       "text": [
        "\n",
        "emailing: mikeb3579@gmail.com"
       ]
      },
      {
       "output_type": "stream",
       "stream": "stdout",
       "text": [
        "\n",
        "emailing: diego.e.long@gmail.com"
       ]
      },
      {
       "output_type": "stream",
       "stream": "stdout",
       "text": [
        "\n",
        "emailing: kf4kimberly@yahoo.com"
       ]
      },
      {
       "output_type": "stream",
       "stream": "stdout",
       "text": [
        "\n",
        "emailing: amy.darmer@gmail.com"
       ]
      },
      {
       "output_type": "stream",
       "stream": "stdout",
       "text": [
        "\n",
        "emailing: jkraychy@aol.com"
       ]
      },
      {
       "output_type": "stream",
       "stream": "stdout",
       "text": [
        "\n",
        "emailing: bikingmikeb@yahoo.com"
       ]
      },
      {
       "output_type": "stream",
       "stream": "stdout",
       "text": [
        "\n",
        "emailing: d.cavallari@gmail.com"
       ]
      },
      {
       "output_type": "stream",
       "stream": "stderr",
       "text": [
        "/Users/eae/.virtualenvs/closecall/lib/python2.7/site-packages/django/db/models/fields/__init__.py:1282: RuntimeWarning: DateTimeField Incident.email_sent_on received a naive datetime (2015-06-24 01:58:09.909551) while time zone support is active.\n",
        "  RuntimeWarning)\n",
        "\n"
       ]
      },
      {
       "output_type": "stream",
       "stream": "stderr",
       "text": [
        "WARNING:py.warnings:/Users/eae/.virtualenvs/closecall/lib/python2.7/site-packages/django/db/models/fields/__init__.py:1282: RuntimeWarning: DateTimeField Incident.email_sent_on received a naive datetime (2015-06-24 01:58:09.909551) while time zone support is active.\n",
        "  RuntimeWarning)\n",
        "\n"
       ]
      },
      {
       "output_type": "stream",
       "stream": "stdout",
       "text": [
        "\n",
        "\n"
       ]
      },
      {
       "output_type": "stream",
       "stream": "stdout",
       "text": [
        "\n",
        "now sending copy to eezis\n",
        "\n",
        "\n",
        "\n"
       ]
      },
      {
       "output_type": "stream",
       "stream": "stdout",
       "text": [
        "\n",
        "emails have been sent\n"
       ]
      }
     ],
     "prompt_number": 2
    },
    {
     "cell_type": "code",
     "collapsed": false,
     "input": [],
     "language": "python",
     "metadata": {},
     "outputs": []
    }
   ],
   "metadata": {}
  }
 ]
}