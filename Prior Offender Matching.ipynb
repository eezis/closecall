{
 "metadata": {
  "name": "",
  "signature": "sha256:3555fe87a1e161153a895903cb68aeed3a9bfe7f2a9ec49e9650198fd103411a"
 },
 "nbformat": 3,
 "nbformat_minor": 0,
 "worksheets": [
  {
   "cells": [
    {
     "cell_type": "code",
     "collapsed": false,
     "input": [
      "import sys\n",
      "sys.path.append(\"/Users/eae/code/sites/closecall\")\n",
      "sys.path.append(\"/Users/eae/.virtualenvs/closecall/lib/python2.7/site-packages\")\n",
      "sys.path.append(\"/home/eezis/sites/closecall\")\n",
      "sys.path.append(\"/home/eezis/sites/closecall/closecall\")\n",
      "sys.path.append(\"/home/eezis/.virtualenvs/closecall/bin/python2.7/site-packages\")\n",
      "\n",
      "import os\n",
      "os.environ['DJANGO_SETTINGS_MODULE'] = 'closecall.settings'\n",
      "import django\n",
      "django.setup()\n",
      "\n",
      "import re\n",
      "\n",
      "from incident.models import Incident\n",
      "\n",
      "def regex_match(pattern_to_find, string_to_search):\n",
      "    if re.search(pattern_to_find, string_to_search, flags=re.M|re.S):\n",
      "        return True\n",
      "\n",
      "def does_clue_exist_in_clues(clue, clues):\n",
      "    return regex_match(clue, clues)\n",
      "\n",
      "def look_for_prior_violation(clue):\n",
      "    # get all the incidents     \n",
      "    I = Incident.objects.all()\n",
      "    # create a dictionary to hold the datas/clues from prior incident reports\n",
      "    potentials = {}\n",
      "    # build the dictionary of potential data\n",
      "    for i in I:\n",
      "        #print i.id, i.license_certain, i.license_uncertain, i.vehicle_description\n",
      "        potentials[i.id] = i.license_certain, i.license_uncertain, i.vehicle_description, i.address\n",
      "\n",
      "\n",
      "    for key in potentials:\n",
      "        if does_clue_exist_in_clues(clue, str(potentials[key])):\n",
      "            print key, clue, potentials[key] \n",
      "#         print potentials[key]\n",
      "    \n",
      "print \"------------\"    \n",
      "    \n",
      "look_for_prior_violation('Small')\n",
      "print \n",
      "look_for_prior_violation('Small SUV')\n",
      "print\n",
      "look_for_prior_violation('259 FRP')\n",
      "print\n",
      "look_for_prior_violation('Cooper')\n",
      "\n",
      "print\n",
      "look_for_prior_violation('White')\n",
      "look_for_prior_violation('Pickup')\n",
      "\n"
     ],
     "language": "python",
     "metadata": {},
     "outputs": [
      {
       "output_type": "stream",
       "stream": "stdout",
       "text": [
        "------------\n",
        "68"
       ]
      },
      {
       "output_type": "stream",
       "stream": "stdout",
       "text": [
        " Small (u'', u'CO  259 FRP ', u'Small silver car', u'5331-5399 West Co Road 8e, Berthoud, CO 80513, USA')\n",
        "117 Small (u'', u'', u'Small SUV -- Possibly Jeep Wrangler', u'202 West Bessemer Avenue, Greensboro, NC 27401, USA')\n",
        "153 Small (u'', u'', u'Small White Car', u'Avenida Alfonso Vald\\xe9s Cobi\\xe1n, Mayag\\xfcez, Mayag\\xfcez 00680, Puerto Rico')\n",
        "\n",
        "117"
       ]
      },
      {
       "output_type": "stream",
       "stream": "stdout",
       "text": [
        " Small SUV (u'', u'', u'Small SUV -- Possibly Jeep Wrangler', u'202 West Bessemer Avenue, Greensboro, NC 27401, USA')\n",
        "\n",
        "68"
       ]
      },
      {
       "output_type": "stream",
       "stream": "stdout",
       "text": [
        " 259 FRP (u'', u'CO  259 FRP ', u'Small silver car', u'5331-5399 West Co Road 8e, Berthoud, CO 80513, USA')\n",
        "\n",
        "\n"
       ]
      },
      {
       "output_type": "stream",
       "stream": "stdout",
       "text": [
        "5 White (u'', u'', u'White Pickup Truck', u'4301-4347 Durham Road, Guilford, CT 06437, USA')\n",
        "7 White (u'', u'CO: 163 - DKJ  or 163 - JDK', u'White Pickup Truck', u'5160 Nelson Road, Longmont, CO 80503, USA')\n",
        "22 White (u'', u'', u'White semi truck and trailer', u'1372 Lower Shannon Road, Dresden, TN 38225, USA')\n",
        "39 White (u'', u'b366u', u'White passenger van (large, maybe 15-seater)', u'1110 A Street, San Diego, CA 92101, USA')\n",
        "45 White (u'CA/ ZWICK', u'', u'White SUV', u'412-478 Catalina Boulevard, San Diego, CA 92106, USA')\n",
        "50 White (u'GJT 310', u'', u'White Honda CRV SUV', u'480 Agnes Street, Winnipeg, MB R3G 1N6, Canada')\n",
        "52 White (u'ON AF27475', u'', u'White Nissan Cargo Van with 599 but no company markings otherwise', u'95 Shuter Street, Toronto, ON M5A, Canada')\n",
        "54 White (u'Indiana/512GAZ', u'', u'White Tahoe SUV', u'Zionsville Rail Trail, Zionsville, IN 46077, USA')\n",
        "57 White (u'Virginia Plates', u'', u'White SUV', u'12468-12480 Elmont Road, Ashland, VA 23005, USA')\n",
        "62 White (u'903 LGG', u'', u'White Pickup truck with a topper', u'2949 44th Avenue South, Minneapolis, MN 55406, USA')\n",
        "76 White (u'359-TEC', u'', u'White Jeep Cherokee ', u'71 South Kolb Road, Tucson, AZ 85710, USA')\n",
        "82 White (u'', u'', u'White late 90s Toyota Forerunner with a suspension lift.', u'Old Settlement Road, Sylva, NC 28779, USA')\n",
        "93 White (u'WY: 2-3373B', u'', u'White older-model (maybe 1990s?) Isuzu SUV', u'4100-4298 Carey Avenue, Cheyenne, WY 82001, USA')\n",
        "102 White (u'ARB 34A', u'', u'White Subaru Imprezza with (Green) P Plate', u'Central Coast Highway, West Gosford NSW 2250, Australia')\n",
        "103 White (u'', u'CMY404  Second Truck: CA 67 FZ', u'White tip truck', u'186-200 George Downes Drive, Central Mangrove NSW 2250, Australia')\n",
        "113 White (u'', u'', u'White SUV', u'6575 El Cajon Boulevard, San Diego, CA 92115, USA')\n",
        "114 White (u'Hawaii SCD 842', u'', u'White Ford commercial shuttle bus (late model), tinted windows', u'1978-1998 Hawaii 92, Honolulu, HI 96815, USA')\n",
        "122 White (u'358 YYD', u'', u'White Ford Ranger Pickup', u'2330 9th Street, Boulder, CO 80304, USA')\n",
        "153 White (u'', u'', u'Small White Car', u'Avenida Alfonso Vald\\xe9s Cobi\\xe1n, Mayag\\xfcez, Mayag\\xfcez 00680, Puerto Rico')\n",
        "162 White (u'MA 5GDA40', u'', u'White sedan', u'98 Pearl Street, Cambridge, MA 02139, USA')\n",
        "193 White (u'', u'CA 6ML-P544. ', u'White Ford Fusion', u'Pinehurst Road, Oakland, CA 94619, USA')\n",
        "207 White (u'TX: CTB 4733', u'', u\"Black pickup truck. Large black grill on front of vehicle. White decals on the back: large 'P' or 'D' on left side of back window.\", u'12219-12419 Fitzhugh Road, Austin, TX 78736, USA')\n",
        "215 White (u'CA 7CSZ278', u'', u'White Minivan with the number 122 on the back. Probably a motor pool vehicle.', u'8987-8999 Pool Station Road, Angels Camp, CA 95222, USA')\n",
        "223 White (u'AZ: CJ17262', u'', u'White Ford Super Duty Pickup with custom hitch bumper and front \"Bull Guard\" Dually rear tires', u'Avenida Cochise, Sierra Vista, AZ 85635, USA')\n",
        "224 White (u'', u'CA 7HZ3PH4', u'White BMW Sedan', u'67 Centennial Drive, Berkeley, CA 94705, USA')\n",
        "235 White (u'', u'PA GHP-4677', u'White late model GMC Yukon XL SUV', u'106-111 Marshall Road, Glen Mills, PA 19342, USA')\n",
        "242 White (u'', u'', u'White, standard sized pick up truck, recent model - it looked newish.', u'6600-6852 Carlsbad Boulevard, Carlsbad, CA 92011, USA')\n",
        "243 White (u'NY plate FLM 3345', u'', u'dirty white or light tan older sedan', u'766-774 New York 22, White Plains, NY 10603, USA')\n",
        "247 White (u'', u'', u'White Box Truck -- possibly Isuzu', u'2263-2399 Cromwell Bridge Road, Parkville, MD 21234, USA')\n",
        "255 White (u'39C S62 ', u'Connecticut', u'White Ford F150 Pickup Truck', u'2-98 South Bedlam Road, Chaplin, CT 06235, USA')\n",
        "256 White (u'', u'', u'White Pickup truck', u'1010-1298 R Stoudemayer Road, Little Mountain, SC 29075, USA')\n",
        "257 White (u'', u'771 ZZT', u'White Audi Q5 (recent model)', u'93-249 Floydville Road, East Granby, CT 06026, USA')\n",
        "259 White (u'VT \"(trk) BLF 158\"', u'', u'White GMC Sierra', u'45-49 Sherman Street, Burlington, VT 05401, USA')\n",
        "264 White (u'', u'MA: 9Y? 930', u'White Infiniti I30 (?), early 2000s. ', u'136-200 College Avenue, Somerville, MA 02144, USA')\n",
        "267 White (u'AZ: G-477FA', u'', u'White Ford F150: Severely chipped paint on the tailgate and a steel \"window guard/rack\" on the back window.', u'1001 Avenida Cochise, Sierra Vista, AZ 85635, USA')\n",
        "272 White (u'', u'', u'White Chevy Pickup - Construction Racks, older dirty, full size', u'367-605 Bolinas Road, Fairfax, CA 94930, USA')\n",
        "5"
       ]
      },
      {
       "output_type": "stream",
       "stream": "stdout",
       "text": [
        " Pickup (u'', u'', u'White Pickup Truck', u'4301-4347 Durham Road, Guilford, CT 06437, USA')\n",
        "7 Pickup (u'', u'CO: 163 - DKJ  or 163 - JDK', u'White Pickup Truck', u'5160 Nelson Road, Longmont, CO 80503, USA')\n",
        "19 Pickup (u'APO 0835', u'', u'Pickup truck', u'4556-8994 Farm to Market Road 2813, Flint, TX 75762, USA')\n",
        "33 Pickup (u'CXM4818', u'', u'Pickup Truck', u'Interstate 635 Service Road, Irving, TX 75063, USA')\n",
        "62 Pickup (u'903 LGG', u'', u'White Pickup truck with a topper', u'2949 44th Avenue South, Minneapolis, MN 55406, USA')\n",
        "73 Pickup (u'', u'50CY*** Alabama tag', u'Pickup- not extended cab', u'6134-6208 Simpson Point Road, Grant, AL 35747, USA')\n",
        "101 Pickup (u'Wisconsin ET7198', u'', u'Pickup Truck', u'1762 Defoor Avenue Northwest, Atlanta, GA 30318, USA')\n",
        "107 Pickup (u'568 PD ', u'', u'Blue Chevy Pickup Truck', u'412 Wayzata Boulevard, Wayzata, MN 55391, USA')\n",
        "109 Pickup (u'OK 616GKQ', u'', u'Black Ford Super Duty Pickup', u'24th Avenue Northeast, Norman, OK 73071, USA')\n",
        "116 Pickup (u'', u'', u'Pickup Truck.  forgot color ', u'25995 Southwest Vanderschuere Road, Hillsboro, OR 97123, USA')\n",
        "122 Pickup (u'358 YYD', u'', u'White Ford Ranger Pickup', u'2330 9th Street, Boulder, CO 80304, USA')\n",
        "124 Pickup (u'', u'', u'Pickup Truck', u'101-199 West Railroad Avenue, Nickerson, KS 67561, USA')\n",
        "149 Pickup (u'CA/6Y09105', u'', u'Blue Pickup with matching  shell top ', u'124-198 Bay Boulevard, Chula Vista, CA 91910, USA')\n",
        "190 Pickup (u'', u'', u'Silver Dodge Ram Pickup', u'54381 Road 432, Bass Lake, CA 93604, USA')\n",
        "191 Pickup (u'', u'', u'Dark Green Ford F150 Pickup Truck', u'2200 North Carolina 97, Zebulon, NC 27597, USA')\n",
        "194 Pickup (u'New Jersey F86 DHU', u'', u'Red Ford Extended Cab Pickup', u'164 Mettlers Road, Somerset, NJ 08873, USA')\n",
        "208 Pickup (u'', u'', u'Black Chevy Silverado Pickup', u'4472-4514 Wheelock Road, Fort Wayne, IN 46835, USA')\n",
        "209 Pickup (u'EF-7076 (NC plates)', u'', u'Dark Grey Ford F Series Pickup truck', u'2600 Evans Road, Apex, NC 27502, USA')\n",
        "216 Pickup (u'', u'AZ AHG-3506', u'He was driving a late-model Dodge Ram Pickup, Silver.', u'4799 East Shea Boulevard, Phoenix, AZ 85028, USA')\n",
        "223 Pickup (u'AZ: CJ17262', u'', u'White Ford Super Duty Pickup with custom hitch bumper and front \"Bull Guard\" Dually rear tires', u'Avenida Cochise, Sierra Vista, AZ 85635, USA')\n",
        "230 Pickup (u'', u'MD 8A??????', u'Silver Pickup (might be an F250)', u'812-822 Harry S. Truman Parkway, Annapolis, MD 21401, USA')\n",
        "238 Pickup (u'', u'', u'Pickup truck, 3 male individuals riding in bed of truck. ', u'1373 Bloom Road, Westminster, MD 21157, USA')\n",
        "255 Pickup (u'39C S62 ', u'Connecticut', u'White Ford F150 Pickup Truck', u'2-98 South Bedlam Road, Chaplin, CT 06235, USA')\n",
        "256 Pickup (u'', u'', u'White Pickup truck', u'1010-1298 R Stoudemayer Road, Little Mountain, SC 29075, USA')\n",
        "263 Pickup (u'CO: 976 QZS', u'', u\"Dark Green Ford Pickup (smaller, 'one ton' variety)\", u'10800-10852 North Foothills Highway, Longmont, CO 80503, USA')\n",
        "272 Pickup (u'', u'', u'White Chevy Pickup - Construction Racks, older dirty, full size', u'367-605 Bolinas Road, Fairfax, CA 94930, USA')\n"
       ]
      }
     ],
     "prompt_number": 2
    },
    {
     "cell_type": "code",
     "collapsed": false,
     "input": [],
     "language": "python",
     "metadata": {},
     "outputs": []
    }
   ],
   "metadata": {}
  }
 ]
}