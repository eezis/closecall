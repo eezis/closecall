{
 "metadata": {
  "name": "",
  "signature": "sha256:36077f30de664e2a010d9aba725c6fc0e70f1cc32052d6a96dc4697aa86fec6d"
 },
 "nbformat": 3,
 "nbformat_minor": 0,
 "worksheets": [
  {
   "cells": [
    {
     "cell_type": "code",
     "collapsed": false,
     "input": [
      "import sys\n",
      "sys.path.append(\"/Users/eae/code/sites/closecall\")\n",
      "sys.path.append(\"/Users/eae/.virtualenvs/closecall/lib/python2.7/site-packages\")\n",
      "sys.path.append(\"/home/eezis/sites/closecall\")\n",
      "sys.path.append(\"/home/eezis/sites/closecall/closecall\")\n",
      "sys.path.append(\"/home/eezis/.virtualenvs/closecall/bin/python2.7/site-packages\")\n",
      "\n",
      "import os\n",
      "os.environ['DJANGO_SETTINGS_MODULE'] = 'closecall.settings'\n",
      "import django\n",
      "django.setup()\n",
      "\n",
      "import re\n",
      "\n",
      "from incident.models import Incident\n",
      "\n",
      "def regex_match(pattern_to_find, string_to_search):\n",
      "    if re.search(pattern_to_find, string_to_search, flags=re.M|re.S):\n",
      "        return True\n",
      "\n",
      "def does_clue_exist_in_clues(clue, clues):\n",
      "    return regex_match(clue, clues)\n",
      "\n",
      "def look_for_prior_violation(clue):\n",
      "    # get all the incidents     \n",
      "    I = Incident.objects.all()\n",
      "    # create a dictionary to hold the datas/clues from prior incident reports\n",
      "    potentials = {}\n",
      "    # build the dictionary of potential data\n",
      "    for i in I:\n",
      "        #print i.id, i.license_certain, i.license_uncertain, i.vehicle_description\n",
      "        potentials[i.id] = i.license_certain, i.license_uncertain, i.vehicle_description, i.address\n",
      "\n",
      "\n",
      "    for key in potentials:\n",
      "        if does_clue_exist_in_clues(clue, str(potentials[key])):\n",
      "            print key, clue, potentials[key] \n",
      "#         print potentials[key]\n",
      "    \n",
      "print \"------------\"    \n",
      "    \n",
      "# look_for_prior_violation('Small')\n",
      "# print \n",
      "# look_for_prior_violation('Small SUV')\n",
      "# print\n",
      "# look_for_prior_violation('259 FRP')\n",
      "# print\n",
      "# look_for_prior_violation('Cooper')\n",
      "\n",
      "print\n",
      "look_for_prior_violation('Orange')\n",
      "look_for_prior_violation('Pickup')\n",
      "\n"
     ],
     "language": "python",
     "metadata": {},
     "outputs": [
      {
       "output_type": "stream",
       "stream": "stdout",
       "text": [
        "------------\n",
        "\n",
        "70"
       ]
      },
      {
       "output_type": "stream",
       "stream": "stdout",
       "text": [
        " Orange (u'006-ZPK', u'', u'Orange Subaru hatchback', u'785 Flagstaff Road, Boulder, CO 80302, USA')\n",
        "108 Orange (u'OR: 120GNG', u'', u'Orange pickup truck with fake beadlock wheels and black fenders', u'2318 Gales Way, Forest Grove, OR 97116, USA')\n",
        "150 Orange (u'ZZF 26V (New Jersey)', u'', u'Saloon', u'627-643 South Orange Avenue, Livingston, NJ 07039, USA')\n",
        "5"
       ]
      },
      {
       "output_type": "stream",
       "stream": "stdout",
       "text": [
        " Pickup (u'', u'', u'White Pickup Truck', u'4301-4347 Durham Road, Guilford, CT 06437, USA')\n",
        "7 Pickup (u'CO: 163 - DKJ', u'', u'White Pickup Truck :: 2010 Nissan Titan LE', u'5160 Nelson Road, Longmont, CO 80503, USA')\n",
        "19 Pickup (u'APO 0835', u'', u'Pickup truck', u'4556-8994 Farm to Market Road 2813, Flint, TX 75762, USA')\n",
        "33 Pickup (u'CXM4818', u'', u'Pickup Truck', u'Interstate 635 Service Road, Irving, TX 75063, USA')\n",
        "62 Pickup (u'903 LGG', u'', u'White Pickup truck with a topper', u'2949 44th Avenue South, Minneapolis, MN 55406, USA')\n",
        "73 Pickup (u'', u'50CY*** Alabama tag', u'Pickup- not extended cab', u'6134-6208 Simpson Point Road, Grant, AL 35747, USA')\n",
        "101 Pickup (u'Wisconsin ET7198', u'', u'Pickup Truck', u'1762 Defoor Avenue Northwest, Atlanta, GA 30318, USA')\n",
        "107 Pickup (u'568 PD ', u'', u'Blue Chevy Pickup Truck', u'412 Wayzata Boulevard, Wayzata, MN 55391, USA')\n",
        "109 Pickup (u'OK 616GKQ', u'', u'Black Ford Super Duty Pickup', u'24th Avenue Northeast, Norman, OK 73071, USA')\n",
        "116 Pickup (u'', u'', u'Pickup Truck.  forgot color ', u'25995 Southwest Vanderschuere Road, Hillsboro, OR 97123, USA')\n",
        "122 Pickup (u'358 YYD', u'', u'White Ford Ranger Pickup', u'2330 9th Street, Boulder, CO 80304, USA')\n",
        "124 Pickup (u'', u'', u'Pickup Truck', u'101-199 West Railroad Avenue, Nickerson, KS 67561, USA')\n",
        "149 Pickup (u'CA/6Y09105', u'', u'Blue Pickup with matching  shell top ', u'124-198 Bay Boulevard, Chula Vista, CA 91910, USA')\n",
        "190 Pickup (u'', u'', u'Silver Dodge Ram Pickup', u'54381 Road 432, Bass Lake, CA 93604, USA')\n",
        "191 Pickup (u'', u'', u'Dark Green Ford F150 Pickup Truck', u'2200 North Carolina 97, Zebulon, NC 27597, USA')\n",
        "194 Pickup (u'New Jersey F86 DHU', u'', u'Red Ford Extended Cab Pickup', u'164 Mettlers Road, Somerset, NJ 08873, USA')\n",
        "208 Pickup (u'', u'', u'Black Chevy Silverado Pickup', u'4472-4514 Wheelock Road, Fort Wayne, IN 46835, USA')\n",
        "209 Pickup (u'EF-7076 (NC plates)', u'', u'Dark Grey Ford F Series Pickup truck', u'2600 Evans Road, Apex, NC 27502, USA')\n",
        "216 Pickup (u'', u'AZ AHG-3506', u'He was driving a late-model Dodge Ram Pickup, Silver.', u'4799 East Shea Boulevard, Phoenix, AZ 85028, USA')\n",
        "223 Pickup (u'AZ: CJ17262', u'', u'White Ford Super Duty Pickup with custom hitch bumper and front \"Bull Guard\" Dually rear tires', u'Avenida Cochise, Sierra Vista, AZ 85635, USA')\n",
        "230 Pickup (u'', u'MD 8A??????', u'Silver Pickup (might be an F250)', u'812-822 Harry S. Truman Parkway, Annapolis, MD 21401, USA')\n",
        "238 Pickup (u'', u'', u'Pickup truck, 3 male individuals riding in bed of truck. ', u'1373 Bloom Road, Westminster, MD 21157, USA')\n",
        "255 Pickup (u'39C S62 ', u'Connecticut', u'White Ford F150 Pickup Truck', u'2-98 South Bedlam Road, Chaplin, CT 06235, USA')\n",
        "256 Pickup (u'', u'', u'White Pickup truck', u'1010-1298 R Stoudemayer Road, Little Mountain, SC 29075, USA')\n",
        "263 Pickup (u'CO: 976 QZS', u'', u\"Dark Green Ford Pickup (smaller, 'one ton' variety)\", u'10800-10852 North Foothills Highway, Longmont, CO 80503, USA')\n",
        "272 Pickup (u'', u'', u'White Chevy Pickup - Construction Racks, older dirty, full size', u'367-605 Bolinas Road, Fairfax, CA 94930, USA')\n",
        "296 Pickup (u'', u'MN YBG2343', u'White Ford Pickup Truck', u'38 East Kellogg Boulevard, Saint Paul, MN 55101, USA')\n",
        "314 Pickup (u'', u'112372 (RI Plate, rather than CT?)', u'Maroon Ford F250 Pickup Truck', u'363 Flanders Road, Stonington, CT 06378, USA')\n",
        "329 Pickup (u'MD 2AM7680', u'', u'Silver Dodge Pickup with a cap', u'9572 Appolds Rd, Rocky Ridge, MD 21778, USA')\n"
       ]
      }
     ],
     "prompt_number": 1
    },
    {
     "cell_type": "code",
     "collapsed": false,
     "input": [],
     "language": "python",
     "metadata": {},
     "outputs": []
    }
   ],
   "metadata": {}
  }
 ]
}