{
 "metadata": {
  "name": "",
  "signature": "sha256:8897f967acec850707acbee6badfd6226c1b26e7fdd7ed2b07f88808fd2d9807"
 },
 "nbformat": 3,
 "nbformat_minor": 0,
 "worksheets": [
  {
   "cells": [
    {
     "cell_type": "code",
     "collapsed": false,
     "input": [
      "import sys\n",
      "sys.path.append(\"/Users/eae/code/sites/closecall\")\n",
      "sys.path.append(\"/Users/eae/.virtualenvs/closecall/lib/python2.7/site-packages\")\n",
      "sys.path.append(\"/home/eezis/sites/closecall\")\n",
      "sys.path.append(\"/home/eezis/sites/closecall/closecall\")\n",
      "sys.path.append(\"/home/eezis/.virtualenvs/closecall/bin/python2.7/site-packages\")\n",
      "\n",
      "import os\n",
      "os.environ['DJANGO_SETTINGS_MODULE'] = 'closecall.settings'\n",
      "import django\n",
      "django.setup()\n",
      "\n",
      "import re\n",
      "\n",
      "from incident.models import Incident\n",
      "\n",
      "def regex_match(pattern_to_find, string_to_search):\n",
      "    if re.search(pattern_to_find, string_to_search, flags=re.M|re.S):\n",
      "        return True\n",
      "\n",
      "def does_clue_exist_in_clues(clue, clues):\n",
      "    return regex_match(clue, clues)\n",
      "\n",
      "def look_for_prior_violation(clue):\n",
      "    # get all the incidents     \n",
      "    I = Incident.objects.all()\n",
      "    # create a dictionary to hold the datas/clues from prior incident reports\n",
      "    potentials = {}\n",
      "    # build the dictionary of potential data\n",
      "    for i in I:\n",
      "        #print i.id, i.license_certain, i.license_uncertain, i.vehicle_description\n",
      "        potentials[i.id] = i.license_certain, i.license_uncertain, i.vehicle_description, i.address,\n",
      "    \n",
      "    for key in potentials:\n",
      "        if does_clue_exist_in_clues(clue, str(potentials[key])):\n",
      "            print key, clue, potentials[key] \n",
      "        \n",
      "\n",
      "#         print potentials[key]\n",
      "    \n",
      "print \"------------\"    \n",
      "    \n",
      "# look_for_prior_violation('Small')\n",
      "# print \n",
      "# look_for_prior_violation('Small SUV')\n",
      "# print\n",
      "# look_for_prior_violation('259 FRP')\n",
      "# print\n",
      "# look_for_prior_violation('Cooper')\n",
      "\n",
      "print\n",
      "look_for_prior_violation('Cooper')\n",
      "# look_for_prior_violation('Pickup')\n",
      "# look_for_prior_violation('870')\n",
      "\n"
     ],
     "language": "python",
     "metadata": {},
     "outputs": [
      {
       "output_type": "stream",
       "stream": "stdout",
       "text": [
        "------------\n",
        "\n",
        "227"
       ]
      },
      {
       "output_type": "stream",
       "stream": "stdout",
       "text": [
        " Cooper (u'CO 531 VOQ', u'', u'Midnight Blue Mini Cooper 4 Door', u'4219-5381 Lefthand Canyon Dr, Boulder, CO 80302, USA')\n",
        "400 Cooper (u'', u'J34-NZ1', u'Yellow Mini Cooper', u'518 Atlantic Ave, Boston, MA 02210, USA')\n",
        "485 Cooper (u'', u'CO 400 ??Y', u'Dark Blue Mini Cooper with White Accents', u'22078-23348 S St Vrain Dr, Lyons, CO 80540, USA')\n"
       ]
      }
     ],
     "prompt_number": 5
    },
    {
     "cell_type": "code",
     "collapsed": false,
     "input": [],
     "language": "python",
     "metadata": {},
     "outputs": []
    }
   ],
   "metadata": {}
  }
 ]
}