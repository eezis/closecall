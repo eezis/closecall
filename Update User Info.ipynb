{
 "metadata": {
  "name": "",
  "signature": "sha256:f477df4c9992d12ac6e7f645be87ce0b5a0dffd00addf6c0b1fa5ced595c03cf"
 },
 "nbformat": 3,
 "nbformat_minor": 0,
 "worksheets": [
  {
   "cells": [
    {
     "cell_type": "code",
     "collapsed": false,
     "input": [
      "user = User.objects.get(username='USERNAME HERE')\n",
      "print user.email"
     ],
     "language": "python",
     "metadata": {},
     "outputs": [
      {
       "output_type": "stream",
       "stream": "stdout",
       "text": [
        "mattkobzik@hotmail.com\n"
       ]
      }
     ],
     "prompt_number": 3
    },
    {
     "cell_type": "code",
     "collapsed": false,
     "input": [
      "# user.fieldtoupdate = value\n",
      "# user.email = 'mattkobzik@gmail.com'\n",
      "\n",
      "user.save()"
     ],
     "language": "python",
     "metadata": {},
     "outputs": [],
     "prompt_number": 4
    },
    {
     "cell_type": "code",
     "collapsed": false,
     "input": [],
     "language": "python",
     "metadata": {},
     "outputs": []
    }
   ],
   "metadata": {}
  }
 ]
}