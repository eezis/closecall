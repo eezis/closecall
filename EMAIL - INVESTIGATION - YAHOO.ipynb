{
 "cells": [
  {
   "cell_type": "code",
   "execution_count": 1,
   "metadata": {},
   "outputs": [
    {
     "name": "stdout",
     "output_type": "stream",
     "text": [
      "REMOTE DB\n",
      "APP CONFIG READY HAS BEEN RUN!\n"
     ]
    }
   ],
   "source": [
    "import os, sys\n",
    "sys.path.insert(0, '/Users/eae/code/sites/closecall/closecall')\n",
    "# os.environ.setdefault(\"DJANGO_SETTINGS_MODULE\", \"closecall.settings\")\n",
    "os.environ['DJANGO_SETTINGS_MODULE'] = 'closecall.settings'\n",
    "import django\n",
    "django.setup()\n"
   ]
  },
  {
   "cell_type": "code",
   "execution_count": 2,
   "metadata": {
    "collapsed": true
   },
   "outputs": [],
   "source": [
    "from django.core.mail import send_mail"
   ]
  },
  {
   "cell_type": "code",
   "execution_count": 3,
   "metadata": {},
   "outputs": [
    {
     "data": {
      "text/plain": [
       "1"
      ]
     },
     "execution_count": 3,
     "metadata": {},
     "output_type": "execute_result"
    }
   ],
   "source": [
    "# send_mail(subject=\"test\", from_email=\"closecalldatabase@gmail.com\", )\n",
    "send_mail('YIKES HomeView ERROR', 'THIS IS A TEST','closecalldatabase@gmail.com', ['ernest.ezis@gmail.com',], fail_silently=False)"
   ]
  },
  {
   "cell_type": "code",
   "execution_count": 4,
   "metadata": {},
   "outputs": [
    {
     "data": {
      "text/plain": [
       "1"
      ]
     },
     "execution_count": 4,
     "metadata": {},
     "output_type": "execute_result"
    }
   ],
   "source": [
    "send_mail('YIKES HomeView ERROR', 'THIS IS A TEST','closecalldatabase@gmail.com', \n",
    "          ['brooksofsheffield@yahoo.com',], fail_silently=False)"
   ]
  },
  {
   "cell_type": "code",
   "execution_count": 8,
   "metadata": {
    "collapsed": true
   },
   "outputs": [],
   "source": [
    "from django.contrib.auth.models import User\n",
    "from users.models import UserProfile"
   ]
  },
  {
   "cell_type": "code",
   "execution_count": 23,
   "metadata": {},
   "outputs": [],
   "source": [
    "users = User.objects.filter(email__regex=r'yahoo.com').order_by('date_joined')\n",
    "# data.objects.filter(name__regex=r'(word1|word2|word3)')\n",
    "# profiles = UserProfile.objects.filter(email='yahoo.com')"
   ]
  },
  {
   "cell_type": "code",
   "execution_count": 24,
   "metadata": {},
   "outputs": [
    {
     "name": "stdout",
     "output_type": "stream",
     "text": [
      "1854\n"
     ]
    }
   ],
   "source": [
    "print(len(users))"
   ]
  },
  {
   "cell_type": "code",
   "execution_count": 12,
   "metadata": {
    "collapsed": true
   },
   "outputs": [],
   "source": [
    "for u in users:\n",
    "    print u.email"
   ]
  },
  {
   "cell_type": "code",
   "execution_count": 27,
   "metadata": {},
   "outputs": [
    {
     "name": "stdout",
     "output_type": "stream",
     "text": [
      "Fred Haim\n"
     ]
    }
   ],
   "source": [
    "print(users[1853])"
   ]
  },
  {
   "cell_type": "code",
   "execution_count": 28,
   "metadata": {},
   "outputs": [
    {
     "name": "stdout",
     "output_type": "stream",
     "text": [
      "[<UserProfile: Ernest Ezis :: eezis ==> ernest.ezis@gmail.com -- 2014-12-01 17:50 --  Boulder, Colorado>, <UserProfile: Ernest Ezis :: Ernest Ezis ==> ernest.ezis@gmail.com -- 2014-12-16 02:34 --  Boulder, CO>, <UserProfile: eae-dev ezis :: eae ==> ernest.ezis@gmail.com -- 2015-02-24 18:57 --  Boulder, CO>]\n"
     ]
    }
   ],
   "source": [
    "from users.models import UserProfile\n",
    "\n",
    "profiles = UserProfile.objects.filter(user__email='ernest.ezis@gmail.com')\n",
    "print(profiles)"
   ]
  },
  {
   "cell_type": "code",
   "execution_count": 30,
   "metadata": {},
   "outputs": [
    {
     "name": "stdout",
     "output_type": "stream",
     "text": [
      "1673\n"
     ]
    }
   ],
   "source": [
    "profiles = UserProfile.objects.filter(user__email__regex=r'yahoo.com').order_by('user__date_joined')\n",
    "print(len(profiles))"
   ]
  },
  {
   "cell_type": "code",
   "execution_count": 31,
   "metadata": {},
   "outputs": [
    {
     "name": "stdout",
     "output_type": "stream",
     "text": [
      "Roy Kemp :: Roy Kemp ==> royekemp@yahoo.com -- 2018-12-07 19:50 --  Santa Clarita, California\n"
     ]
    }
   ],
   "source": [
    "print(profiles[1672])"
   ]
  },
  {
   "cell_type": "code",
   "execution_count": null,
   "metadata": {
    "collapsed": true
   },
   "outputs": [],
   "source": []
  }
 ],
 "metadata": {
  "kernelspec": {
   "display_name": "Python 2",
   "language": "python",
   "name": "python2"
  },
  "language_info": {
   "codemirror_mode": {
    "name": "ipython",
    "version": 2
   },
   "file_extension": ".py",
   "mimetype": "text/x-python",
   "name": "python",
   "nbconvert_exporter": "python",
   "pygments_lexer": "ipython2",
   "version": "2.7.10"
  }
 },
 "nbformat": 4,
 "nbformat_minor": 2
}
