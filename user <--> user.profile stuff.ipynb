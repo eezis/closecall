{
 "metadata": {
  "name": "",
  "signature": "sha256:f0632945dab03873a77d33129fb8666c3044858da293133ddf3f5cee35298a52"
 },
 "nbformat": 3,
 "nbformat_minor": 0,
 "worksheets": [
  {
   "cells": [
    {
     "cell_type": "code",
     "collapsed": false,
     "input": [
      "from django.core.exceptions import ObjectDoesNotExist\n",
      "\n",
      "# from users.models import UserProfile\n",
      "# up = UserProfile.objects.get(user__username='Oliver-Ezis')\n",
      "\n",
      "# print up.city\n",
      "\n",
      "\n",
      "\n",
      "user = User.objects.get(username='eae')\n",
      "print user.username\n",
      "print user.profile.city\n",
      "\n",
      "\n",
      "up = UserProfile.objects.get(user=user.id)\n",
      "print up.city\n",
      "\n",
      "print user.pk, user.profile.id\n",
      "\n",
      "user = User.objects.get(username='test-user')\n",
      "print user.username\n",
      "\n",
      "# up = UserProfile.objects.get(user__username='test-user')\n",
      "\n",
      "try :\n",
      "    user.profile\n",
      "#     return true\n",
      "except ObjectDoesNotExist:\n",
      "    print 'nope1'\n",
      "#     return false\n",
      "\n",
      "\n",
      "\n",
      "\n",
      "try:\n",
      "    up = UserProfile.objects.get(user__username='test-user')\n",
      "\n",
      "except ObjectDoesNotExist:\n",
      "    print 'nope1'\n",
      "    \n",
      "    \n",
      "up = UserProfile(user=user, last='Last', first='First', city='Hartford', country='United States', state='CT')\n",
      "up.save()\n",
      "\n",
      "print up.last\n",
      "\n",
      "up.delete()\n",
      "    \n",
      "    \n"
     ],
     "language": "python",
     "metadata": {},
     "outputs": [
      {
       "output_type": "stream",
       "stream": "stdout",
       "text": [
        "eae\n",
        "Boulder\n",
        "Boulder\n",
        "1 9\n",
        "test-user\n",
        "nope1\n",
        "nope1\n",
        "Last"
       ]
      },
      {
       "output_type": "stream",
       "stream": "stdout",
       "text": [
        "\n"
       ]
      }
     ],
     "prompt_number": 33
    },
    {
     "cell_type": "code",
     "collapsed": false,
     "input": [],
     "language": "python",
     "metadata": {},
     "outputs": [],
     "prompt_number": 32
    },
    {
     "cell_type": "code",
     "collapsed": false,
     "input": [],
     "language": "python",
     "metadata": {},
     "outputs": []
    }
   ],
   "metadata": {}
  }
 ]
}