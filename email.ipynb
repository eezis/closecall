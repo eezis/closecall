{
 "cells": [
  {
   "cell_type": "code",
   "execution_count": 2,
   "metadata": {},
   "outputs": [
    {
     "name": "stdout",
     "output_type": "stream",
     "text": [
      "dcairncross2@gmail.com\n"
     ]
    }
   ],
   "source": [
    "# Update an email address for a user where I allowed a space in the username \n",
    "# Those can't be updated via the admin console\n",
    "\n",
    "the_username = 'NAME HERE'\n",
    "the_new_email = 'EMAIL HERE'\n",
    "u = User.objects.get(username=the_username)\n",
    "\n",
    "u.email = the_new_email\n",
    "\n",
    "u.save()\n",
    "\n",
    "u = User.objects.get(username=the_username)\n",
    "print u.email\n",
    "\n",
    "\n"
   ]
  },
  {
   "cell_type": "code",
   "execution_count": 9,
   "metadata": {},
   "outputs": [
    {
     "name": "stdout",
     "output_type": "stream",
     "text": [
      "The autoreload extension is already loaded. To reload it, use:\n",
      "  %reload_ext autoreload\n",
      "done\n"
     ]
    }
   ],
   "source": [
    "%load_ext autoreload\n",
    "%autoreload 2\n",
    "from users.models import UserProfile\n",
    "from incident.models import Incident\n",
    "from core.utils import distance_between_geocoded_points\n",
    "from core.views import send_incident_notification\n",
    "from django.contrib.auth.models import User\n",
    "\n",
    "# subject = \"Close Call Database - Incident Reported in your Area\"\n",
    "subject = 'CCDB - Line Break Test'\n",
    "\n",
    "msg = \"\"\"\n",
    "Greetings from the Close Call Database for Cyclists. You are receiving this message because an incident has been reported by a cyclist in your area.\n",
    "\n",
    "You can find the details here: http://closecalldatabase.com/incident/show-detail/#INCIDENT_ID#/\n",
    "\n",
    "If you have had a previous encounter with the vehicle in question, please reply to this email with details.\n",
    "\n",
    "You may wish to share this information with other cyclists, particularly if they ride in the area where the incident occurred.\n",
    "\n",
    "Ride Safely,\n",
    "\n",
    "Ernest Ezis\n",
    "\n",
    "Close Call Database\n",
    "\n",
    "@closecalldb\n",
    "\"\"\"\n",
    "\n",
    "HTML_msg = \"\"\"\n",
    "<p>Greetings from the Close Call Database for Cyclists. You are receiving this message because an incident has been reported by a cyclist in your area.</p>\n",
    "\n",
    "<p>You can find the details <a href=\"http://closecalldatabase.com/incident/show-detail/#INCIDENT_ID#/\">here</a>.</p>\n",
    "\n",
    "<p>If you have had a previous encounter with the vehicle in question, please reply to this email with details.</p>\n",
    "\n",
    "<p>You may wish to share this information with other cyclists, particularly if they ride in the area where the incident occurred.</p>\n",
    "\n",
    "<p>Ride Safely,</p>\n",
    "\n",
    "<p><br />\n",
    "Ernest Ezis<br />\n",
    "<a href=\"http://closecalldatabase.com\">Close Call Database</a><br /><br />\n",
    "<a href=\"https://twitter.com/eezis\" class=\"twitter-follow-button\" data-show-count=\"false\"><img src=\"http://closecalldatabase.com/static/images/followeezis.png\"></a>\n",
    "<script>!function(d,s,id){var js,fjs=d.getElementsByTagName(s)[0],p=/^http:/.test(d.location)?'http':'https';if(!d.getElementById(id)){js=d.createElement(s);js.id=id;js.src=p+'://platform.twitter.com/widgets.js';fjs.parentNode.insertBefore(js,fjs);}}(document, 'script', 'twitter-wjs');</script>\n",
    "&nbsp;&nbsp;&nbsp;\n",
    "<br /> <br />\n",
    "<a href=\"https://twitter.com/closecalldb\" class=\"twitter-follow-button\" data-show-count=\"false\"><img src=\"http://closecalldatabase.com/static/images/followclosecalldb.png\"></a>\n",
    "<script>!function(d,s,id){var js,fjs=d.getElementsByTagName(s)[0],p=/^http:/.test(d.location)?'http':'https';if(!d.getElementById(id)){js=d.createElement(s);js.id=id;js.src=p+'://platform.twitter.com/widgets.js';fjs.parentNode.insertBefore(js,fjs);}}(document, 'script', 'twitter-wjs');</script>\n",
    "&nbsp;&nbsp;&nbsp;\n",
    "</p>\n",
    "\"\"\"\n",
    "\n",
    "# email a copy to me\n",
    "u = User.objects.get(username='eezis')\n",
    "send_incident_notification(subject, msg, u.email, htmlmsg=HTML_msg)\n",
    "print 'done'"
   ]
  },
  {
   "cell_type": "code",
   "execution_count": 4,
   "metadata": {},
   "outputs": [
    {
     "data": {
      "text/plain": [
       "1"
      ]
     },
     "execution_count": 4,
     "metadata": {},
     "output_type": "execute_result"
    }
   ],
   "source": [
    "from django.core.mail import EmailMultiAlternatives\n",
    "\n",
    "subject, from_email, to = 'hello', 'closecalldatabase@gmail.com', 'ernest.ezis@gmail.com'\n",
    "text_content = 'This is an important message.'\n",
    "html_content = '<p>This is an <strong>important</strong> message.</p>'\n",
    "msg = EmailMultiAlternatives(subject, text_content, from_email, [to])\n",
    "msg.attach_alternative(html_content, \"text/html\")\n",
    "msg.send()"
   ]
  },
  {
   "cell_type": "code",
   "execution_count": 9,
   "metadata": {},
   "outputs": [
    {
     "name": "stderr",
     "output_type": "stream",
     "text": [
      "/Users/eae/.virtualenvs/closecall/lib/python2.7/site-packages/django/db/models/fields/__init__.py:1282: RuntimeWarning: DateTimeField Incident.email_sent_on received a naive datetime (2015-05-24 22:13:46.452390) while time zone support is active.\n",
      "  RuntimeWarning)\n",
      "\n",
      "WARNING:py.warnings:/Users/eae/.virtualenvs/closecall/lib/python2.7/site-packages/django/db/models/fields/__init__.py:1282: RuntimeWarning: DateTimeField Incident.email_sent_on received a naive datetime (2015-05-24 22:13:46.452390) while time zone support is active.\n",
      "  RuntimeWarning)\n",
      "\n"
     ]
    }
   ],
   "source": [
    "import datetime \n",
    "from incident.models import Incident\n",
    "\n",
    "def set_email_sent_flag(incident_id):\n",
    "    i = Incident.objects.get(id=incident_id)\n",
    "    i.email_sent = True\n",
    "    i.email_sent_on = datetime.datetime.now()\n",
    "    i.save()\n",
    "\n",
    "    \n",
    "# set_email_sent_flag(151)\n",
    "print 'done'\n"
   ]
  },
  {
   "cell_type": "code",
   "execution_count": 8,
   "metadata": {},
   "outputs": [
    {
     "name": "stdout",
     "output_type": "stream",
     "text": [
      "2015-05-24 22:12:46.006946\n"
     ]
    }
   ],
   "source": [
    "import datetime \n",
    "print datetime.datetime.now()"
   ]
  },
  {
   "cell_type": "code",
   "execution_count": null,
   "metadata": {},
   "outputs": [],
   "source": []
  }
 ],
 "metadata": {
  "kernelspec": {
   "display_name": "Python 2",
   "language": "python",
   "name": "python2"
  },
  "language_info": {
   "codemirror_mode": {
    "name": "ipython",
    "version": 2
   },
   "file_extension": ".py",
   "mimetype": "text/x-python",
   "name": "python",
   "nbconvert_exporter": "python",
   "pygments_lexer": "ipython2",
   "version": "2.7.10"
  }
 },
 "nbformat": 4,
 "nbformat_minor": 1
}
